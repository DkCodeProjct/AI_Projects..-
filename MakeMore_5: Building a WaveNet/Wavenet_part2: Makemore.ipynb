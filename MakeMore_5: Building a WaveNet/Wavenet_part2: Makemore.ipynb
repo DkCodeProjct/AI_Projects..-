{
 "cells": [
  {
   "cell_type": "code",
   "execution_count": 1,
   "metadata": {},
   "outputs": [],
   "source": [
    "#libraris\n",
    "import torch\n",
    "import torch.nn.functional as F\n",
    "import matplotlib.pyplot as plt\n",
    "import numpy as np\n",
    "import random \n",
    "%matplotlib inline"
   ]
  },
  {
   "cell_type": "code",
   "execution_count": 2,
   "metadata": {},
   "outputs": [
    {
     "name": "stdout",
     "output_type": "stream",
     "text": [
      "32033\n",
      "15\n",
      "['emma', 'olivia']\n"
     ]
    }
   ],
   "source": [
    "#loading data\n",
    "\n",
    "words = open('names.txt', 'r').read().splitlines()\n",
    "print(len(words))\n",
    "print(max(len(w) for w in words))\n",
    "print(words[:2])"
   ]
  },
  {
   "cell_type": "code",
   "execution_count": 3,
   "metadata": {},
   "outputs": [
    {
     "name": "stdout",
     "output_type": "stream",
     "text": [
      "{1: 'a', 2: 'b', 3: 'c', 4: 'd', 5: 'e', 6: 'f', 7: 'g', 8: 'h', 9: 'i', 10: 'j', 11: 'k', 12: 'l', 13: 'm', 14: 'n', 15: 'o', 16: 'p', 17: 'q', 18: 'r', 19: 's', 20: 't', 21: 'u', 22: 'v', 23: 'w', 24: 'x', 25: 'y', 26: 'z', 0: '.'}\n",
      "27\n"
     ]
    }
   ],
   "source": [
    "# build the vocab of char mapping from/to int\n",
    "chars = sorted(list(set(''.join(words))))\n",
    "stoi = {s:i+1 for i, s in enumerate(chars)}\n",
    "stoi['.'] = 0\n",
    "itos = {i:s for s, i in stoi.items()}\n",
    "vocab = len(stoi)\n",
    "print(itos)\n",
    "print(vocab)\n"
   ]
  },
  {
   "cell_type": "code",
   "execution_count": 17,
   "metadata": {},
   "outputs": [],
   "source": [
    "random.seed()\n",
    "random.shuffle(words)\n"
   ]
  },
  {
   "cell_type": "code",
   "execution_count": 18,
   "metadata": {},
   "outputs": [
    {
     "name": "stdout",
     "output_type": "stream",
     "text": [
      "torch.Size([182499, 8]) torch.Size([182499])\n",
      "torch.Size([22909, 8]) torch.Size([22909])\n",
      "torch.Size([22738, 8]) torch.Size([22738])\n"
     ]
    }
   ],
   "source": [
    "blocksiz = 8 #8 chars\n",
    "def buildDataset(words):\n",
    "    X, Y = [], []\n",
    "    for w in words:\n",
    "        contxt = [0] * blocksiz\n",
    "        for ch in w + '.':\n",
    "            ix = stoi[ch]\n",
    "            X.append(contxt)\n",
    "            Y.append(ix)\n",
    "            contxt = contxt[1:] + [ix]\n",
    "    X = torch.tensor(X)\n",
    "    Y = torch.tensor(Y)\n",
    "    print(X.shape, Y.shape)\n",
    "    return X, Y \n",
    "\n",
    "n1 = int(0.8*len(words))\n",
    "n2 = int(0.9*len(words))\n",
    "\n",
    "xTrain, yTrain = buildDataset(words[:n1])\n",
    "xDev, yDev = buildDataset(words[n1:n2])\n",
    "xTst, yTst = buildDataset(words[n2:])\n",
    "\n"
   ]
  },
  {
   "cell_type": "code",
   "execution_count": 6,
   "metadata": {},
   "outputs": [
    {
     "name": "stdout",
     "output_type": "stream",
     "text": [
      "........ --> a\n",
      ".......a --> l\n",
      "......al --> e\n",
      ".....ale --> i\n",
      "....alei --> r\n",
      "...aleir --> a\n",
      "..aleira --> .\n",
      "........ --> d\n",
      ".......d --> e\n",
      "......de --> a\n"
     ]
    }
   ],
   "source": [
    "for x, y in  zip(xTrain[:10], yTrain[:10]):\n",
    "    print(''.join(itos[ix.item()] for ix in x), '-->', itos[y.item()])"
   ]
  },
  {
   "cell_type": "code",
   "execution_count": 20,
   "metadata": {},
   "outputs": [],
   "source": [
    "\n",
    "class Linear:\n",
    "    def __init__(self, fanIn, fanOut, bias=True):\n",
    "        self.weights = torch.randn((fanIn, fanOut)) / fanIn**0.5 #kaiming init\n",
    "        self.bias = torch.zeros(fanOut) if bias else None\n",
    "    \n",
    "    def __call__(self, x):\n",
    "        self.out = x @ self.weights\n",
    "        if self.bias is not None:\n",
    "            self.out += self.bias\n",
    "        return self.out\n",
    "    \n",
    "    def para(self):\n",
    "        return [self.weights] + ([] if self.bias is None else [self.bias])\n",
    "\n",
    "class BatchNorm1d:\n",
    "    def __init__(self, dim, eps=1e-5, momentum=0.1):\n",
    "        self.eps = eps\n",
    "        self.momentum = momentum\n",
    "        self.training = True\n",
    "        #para Trined with backProp\n",
    "        self.gamma = torch.ones(dim)\n",
    "        self.beta = torch.zeros(dim)\n",
    "        #buffer trained with running momentum updat\n",
    "        self.runningMean = torch.zeros(dim)\n",
    "        self.runningVariance = torch.ones(dim)\n",
    "    \n",
    "    \n",
    "    \n",
    "    def __call__(self, x):\n",
    "        if self.training:\n",
    "            if x.ndim == 2:\n",
    "                dim = 0\n",
    "            elif x.ndim == 3:\n",
    "                dim = (0, 1)\n",
    "\n",
    "            xmean = x.mean(dim, keepdim=True)\n",
    "            xvar = x.var(dim, keepdim=True)\n",
    "        else:\n",
    "            xmean = self.runningMean\n",
    "            xvar = self.runningVariance\n",
    "        xhat = (x - xmean) / torch.sqrt(xvar + self.eps)\n",
    "        self.out = self.gamma * xhat + self.beta\n",
    "        \n",
    "        #update buffers\n",
    "        if self.training:\n",
    "            with torch.no_grad():\n",
    "                self.runningMean = (1 - self.momentum) * self.runningMean + self.momentum * xmean\n",
    "                self.runningVariance = (1 - self.momentum) * self.runningVariance + self.momentum * xvar\n",
    "        return self.out\n",
    "    \n",
    "    def para(self):\n",
    "        return [self.gamma, self.beta]\n",
    "\n",
    "\n",
    "class Tanh:\n",
    "    def __call__(self, x):\n",
    "        self.out = torch.tanh(x)\n",
    "        return self.out\n",
    "    \n",
    "    def para(self):\n",
    "        return []\n",
    "\n",
    "\n",
    "#this will replace [ C ] embeding\n",
    "class Embedding:\n",
    "    def __init__(self, numEmd, embDim):\n",
    "        self.weight = torch.randn((numEmd, embDim)) \n",
    "    \n",
    "    def __call__(self, IX):\n",
    "        self.out = self.weight[IX]\n",
    "        return self.out\n",
    "    \n",
    "    def para(self):\n",
    "        return [self.weight]\n",
    "\n",
    "#this will replace this ||   x = emb.view(emb.shape[0], -1)\n",
    "class FlattenConsecutive:\n",
    "    def __init__(self, n):\n",
    "        self.n = n\n",
    "\n",
    "    def __call__(self, x):\n",
    "        #self.out = x.view(x.shape[0], -1)\n",
    "        B, T, C = x.shape\n",
    "        x = x.view(B, T//self.n, C*self.n)  \n",
    "        if x.shape[1] == 1:\n",
    "            x = x.squeeze(1)\n",
    "        self.out = x\n",
    "        return self.out\n",
    "    \n",
    "    def para(self):\n",
    "        return []\n",
    "    \n",
    "#This is == to Tensorflow [[ tf.keras.models.Seqential[...] ]]\n",
    "class Sequential:\n",
    "\n",
    "    def __init__(self, layers):\n",
    "        self.layers = layers\n",
    "    \n",
    "    def __call__(self, x):\n",
    "        for lyr in self.layers:\n",
    "            x = lyr(x)\n",
    "        self.out = x\n",
    "        return self.out\n",
    "    def para(self):\n",
    "        #get all the para of all layers and strech them into one list\n",
    "        return [p for lyr in self.layers for p in lyr.para()]"
   ]
  },
  {
   "cell_type": "code",
   "execution_count": 21,
   "metadata": {},
   "outputs": [
    {
     "data": {
      "text/plain": [
       "<torch._C.Generator at 0x71d9e426a310>"
      ]
     },
     "execution_count": 21,
     "metadata": {},
     "output_type": "execute_result"
    }
   ],
   "source": [
    "torch.manual_seed(42)"
   ]
  },
  {
   "cell_type": "code",
   "execution_count": 22,
   "metadata": {},
   "outputs": [
    {
     "name": "stdout",
     "output_type": "stream",
     "text": [
      "76579\n"
     ]
    }
   ],
   "source": [
    "nemb = 24 #10 dim of char embeding vector\n",
    "nhidden = 128 #the num of neuron in hidden layer of MLP \n",
    "\n",
    "#C = torch.randn((vocab, nemb))\n",
    "model = Sequential([\n",
    "    Embedding(vocab, nemb),\n",
    "    FlattenConsecutive(2), Linear(nemb * 2, nhidden, bias=False), BatchNorm1d(nhidden), Tanh(), #nemb*2==20 which is what we want\n",
    "    FlattenConsecutive(2), Linear(nhidden * 2, nhidden, bias=False), BatchNorm1d(nhidden), Tanh(), \n",
    "    FlattenConsecutive(2), Linear(nhidden * 2, nhidden ,bias=False), BatchNorm1d(nhidden), Tanh(), \n",
    "    Linear(nhidden, vocab)\n",
    "])\n",
    "\n",
    "with torch.no_grad():\n",
    "    model.layers[-1].weights *= 0.1 #last layer make less confident\n",
    "\n",
    "#para = [p for layer in layers for p in layer.para()]\n",
    "para = model.para()\n",
    "print(sum(p.nelement() for p in para))\n",
    "for p in para:\n",
    "    p.requires_grad = True\n",
    "    "
   ]
  },
  {
   "cell_type": "code",
   "execution_count": 14,
   "metadata": {},
   "outputs": [
    {
     "name": "stdout",
     "output_type": "stream",
     "text": [
      "Embedding : (32, 8, 10)\n",
      "FlattenConsecutive : (32, 4, 20)\n",
      "Linear : (32, 4, 68)\n",
      "BatchNorm1d : (32, 4, 68)\n",
      "Tanh : (32, 4, 68)\n",
      "FlattenConsecutive : (32, 2, 136)\n",
      "Linear : (32, 2, 68)\n",
      "BatchNorm1d : (32, 2, 68)\n",
      "Tanh : (32, 2, 68)\n",
      "FlattenConsecutive : (32, 136)\n",
      "Linear : (32, 68)\n",
      "BatchNorm1d : (32, 68)\n",
      "Tanh : (32, 68)\n",
      "Linear : (32, 27)\n"
     ]
    }
   ],
   "source": [
    "for lyr in model.layers:\n",
    "    print(lyr.__class__.__name__, ':', tuple(lyr.out.shape))"
   ]
  },
  {
   "cell_type": "code",
   "execution_count": 24,
   "metadata": {},
   "outputs": [
    {
     "name": "stdout",
     "output_type": "stream",
     "text": [
      "      0/ 200000: 2.5201\n",
      "  10000/ 200000: 1.9606\n",
      "  20000/ 200000: 2.1746\n",
      "  30000/ 200000: 1.7335\n",
      "  40000/ 200000: 1.8969\n",
      "  50000/ 200000: 1.9840\n",
      "  60000/ 200000: 2.1041\n",
      "  70000/ 200000: 1.9338\n",
      "  80000/ 200000: 1.6839\n",
      "  90000/ 200000: 2.3200\n",
      " 100000/ 200000: 2.1774\n",
      " 110000/ 200000: 2.1667\n",
      " 120000/ 200000: 1.7935\n",
      " 130000/ 200000: 1.8650\n",
      " 140000/ 200000: 1.4819\n",
      " 150000/ 200000: 1.5606\n",
      " 160000/ 200000: 1.6375\n",
      " 170000/ 200000: 2.1617\n",
      " 180000/ 200000: 1.5704\n",
      " 190000/ 200000: 1.6044\n"
     ]
    }
   ],
   "source": [
    "maxSteps = 200000\n",
    "batchSiz = 32\n",
    "loss_i = []\n",
    "\n",
    "for i in range(maxSteps):\n",
    "    ix = torch.randint(0, xTrain.shape[0], (batchSiz,))\n",
    "    xb, yb = xTrain[ix], yTrain[ix]\n",
    "\n",
    "    #forward pass\n",
    "    \n",
    "    #// bothe of those codes are inside the layer, Cos of [[Embedding,Flatten]] Modules\n",
    "    #emb = C[xb] #embeded char into vector\n",
    "    #x = emb.view(emb.shape[0], -1)\n",
    "    \n",
    "    logits = model(xb)#call model in input data\n",
    "    loss = F.cross_entropy(logits, yb)\n",
    "\n",
    "    #backward pass\n",
    "    for p in para:\n",
    "        p.grad = None\n",
    "    loss.backward()\n",
    "\n",
    "    #updt the simple SGD\n",
    "    lr = 0.1 if i < 150000 else 0.01\n",
    "    for p in para:\n",
    "        p.data += -lr * p.grad\n",
    "\n",
    "    #track status \n",
    "    if i % 10000 == 0:\n",
    "        print(f'{i:7d}/{maxSteps:7d}: {loss.item():.4f}')\n",
    "    loss_i.append(loss.log10().item()) \n",
    "    \n",
    "   "
   ]
  },
  {
   "cell_type": "code",
   "execution_count": 25,
   "metadata": {},
   "outputs": [
    {
     "data": {
      "text/plain": [
       "[<matplotlib.lines.Line2D at 0x71d9b80f2a40>]"
      ]
     },
     "execution_count": 25,
     "metadata": {},
     "output_type": "execute_result"
    },
    {
     "data": {
      "image/png": "[encoded data removed]",
      "text/plain": [
       "<Figure size 640x480 with 1 Axes>"
      ]
     },
     "metadata": {},
     "output_type": "display_data"
    }
   ],
   "source": [
    "\n",
    "plt.plot(torch.tensor(loss_i).view(-1, 1000).mean(1))"
   ]
  },
  {
   "cell_type": "code",
   "execution_count": 26,
   "metadata": {},
   "outputs": [],
   "source": [
    "#put layer into eval mode (needed for batchnorm especialy)\n",
    "for lyr in model.layers:\n",
    "    lyr.training = False"
   ]
  },
  {
   "cell_type": "code",
   "execution_count": 27,
   "metadata": {},
   "outputs": [
    {
     "name": "stdout",
     "output_type": "stream",
     "text": [
      "train 1.7653266191482544\n",
      "dev 1.993830919265747\n"
     ]
    }
   ],
   "source": [
    "#evaluate the loss\n",
    "@torch.no_grad()\n",
    "def spltLoss(split):\n",
    "    x, y = {\n",
    "        'train':(xTrain, yTrain),\n",
    "        'dev':(xDev, yDev),\n",
    "        'test':(xTst, yTst)\n",
    "    }[split]\n",
    "    \n",
    "    #emb = C[x]\n",
    "    #x = emb.view(emb.shape[0], -1)\n",
    "    #for lyr in layers:\n",
    "    #    x = lyr(x)\n",
    "    \n",
    "    logits = model(x)    \n",
    "    loss = F.cross_entropy(logits, y)\n",
    "    print(split, loss.item())\n",
    "\n",
    "spltLoss('train')\n",
    "spltLoss('dev')\n",
    "\n"
   ]
  },
  {
   "cell_type": "markdown",
   "metadata": {},
   "source": [
    "# Before Optimize the model,\n"
   ]
  },
  {
   "cell_type": "code",
   "execution_count": 63,
   "metadata": {},
   "outputs": [
    {
     "name": "stdout",
     "output_type": "stream",
     "text": [
      "kalissa.\n",
      "raythale.\n",
      "jebriel.\n",
      "joannah.\n",
      "bella.\n",
      "natalina.\n",
      "dalilo.\n",
      "tarriel.\n",
      "arnard.\n",
      "demoni.\n",
      "aaiden.\n",
      "kynn.\n",
      "pelana.\n",
      "miyar.\n",
      "breo.\n",
      "delliana.\n",
      "patter.\n",
      "clayton.\n",
      "cambrielle.\n",
      "daley.\n"
     ]
    }
   ],
   "source": [
    "#sampling from the Model\n",
    "\n",
    "for i in range(20):\n",
    "    out = []\n",
    "    contxt = [0] * blocksiz\n",
    "    while True:\n",
    "        #emb = C[torch.tensor([contxt])]\n",
    "        #x = emb.view(emb.shape[0], -1)\n",
    "        #for lyr in layers:\n",
    "        #    x = lyr(x)\n",
    "\n",
    "        logits = model(torch.tensor([contxt]))\n",
    "        probs = F.softmax(logits, dim=1)\n",
    "        #sample from the distribution\n",
    "        ix = torch.multinomial(probs, num_samples=1).item()\n",
    "        #shift the contxt window and track the sample\n",
    "        contxt = contxt[1:] + [ix]\n",
    "        out.append(ix)\n",
    "        #if sample specil token[.] break\n",
    "        if ix==0:\n",
    "            break\n",
    "    print(''.join(itos[i] for i in out))\n",
    "\n"
   ]
  },
  {
   "cell_type": "markdown",
   "metadata": {},
   "source": [
    "# Why Convolutions... Brief"
   ]
  },
  {
   "cell_type": "code",
   "execution_count": 49,
   "metadata": {},
   "outputs": [
    {
     "name": "stdout",
     "output_type": "stream",
     "text": [
      "........ ---> s\n",
      ".......s ---> o\n",
      "......so ---> l\n",
      ".....sol ---> a\n",
      "....sola ---> n\n",
      "...solan ---> .\n"
     ]
    }
   ],
   "source": [
    "for x, y in zip(xTrain[12:18], yTrain[12:18]):\n",
    "    print(''.join(itos[ix.item()] for ix in x), '--->', itos[y.item()]) "
   ]
  },
  {
   "cell_type": "code",
   "execution_count": 55,
   "metadata": {},
   "outputs": [
    {
     "data": {
      "text/plain": [
       "torch.Size([1, 27])"
      ]
     },
     "execution_count": 55,
     "metadata": {},
     "output_type": "execute_result"
    }
   ],
   "source": [
    "# forward a simple exmple\n",
    "logits = model(xTrain[[12]])\n",
    "logits.shape\n"
   ]
  },
  {
   "cell_type": "code",
   "execution_count": 56,
   "metadata": {},
   "outputs": [
    {
     "data": {
      "text/plain": [
       "torch.Size([8, 27])"
      ]
     },
     "execution_count": 56,
     "metadata": {},
     "output_type": "execute_result"
    }
   ],
   "source": [
    "#forward all of them\n",
    "logits = torch.zeros(8, 27)\n",
    "for i in range(8):\n",
    "    logits[i] = model(xTrain[[7+i]])\n",
    "\n",
    "logits.shape"
   ]
  },
  {
   "cell_type": "code",
   "execution_count": null,
   "metadata": {},
   "outputs": [],
   "source": []
  }
 ],
 "metadata": {
  "kernelspec": {
   "display_name": "tfenv",
   "language": "python",
   "name": "python3"
  },
  "language_info": {
   "codemirror_mode": {
    "name": "ipython",
    "version": 3
   },
   "file_extension": ".py",
   "mimetype": "text/x-python",
   "name": "python",
   "nbconvert_exporter": "python",
   "pygments_lexer": "ipython3",
   "version": "3.10.14"
  }
 },
 "nbformat": 4,
 "nbformat_minor": 2
}
