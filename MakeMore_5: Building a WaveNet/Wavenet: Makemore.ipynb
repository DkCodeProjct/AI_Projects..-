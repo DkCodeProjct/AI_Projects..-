{
 "cells": [
  {
   "cell_type": "code",
   "execution_count": 42,
   "metadata": {},
   "outputs": [],
   "source": [
    "#libraris\n",
    "import torch\n",
    "import torch.nn.functional as F\n",
    "import matplotlib.pyplot as plt\n",
    "import numpy as np\n",
    "import random \n",
    "%matplotlib inline"
   ]
  },
  {
   "cell_type": "code",
   "execution_count": 43,
   "metadata": {},
   "outputs": [
    {
     "name": "stdout",
     "output_type": "stream",
     "text": [
      "32033\n",
      "15\n",
      "['emma', 'olivia']\n"
     ]
    }
   ],
   "source": [
    "#loading data\n",
    "\n",
    "words = open('names.txt', 'r').read().splitlines()\n",
    "print(len(words))\n",
    "print(max(len(w) for w in words))\n",
    "print(words[:2])"
   ]
  },
  {
   "cell_type": "code",
   "execution_count": 44,
   "metadata": {},
   "outputs": [
    {
     "name": "stdout",
     "output_type": "stream",
     "text": [
      "{1: 'a', 2: 'b', 3: 'c', 4: 'd', 5: 'e', 6: 'f', 7: 'g', 8: 'h', 9: 'i', 10: 'j', 11: 'k', 12: 'l', 13: 'm', 14: 'n', 15: 'o', 16: 'p', 17: 'q', 18: 'r', 19: 's', 20: 't', 21: 'u', 22: 'v', 23: 'w', 24: 'x', 25: 'y', 26: 'z', 0: '.'}\n",
      "27\n"
     ]
    }
   ],
   "source": [
    "# build the vocab of char mapping from/to int\n",
    "chars = sorted(list(set(''.join(words))))\n",
    "stoi = {s:i+1 for i, s in enumerate(chars)}\n",
    "stoi['.'] = 0\n",
    "itos = {i:s for s, i in stoi.items()}\n",
    "vocab = len(stoi)\n",
    "print(itos)\n",
    "print(vocab)\n"
   ]
  },
  {
   "cell_type": "code",
   "execution_count": 45,
   "metadata": {},
   "outputs": [],
   "source": [
    "random.seed()\n",
    "random.shuffle(words)\n"
   ]
  },
  {
   "cell_type": "code",
   "execution_count": 46,
   "metadata": {},
   "outputs": [
    {
     "name": "stdout",
     "output_type": "stream",
     "text": [
      "torch.Size([182590, 8]) torch.Size([182590])\n",
      "torch.Size([22714, 8]) torch.Size([22714])\n",
      "torch.Size([22842, 8]) torch.Size([22842])\n"
     ]
    }
   ],
   "source": [
    "blocksiz = 8 #8 chars\n",
    "def buildDataset(words):\n",
    "    X, Y = [], []\n",
    "    for w in words:\n",
    "        contxt = [0] * blocksiz\n",
    "        for ch in w + '.':\n",
    "            ix = stoi[ch]\n",
    "            X.append(contxt)\n",
    "            Y.append(ix)\n",
    "            contxt = contxt[1:] + [ix]\n",
    "    X = torch.tensor(X)\n",
    "    Y = torch.tensor(Y)\n",
    "    print(X.shape, Y.shape)\n",
    "    return X, Y \n",
    "\n",
    "n1 = int(0.8*len(words))\n",
    "n2 = int(0.9*len(words))\n",
    "\n",
    "xTrain, yTrain = buildDataset(words[:n1])\n",
    "xDev, yDev = buildDataset(words[n1:n2])\n",
    "xTst, yTst = buildDataset(words[n2:])\n",
    "\n"
   ]
  },
  {
   "cell_type": "code",
   "execution_count": 47,
   "metadata": {},
   "outputs": [
    {
     "name": "stdout",
     "output_type": "stream",
     "text": [
      "........ --> i\n",
      ".......i --> s\n",
      "......is --> l\n",
      ".....isl --> a\n",
      "....isla --> .\n",
      "........ --> s\n",
      ".......s --> a\n",
      "......sa --> y\n",
      ".....say --> e\n",
      "....saye --> e\n"
     ]
    }
   ],
   "source": [
    "for x, y in  zip(xTrain[:10], yTrain[:10]):\n",
    "    print(''.join(itos[ix.item()] for ix in x), '-->', itos[y.item()])"
   ]
  },
  {
   "cell_type": "code",
   "execution_count": 48,
   "metadata": {},
   "outputs": [],
   "source": [
    "\n",
    "class Linear:\n",
    "    def __init__(self, fanIn, fanOut, bias=True):\n",
    "        self.weights = torch.randn((fanIn, fanOut)) / fanIn**0.5 #kaiming init\n",
    "        self.bias = torch.zeros(fanOut) if bias else None\n",
    "    \n",
    "    def __call__(self, x):\n",
    "        self.out = x @ self.weights\n",
    "        if self.bias is not None:\n",
    "            self.out += self.bias\n",
    "        return self.out\n",
    "    \n",
    "    def para(self):\n",
    "        return [self.weights] + ([] if self.bias is None else [self.bias])\n",
    "\n",
    "class BatchNorm1d:\n",
    "    def __init__(self, dim, eps=1e-5, momentum=0.1):\n",
    "        self.eps = eps\n",
    "        self.momentum = momentum\n",
    "        self.training = True\n",
    "        #para Trined with backProp\n",
    "        self.gamma = torch.ones(dim)\n",
    "        self.beta = torch.zeros(dim)\n",
    "        #buffer trained with running momentum updat\n",
    "        self.runningMean = torch.zeros(dim)\n",
    "        self.runningVariance = torch.ones(dim)\n",
    "    \n",
    "    \n",
    "    \n",
    "    def __call__(self, x):\n",
    "        if self.training:\n",
    "            if x.ndim == 2:\n",
    "                dim = 0\n",
    "            elif x.ndim == 3:\n",
    "                dim = (0, 1)\n",
    "\n",
    "            xmean = x.mean(dim, keepdim=True)\n",
    "            xvar = x.var(dim, keepdim=True)\n",
    "        else:\n",
    "            xmean = self.runningMean\n",
    "            xvar = self.runningVariance\n",
    "        xhat = (x - xmean) / torch.sqrt(xvar + self.eps)\n",
    "        self.out = self.gamma * xhat + self.beta\n",
    "        \n",
    "        #update buffers\n",
    "        if self.training:\n",
    "            with torch.no_grad():\n",
    "                self.runningMean = (1 - self.momentum) * self.runningMean + self.momentum * xmean\n",
    "                self.runningVariance = (1 - self.momentum) * self.runningVariance + self.momentum * xvar\n",
    "        return self.out\n",
    "    \n",
    "    def para(self):\n",
    "        return [self.gamma, self.beta]\n",
    "\n",
    "\n",
    "class Tanh:\n",
    "    def __call__(self, x):\n",
    "        self.out = torch.tanh(x)\n",
    "        return self.out\n",
    "    \n",
    "    def para(self):\n",
    "        return []\n",
    "\n",
    "\n",
    "#this will replace [ C ] embeding\n",
    "class Embedding:\n",
    "    def __init__(self, numEmd, embDim):\n",
    "        self.weight = torch.randn((numEmd, embDim)) \n",
    "    \n",
    "    def __call__(self, IX):\n",
    "        self.out = self.weight[IX]\n",
    "        return self.out\n",
    "    \n",
    "    def para(self):\n",
    "        return [self.weight]\n",
    "\n",
    "#this will replace this ||   x = emb.view(emb.shape[0], -1)\n",
    "class FlattenConsecutive:\n",
    "    def __init__(self, n):\n",
    "        self.n = n\n",
    "\n",
    "    def __call__(self, x):\n",
    "        #self.out = x.view(x.shape[0], -1)\n",
    "        B, T, C = x.shape\n",
    "        x = x.view(B, T//self.n, C*self.n)  \n",
    "        if x.shape[1] == 1:\n",
    "            x = x.squeeze(1)\n",
    "        self.out = x\n",
    "        return self.out\n",
    "    \n",
    "    def para(self):\n",
    "        return []\n",
    "    \n",
    "#This is == to Tensorflow [[ tf.keras.models.Seqential[...] ]]\n",
    "class Sequential:\n",
    "\n",
    "    def __init__(self, layers):\n",
    "        self.layers = layers\n",
    "    \n",
    "    def __call__(self, x):\n",
    "        for lyr in self.layers:\n",
    "            x = lyr(x)\n",
    "        self.out = x\n",
    "        return self.out\n",
    "    def para(self):\n",
    "        #get all the para of all layers and strech them into one list\n",
    "        return [p for lyr in self.layers for p in lyr.para()]"
   ]
  },
  {
   "cell_type": "code",
   "execution_count": 49,
   "metadata": {},
   "outputs": [
    {
     "data": {
      "text/plain": [
       "<torch._C.Generator at 0x7dc82bf66330>"
      ]
     },
     "execution_count": 49,
     "metadata": {},
     "output_type": "execute_result"
    }
   ],
   "source": [
    "torch.manual_seed(42)"
   ]
  },
  {
   "cell_type": "code",
   "execution_count": 50,
   "metadata": {},
   "outputs": [
    {
     "name": "stdout",
     "output_type": "stream",
     "text": [
      "22397\n"
     ]
    }
   ],
   "source": [
    "nemb = 10 #10 dim of char embeding vector\n",
    "nhidden = 68 #the num of neuron in hidden layer of MLP \n",
    "\n",
    "#C = torch.randn((vocab, nemb))\n",
    "model = Sequential([\n",
    "    Embedding(vocab, nemb),\n",
    "    FlattenConsecutive(2), Linear(nemb * 2, nhidden, bias=False), BatchNorm1d(nhidden), Tanh(), #nemb*2==20 which is what we want\n",
    "    FlattenConsecutive(2), Linear(nhidden * 2, nhidden, bias=False), BatchNorm1d(nhidden), Tanh(), \n",
    "    FlattenConsecutive(2), Linear(nhidden * 2, nhidden ,bias=False), BatchNorm1d(nhidden), Tanh(), \n",
    "    Linear(nhidden, vocab)\n",
    "])\n",
    "\n",
    "with torch.no_grad():\n",
    "    model.layers[-1].weights *= 0.1 #last layer make less confident\n",
    "\n",
    "#para = [p for layer in layers for p in layer.para()]\n",
    "para = model.para()\n",
    "print(sum(p.nelement() for p in para))\n",
    "for p in para:\n",
    "    p.requires_grad = True\n",
    "    "
   ]
  },
  {
   "cell_type": "markdown",
   "metadata": {},
   "source": [
    "# __________________________________________________________"
   ]
  },
  {
   "cell_type": "markdown",
   "metadata": {},
   "source": [
    "# Defference between [ rand, randn, and randint ]\n",
    "\n",
    "## torch.rand:\n",
    "   * **Generates ** random numbers from a **uniform distribution over the interval** [0, 1].\n",
    "        + All values will be in the range 0 to 1.\n",
    "\n",
    "## torch.randn:\n",
    "   * Generates random numbers from a **standard normal distribution** (also known as a **Gaussian distribution**) with **mean 0 and standard deviation 1.**\n",
    "\n",
    "## \n",
    "   * **Generates** random integers from a **discrete uniform distribution** over a specified range [low, high].\n",
    "   "
   ]
  },
  {
   "cell_type": "code",
   "execution_count": 13,
   "metadata": {},
   "outputs": [
    {
     "name": "stdout",
     "output_type": "stream",
     "text": [
      "\n",
      "rand:: tensor([[0.8164, 0.5080, 0.9061],\n",
      "        [0.5502, 0.0168, 0.3341],\n",
      "        [0.8522, 0.3904, 0.1297]])\n",
      "\n",
      "randn:: tensor([[-0.0591,  1.2261,  0.7691],\n",
      "        [ 0.8785,  1.4544, -0.7623],\n",
      "        [-0.5618,  0.0489, -0.7852]])\n",
      "\n",
      "randn:: tensor([[6, 1, 8],\n",
      "        [4, 5, 1],\n",
      "        [2, 3, 4]])\n"
     ]
    }
   ],
   "source": [
    "rand = torch.rand(3, 3)\n",
    "print(f'\\nrand:: {rand}')\n",
    "\n",
    "randn = torch.randn(3, 3)\n",
    "print(f'\\nrandn:: {randn}')\n",
    "\n",
    "randint = torch.randint(0, 10, (3, 3)) # 3x3 tensor with integer values between 0 and 9\n",
    "print(f'\\nrandn:: {randint}')\n"
   ]
  },
  {
   "cell_type": "markdown",
   "metadata": {},
   "source": [
    "# --------------------------------------------------------------------------------"
   ]
  },
  {
   "cell_type": "code",
   "execution_count": null,
   "metadata": {},
   "outputs": [],
   "source": []
  },
  {
   "cell_type": "code",
   "execution_count": 51,
   "metadata": {},
   "outputs": [
    {
     "name": "stdout",
     "output_type": "stream",
     "text": [
      "torch.Size([4, 8])\n"
     ]
    },
    {
     "data": {
      "text/plain": [
       "tensor([[ 0,  0,  0,  0,  0,  0, 14,  5],\n",
       "        [ 0,  0,  0,  0,  0,  0,  0, 12],\n",
       "        [ 0,  0, 11,  1,  5, 14,  1, 14],\n",
       "        [ 0,  0,  0, 19, 21, 11,  8, 12]])"
      ]
     },
     "execution_count": 51,
     "metadata": {},
     "output_type": "execute_result"
    }
   ],
   "source": [
    "ix = torch.randint(0, xTrain.shape[0], (4,)) #batch of 4 nums\n",
    "xb, yb = xTrain[ix], yTrain[ix]\n",
    "logits = model(xb)\n",
    "print(xb.shape)\n",
    "xb\n"
   ]
  },
  {
   "cell_type": "markdown",
   "metadata": {},
   "source": []
  },
  {
   "cell_type": "code",
   "execution_count": 52,
   "metadata": {},
   "outputs": [
    {
     "name": "stdout",
     "output_type": "stream",
     "text": [
      "Embedding : (4, 8, 10)\n",
      "FlattenConsecutive : (4, 4, 20)\n",
      "Linear : (4, 4, 68)\n",
      "BatchNorm1d : (4, 4, 68)\n",
      "Tanh : (4, 4, 68)\n",
      "FlattenConsecutive : (4, 2, 136)\n",
      "Linear : (4, 2, 68)\n",
      "BatchNorm1d : (4, 2, 68)\n",
      "Tanh : (4, 2, 68)\n",
      "FlattenConsecutive : (4, 136)\n",
      "Linear : (4, 68)\n",
      "BatchNorm1d : (4, 68)\n",
      "Tanh : (4, 68)\n",
      "Linear : (4, 27)\n"
     ]
    }
   ],
   "source": [
    "for lyr in model.layers:\n",
    "    print(lyr.__class__.__name__, ':', tuple(lyr.out.shape))"
   ]
  },
  {
   "cell_type": "code",
   "execution_count": 53,
   "metadata": {},
   "outputs": [
    {
     "data": {
      "text/plain": [
       "torch.Size([4, 8, 10])"
      ]
     },
     "execution_count": 53,
     "metadata": {},
     "output_type": "execute_result"
    }
   ],
   "source": [
    "model.layers[0].out.shape #output of embeding layer\n"
   ]
  },
  {
   "cell_type": "code",
   "execution_count": 54,
   "metadata": {},
   "outputs": [
    {
     "data": {
      "text/plain": [
       "torch.Size([4, 4, 20])"
      ]
     },
     "execution_count": 54,
     "metadata": {},
     "output_type": "execute_result"
    }
   ],
   "source": [
    "model.layers[1].out.shape # output of flatten layers"
   ]
  },
  {
   "cell_type": "code",
   "execution_count": 55,
   "metadata": {},
   "outputs": [
    {
     "data": {
      "text/plain": [
       "torch.Size([4, 4, 68])"
      ]
     },
     "execution_count": 55,
     "metadata": {},
     "output_type": "execute_result"
    }
   ],
   "source": [
    "model.layers[2].out.shape # output of Linear layer"
   ]
  },
  {
   "cell_type": "code",
   "execution_count": 17,
   "metadata": {},
   "outputs": [
    {
     "data": {
      "text/plain": [
       "torch.Size([4, 4, 200])"
      ]
     },
     "execution_count": 17,
     "metadata": {},
     "output_type": "execute_result"
    }
   ],
   "source": [
    "(torch.randn(4, 4, 20) @ torch.randn(20, 200) + torch.randn(200)).shape \n",
    "# pytorch Tensors only care about last dim on tensor (4, 4, 80) only 80\n",
    "# we need this [4, 4, 200] cos we follow the  Wavenet Paper "
   ]
  },
  {
   "cell_type": "code",
   "execution_count": 25,
   "metadata": {},
   "outputs": [
    {
     "data": {
      "text/plain": [
       "[1, 3, 5, 7, 9]"
      ]
     },
     "execution_count": 25,
     "metadata": {},
     "output_type": "execute_result"
    }
   ],
   "source": [
    "list(range(10))[1::2]"
   ]
  },
  {
   "cell_type": "markdown",
   "metadata": {},
   "source": [
    "# Explanation:\n",
    "   * so in here torch.tensor **(e[:, ::2, :], e[:, 1::2, :], dim=2)**\n",
    "   \n",
    "   \n",
    "   * we taking e=(4,8,10)--> e[:, ::2, :]..\n",
    "      + [ : ]==all the bath element in e(4)\n",
    "    \n",
    "      + [ ::2 ]== only **even** element in this(e(8)) dimension\n",
    "\n",
    "      + [ : ]== all the element in this e(10) \n",
    "   \n",
    "   \n",
    "   \n",
    "   * also in with this  **e[:, 1::2, :]**, we do the same thing but we take **odd** num in e(8)"
   ]
  },
  {
   "cell_type": "code",
   "execution_count": 34,
   "metadata": {},
   "outputs": [
    {
     "data": {
      "text/plain": [
       "torch.Size([4, 4, 20])"
      ]
     },
     "execution_count": 34,
     "metadata": {},
     "output_type": "execute_result"
    }
   ],
   "source": [
    "e = torch.randn(4, 8, 10) # goal: want this to be (4, 4, 20) where consecutive 10-d vector get concatinate\n",
    "e.view(4, -1).shape\n",
    "\n",
    "torch.cat([e[:, ::2, :], e[:, 1::2, :]], dim=2).shape\n",
    "explicit = torch.cat([e[:, ::2, :], e[:, 1::2, :]], dim=2)\n",
    "explicit.shape"
   ]
  },
  {
   "cell_type": "code",
   "execution_count": 35,
   "metadata": {},
   "outputs": [
    {
     "data": {
      "text/plain": [
       "tensor(True)"
      ]
     },
     "execution_count": 35,
     "metadata": {},
     "output_type": "execute_result"
    }
   ],
   "source": [
    "#but using torch.view we can archive the same thing\n",
    "# so we gonna plug this into Class FlattenConsecutive\n",
    "(e.view(4,4,20) == explicit).all()"
   ]
  },
  {
   "cell_type": "code",
   "execution_count": 12,
   "metadata": {},
   "outputs": [
    {
     "data": {
      "text/plain": [
       "torch.Size([32, 4, 68])"
      ]
     },
     "execution_count": 12,
     "metadata": {},
     "output_type": "execute_result"
    }
   ],
   "source": [
    "e = torch.randn(32, 4, 68)\n",
    "\n",
    "#(0,1)=== took the mean over zeroth and the first dimension\n",
    "emean = e.mean((0, 1),  keepdim=True) #1, 1, 68\n",
    "evar = e.var((0, 1), keepdim=True) #1, 1, 68\n",
    "ehat = (e - emean) / torch.sqrt(evar + 1e-5) #32, 4, 68\n",
    "ehat.shape "
   ]
  },
  {
   "cell_type": "code",
   "execution_count": 20,
   "metadata": {},
   "outputs": [
    {
     "name": "stdout",
     "output_type": "stream",
     "text": [
      "torch.Size([1, 1, 68])\n",
      "torch.Size([68])\n"
     ]
    }
   ],
   "source": [
    "print(emean.shape)\n",
    "\n",
    "print(model.layers[3].runningMean.shape)"
   ]
  },
  {
   "cell_type": "code",
   "execution_count": 18,
   "metadata": {},
   "outputs": [
    {
     "data": {
      "text/plain": [
       "torch.Size([68])"
      ]
     },
     "execution_count": 18,
     "metadata": {},
     "output_type": "execute_result"
    }
   ],
   "source": []
  },
  {
   "cell_type": "code",
   "execution_count": 17,
   "metadata": {},
   "outputs": [
    {
     "name": "stdout",
     "output_type": "stream",
     "text": [
      "      0/ 200000: 3.3121\n"
     ]
    }
   ],
   "source": [
    "maxSteps = 200000\n",
    "batchSiz = 32\n",
    "loss_i = []\n",
    "\n",
    "for i in range(maxSteps):\n",
    "    ix = torch.randint(0, xTrain.shape[0], (batchSiz,))\n",
    "    xb, yb = xTrain[ix], yTrain[ix]\n",
    "\n",
    "    #forward pass\n",
    "    \n",
    "    #// bothe of those codes are inside the layer, Cos of [[Embedding,Flatten]] Modules\n",
    "    #emb = C[xb] #embeded char into vector\n",
    "    #x = emb.view(emb.shape[0], -1)\n",
    "    \n",
    "    logits = model(xb)#call model in input data\n",
    "    loss = F.cross_entropy(logits, yb)\n",
    "\n",
    "    #backward pass\n",
    "    for p in para:\n",
    "        p.grad = None\n",
    "    loss.backward()\n",
    "\n",
    "    #updt the simple SGD\n",
    "    lr = 0.1 if i < 150000 else 0.01\n",
    "    for p in para:\n",
    "        p.data += -lr * p.grad\n",
    "\n",
    "    #track status \n",
    "    if i % 10000 == 0:\n",
    "        print(f'{i:7d}/{maxSteps:7d}: {loss.item():.4f}')\n",
    "    loss_i.append(loss.log10().item()) \n",
    "    break\n",
    "    #if i == 10000:\n",
    "    #    break"
   ]
  },
  {
   "cell_type": "code",
   "execution_count": 33,
   "metadata": {},
   "outputs": [
    {
     "data": {
      "text/plain": [
       "[<matplotlib.lines.Line2D at 0x70f6bce7e7a0>]"
      ]
     },
     "execution_count": 33,
     "metadata": {},
     "output_type": "execute_result"
    },
    {
     "data": {
      "image/png": "[encoded data removed]",
      "text/plain": [
       "<Figure size 640x480 with 1 Axes>"
      ]
     },
     "metadata": {},
     "output_type": "display_data"
    }
   ],
   "source": [
    "\n",
    "plt.plot(torch.tensor(loss_i).view(-1, 1000).mean(1))"
   ]
  },
  {
   "cell_type": "code",
   "execution_count": 10,
   "metadata": {},
   "outputs": [],
   "source": [
    "#put layer into eval mode (needed for batchnorm especialy)\n",
    "for lyr in model.layers:\n",
    "    lyr.training = False"
   ]
  },
  {
   "cell_type": "code",
   "execution_count": 11,
   "metadata": {},
   "outputs": [
    {
     "name": "stdout",
     "output_type": "stream",
     "text": [
      "train 3.304224967956543\n",
      "dev 3.3042850494384766\n"
     ]
    }
   ],
   "source": [
    "#evaluate the loss\n",
    "@torch.no_grad()\n",
    "def spltLoss(split):\n",
    "    x, y = {\n",
    "        'train':(xTrain, yTrain),\n",
    "        'dev':(xDev, yDev),\n",
    "        'test':(xTst, yTst)\n",
    "    }[split]\n",
    "    \n",
    "    #emb = C[x]\n",
    "    #x = emb.view(emb.shape[0], -1)\n",
    "    #for lyr in layers:\n",
    "    #    x = lyr(x)\n",
    "    \n",
    "    logits = model(x)    \n",
    "    loss = F.cross_entropy(logits, y)\n",
    "    print(split, loss.item())\n",
    "\n",
    "spltLoss('train')\n",
    "spltLoss('dev')\n",
    "\n"
   ]
  },
  {
   "cell_type": "markdown",
   "metadata": {},
   "source": [
    "# Before Optimize the model,\n"
   ]
  },
  {
   "cell_type": "code",
   "execution_count": 59,
   "metadata": {},
   "outputs": [
    {
     "name": "stdout",
     "output_type": "stream",
     "text": [
      "cpvktfpgmpabtvjcdmwmzygftcrbejvn.\n",
      "uiyhgumibfkthmylb.\n",
      "pflqzkcxzsxa.\n",
      "ydzddgylsijbc.\n",
      "uksabemqpugfugkxcwpfsavzzsbgsrvawlziojaliomfzgqfdbbdtk.\n",
      "pqubgzcvsiaqjpmsasstjsygafcz.\n",
      "zghohuqohebesipjairktnyt.\n",
      "nthiquxgoqgsqtucuqrdsxnuvohhtzzaliniesztpd.\n",
      "plxsesqnyllncrswkait.\n",
      "g.\n"
     ]
    }
   ],
   "source": [
    "#sampling from the Model\n",
    "\n",
    "for i in range(10):\n",
    "    out = []\n",
    "    contxt = [0] * blocksiz\n",
    "    while True:\n",
    "        #emb = C[torch.tensor([contxt])]\n",
    "        #x = emb.view(emb.shape[0], -1)\n",
    "        #for lyr in layers:\n",
    "        #    x = lyr(x)\n",
    "\n",
    "        logits = model(torch.tensor([contxt]))\n",
    "        probs = F.softmax(logits, dim=1)\n",
    "        #sample from the distribution\n",
    "        ix = torch.multinomial(probs, num_samples=1).item()\n",
    "        #shift the contxt window and track the sample\n",
    "        contxt = contxt[1:] + [ix]\n",
    "        out.append(ix)\n",
    "        #if sample specil token[.] break\n",
    "        if ix==0:\n",
    "            break\n",
    "    print(''.join(itos[i] for i in out))\n",
    "\n"
   ]
  },
  {
   "cell_type": "code",
   "execution_count": null,
   "metadata": {},
   "outputs": [],
   "source": [
    " "
   ]
  }
 ],
 "metadata": {
  "kernelspec": {
   "display_name": "tfenv",
   "language": "python",
   "name": "python3"
  },
  "language_info": {
   "codemirror_mode": {
    "name": "ipython",
    "version": 3
   },
   "file_extension": ".py",
   "mimetype": "text/x-python",
   "name": "python",
   "nbconvert_exporter": "python",
   "pygments_lexer": "ipython3",
   "version": "3.10.14"
  }
 },
 "nbformat": 4,
 "nbformat_minor": 2
}
