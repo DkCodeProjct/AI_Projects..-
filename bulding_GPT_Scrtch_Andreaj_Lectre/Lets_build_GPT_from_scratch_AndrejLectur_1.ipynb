{
 "cells": [
  {
   "cell_type": "markdown",
   "metadata": {},
   "source": [
    "# Let's build GPT: from scratch, in code, spelled out.\n",
    "\n",
    "### :/ Andrej Karpathy Lecture::"
   ]
  },
  {
   "cell_type": "code",
   "execution_count": 1,
   "metadata": {},
   "outputs": [],
   "source": [
    "import torch\n",
    "import torch.nn as nn\n",
    "import torch.nn.functional as F\n",
    "from torch.utils.data import TensorDataset, DataLoader\n",
    "\n",
    "import numpy\n",
    "import re\n",
    "import unicodedata\n",
    "import csv"
   ]
  },
  {
   "cell_type": "code",
   "execution_count": 2,
   "metadata": {},
   "outputs": [],
   "source": [
    "with open('input.txt', 'r', encoding='utf-8') as file:\n",
    "    txt = file.read()"
   ]
  },
  {
   "cell_type": "code",
   "execution_count": null,
   "metadata": {},
   "outputs": [
    {
     "name": "stdout",
     "output_type": "stream",
     "text": [
      "Len of dataset in chars 1115394\n"
     ]
    }
   ],
   "source": [
    "print('Len of dataset in chars', len(txt))\n"
   ]
  },
  {
   "cell_type": "code",
   "execution_count": null,
   "metadata": {},
   "outputs": [
    {
     "name": "stdout",
     "output_type": "stream",
     "text": [
      "First Citizen:\n",
      "Before we proceed any further, hear me speak.\n",
      "\n",
      "All:\n",
      "Speak, speak.\n",
      "\n",
      "First Citizen:\n",
      "You are all resolved rather to die than to famish?\n",
      "\n",
      "All:\n",
      "Resolved. resolved.\n",
      "\n",
      "First Citizen:\n",
      "First, you\n",
      "................\n"
     ]
    }
   ],
   "source": [
    "print(txt[:200])\n",
    "print('................')"
   ]
  },
  {
   "cell_type": "code",
   "execution_count": 3,
   "metadata": {},
   "outputs": [
    {
     "name": "stdout",
     "output_type": "stream",
     "text": [
      "\n",
      " !$&',-.3:;?ABCDEFGHIJKLMNOPQRSTUVWXYZabcdefghijklmnopqrstuvwxyz\n",
      "65\n"
     ]
    }
   ],
   "source": [
    "chars = sorted(list(set(txt)))\n",
    "vocabSiz = len(chars)\n",
    "\n",
    "print(''.join(chars))\n",
    "print(vocabSiz)"
   ]
  },
  {
   "cell_type": "markdown",
   "metadata": {},
   "source": [
    "### encoder: take a str, output a list of int\n",
    "\n",
    "### decoder: take a list of int, output a str"
   ]
  },
  {
   "cell_type": "code",
   "execution_count": 4,
   "metadata": {},
   "outputs": [],
   "source": [
    "stoi = {ch:i for i, ch in enumerate(chars)}\n",
    "itos = {i:ch for i, ch in enumerate(chars)}\n",
    "enc = lambda s: [stoi[c] for c in s]\n",
    "decod = lambda l: ''.join([itos[i] for i in l])"
   ]
  },
  {
   "cell_type": "code",
   "execution_count": null,
   "metadata": {},
   "outputs": [
    {
     "name": "stdout",
     "output_type": "stream",
     "text": [
      "[46, 47, 47, 1, 58, 46, 43, 56, 43]\n",
      "hii thre\n"
     ]
    }
   ],
   "source": [
    "print(enc('hii there'))\n",
    "print(decod(enc('hii thre')))"
   ]
  },
  {
   "cell_type": "markdown",
   "metadata": {},
   "source": [
    "### enc entire dataset and store in torch.Tensor"
   ]
  },
  {
   "cell_type": "code",
   "execution_count": 5,
   "metadata": {},
   "outputs": [
    {
     "name": "stdout",
     "output_type": "stream",
     "text": [
      "torch.Size([1115394]) <built-in method type of Tensor object at 0x7f518af14590>\n",
      "tensor([18, 47, 56, 57, 58,  1, 15, 47, 58, 47, 64, 43, 52, 10,  0, 14, 43, 44,\n",
      "        53, 56, 43,  1, 61, 43,  1, 54, 56, 53, 41, 43, 43, 42,  1, 39, 52, 63,\n",
      "         1, 44, 59, 56, 58, 46, 43, 56,  6,  1, 46, 43, 39, 56,  1, 51, 43,  1,\n",
      "        57, 54, 43, 39, 49,  8,  0,  0, 13, 50, 50, 10,  0, 31, 54, 43, 39, 49,\n",
      "         6,  1, 57, 54, 43, 39, 49,  8,  0,  0, 18, 47, 56, 57, 58,  1, 15, 47,\n",
      "        58, 47, 64, 43, 52, 10,  0, 37, 53, 59,  1, 39, 56, 43,  1, 39, 50, 50,\n",
      "         1, 56, 43, 57, 53, 50, 60, 43, 42,  1, 56, 39, 58, 46, 43, 56,  1, 58,\n",
      "        53,  1, 42, 47, 43,  1, 58, 46, 39, 52,  1, 58, 53,  1, 44, 39, 51, 47,\n",
      "        57, 46, 12,  0,  0, 13, 50, 50, 10,  0, 30, 43, 57, 53, 50, 60, 43, 42,\n",
      "         8,  1, 56, 43, 57, 53, 50, 60, 43, 42,  8,  0,  0, 18, 47, 56, 57, 58,\n",
      "         1, 15, 47, 58, 47, 64, 43, 52, 10,  0, 18, 47, 56, 57, 58,  6,  1, 63,\n",
      "        53, 59])\n"
     ]
    }
   ],
   "source": [
    "data = torch.tensor(enc(txt), dtype=torch.long)\n",
    "print(data.shape, data.type)\n",
    "\n",
    "print(data[:200])"
   ]
  },
  {
   "cell_type": "markdown",
   "metadata": {},
   "source": [
    "## Split Data\n",
    " \n",
    " + 90% train, others dev/val "
   ]
  },
  {
   "cell_type": "code",
   "execution_count": 6,
   "metadata": {},
   "outputs": [],
   "source": [
    "n = int(0.9*len(data))\n",
    "trainData = data[:n]\n",
    "devData = data[n:]\n"
   ]
  },
  {
   "cell_type": "code",
   "execution_count": 7,
   "metadata": {},
   "outputs": [
    {
     "data": {
      "text/plain": [
       "tensor([18, 47, 56, 57, 58,  1, 15, 47, 58])"
      ]
     },
     "execution_count": 7,
     "metadata": {},
     "output_type": "execute_result"
    }
   ],
   "source": [
    "# BlockSize/ ContextLength: max len of the char/token that could feed to trannsformer\n",
    "blockSiz = 8\n",
    "trainData[:blockSiz+1]"
   ]
  },
  {
   "cell_type": "markdown",
   "metadata": {},
   "source": [
    "## So the reason why [ y ] have skip sort of: [1:+1]\n",
    "  \n",
    "   + is, lets say ''x'' is, ['what is your name']\n",
    "\n",
    "   + then ''y'' would be ['is your name']:\n",
    "\n",
    "   *  cos is come after what, the model predicting the next token\n",
    "\n",
    "++\n",
    "\n",
    "#### So now if x [18, 47], y would predict [56], Cos its the next token and so forth "
   ]
  },
  {
   "cell_type": "code",
   "execution_count": 9,
   "metadata": {},
   "outputs": [
    {
     "name": "stdout",
     "output_type": "stream",
     "text": [
      "when input is tensor([18]), output is 47 \n",
      "when input is tensor([18, 47]), output is 56 \n",
      "when input is tensor([18, 47, 56]), output is 57 \n",
      "when input is tensor([18, 47, 56, 57]), output is 58 \n",
      "when input is tensor([18, 47, 56, 57, 58]), output is 1 \n",
      "when input is tensor([18, 47, 56, 57, 58,  1]), output is 15 \n",
      "when input is tensor([18, 47, 56, 57, 58,  1, 15]), output is 47 \n",
      "when input is tensor([18, 47, 56, 57, 58,  1, 15, 47]), output is 58 \n"
     ]
    }
   ],
   "source": [
    "x = trainData[:blockSiz]\n",
    "y = trainData[1:blockSiz+1]\n",
    "\n",
    "for token in range(blockSiz):\n",
    "    contxt = x[:token+1]\n",
    "    targt = y[token]\n",
    "\n",
    "    print(f'when input is {contxt}, output is {targt} ')    "
   ]
  },
  {
   "cell_type": "markdown",
   "metadata": {},
   "source": [
    "# Batch Dim\n",
    "\n",
    " + Batch Size: \n",
    "    * how many indepndnt seq will be porcess in parallel\n",
    " \n",
    " + Block Size:\n",
    "    * what is the max contxt len for prediction "
   ]
  },
  {
   "cell_type": "code",
   "execution_count": 8,
   "metadata": {},
   "outputs": [
    {
     "name": "stdout",
     "output_type": "stream",
     "text": [
      "inputs\n",
      "torch.Size([4, 8])\n",
      "tensor([[24, 43, 58,  5, 57,  1, 46, 43],\n",
      "        [44, 53, 56,  1, 58, 46, 39, 58],\n",
      "        [52, 58,  1, 58, 46, 39, 58,  1],\n",
      "        [25, 17, 27, 10,  0, 21,  1, 54]])\n",
      "targts\n",
      "torch.Size([4, 8])\n",
      "tensor([[43, 58,  5, 57,  1, 46, 43, 39],\n",
      "        [53, 56,  1, 58, 46, 39, 58,  1],\n",
      "        [58,  1, 58, 46, 39, 58,  1, 46],\n",
      "        [17, 27, 10,  0, 21,  1, 54, 39]])\n",
      "\n",
      ".....\n",
      "when input is tensor([24]), output is 43\n",
      "when input is tensor([24, 43]), output is 58\n",
      "when input is tensor([24, 43, 58]), output is 5\n",
      "when input is tensor([24, 43, 58,  5]), output is 57\n",
      "when input is tensor([24, 43, 58,  5, 57]), output is 1\n",
      "when input is tensor([24, 43, 58,  5, 57,  1]), output is 46\n",
      "when input is tensor([24, 43, 58,  5, 57,  1, 46]), output is 43\n",
      "when input is tensor([24, 43, 58,  5, 57,  1, 46, 43]), output is 39\n",
      "when input is tensor([44]), output is 53\n",
      "when input is tensor([44, 53]), output is 56\n",
      "when input is tensor([44, 53, 56]), output is 1\n",
      "when input is tensor([44, 53, 56,  1]), output is 58\n",
      "when input is tensor([44, 53, 56,  1, 58]), output is 46\n",
      "when input is tensor([44, 53, 56,  1, 58, 46]), output is 39\n",
      "when input is tensor([44, 53, 56,  1, 58, 46, 39]), output is 58\n",
      "when input is tensor([44, 53, 56,  1, 58, 46, 39, 58]), output is 1\n",
      "when input is tensor([52]), output is 58\n",
      "when input is tensor([52, 58]), output is 1\n",
      "when input is tensor([52, 58,  1]), output is 58\n",
      "when input is tensor([52, 58,  1, 58]), output is 46\n",
      "when input is tensor([52, 58,  1, 58, 46]), output is 39\n",
      "when input is tensor([52, 58,  1, 58, 46, 39]), output is 58\n",
      "when input is tensor([52, 58,  1, 58, 46, 39, 58]), output is 1\n",
      "when input is tensor([52, 58,  1, 58, 46, 39, 58,  1]), output is 46\n",
      "when input is tensor([25]), output is 17\n",
      "when input is tensor([25, 17]), output is 27\n",
      "when input is tensor([25, 17, 27]), output is 10\n",
      "when input is tensor([25, 17, 27, 10]), output is 0\n",
      "when input is tensor([25, 17, 27, 10,  0]), output is 21\n",
      "when input is tensor([25, 17, 27, 10,  0, 21]), output is 1\n",
      "when input is tensor([25, 17, 27, 10,  0, 21,  1]), output is 54\n",
      "when input is tensor([25, 17, 27, 10,  0, 21,  1, 54]), output is 39\n"
     ]
    }
   ],
   "source": [
    "torch.manual_seed(1337)\n",
    "bathSiz = 4\n",
    "blockSiz = 8\n",
    "\n",
    "def getBatch(split):\n",
    "    data = trainData if split == 'train' else devData\n",
    "    ix = torch.randint(len(data) - blockSiz, (bathSiz, ))\n",
    "    x = torch.stack([data[i:i+blockSiz] for i in ix])\n",
    "    y = torch.stack([data[i+1:i+blockSiz+1] for i in ix])\n",
    "\n",
    "    return x, y\n",
    "\n",
    "xb, yb = getBatch('train')\n",
    "print('inputs')\n",
    "print(xb.shape)\n",
    "print(xb)\n",
    "\n",
    "print('targts')\n",
    "print(yb.shape)\n",
    "print(yb)\n",
    "\n",
    "print('\\n.....')\n",
    "\n",
    "for batch in range(bathSiz):\n",
    "    for tokn in range(blockSiz):\n",
    "        contxt = xb[batch, :tokn+1]\n",
    "        targt = yb[batch, tokn]\n",
    "        print(f'when input is {contxt}, output is {targt}')\n"
   ]
  },
  {
   "cell_type": "code",
   "execution_count": null,
   "metadata": {},
   "outputs": [
    {
     "name": "stdout",
     "output_type": "stream",
     "text": [
      "tensor([[24, 43, 58,  5, 57,  1, 46, 43],\n",
      "        [44, 53, 56,  1, 58, 46, 39, 58],\n",
      "        [52, 58,  1, 58, 46, 39, 58,  1],\n",
      "        [25, 17, 27, 10,  0, 21,  1, 54]])\n"
     ]
    }
   ],
   "source": [
    "# our input to transF\n",
    "print(xb)"
   ]
  },
  {
   "cell_type": "markdown",
   "metadata": {},
   "source": [
    "# Bigram Language Model,\n",
    "\n",
    " \n",
    "   * ## Embedding:\n",
    "     + so, emb layer will \"plucks out\" rows corresponding to token indices in your input.\n",
    "\n",
    "     + Ex: ['whats your name'], emb will get conrespoding token for this input"
   ]
  },
  {
   "cell_type": "code",
   "execution_count": 9,
   "metadata": {},
   "outputs": [
    {
     "name": "stdout",
     "output_type": "stream",
     "text": [
      "torch.Size([32, 65])\n",
      "tensor(4.8786, grad_fn=<NllLossBackward0>)\n"
     ]
    }
   ],
   "source": [
    "torch.manual_seed(1337)\n",
    "\n",
    "class BigramLanguageModel(nn.Module):\n",
    "    def __init__(self, vocabSiz):\n",
    "        super(BigramLanguageModel, self).__init__()\n",
    "        self.tokenEmbTable = nn.Embedding(vocabSiz, vocabSiz) # 65x65\n",
    "    \n",
    "    def forward(self, ix, targt=None):\n",
    "        #indx and target are both (B, T) tensor or int\n",
    "        logits = self.tokenEmbTable(ix) # (B, T, C)\n",
    "        \n",
    "        if targt is None:\n",
    "            loss = None\n",
    "        \n",
    "        else:\n",
    "            B, T, C = logits.shape\n",
    "            logits = logits.view(B*T, C)\n",
    "            targt = targt.view(B*T)\n",
    "            loss = F.cross_entropy(logits, targt)\n",
    "\n",
    "        return logits, loss\n",
    "\n",
    "    def genarate(self, ix, maxNewTokn):\n",
    "        #ix is (B,T) array of indeceis in currnt contxt\n",
    "        \n",
    "        for i in range(maxNewTokn):\n",
    "            logits, loss = self(ix)\n",
    "\n",
    "            # focus only on the last time step\n",
    "            logits = logits[:, -1, :] #become (B, C)\n",
    "\n",
    "            probs = F.softmax(logits, dim=1) # (B, C)\n",
    "\n",
    "            # sample From the Distribution\n",
    "            ixNext = torch.multinomial(probs, num_samples=1) # (B, 1)\n",
    "\n",
    "            # append sample indx to the running seq \n",
    "            ix = torch.cat((ix, ixNext), dim=1) # (B, T+1)\n",
    "        \n",
    "        return ix\n",
    "    \n",
    "model = BigramLanguageModel(vocabSiz)\n",
    "logits, loss = model(xb, yb)\n",
    "\n",
    "print(logits.shape)\n",
    "print(loss)\n",
    "\n"
   ]
  },
  {
   "cell_type": "code",
   "execution_count": null,
   "metadata": {},
   "outputs": [
    {
     "name": "stdout",
     "output_type": "stream",
     "text": [
      "\n",
      "Sr?qP-QWktXoL&jLDJgOLVz'RIoDqHdhsV&vLLxatjscMpwLERSPyao.qfzs$Ys$zF-w,;eEkzxjgCKFChs!iWW.ObzDnxA Ms$3\n"
     ]
    }
   ],
   "source": [
    "print(decod(model.genarate(ix=torch.zeros((1, 1), dtype=torch.long), maxNewTokn=100)[0].tolist()))\n",
    "# abviously These Sampling are Garbage, so we would Train"
   ]
  },
  {
   "cell_type": "markdown",
   "metadata": {},
   "source": [
    "# Train...//"
   ]
  },
  {
   "cell_type": "code",
   "execution_count": 10,
   "metadata": {},
   "outputs": [
    {
     "name": "stderr",
     "output_type": "stream",
     "text": [
      "/home/dkcode/miniconda3/envs/tfenv/lib/python3.10/site-packages/tqdm/auto.py:21: TqdmWarning: IProgress not found. Please update jupyter and ipywidgets. See https://ipywidgets.readthedocs.io/en/stable/user_install.html\n",
      "  from .autonotebook import tqdm as notebook_tqdm\n"
     ]
    }
   ],
   "source": [
    "# Create Optimizer\n",
    "optim = torch.optim.AdamW(model.parameters(), lr=1e-3)\n"
   ]
  },
  {
   "cell_type": "code",
   "execution_count": null,
   "metadata": {},
   "outputs": [
    {
     "name": "stdout",
     "output_type": "stream",
     "text": [
      "2.453843355178833\n"
     ]
    }
   ],
   "source": [
    "batchSiz = 32\n",
    "\n",
    "for i in range(10000):\n",
    "    xb, yb = getBatch('train')\n",
    "\n",
    "    logits, loss = model(xb, yb)\n",
    "    optim.zero_grad(set_to_none=True)\n",
    "    loss.backward()\n",
    "    optim.step()\n",
    "\n",
    "print(loss.item())"
   ]
  },
  {
   "cell_type": "code",
   "execution_count": null,
   "metadata": {},
   "outputs": [
    {
     "name": "stdout",
     "output_type": "stream",
     "text": [
      "\n",
      "OTENRBESI RINous O:\n",
      "Bupouly! ff lathe tat ter jur\n",
      "ELYoraty,\n",
      "I sper tornd be ho t helin, t masu kivin\n"
     ]
    }
   ],
   "source": [
    "print(decod(model.genarate(ix=torch.zeros((1, 1), dtype=torch.long), maxNewTokn=100)[0].tolist()))\n",
    "# Whoo, now we get some Less grabage shit"
   ]
  },
  {
   "cell_type": "markdown",
   "metadata": {},
   "source": [
    "### so the reason why we Predicting garbage is Cos, we \n",
    "### Only looking at the last Char\n",
    "\n",
    " + so we would make way to Talk These Token to Each other\n",
    "\n",
    " + So that it can Predict Well\n",
    "\n",
    "\n",
    "## This is Where TRANSFORMERS Come to Play\n",
    "\n",
    "\n",
    " # __________________________________"
   ]
  },
  {
   "cell_type": "markdown",
   "metadata": {},
   "source": [
    "# Attention\n",
    "\n",
    "## - The mathamatical Trick in Self-Attention\n",
    "\n",
    "\n",
    "  + The **bag-of-words** model is a simple way to represent a document in numerical form before we can feed it into a machine learning algorithm.\n",
    " \n",
    "  + **we, use it to avg all the prev words including current one**"
   ]
  },
  {
   "cell_type": "code",
   "execution_count": 15,
   "metadata": {},
   "outputs": [
    {
     "data": {
      "text/plain": [
       "torch.Size([4, 8, 2])"
      ]
     },
     "execution_count": 15,
     "metadata": {},
     "output_type": "execute_result"
    }
   ],
   "source": [
    "# Consider the Following Exmple\n",
    "\n",
    "torch.manual_seed(1337)\n",
    "B, T, C = 4, 8, 2\n",
    "x = torch.rand(B, T, C)\n",
    "x.shape"
   ]
  },
  {
   "cell_type": "code",
   "execution_count": 14,
   "metadata": {},
   "outputs": [],
   "source": [
    "# we want x[b, t] = mean_{i<=t} x[b, i]\n",
    "xBagOfWord = torch.zeros((B, T, C))\n",
    "for b in range(B):\n",
    "    for t in range(T):\n",
    "        xPrev = x[b, :t+1] # {t. C}\n",
    "        xBagOfWord[b, t] = torch.mean(xPrev, 0)  "
   ]
  },
  {
   "cell_type": "markdown",
   "metadata": {},
   "source": [
    "### So you see this First Row in tensor is similar:\n",
    "\n",
    "\n",
    "   +  [0.0783, 0.4956] == [0.0783, 0.4956]\n",
    " \n",
    "   + it's Cos we're avg in one Token,\n",
    " \n",
    "   + But Others Dont the same.. Its cos we Avg Tokens Before it,\n",
    " \n",
    "   + So this Last Row is the Avg of All the Token Before It\n",
    "\n",
    "\n",
    "## But, This is Very Unefficent:\n",
    "\n",
    "\n",
    "  + So we can be Very **Efficent** About Doing This Using **Matrix Multiplication**\n"
   ]
  },
  {
   "cell_type": "code",
   "execution_count": 15,
   "metadata": {},
   "outputs": [
    {
     "data": {
      "text/plain": [
       "tensor([[0.0783, 0.4956],\n",
       "        [0.6231, 0.4224],\n",
       "        [0.2004, 0.0287],\n",
       "        [0.5851, 0.6967],\n",
       "        [0.1761, 0.2595],\n",
       "        [0.7086, 0.5809],\n",
       "        [0.0574, 0.7669],\n",
       "        [0.8778, 0.2434]])"
      ]
     },
     "execution_count": 15,
     "metadata": {},
     "output_type": "execute_result"
    }
   ],
   "source": [
    "x[0]"
   ]
  },
  {
   "cell_type": "code",
   "execution_count": 16,
   "metadata": {},
   "outputs": [
    {
     "data": {
      "text/plain": [
       "tensor([[0.0783, 0.4956],\n",
       "        [0.3507, 0.4590],\n",
       "        [0.3006, 0.3156],\n",
       "        [0.3717, 0.4108],\n",
       "        [0.3326, 0.3806],\n",
       "        [0.3953, 0.4140],\n",
       "        [0.3470, 0.4644],\n",
       "        [0.4134, 0.4368]])"
      ]
     },
     "execution_count": 16,
     "metadata": {},
     "output_type": "execute_result"
    }
   ],
   "source": [
    "xBagOfWord[0]"
   ]
  },
  {
   "cell_type": "code",
   "execution_count": 18,
   "metadata": {},
   "outputs": [
    {
     "name": "stdout",
     "output_type": "stream",
     "text": [
      "Matrix A:\n",
      "tensor([[1., 1., 1.],\n",
      "        [1., 1., 1.],\n",
      "        [1., 1., 1.]])\n",
      "\n",
      "Matrix B:\n",
      "tensor([[2., 7.],\n",
      "        [6., 4.],\n",
      "        [6., 5.]])\n",
      "\n",
      "Matrix C:\n",
      "tensor([[14., 16.],\n",
      "        [14., 16.],\n",
      "        [14., 16.]])\n"
     ]
    }
   ],
   "source": [
    "# another Ex:\n",
    "torch.manual_seed(42)\n",
    "matA = torch.ones(3, 3)\n",
    "matB = torch.randint(0, 10, (3, 2)).float()\n",
    "matC = matA @ matB\n",
    "\n",
    "print('Matrix A:' )\n",
    "print(matA)\n",
    "\n",
    "\n",
    "print('\\nMatrix B:' )\n",
    "print(matB)\n",
    "\n",
    "\n",
    "print('\\nMatrix C:' )\n",
    "print(matC)"
   ]
  },
  {
   "cell_type": "markdown",
   "metadata": {},
   "source": [
    "# Torch.Tril\n",
    "  + Returns the lower triangular part of the matrix (2-D tensor) or batch of matrices input, the other elements of the result tensor out are set to 0.\n"
   ]
  },
  {
   "cell_type": "code",
   "execution_count": 19,
   "metadata": {},
   "outputs": [
    {
     "data": {
      "text/plain": [
       "tensor([[1., 0., 0.],\n",
       "        [1., 1., 0.],\n",
       "        [1., 1., 1.]])"
      ]
     },
     "execution_count": 19,
     "metadata": {},
     "output_type": "execute_result"
    }
   ],
   "source": [
    "torch.tril(torch.ones(3, 3))"
   ]
  },
  {
   "cell_type": "markdown",
   "metadata": {},
   "source": [
    "# - - - - - - - - - - -\n",
    "### You can see in this Mat Mul:\n",
    "\n",
    "   * when a @ b,\n",
    "\n",
    "           ([[ 2.,  7.],\n",
    "             [ 8., 11.],\n",
    "             [14., 16.]])\n",
    "   \n",
    "   * if we do mul By by hands, we can see how it /\n",
    "         \n",
    "      + The **first row** of a **ignores everything** but the **first row of b**\n",
    "\n",
    "      + The **second row** includes the **sum of the first two rows of b** \n",
    "\n",
    "      + The **third row** **sums** all **three rows of b**\n",
    "\n"
   ]
  },
  {
   "cell_type": "code",
   "execution_count": 24,
   "metadata": {},
   "outputs": [
    {
     "name": "stdout",
     "output_type": "stream",
     "text": [
      "Matrix A:\n",
      "tensor([[1., 0., 0.],\n",
      "        [1., 1., 0.],\n",
      "        [1., 1., 1.]])\n",
      "\n",
      "Matrix B:\n",
      "tensor([[2., 7.],\n",
      "        [6., 4.],\n",
      "        [6., 5.]])\n",
      "\n",
      "Matrix C:\n",
      "tensor([[ 2.,  7.],\n",
      "        [ 8., 11.],\n",
      "        [14., 16.]])\n"
     ]
    }
   ],
   "source": [
    "# So now we will adapt this tril thing to out mat\n",
    "torch.manual_seed(42)\n",
    "a = torch.tril(torch.ones(3, 3))\n",
    "b = torch.randint(0, 10, (3,2)).float()\n",
    "c = a @ b \n",
    "\n",
    "print('Matrix A:' )\n",
    "print(a)\n",
    "\n",
    "print('\\nMatrix B:' )\n",
    "print(b)\n",
    "\n",
    "print('\\nMatrix C:' )\n",
    "print(c)"
   ]
  },
  {
   "cell_type": "markdown",
   "metadata": {},
   "source": [
    "# - -- - -- - -\n",
    "\n",
    "### So Now we can see how we can use this .tril thing to Use to get Avg of mat\n",
    "\n",
    "   + so we can normalize these rows, so that they sum to one,\n",
    "\n",
    "   + And then we gonna get AVG\n",
    "\n",
    "   + dim=1 ensures the sum is computed across columns for each row, and keepdim=True keeps the result as a column vector, preserving matrix dimensions for division.\n",
    "\n",
    "\n",
    "#### Aand Also :\n",
    "   \n",
    "   + just like before in tril mat mul:\n",
    "      \n",
    "      * we getting first row as it is,\n",
    "\n",
    "      * 2nd row, we got AVG of the first 2 row \n",
    "\n",
    "      * 3rd, we getting AVG Of all the 3 rows \n",
    "\n",
    "### How to get Avarage:\n",
    "   \n",
    "   + AVG = SUM of the NUM / NUM of Values\n"
   ]
  },
  {
   "cell_type": "code",
   "execution_count": 13,
   "metadata": {},
   "outputs": [
    {
     "name": "stdout",
     "output_type": "stream",
     "text": [
      "Matrix A:\n",
      "tensor([[1.0000, 0.0000, 0.0000],\n",
      "        [0.5000, 0.5000, 0.0000],\n",
      "        [0.3333, 0.3333, 0.3333]])\n",
      "\n",
      "Matrix B:\n",
      "tensor([[2., 7.],\n",
      "        [6., 4.],\n",
      "        [6., 5.]])\n",
      "\n",
      "Matrix C:\n",
      "tensor([[2.0000, 7.0000],\n",
      "        [4.0000, 5.5000],\n",
      "        [4.6667, 5.3333]])\n"
     ]
    }
   ],
   "source": [
    "torch.manual_seed(42)\n",
    "a = torch.tril(torch.ones(3, 3))\n",
    "a = a / torch.sum(a, dim=1, keepdim=True)\n",
    "b = torch.randint(0, 10, (3, 2)).float()\n",
    "c = a @ b \n",
    "\n",
    "print('Matrix A:' )\n",
    "print(a)\n",
    "\n",
    "print('\\nMatrix B:' )\n",
    "print(b)\n",
    "\n",
    "print('\\nMatrix C:' )\n",
    "print(c)"
   ]
  },
  {
   "cell_type": "markdown",
   "metadata": {},
   "source": [
    "# So By, Manipulating These Elements,  Multiplying Mat, \n",
    "  \n",
    "  + and then mul it with any given mat \n",
    "\n",
    "  + we can do this AVG's in this Incremental Fashon "
   ]
  },
  {
   "cell_type": "code",
   "execution_count": 16,
   "metadata": {},
   "outputs": [],
   "source": [
    "xBagOfWord = torch.zeros((B, T, C))\n",
    "for b in range(B):\n",
    "    for t in range(T):\n",
    "        xPrev = x[b, :t+1] # {t. C}\n",
    "        xBagOfWord[b, t] = torch.mean(xPrev, 0)  "
   ]
  },
  {
   "cell_type": "markdown",
   "metadata": {},
   "source": [
    "#  Broadcasting\n",
    "  \n",
    "  + During matrix multiplication:\n",
    "    \n",
    "    * w (T, T) is applied to each sequence independently.\n",
    "\n",
    "    * since w, doesn’t have a batch dimension, it’s broadcasted across the batch. \n",
    "\n",
    "\n",
    "  +  Thus, w @ x resuls:\n",
    "    \n",
    "    * (B, T, T) (broadcasted w for each batch)\n",
    "    \n",
    "    * multiplied with:\n",
    "      + (B T C) seq Tensor"
   ]
  },
  {
   "cell_type": "code",
   "execution_count": null,
   "metadata": {},
   "outputs": [
    {
     "data": {
      "text/plain": [
       "True"
      ]
     },
     "execution_count": 17,
     "metadata": {},
     "output_type": "execute_result"
    }
   ],
   "source": [
    "# Verson 2\n",
    "w = torch.tril(torch.ones(T, T))\n",
    "w = w / w.sum(dim=1, keepdim=True)\n",
    "xBagOfWord2 = w @ x # (B, T, T) @ (B, T, C) ---> (B, T, C)\n",
    "\n",
    "# so xBagOfWord anc xBagofWord2 are all identical\n",
    "torch.allclose(xBagOfWord, xBagOfWord2)"
   ]
  },
  {
   "cell_type": "code",
   "execution_count": 18,
   "metadata": {},
   "outputs": [
    {
     "data": {
      "text/plain": [
       "(tensor([[0.0783, 0.4956],\n",
       "         [0.3507, 0.4590],\n",
       "         [0.3006, 0.3156],\n",
       "         [0.3717, 0.4108],\n",
       "         [0.3326, 0.3806],\n",
       "         [0.3953, 0.4140],\n",
       "         [0.3470, 0.4644],\n",
       "         [0.4134, 0.4368]]),\n",
       " tensor([[0.0783, 0.4956],\n",
       "         [0.3507, 0.4590],\n",
       "         [0.3006, 0.3156],\n",
       "         [0.3717, 0.4108],\n",
       "         [0.3326, 0.3806],\n",
       "         [0.3953, 0.4140],\n",
       "         [0.3470, 0.4644],\n",
       "         [0.4134, 0.4368]]))"
      ]
     },
     "execution_count": 18,
     "metadata": {},
     "output_type": "execute_result"
    }
   ],
   "source": [
    "xBagOfWord[0], xBagOfWord2[0]     "
   ]
  },
  {
   "cell_type": "code",
   "execution_count": 20,
   "metadata": {},
   "outputs": [
    {
     "data": {
      "text/plain": [
       "True"
      ]
     },
     "execution_count": 20,
     "metadata": {},
     "output_type": "execute_result"
    }
   ],
   "source": [
    "# Verson 3\n",
    "\n",
    "tril = torch.tril(torch.ones(T, T))\n",
    "w = torch.zeros((T, T))\n",
    "w = w.masked_fill(tril == 0, float('-inf'))\n",
    "w = F.softmax(w, dim=1)\n",
    "xBagOfWord_3 = w @ x \n",
    "torch.allclose(xBagOfWord, xBagOfWord_3)"
   ]
  },
  {
   "cell_type": "code",
   "execution_count": null,
   "metadata": {},
   "outputs": [
    {
     "data": {
      "text/plain": [
       "tensor([[1., 0., 0., 0., 0., 0., 0., 0.],\n",
       "        [1., 1., 0., 0., 0., 0., 0., 0.],\n",
       "        [1., 1., 1., 0., 0., 0., 0., 0.],\n",
       "        [1., 1., 1., 1., 0., 0., 0., 0.],\n",
       "        [1., 1., 1., 1., 1., 0., 0., 0.],\n",
       "        [1., 1., 1., 1., 1., 1., 0., 0.],\n",
       "        [1., 1., 1., 1., 1., 1., 1., 0.],\n",
       "        [1., 1., 1., 1., 1., 1., 1., 1.]])"
      ]
     },
     "execution_count": 21,
     "metadata": {},
     "output_type": "execute_result"
    }
   ],
   "source": [
    "# This is the trill, the tringular shape of 0|1\n",
    "tril"
   ]
  },
  {
   "cell_type": "code",
   "execution_count": null,
   "metadata": {},
   "outputs": [
    {
     "data": {
      "text/plain": [
       "tensor([[0., 0., 0., 0., 0., 0., 0., 0.],\n",
       "        [0., 0., 0., 0., 0., 0., 0., 0.],\n",
       "        [0., 0., 0., 0., 0., 0., 0., 0.],\n",
       "        [0., 0., 0., 0., 0., 0., 0., 0.],\n",
       "        [0., 0., 0., 0., 0., 0., 0., 0.],\n",
       "        [0., 0., 0., 0., 0., 0., 0., 0.],\n",
       "        [0., 0., 0., 0., 0., 0., 0., 0.],\n",
       "        [0., 0., 0., 0., 0., 0., 0., 0.]])"
      ]
     },
     "execution_count": 23,
     "metadata": {},
     "output_type": "execute_result"
    }
   ],
   "source": [
    "# this is the Weights, w begings with all 0's \n",
    "w = torch.zeros((T, T))\n",
    "w"
   ]
  },
  {
   "cell_type": "markdown",
   "metadata": {},
   "source": [
    "##### So now We use [ maskes_fill ]:\n",
    " \n",
    "   + What, this is doing is,\n",
    "      \n",
    "      * for all the element where trill == 0\n",
    "\n",
    "      * Make them be 'negative infinity' ['-inf']"
   ]
  },
  {
   "cell_type": "code",
   "execution_count": 25,
   "metadata": {},
   "outputs": [
    {
     "data": {
      "text/plain": [
       "tensor([[0., -inf, -inf, -inf, -inf, -inf, -inf, -inf],\n",
       "        [0., 0., -inf, -inf, -inf, -inf, -inf, -inf],\n",
       "        [0., 0., 0., -inf, -inf, -inf, -inf, -inf],\n",
       "        [0., 0., 0., 0., -inf, -inf, -inf, -inf],\n",
       "        [0., 0., 0., 0., 0., -inf, -inf, -inf],\n",
       "        [0., 0., 0., 0., 0., 0., -inf, -inf],\n",
       "        [0., 0., 0., 0., 0., 0., 0., -inf],\n",
       "        [0., 0., 0., 0., 0., 0., 0., 0.]])"
      ]
     },
     "execution_count": 25,
     "metadata": {},
     "output_type": "execute_result"
    }
   ],
   "source": [
    "# So now,, we use [masked_fill ]\n",
    "w = torch.zeros((T, T))\n",
    "w = w.masked_fill(tril == 0, float('-inf'))\n",
    "w"
   ]
  },
  {
   "cell_type": "markdown",
   "metadata": {},
   "source": [
    "# dim ::\n",
    "\n",
    "  * [ dim=1 ] (row-wise operation): \n",
    "    \n",
    "     + When we apply F.softmax(w, dim=1), it **computes the softmax across each row independently**\n",
    "  \n",
    "  * dim=0 (column-wise operation): \n",
    "     \n",
    "     + if  we apply F.softmax(w, dim=0), it **computes the softmax across each column independently.**"
   ]
  },
  {
   "cell_type": "code",
   "execution_count": null,
   "metadata": {},
   "outputs": [
    {
     "data": {
      "text/plain": [
       "tensor([[1.0000, 0.0000, 0.0000, 0.0000, 0.0000, 0.0000, 0.0000, 0.0000],\n",
       "        [0.5000, 0.5000, 0.0000, 0.0000, 0.0000, 0.0000, 0.0000, 0.0000],\n",
       "        [0.3333, 0.3333, 0.3333, 0.0000, 0.0000, 0.0000, 0.0000, 0.0000],\n",
       "        [0.2500, 0.2500, 0.2500, 0.2500, 0.0000, 0.0000, 0.0000, 0.0000],\n",
       "        [0.2000, 0.2000, 0.2000, 0.2000, 0.2000, 0.0000, 0.0000, 0.0000],\n",
       "        [0.1667, 0.1667, 0.1667, 0.1667, 0.1667, 0.1667, 0.0000, 0.0000],\n",
       "        [0.1429, 0.1429, 0.1429, 0.1429, 0.1429, 0.1429, 0.1429, 0.0000],\n",
       "        [0.1250, 0.1250, 0.1250, 0.1250, 0.1250, 0.1250, 0.1250, 0.1250]])"
      ]
     },
     "execution_count": 28,
     "metadata": {},
     "output_type": "execute_result"
    }
   ],
   "source": [
    "# And then we apply Softmax on dim 1\n",
    "w = torch.zeros((T, T))\n",
    "w = w.masked_fill(tril == 0, float('-inf'))\n",
    "w = F.softmax(w, dim=1)\n",
    "#and we gonna get exact same mat"
   ]
  },
  {
   "cell_type": "markdown",
   "metadata": {},
   "source": [
    "### And so this Verson 3 or xBagOfWord_3, is also the same way to produce this masked\n",
    "\n",
    "#### * and the reason why we use this is :\n",
    "    \n",
    "   +  **Masking + Softmax** creates a probability distribution over allowed tokens (those the current token can attend to).  \n",
    "\n",
    "   + The multiplication w @ x applies this distribution, summing over only valid past tokens' contributions.\n",
    "\n",
    "   + Also These Token will have Connection over each other,, before we only care about past 1 token, [1,2,3] if we 3 we only know 2,, but now, tokens have more connection on 1,2,3 across the all tokens.\n",
    "\n",
    "   + depending on there values, token gonna find each other intesting to deferint amount "
   ]
  },
  {
   "cell_type": "markdown",
   "metadata": {},
   "source": [
    "# Key / Qury / Single Head Perform self-Atten "
   ]
  },
  {
   "cell_type": "code",
   "execution_count": 3,
   "metadata": {},
   "outputs": [
    {
     "data": {
      "text/plain": [
       "torch.Size([4, 8, 32])"
      ]
     },
     "execution_count": 3,
     "metadata": {},
     "output_type": "execute_result"
    }
   ],
   "source": [
    "torch.manual_seed(1337)\n",
    "B, T, C = 4, 8, 32\n",
    "x = torch.randn(B, T, C)\n",
    "\n",
    "# let's see a single head perform self-Attn\n",
    "headSiz = 16\n",
    "key = nn.Linear(C, headSiz, bias=False)\n",
    "qury = nn.Linear(C, headSiz, bias=False)\n",
    "\n",
    "k = key(x)  # (B, T, 16)\n",
    "q = qury(x) # (B, T, 16)\n",
    "\n",
    "w = q @ k.transpose(-2, -1) # (B, T, 16) @ (B, 16, T) --> (B, T, T)\n",
    "\n",
    "tril = torch.tril(torch.ones(T, T))\n",
    "#w = torch.zeros((T, T)) // Now there not 0's,, now there Come from thse q@k dot product\n",
    "w = w.masked_fill(tril == 0, float('-inf'))\n",
    "w = F.softmax(w, dim=-1)\n",
    "out = w @ x\n",
    "\n",
    "out.shape"
   ]
  },
  {
   "cell_type": "markdown",
   "metadata": {},
   "source": [
    "#### Now you can see w/Weights are just not Uniform,\n",
    " \n",
    "  + before its a constant, so it was apllied in the same way to all Batch Element\n",
    "\n",
    "  + but now, Every single **batch Element** wil have **defferent sort of weights**:\n",
    "\n",
    "      * Cos, evey single Bath element Contain defferent TOKEN, at Deffent Pos\n",
    "\n",
    "  + And so this is NOT Data depended   \n",
    "\n",
    "\n",
    "\n",
    "##### Get Crystal Crear Understanding on Self-Attn, Statquest--> "
   ]
  },
  {
   "cell_type": "code",
   "execution_count": 5,
   "metadata": {},
   "outputs": [
    {
     "data": {
      "text/plain": [
       "tensor([[1.0000, 0.0000, 0.0000, 0.0000, 0.0000, 0.0000, 0.0000, 0.0000],\n",
       "        [0.1574, 0.8426, 0.0000, 0.0000, 0.0000, 0.0000, 0.0000, 0.0000],\n",
       "        [0.2088, 0.1646, 0.6266, 0.0000, 0.0000, 0.0000, 0.0000, 0.0000],\n",
       "        [0.5792, 0.1187, 0.1889, 0.1131, 0.0000, 0.0000, 0.0000, 0.0000],\n",
       "        [0.0294, 0.1052, 0.0469, 0.0276, 0.7909, 0.0000, 0.0000, 0.0000],\n",
       "        [0.0176, 0.2689, 0.0215, 0.0089, 0.6812, 0.0019, 0.0000, 0.0000],\n",
       "        [0.1691, 0.4066, 0.0438, 0.0416, 0.1048, 0.2012, 0.0329, 0.0000],\n",
       "        [0.0210, 0.0843, 0.0555, 0.2297, 0.0573, 0.0709, 0.2423, 0.2391]],\n",
       "       grad_fn=<SelectBackward0>)"
      ]
     },
     "execution_count": 5,
     "metadata": {},
     "output_type": "execute_result"
    }
   ],
   "source": [
    "w[0]"
   ]
  },
  {
   "cell_type": "markdown",
   "metadata": {},
   "source": [
    "### ALso when we do the Aggrogation / Avg, \n",
    "   \n",
    "   + we dont actualy aggrogate the TKEN exactly\n",
    "\n",
    "   + We aggrogate, we procude one more Value,\n",
    "\n",
    "     * Litrly Its called **'VALUE'**\n",
    "\n",
    "  + IN the same way create Q, K, we gonna create V "
   ]
  },
  {
   "cell_type": "code",
   "execution_count": 7,
   "metadata": {},
   "outputs": [
    {
     "data": {
      "text/plain": [
       "torch.Size([4, 8, 16])"
      ]
     },
     "execution_count": 7,
     "metadata": {},
     "output_type": "execute_result"
    }
   ],
   "source": [
    "torch.manual_seed(1337)\n",
    "B, T, C = 4, 8, 32\n",
    "x = torch.randn(B, T, C)\n",
    "\n",
    "headSiz = 16\n",
    "key = nn.Linear(C, headSiz, bias=False)\n",
    "quary = nn.Linear(C, headSiz, bias=False)\n",
    "value = nn.Linear(C, headSiz, bias=False)\n",
    "\n",
    "K = key(x)\n",
    "Q = quary(x)\n",
    "\n",
    "w = Q @ K.transpose(-2, -1)\n",
    "\n",
    "tril = torch.tril(torch.ones(T, T))\n",
    "w = w.masked_fill(tril == 0, float('-inf'))\n",
    "w = F.softmax(w, dim=-1)\n",
    "\n",
    "V = value(x)\n",
    "out = w @ V\n",
    "\n",
    "out.shape"
   ]
  },
  {
   "cell_type": "code",
   "execution_count": 10,
   "metadata": {},
   "outputs": [
    {
     "data": {
      "text/plain": [
       "tensor([[1.0000, 0.0000, 0.0000, 0.0000, 0.0000, 0.0000, 0.0000, 0.0000],\n",
       "        [0.1574, 0.8426, 0.0000, 0.0000, 0.0000, 0.0000, 0.0000, 0.0000],\n",
       "        [0.2088, 0.1646, 0.6266, 0.0000, 0.0000, 0.0000, 0.0000, 0.0000],\n",
       "        [0.5792, 0.1187, 0.1889, 0.1131, 0.0000, 0.0000, 0.0000, 0.0000],\n",
       "        [0.0294, 0.1052, 0.0469, 0.0276, 0.7909, 0.0000, 0.0000, 0.0000],\n",
       "        [0.0176, 0.2689, 0.0215, 0.0089, 0.6812, 0.0019, 0.0000, 0.0000],\n",
       "        [0.1691, 0.4066, 0.0438, 0.0416, 0.1048, 0.2012, 0.0329, 0.0000],\n",
       "        [0.0210, 0.0843, 0.0555, 0.2297, 0.0573, 0.0709, 0.2423, 0.2391]],\n",
       "       grad_fn=<SelectBackward0>)"
      ]
     },
     "execution_count": 10,
     "metadata": {},
     "output_type": "execute_result"
    }
   ],
   "source": [
    "w[0]"
   ]
  },
  {
   "cell_type": "markdown",
   "metadata": {},
   "source": [
    "# NOTES : //\n",
    "   \n",
    "   + Attention is a  **Communication Mechanism**, can be seen as directed graph looking at each other and \n",
    "   aggreating info  with w sum of all nodes that point to them, \n",
    "\n",
    "   + There;s no Notion space. Atten simply act over a set of Vec,\n",
    "        \n",
    "        * This is why we need **Positional Encoding**\n",
    "\n",
    "   + Each ex acros the bath dim is procesed Completly indepednt , and never talk to each other \n",
    "\n",
    "   + in an Enc atten block, just del the single line that dose masking with tril, Allowing Each Token to Comunicate\n",
    "\n",
    "   + 'self-atten' mean, that the Keys, Values are produced From the Same Source of Quries\n",
    "\n",
    "   + ''Scaled'' atten, additional divides W by 1/sqrt(headSiz), \n",
    "\n",
    "      * This makes it so When input Q, K are unit Variance, W will be unit var too and Softmax will stay Diffuse and Not Staturated too much\n",
    "\n",
    "\n",
    "\n",
    "##### READ MORE ON ATTEN /\n",
    "\n",
    " # -----------"
   ]
  },
  {
   "cell_type": "code",
   "execution_count": 8,
   "metadata": {},
   "outputs": [],
   "source": [
    "# Reason why devide by the sqrt\n",
    "\n",
    "k = torch.randn(B, T, headSiz)\n",
    "q = torch.randn(B, T, headSiz)\n",
    "\n",
    "w = q @ k.transpose(-2, -1) * headSiz**-0.5 # this  [headSiz**-0.5]==sqrt"
   ]
  },
  {
   "cell_type": "code",
   "execution_count": 10,
   "metadata": {},
   "outputs": [
    {
     "data": {
      "text/plain": [
       "tensor(1.0449)"
      ]
     },
     "execution_count": 10,
     "metadata": {},
     "output_type": "execute_result"
    }
   ],
   "source": [
    "k.var()"
   ]
  },
  {
   "cell_type": "code",
   "execution_count": 11,
   "metadata": {},
   "outputs": [
    {
     "data": {
      "text/plain": [
       "tensor(1.0700)"
      ]
     },
     "execution_count": 11,
     "metadata": {},
     "output_type": "execute_result"
    }
   ],
   "source": [
    "q.var()"
   ]
  },
  {
   "cell_type": "code",
   "execution_count": 12,
   "metadata": {},
   "outputs": [
    {
     "data": {
      "text/plain": [
       "tensor(1.0918)"
      ]
     },
     "execution_count": 12,
     "metadata": {},
     "output_type": "execute_result"
    }
   ],
   "source": [
    "w.var()"
   ]
  },
  {
   "cell_type": "markdown",
   "metadata": {},
   "source": [
    " + Softmax uses exponentiation , which **exaggerates differences between input values*.\n",
    "\n",
    " + Multiplying the tensor by 8 makes the differences between values even larger before exponentiation.\n",
    "\n",
    " + Larger inputs lead to significantly larger exponential values, while smaller inputs become almost negligible."
   ]
  },
  {
   "cell_type": "code",
   "execution_count": 15,
   "metadata": {},
   "outputs": [
    {
     "data": {
      "text/plain": [
       "tensor([0.2245, 0.1663, 0.2742, 0.3349])"
      ]
     },
     "execution_count": 15,
     "metadata": {},
     "output_type": "execute_result"
    }
   ],
   "source": [
    "torch.softmax(torch.tensor([0.1, -0.2, 0.3, 0.5]), dim=-1)"
   ]
  },
  {
   "cell_type": "code",
   "execution_count": 17,
   "metadata": {},
   "outputs": [
    {
     "data": {
      "text/plain": [
       "tensor([0.0327, 0.0030, 0.1620, 0.8023])"
      ]
     },
     "execution_count": 17,
     "metadata": {},
     "output_type": "execute_result"
    }
   ],
   "source": [
    "torch.softmax(torch.tensor([0.1, -0.2, 0.3, 0.5]) * 8, dim=-1)"
   ]
  },
  {
   "cell_type": "markdown",
   "metadata": {},
   "source": [
    "#### So that Scaling [sqrt(d_k)] is to use Control the Varicance, at init"
   ]
  },
  {
   "cell_type": "markdown",
   "metadata": {},
   "source": [
    "# Layer Norm\n",
    "\n",
    " + This will ensure:\n",
    "   \n",
    "   * Across the batch dim Any individual Neuron Had **Unit Gaussian Distribution**\n",
    "\n",
    "   * Mean: Batch Normalization shifts activations to have a mean of 0, centering the distribution.\n",
    "Standard Deviation \n",
    "   \n",
    "   * (std): It scales activations to have a std of 1, ensuring a consistent spread (unit Gaussian distribution).\n",
    "\n",
    "#### :So in Batch Normalization, we gonna **Normalize Column**\n",
    "\n",
    "#### :In Layer Normalization, we gonna **Normalize Rows**\n"
   ]
  },
  {
   "cell_type": "code",
   "execution_count": 10,
   "metadata": {},
   "outputs": [
    {
     "data": {
      "text/plain": [
       "torch.Size([32, 100])"
      ]
     },
     "execution_count": 10,
     "metadata": {},
     "output_type": "execute_result"
    }
   ],
   "source": [
    "from typing import Any\n",
    "\n",
    "\n",
    "class LayerNorm:\n",
    "    def __init__(self, dim, eps=1e-5):\n",
    "        self.eps = eps\n",
    "\n",
    "        # para [train with backProp]\n",
    "        self.gamma = torch.ones(dim)\n",
    "        self.beta = torch.zeros(dim)\n",
    "\n",
    "    def __call__(self, x):\n",
    "        \n",
    "        xMean = x.mean(1, keepdim=True) #batch mean\n",
    "        xVar = x.var(1, keepdim=True) # bath variance\n",
    "\n",
    "        \n",
    "        xHat = (x - xMean) / torch.sqrt(xVar + self.eps) # normaliz the Unit Variance\n",
    "\n",
    "        self.out = self.gamma * xHat + self.beta\n",
    "\n",
    "        return self.out \n",
    "    \n",
    "    def para(self):\n",
    "        return [self.gamma, self.beta]\n",
    "\n",
    "\n",
    "torch.manual_seed(1337)\n",
    "model = LayerNorm(100)\n",
    "x = torch.randn(32, 100)\n",
    "x = model(x)\n",
    "x.shape"
   ]
  },
  {
   "cell_type": "code",
   "execution_count": 11,
   "metadata": {},
   "outputs": [
    {
     "data": {
      "text/plain": [
       "(tensor(0.1469), tensor(0.8803))"
      ]
     },
     "execution_count": 11,
     "metadata": {},
     "output_type": "execute_result"
    }
   ],
   "source": [
    "x[:, 0].mean(), x[:, 0].std() # [ mean, std ] of the one feature across the all batch inputs"
   ]
  },
  {
   "cell_type": "code",
   "execution_count": 12,
   "metadata": {},
   "outputs": [
    {
     "data": {
      "text/plain": [
       "(tensor(-9.5367e-09), tensor(1.0000))"
      ]
     },
     "execution_count": 12,
     "metadata": {},
     "output_type": "execute_result"
    }
   ],
   "source": [
    "x[0, :].mean(), x[0, :].std() # [ mean, std ] of a single input from batch, of its featurs"
   ]
  }
 ],
 "metadata": {
  "kernelspec": {
   "display_name": "Python 3",
   "language": "python",
   "name": "python3"
  },
  "language_info": {
   "codemirror_mode": {
    "name": "ipython",
    "version": 3
   },
   "file_extension": ".py",
   "mimetype": "text/x-python",
   "name": "python",
   "nbconvert_exporter": "python",
   "pygments_lexer": "ipython3",
   "version": "3.10.14"
  }
 },
 "nbformat": 4,
 "nbformat_minor": 2
}
