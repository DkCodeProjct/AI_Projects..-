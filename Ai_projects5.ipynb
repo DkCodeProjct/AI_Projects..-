{
  "nbformat": 4,
  "nbformat_minor": 0,
  "metadata": {
    "colab": {
      "provenance": [],
      "authorship_tag": "ABX9TyPOoe9b1UlJ9creHIWiJgQ+",
      "include_colab_link": true
    },
    "kernelspec": {
      "name": "python3",
      "display_name": "Python 3"
    },
    "language_info": {
      "name": "python"
    }
  },
  "cells": [
    {
      "cell_type": "markdown",
      "metadata": {
        "id": "view-in-github",
        "colab_type": "text"
      },
      "source": [
        "<a href=\"https://colab.research.google.com/github/DkCodeProjct/AI_Projects..-/blob/main/Ai_projects5.ipynb\" target=\"_parent\"><img src=\"https://colab.research.google.com/assets/colab-badge.svg\" alt=\"Open In Colab\"/></a>"
      ]
    },
    {
      "cell_type": "code",
      "execution_count": null,
      "metadata": {
        "id": "qhbn5ZBQK_ts"
      },
      "outputs": [],
      "source": [
        "import matplotlib.pyplot as plt\n",
        "import math\n",
        "import numpy as np\n",
        "%matplotlib inline\n",
        "import random"
      ]
    },
    {
      "cell_type": "code",
      "source": [
        "\n",
        "\n",
        "\n",
        "class Value:\n",
        "    def __init__(self, data, _childern=(), _op='', label=''):\n",
        "        self.data = data\n",
        "        self.grad = 0\n",
        "        self._backward = lambda: None  # default is a no-op\n",
        "        self._prev = set(_childern)    # previous nodes in the graph\n",
        "        self._op = _op                 # operation that produced this node\n",
        "        self.label = label             # node label for visualization\n",
        "\n",
        "    def __repr__(self):\n",
        "        return f'Value(data={self.data}, label={self.label})'\n",
        "\n",
        "    def __add__(self, other):\n",
        "        other = other if isinstance(other, Value) else Value(other)\n",
        "        output = Value(self.data + other.data, (self, other), '+')\n",
        "\n",
        "        def _backward():\n",
        "            self.grad += 1.0 * output.grad\n",
        "            other.grad += 1.0 * output.grad\n",
        "        output._backward = _backward\n",
        "        return output\n",
        "\n",
        "    def __mul__(self, other):\n",
        "        other = other if isinstance(other, Value) else Value(other)\n",
        "        output = Value(self.data * other.data, (self, other), '*')\n",
        "\n",
        "        def _backward():\n",
        "            self.grad += other.data * output.grad\n",
        "            other.grad += self.data * output.grad\n",
        "        output._backward = _backward\n",
        "        return output\n",
        "\n",
        "\n",
        "    # Power Rule:\n",
        "    #     d/dx*x**n = n*x**n-1\n",
        "    def __pow__(self, other):\n",
        "        assert isinstance(other, (int, float)),  \"only suport int/flot for now\"\n",
        "        out = Value(self.data ** other, (self, ), f'**{other}')\n",
        "\n",
        "        def _backward():\n",
        "            self.grad = (other * self.data**(other-1)) * out.grad # power rule\n",
        "        out._backward = _backward\n",
        "        return out\n",
        "\n",
        "\n",
        "    def __rmul__(self, other):\n",
        "        return self * other\n",
        "\n",
        "\n",
        "    def __truediv__(self, other):\n",
        "        return self * other**-1\n",
        "\n",
        "\n",
        "    def __neg__(self):\n",
        "        return self * -1\n",
        "\n",
        "    def __sub__(self, other):\n",
        "        return self + (-other)\n",
        "\n",
        "\n",
        "    def tanh(self):\n",
        "        x = self.data\n",
        "        t = (math.exp(2*x) - 1) / (math.exp(2*x) + 1)\n",
        "        output = Value(t, (self,), 'tanh')\n",
        "\n",
        "        def _backward():\n",
        "            self.grad += (1 - t**2) * output.grad\n",
        "        output._backward = _backward\n",
        "        return output\n",
        "\n",
        "\n",
        "    def expo(self):\n",
        "        x = self.data\n",
        "        out = Value(math.exp(x), (self, ), 'exp')\n",
        "        def _backward():\n",
        "            self.grad += out.grad * out.data\n",
        "        out._backward = _backward\n",
        "        return out\n",
        "\n",
        "    def backward(self):\n",
        "        topo = []\n",
        "        visited = set()\n",
        "\n",
        "        # Build the topological order\n",
        "        def buildTopo(v):\n",
        "            if v not in visited:\n",
        "                visited.add(v)\n",
        "                for child in v._prev:\n",
        "                    buildTopo(child)\n",
        "                topo.append(v)\n",
        "\n",
        "        buildTopo(self)\n",
        "\n",
        "\n",
        "        self.grad = 1\n",
        "        for v in reversed(topo):\n",
        "            v._backward()\n",
        "\n",
        "\n",
        "\n"
      ],
      "metadata": {
        "id": "ZMK3b-go-wpE"
      },
      "execution_count": null,
      "outputs": []
    },
    {
      "cell_type": "code",
      "source": [
        "from graphviz import Digraph\n"
      ],
      "metadata": {
        "id": "Q2I1Le8UMCQW"
      },
      "execution_count": null,
      "outputs": []
    },
    {
      "cell_type": "code",
      "source": [
        "\n",
        "def trace(rt):\n",
        "    nodes, edges = set(), set()\n",
        "    def build(v):\n",
        "        if v not in nodes:\n",
        "            nodes.add(v)\n",
        "            for child in v._prev:\n",
        "                edges.add((child, v))\n",
        "                build(child)\n",
        "    build(rt)\n",
        "    return nodes, edges\n",
        "def drawDot(rt):\n",
        "    dot = Digraph(format='svg', graph_attr={'rankdir': 'LR'})\n",
        "    nodes, edges = trace(rt)\n",
        "\n",
        "    for n in nodes:\n",
        "        vid = str(id(n))\n",
        "        # Check if the label exists and format it properly\n",
        "        label_text = f'{n.label} | data {n.data:.4f} | grad {n.grad:.4f}' if n.label else f'data {n.data:.4f} | grad {n.grad:.4f}'\n",
        "\n",
        "        dot.node(name=vid, label=f'{{{label_text}}}', shape='record')\n",
        "\n",
        "        if n._op:\n",
        "            dot.node(name=vid + n._op, label=f'{n._op}')\n",
        "            dot.edge(vid + n._op, vid)\n",
        "\n",
        "    for n1, n2 in edges:\n",
        "        dot.edge(str(id(n1)), str(id(n2)) + n2._op)\n",
        "\n",
        "    return dot\n"
      ],
      "metadata": {
        "id": "AKeEtFmeMHH6"
      },
      "execution_count": null,
      "outputs": []
    },
    {
      "cell_type": "code",
      "source": [
        "\n",
        "\n",
        "class Neuron:\n",
        "    def __init__(self, nin):\n",
        "        self.w = [Value(random.uniform(-1, 1)) for _ in range(nin)]\n",
        "        self.b = Value(random.uniform(-1, 1))\n",
        "\n",
        "    def __call__(self, x):\n",
        "        dot = sum((wi*xi for wi, xi in zip(self.w, x)), self.b)\n",
        "        out = dot.tanh()\n",
        "        return out\n",
        "\n",
        "\n",
        "    def parameters(self):\n",
        "        return self.w + [self.b]\n",
        "\n",
        "\n",
        "class Layer:\n",
        "    def __init__(self, nin, nout):\n",
        "        self.neurons = [Neuron(nin) for _ in range(nout)]\n",
        "\n",
        "    def __call__(self, x):\n",
        "        out = [n(x) for n in self.neurons]\n",
        "        return out[0] if len(out) == 1 else out\n",
        "    def parameters(self):\n",
        "\n",
        "        return [p for neurn in self.neurons for p in neurn.parameters()]\n",
        "        #para = []\n",
        "        #for nurn in self.neurons:\n",
        "        #    ps = nurn.parameters()\n",
        "        #    para.extend(ps)\n",
        "        #return para\n",
        "\n",
        "class MLP:\n",
        "    def __init__(self, nin, nout):\n",
        "        sz = [nin] + nout\n",
        "        self.layers = [Layer(sz[i], sz[i+1]) for i in range(len(nout))]\n",
        "\n",
        "    def __call__(self, x):\n",
        "        for layer in self.layers:\n",
        "            x = layer(x)\n",
        "        return x\n",
        "    def parameters(self):\n",
        "\n",
        "        return [p for layr in self.layers for p in layr.parameters()]\n",
        "\n"
      ],
      "metadata": {
        "id": "cqZFBBtwMKEG"
      },
      "execution_count": null,
      "outputs": []
    },
    {
      "cell_type": "code",
      "source": [
        "\n",
        "x = [2.0, 3.0, -1.0]\n",
        "n = MLP(3, [4,4,1])\n",
        "n(x)"
      ],
      "metadata": {
        "colab": {
          "base_uri": "https://localhost:8080/"
        },
        "id": "NjpWw2s7MSvI",
        "outputId": "2cae6870-e284-4ac9-c692-85e9aa27f326"
      },
      "execution_count": null,
      "outputs": [
        {
          "output_type": "execute_result",
          "data": {
            "text/plain": [
              "Value(data=0.7619334742780517, label=)"
            ]
          },
          "metadata": {},
          "execution_count": 6
        }
      ]
    },
    {
      "cell_type": "code",
      "source": [
        "xs = [\n",
        "    [2.0, 3.0, -1.0],\n",
        "    [3.0, -1.0, 0.5],\n",
        "    [0.5, 1.0, 1.0],\n",
        "    [1.0, 1.0, -1.0],\n",
        "]\n",
        "\n",
        "ys = [1.0, -1.0, -1.0, 1.0] # Desired output // test data\n",
        "ypred = [n(x) for x in xs]\n",
        "ypred"
      ],
      "metadata": {
        "colab": {
          "base_uri": "https://localhost:8080/"
        },
        "id": "D_dl1biCMZgn",
        "outputId": "0a7c51f2-08e4-4f38-aad8-cb1f5439e53a"
      },
      "execution_count": null,
      "outputs": [
        {
          "output_type": "execute_result",
          "data": {
            "text/plain": [
              "[Value(data=0.7619334742780517, label=),\n",
              " Value(data=-0.47078859910865517, label=),\n",
              " Value(data=0.6051824696364113, label=),\n",
              " Value(data=0.7325122130510542, label=)]"
            ]
          },
          "metadata": {},
          "execution_count": 10
        }
      ]
    },
    {
      "cell_type": "code",
      "source": [
        "n.layers[0].neurons[0].w[0].grad\n"
      ],
      "metadata": {
        "colab": {
          "base_uri": "https://localhost:8080/"
        },
        "id": "acjD52ZZMdXI",
        "outputId": "aad8b67e-3461-41bd-9a5d-7756bb98c5f4"
      },
      "execution_count": null,
      "outputs": [
        {
          "output_type": "execute_result",
          "data": {
            "text/plain": [
              "0"
            ]
          },
          "metadata": {},
          "execution_count": 8
        }
      ]
    },
    {
      "cell_type": "code",
      "source": [
        "loss = sum(((yPrd - Value(yTrue))**2 for yTrue, yPrd in zip(ys, ypred)), start=Value(0))\n",
        "\n",
        "loss\n"
      ],
      "metadata": {
        "colab": {
          "base_uri": "https://localhost:8080/"
        },
        "id": "Rygg8oQZMeKs",
        "outputId": "1a9629e7-8625-456c-eb9b-75b673986e4d"
      },
      "execution_count": null,
      "outputs": [
        {
          "output_type": "execute_result",
          "data": {
            "text/plain": [
              "Value(data=2.9849008544975915, label=)"
            ]
          },
          "metadata": {},
          "execution_count": 11
        }
      ]
    },
    {
      "cell_type": "code",
      "source": [],
      "metadata": {
        "id": "6b5yVKCBMkKl"
      },
      "execution_count": null,
      "outputs": []
    },
    {
      "cell_type": "code",
      "source": [
        "for k in range(20):\n",
        "    ypred = [n(x) for x in xs]\n",
        "    loss = sum(((yPrd - Value(yTrue))**2 for yTrue, yPrd in zip(ys, ypred)), start=Value(0))\n",
        "\n",
        "    # set grad to 0 cos it has to reset in evry iteration\n",
        "    for p in n.parameters():\n",
        "        p.grad = 0.0\n",
        "\n",
        "    loss.backward()\n",
        "\n",
        "    for p in n.parameters():\n",
        "        p.data += -0.1 * p.grad\n",
        "\n",
        "    print(k, loss.data)"
      ],
      "metadata": {
        "colab": {
          "base_uri": "https://localhost:8080/"
        },
        "id": "fqVrJwXSh0Sk",
        "outputId": "2456a5d0-9cf6-48f0-e2d8-78c87606c9b9"
      },
      "execution_count": null,
      "outputs": [
        {
          "output_type": "stream",
          "name": "stdout",
          "text": [
            "0 0.06684021555487227\n",
            "1 0.05715907937027989\n",
            "2 0.04964023414284956\n",
            "3 0.04366705937179049\n",
            "4 0.03883068130225818\n",
            "5 0.034850732172899274\n",
            "6 0.03152942071683999\n",
            "7 0.028723760432398736\n",
            "8 0.026328164873588526\n",
            "9 0.02426319750146002\n",
            "10 0.022468100567626527\n",
            "11 0.020895713909282854\n",
            "12 0.019508945112155215\n",
            "13 0.018278270402588642\n",
            "14 0.01717993478671285\n",
            "15 0.01619463556822181\n",
            "16 0.015306545768556407\n",
            "17 0.01450258030472023\n",
            "18 0.013771838028290807\n",
            "19 0.013105172839705831\n"
          ]
        }
      ]
    },
    {
      "cell_type": "code",
      "source": [],
      "metadata": {
        "id": "gJK9CJRhM8wB"
      },
      "execution_count": null,
      "outputs": []
    }
  ]
}