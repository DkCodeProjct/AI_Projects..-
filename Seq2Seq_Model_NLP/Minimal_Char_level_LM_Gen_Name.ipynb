{
 "cells": [
  {
   "cell_type": "markdown",
   "metadata": {},
   "source": [
    "# Minimal Char level[one Gram] LM, that could Genarate Names"
   ]
  },
  {
   "cell_type": "code",
   "execution_count": 53,
   "metadata": {},
   "outputs": [],
   "source": [
    "import torch\n",
    "import torch.nn as nn\n",
    "import torch.nn.functional as F\n",
    "import random\n",
    "import matplotlib.pyplot as plt\n"
   ]
  },
  {
   "cell_type": "code",
   "execution_count": 54,
   "metadata": {},
   "outputs": [
    {
     "data": {
      "text/plain": [
       "['emma',\n",
       " 'olivia',\n",
       " 'ava',\n",
       " 'isabella',\n",
       " 'sophia',\n",
       " 'charlotte',\n",
       " 'mia',\n",
       " 'amelia',\n",
       " 'harper',\n",
       " 'evelyn']"
      ]
     },
     "execution_count": 54,
     "metadata": {},
     "output_type": "execute_result"
    }
   ],
   "source": [
    "names = open('names.txt', 'r').read().splitlines()\n",
    "names[:10]\n",
    "\n"
   ]
  },
  {
   "cell_type": "code",
   "execution_count": 55,
   "metadata": {},
   "outputs": [
    {
     "name": "stdout",
     "output_type": "stream",
     "text": [
      "27\n",
      "{1: 'a', 2: 'b', 3: 'c', 4: 'd', 5: 'e', 6: 'f', 7: 'g', 8: 'h', 9: 'i', 10: 'j', 11: 'k', 12: 'l', 13: 'm', 14: 'n', 15: 'o', 16: 'p', 17: 'q', 18: 'r', 19: 's', 20: 't', 21: 'u', 22: 'v', 23: 'w', 24: 'x', 25: 'y', 26: 'z', 0: '.'}\n",
      "{'a': 1, 'b': 2, 'c': 3, 'd': 4, 'e': 5, 'f': 6, 'g': 7, 'h': 8, 'i': 9, 'j': 10, 'k': 11, 'l': 12, 'm': 13, 'n': 14, 'o': 15, 'p': 16, 'q': 17, 'r': 18, 's': 19, 't': 20, 'u': 21, 'v': 22, 'w': 23, 'x': 24, 'y': 25, 'z': 26, '.': 0}\n"
     ]
    }
   ],
   "source": [
    "chars = sorted(list(set(''.join(names))))\n",
    "stoi = {s:i+1 for i, s in enumerate(chars)}\n",
    "stoi['.'] = 0\n",
    "itos = {i:s for s, i in stoi.items()}\n",
    "vocabSiz = len(stoi)\n",
    "print(vocabSiz)\n",
    "print(itos )\n",
    "print(stoi)"
   ]
  },
  {
   "cell_type": "code",
   "execution_count": 56,
   "metadata": {},
   "outputs": [],
   "source": [
    "random.seed(42)\n",
    "random.shuffle(names)"
   ]
  },
  {
   "cell_type": "code",
   "execution_count": 57,
   "metadata": {},
   "outputs": [],
   "source": [
    "blockSiz = 8\n",
    "def buildDataset(names):\n",
    "    X, Y = [ ], [ ]\n",
    "    for n in names:\n",
    "        contxtVec = [0] * blockSiz\n",
    "        for char in n + '.':\n",
    "            ix = stoi[char]\n",
    "            X.append(contxtVec)\n",
    "            Y.append(ix)\n",
    "            contxtVec = contxtVec[1:] + [ix]\n",
    "    \n",
    "    X = torch.tensor(X)\n",
    "    Y = torch.tensor(Y)\n",
    "    return X, Y\n",
    "\n",
    "n1 = int(0.8*len(names))\n",
    "n2 = int(0.9*len(names))\n",
    "\n",
    "xTrain, yTrain = buildDataset(names[:n1])\n",
    "xDev, yDev = buildDataset(names[n1:n2])\n",
    "xTest, yTest= buildDataset(names[n1:])"
   ]
  },
  {
   "cell_type": "markdown",
   "metadata": {},
   "source": [
    "# While Coding Face this Error:\n",
    "\n",
    "   * **\"TypeError: cannot unpack non-iterable NoneType object\"**: \n",
    "\n",
    "       + suggests that buildDatset(names[:n1]) is returning None instead of a tuple that can be unpacked into xTrain and yTrain.\n",
    "       .... which make sence, Cos i forgot to return X, Y,,, "
   ]
  },
  {
   "cell_type": "code",
   "execution_count": 30,
   "metadata": {},
   "outputs": [
    {
     "name": "stdout",
     "output_type": "stream",
     "text": [
      "........ --> y\n",
      ".......y --> u\n",
      "......yu --> h\n",
      ".....yuh --> e\n",
      "....yuhe --> n\n",
      "...yuhen --> g\n",
      "..yuheng --> .\n",
      "........ --> d\n",
      ".......d --> i\n",
      "......di --> o\n",
      ".....dio --> n\n",
      "....dion --> d\n",
      "...diond --> r\n",
      "..diondr --> e\n",
      ".diondre --> .\n",
      "........ --> x\n",
      ".......x --> a\n",
      "......xa --> v\n",
      ".....xav --> i\n",
      "....xavi --> e\n"
     ]
    }
   ],
   "source": [
    "for x, y in zip(xTrain[:20], yTrain[:20]):\n",
    "    print(''.join(itos[ix.item()] for ix in x), '-->', itos[y.item()])\n"
   ]
  },
  {
   "cell_type": "markdown",
   "metadata": {},
   "source": [
    "# Layers"
   ]
  },
  {
   "cell_type": "code",
   "execution_count": 58,
   "metadata": {},
   "outputs": [],
   "source": [
    "torch.manual_seed(42); # seed rng for reproducibility"
   ]
  },
  {
   "cell_type": "markdown",
   "metadata": {},
   "source": [
    "+ ix is a tensor containing random integers, \n",
    "which are used as indices to sample batchSiz random elements from xTrain and yTrain.\n",
    "\n",
    "+ torch.randint(0, xTrain[0].shape, (batchSiz,)) \n",
    "generates random indices within the range [0, xTrain[0].shape). Here, xTrain[0].\n",
    "shape is the number of available samples.\n",
    "\n",
    "+ xb, yb = xTrain[ix], yTrain[ix] then selects a mini-batch of inputs xb and targets yb based on these indices."
   ]
  },
  {
   "cell_type": "code",
   "execution_count": null,
   "metadata": {},
   "outputs": [
    {
     "name": "stdout",
     "output_type": "stream",
     "text": [
      "24807\n"
     ]
    }
   ],
   "source": [
    "\n",
    "#model = Sequential([\n",
    "#  Embedding(vocab_size, n_embd),\n",
    "#  FlattenConsecutive(2), Linear(n_embd * 2, n_hidden, bias=False), BatchNorm1d(n_hidden), Tanh(),\n",
    "#  FlattenConsecutive(2), Linear(n_hidden*2, n_hidden, bias=False), BatchNorm1d(n_hidden), Tanh(),\n",
    "#  FlattenConsecutive(2), Linear(n_hidden*2, n_hidden, bias=False), BatchNorm1d(n_hidden), Tanh(),\n",
    "#  Linear(n_hidden, vocab_size),\n",
    "#])\n",
    "\n",
    "\"\"\"\n",
    "class Model(nn.Module):\n",
    "    def __init__(self):\n",
    "        super(Model, self).__init__()\n",
    "        \n",
    "        self.model = nn.Sequential(\n",
    "            nn.Embedding(vocabSiz, nEmb),\n",
    "            nn.Flatten(start_dim=1),\n",
    "            \n",
    "            nn.Linear(80, nHidden, bias=False),\n",
    "            nn.BatchNorm1d(nHidden),\n",
    "            nn.Tanh(),\n",
    "            \n",
    "            nn.Flatten(start_dim=1),\n",
    "            nn.Linear(nHidden, nHidden, bias=False),\n",
    "            nn.BatchNorm1d(nHidden),\n",
    "            nn.Tanh(),\n",
    "\n",
    "            nn.Flatten(start_dim=1),\n",
    "            nn.Linear(nHidden , nHidden, bias=False),\n",
    "            nn.BatchNorm1d(nHidden),\n",
    "            nn.Tanh(),\n",
    "\n",
    "            nn.Linear(nHidden, vocabSiz)\n",
    "        )\n",
    "    \n",
    "    def forward(self, x):\n",
    "        return self.model(x)\n",
    "\n",
    "model = Model()\n",
    "para = model.parameters()\n",
    "\n",
    "with torch.no_grad():\n",
    "    model.model[-1].weight *= 0.1\n",
    "\n",
    "print(sum(para.nelement() for para in model.parameters() ))\n",
    "\"\"\""
   ]
  },
  {
   "cell_type": "code",
   "execution_count": null,
   "metadata": {},
   "outputs": [],
   "source": [
    "blockSiz = 8\n",
    "nEmb = 10\n",
    "nHidden = 86\n",
    "class BatchNorm1d(nn.Module):\n",
    "    def __init__(self, dim, eps=1e-5, momentum=0.1):\n",
    "        super(BatchNorm1d, self).__init__()\n",
    "        self.eps = eps\n",
    "        self.momentum = momentum\n",
    "        \n",
    "        # Trainable parameters\n",
    "        self.gamma = nn.Parameter(torch.ones(dim))\n",
    "        self.beta = nn.Parameter(torch.zeros(dim))\n",
    "        \n",
    "        # Buffers (non-trainable)\n",
    "        self.register_buffer(\"runningMean\", torch.zeros(dim))\n",
    "        self.register_buffer(\"runningVar\", torch.ones(dim))\n",
    "        \n",
    "    \n",
    "    def forward(self, x):\n",
    "        if self.training:\n",
    "            if x.ndim == 2:\n",
    "                dim = 0\n",
    "            elif x.ndim == 3:\n",
    "                dim = (0, 1)\n",
    "            \n",
    "            # Calculate mean and variance for batch normalization\n",
    "            xMean = x.mean(dim, keepdim=True)\n",
    "            xVar = x.var(dim, keepdim=True, unbiased=False)\n",
    "            \n",
    "            # Update running statistics\n",
    "            with torch.no_grad():\n",
    "                self.runningMean = (1 - self.momentum) * self.runningMean + self.momentum * xMean.squeeze()\n",
    "                self.runningVar = (1 - self.momentum) * self.runningVar + self.momentum * xVar.squeeze()\n",
    "        else:\n",
    "            xMean = self.runningMean\n",
    "            xVar = self.runningVar\n",
    "        \n",
    "        # Normalize the input\n",
    "        xHat = (x - xMean) / torch.sqrt(xVar + self.eps)\n",
    "        out = self.gamma * xHat + self.beta\n",
    "        return out\n",
    "\n",
    "\n",
    "class FlattenConsecutive(nn.Module):\n",
    "    def __init__(self, n):\n",
    "        super(FlattenConsecutive, self).__init__()\n",
    "        self.n = n\n",
    "    \n",
    "    def forward(self, x):\n",
    "        B, T, C = x.shape\n",
    "        x = x.view(B, T//self.n, C*self.n)\n",
    "        return x\n",
    "\n",
    "class Model(nn.Module):\n",
    "    def __init__(self):\n",
    "        super(Model, self).__init__()\n",
    "        \n",
    "        # Embedding and Flattening\n",
    "        self.emb = nn.Embedding(vocabSiz, nEmb)\n",
    "        self.flatten = FlattenConsecutive(2)\n",
    "\n",
    "        # Define Layers with updated dimension for layer1\n",
    "        self.layer1 = nn.Sequential(\n",
    "            nn.Linear(80, nHidden, bias=False),  # Change input dim to 80\n",
    "            BatchNorm1d(dim=nHidden, eps=1e-5),\n",
    "            nn.Tanh()\n",
    "        )\n",
    "        \n",
    "        self.layer2 = nn.Sequential(\n",
    "            nn.Linear(nHidden, nHidden, bias=False),\n",
    "            BatchNorm1d(dim=nHidden, eps=1e-5),\n",
    "            nn.Tanh()\n",
    "        )\n",
    "\n",
    "        self.layer3 = nn.Sequential(\n",
    "            nn.Linear(nHidden, nHidden, bias=False),\n",
    "            BatchNorm1d(dim=nHidden, eps=1e-5),\n",
    "            nn.Tanh()\n",
    "        )\n",
    "\n",
    "        self.outputLayer = nn.Linear(nHidden, vocabSiz)\n",
    "\n",
    "        self.model = nn.Sequential(\n",
    "            self.emb,\n",
    "            self.flatten,\n",
    "            self.layer1,\n",
    "            self.layer2,\n",
    "            self.layer3,\n",
    "            self.outputLayer\n",
    "        )\n",
    "   \n",
    "\n",
    "    def forward(self, x):\n",
    "        print(\"Input Shape:\", x.shape)\n",
    "        x = self.emb(x)                       \n",
    "        print(\"After Embedding:\", x.shape)\n",
    "        \n",
    "        x = self.flatten(x)                   \n",
    "        print(\"After Flattening:\", x.shape)\n",
    "        \n",
    "        x = x.view(x.size(0), -1)             \n",
    "        print(\"After View for Layer1:\", x.shape)\n",
    "        \n",
    "        x = self.layer1(x)                    \n",
    "        print(\"After Layer 1:\", x.shape)\n",
    "        \n",
    "        x = self.layer2(x)                    \n",
    "        print(\"After Layer 2:\", x.shape)\n",
    "        \n",
    "        x = self.layer3(x)                    \n",
    "        print(\"After Layer 3:\", x.shape)\n",
    "        \n",
    "        x = self.outputLayer(x)               \n",
    "        print(\"After Output Layer:\", x.shape)\n",
    "        \n",
    "        return x\n",
    "\n",
    "\n"
   ]
  },
  {
   "cell_type": "code",
   "execution_count": 62,
   "metadata": {},
   "outputs": [
    {
     "name": "stdout",
     "output_type": "stream",
     "text": [
      "24807\n"
     ]
    }
   ],
   "source": [
    "model = Model()\n",
    "\n",
    "with torch.no_grad():\n",
    "    model.model[-1].weight *= 0.1  \n",
    "\n",
    "para = model.parameters()\n",
    "\n",
    "print(sum(p.nelement() for p in para))"
   ]
  },
  {
   "cell_type": "code",
   "execution_count": 63,
   "metadata": {},
   "outputs": [
    {
     "name": "stdout",
     "output_type": "stream",
     "text": [
      "Embedding : 270\n",
      "FlattenConsecutive : 0\n",
      "Sequential : 7052\n",
      "Sequential : 7568\n",
      "Sequential : 7568\n",
      "Linear : 2349\n"
     ]
    }
   ],
   "source": [
    "\n",
    "for lyr in model.model:\n",
    "    #for para in model.parameters()\n",
    "    print(lyr.__class__.__name__, ':', sum(p.nelement() for p in lyr.parameters()))"
   ]
  },
  {
   "cell_type": "code",
   "execution_count": 65,
   "metadata": {},
   "outputs": [
    {
     "name": "stdout",
     "output_type": "stream",
     "text": [
      "Input Shape: torch.Size([32, 8])\n",
      "After Embedding: torch.Size([32, 8, 10])\n",
      "After Flattening: torch.Size([32, 4, 20])\n",
      "After View for Layer1: torch.Size([32, 80])\n",
      "After Layer 1: torch.Size([32, 86])\n",
      "After Layer 2: torch.Size([32, 86])\n",
      "After Layer 3: torch.Size([32, 86])\n",
      "After Output Layer: torch.Size([32, 27])\n",
      "      0 /  200000: 3.3421\n"
     ]
    }
   ],
   "source": [
    "maxStps = 200000\n",
    "batchSiz = 32\n",
    "lossi = []\n",
    "\n",
    "for i in range(maxStps):\n",
    "    ix = torch.randint(0, xTrain.shape[0], (batchSiz,))\n",
    "    xb, yb = xTrain[ix], yTrain[ix]\n",
    "\n",
    "    logits = model(xb)\n",
    "    loss = F.cross_entropy(logits, yb)\n",
    "\n",
    "    for p in para:\n",
    "        p.grad = None\n",
    "    loss.backward()\n",
    "\n",
    "    for p in para:\n",
    "        p.requires_grad = True\n",
    "    \n",
    "    lr = 0.1 if i < 15000 else 0.01\n",
    "    for p in para:\n",
    "        p.data += -lr * p.grad\n",
    "    \n",
    "    if i % 10000 == 0:\n",
    "        print(f'{i:7d} / {maxStps:7d}: {loss.item():.4f}')\n",
    "    lossi.append(loss.log10().item())\n",
    "\n",
    "    break"
   ]
  }
 ],
 "metadata": {
  "kernelspec": {
   "display_name": "Python 3",
   "language": "python",
   "name": "python3"
  },
  "language_info": {
   "codemirror_mode": {
    "name": "ipython",
    "version": 3
   },
   "file_extension": ".py",
   "mimetype": "text/x-python",
   "name": "python",
   "nbconvert_exporter": "python",
   "pygments_lexer": "ipython3",
   "version": "3.10.14"
  }
 },
 "nbformat": 4,
 "nbformat_minor": 2
}
