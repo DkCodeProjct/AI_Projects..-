{
  "cells": [
    {
      "cell_type": "markdown",
      "id": "9b2b15ee",
      "metadata": {
        "papermill": {
          "duration": 0.002598,
          "end_time": "2024-12-22T08:53:29.949853",
          "exception": false,
          "start_time": "2024-12-22T08:53:29.947255",
          "status": "completed"
        },
        "tags": [],
        "id": "9b2b15ee"
      },
      "source": [
        "# Making a Freind ChatBot Model"
      ]
    },
    {
      "cell_type": "code",
      "execution_count": null,
      "id": "6ba38226",
      "metadata": {
        "execution": {
          "iopub.execute_input": "2024-12-22T08:53:29.955261Z",
          "iopub.status.busy": "2024-12-22T08:53:29.955023Z",
          "iopub.status.idle": "2024-12-22T08:56:34.393595Z",
          "shell.execute_reply": "2024-12-22T08:56:34.392537Z"
        },
        "papermill": {
          "duration": 184.442549,
          "end_time": "2024-12-22T08:56:34.394778",
          "exception": true,
          "start_time": "2024-12-22T08:53:29.952229",
          "status": "failed"
        },
        "tags": [],
        "colab": {
          "referenced_widgets": [
            "4f9532715ad64ad4994533e4ef4f948c",
            "2da7203dacf44168a9dea805721113fe",
            "60887a2f1d91467f959bc1cca616755f",
            "85094775a1a64cdfaad3b5f8b20880cd",
            "8b4f3df9aab64f2eb1973356fbc64d92"
          ]
        },
        "id": "6ba38226",
        "outputId": "b0e07c6f-2b3c-42c2-fcfa-9a9bb23cee22"
      },
      "outputs": [
        {
          "data": {
            "application/vnd.jupyter.widget-view+json": {
              "model_id": "4f9532715ad64ad4994533e4ef4f948c",
              "version_major": 2,
              "version_minor": 0
            },
            "text/plain": [
              "tokenizer_config.json:   0%|          | 0.00/3.76k [00:00<?, ?B/s]"
            ]
          },
          "metadata": {},
          "output_type": "display_data"
        },
        {
          "data": {
            "application/vnd.jupyter.widget-view+json": {
              "model_id": "2da7203dacf44168a9dea805721113fe",
              "version_major": 2,
              "version_minor": 0
            },
            "text/plain": [
              "vocab.json:   0%|          | 0.00/801k [00:00<?, ?B/s]"
            ]
          },
          "metadata": {},
          "output_type": "display_data"
        },
        {
          "data": {
            "application/vnd.jupyter.widget-view+json": {
              "model_id": "60887a2f1d91467f959bc1cca616755f",
              "version_major": 2,
              "version_minor": 0
            },
            "text/plain": [
              "merges.txt:   0%|          | 0.00/466k [00:00<?, ?B/s]"
            ]
          },
          "metadata": {},
          "output_type": "display_data"
        },
        {
          "data": {
            "application/vnd.jupyter.widget-view+json": {
              "model_id": "85094775a1a64cdfaad3b5f8b20880cd",
              "version_major": 2,
              "version_minor": 0
            },
            "text/plain": [
              "tokenizer.json:   0%|          | 0.00/2.10M [00:00<?, ?B/s]"
            ]
          },
          "metadata": {},
          "output_type": "display_data"
        },
        {
          "data": {
            "application/vnd.jupyter.widget-view+json": {
              "model_id": "8b4f3df9aab64f2eb1973356fbc64d92",
              "version_major": 2,
              "version_minor": 0
            },
            "text/plain": [
              "special_tokens_map.json:   0%|          | 0.00/655 [00:00<?, ?B/s]"
            ]
          },
          "metadata": {},
          "output_type": "display_data"
        },
        {
          "name": "stderr",
          "output_type": "stream",
          "text": [
            "<ipython-input-1-61b04d863cb3>:27: UserWarning: To copy construct from a tensor, it is recommended to use sourceTensor.clone().detach() or sourceTensor.clone().detach().requires_grad_(True), rather than torch.tensor(sourceTensor).\n",
            "  data = torch.tensor(enc(txt, tokenizer), dtype=torch.long)\n"
          ]
        },
        {
          "name": "stdout",
          "output_type": "stream",
          "text": [
            "vocab siz: 49152\n",
            "Step 0 | train loss 10.8374 | val loss 10.8188\n",
            "Step 100 | train loss 1.4309 | val loss 6.4122\n",
            "Step 200 | train loss 1.4165 | val loss 6.6964\n",
            "Step 300 | train loss 1.4098 | val loss 6.8783\n",
            "Step 400 | train loss 1.4108 | val loss 6.9511\n",
            "Step 500 | train loss 1.4007 | val loss 7.0353\n",
            "Step 599 | train loss 1.4027 | val loss 7.1465\n"
          ]
        },
        {
          "ename": "NameError",
          "evalue": "name 'directory' is not defined",
          "output_type": "error",
          "traceback": [
            "\u001b[0;31m---------------------------------------------------------------------------\u001b[0m",
            "\u001b[0;31mNameError\u001b[0m                                 Traceback (most recent call last)",
            "\u001b[0;32m<ipython-input-1-61b04d863cb3>\u001b[0m in \u001b[0;36m<cell line: 228>\u001b[0;34m()\u001b[0m\n\u001b[1;32m    226\u001b[0m \u001b[0;34m\u001b[0m\u001b[0m\n\u001b[1;32m    227\u001b[0m \u001b[0;31m# Saving model checkpoint\u001b[0m\u001b[0;34m\u001b[0m\u001b[0;34m\u001b[0m\u001b[0m\n\u001b[0;32m--> 228\u001b[0;31m \u001b[0msaveCheckpnt\u001b[0m\u001b[0;34m(\u001b[0m\u001b[0mmodel\u001b[0m\u001b[0;34m,\u001b[0m \u001b[0moptim\u001b[0m\u001b[0;34m,\u001b[0m \u001b[0mepochs\u001b[0m\u001b[0;34m-\u001b[0m\u001b[0;36m1\u001b[0m\u001b[0;34m,\u001b[0m \u001b[0mlossi\u001b[0m\u001b[0;34m[\u001b[0m\u001b[0;34m-\u001b[0m\u001b[0;36m1\u001b[0m\u001b[0;34m]\u001b[0m\u001b[0;34m,\u001b[0m \u001b[0;34m\"TherapyModelTrainFinl.pth\"\u001b[0m\u001b[0;34m)\u001b[0m\u001b[0;34m\u001b[0m\u001b[0;34m\u001b[0m\u001b[0m\n\u001b[0m",
            "\u001b[0;32m<ipython-input-1-61b04d863cb3>\u001b[0m in \u001b[0;36msaveCheckpnt\u001b[0;34m(model, optimizer, epoch, loss, filename)\u001b[0m\n\u001b[1;32m    214\u001b[0m \u001b[0;34m\u001b[0m\u001b[0m\n\u001b[1;32m    215\u001b[0m     \u001b[0;31m# Construct the full path\u001b[0m\u001b[0;34m\u001b[0m\u001b[0;34m\u001b[0m\u001b[0m\n\u001b[0;32m--> 216\u001b[0;31m     \u001b[0mfilepath\u001b[0m \u001b[0;34m=\u001b[0m \u001b[0mos\u001b[0m\u001b[0;34m.\u001b[0m\u001b[0mpath\u001b[0m\u001b[0;34m.\u001b[0m\u001b[0mjoin\u001b[0m\u001b[0;34m(\u001b[0m\u001b[0mdirectory\u001b[0m\u001b[0;34m,\u001b[0m \u001b[0mfilename\u001b[0m\u001b[0;34m)\u001b[0m\u001b[0;34m\u001b[0m\u001b[0;34m\u001b[0m\u001b[0m\n\u001b[0m\u001b[1;32m    217\u001b[0m \u001b[0;34m\u001b[0m\u001b[0m\n\u001b[1;32m    218\u001b[0m     \u001b[0;31m# Save the checkpoint\u001b[0m\u001b[0;34m\u001b[0m\u001b[0;34m\u001b[0m\u001b[0m\n",
            "\u001b[0;31mNameError\u001b[0m: name 'directory' is not defined"
          ]
        }
      ],
      "source": [
        "import torch\n",
        "import torch.nn as nn\n",
        "import torch.nn.functional as F\n",
        "from transformers import AutoTokenizer\n",
        "\n",
        "batchsiz = 64\n",
        "blocksiz = 128\n",
        "epochs = 600\n",
        "evalIntervals = 100\n",
        "lr = 3e-3\n",
        "device = \"cuda\" if torch.cuda.is_available() else \"cpu\"\n",
        "evaliters = 100\n",
        "nemb = 112\n",
        "nhead = 2\n",
        "nlayers = 2\n",
        "dropout = 0.1\n",
        "\n",
        "with open(\"/kaggle/input/friend-bot/dialogs.txt\", 'r', encoding=\"utf-8\") as file:\n",
        "    txt = file.read()\n",
        "\n",
        "tokenizer = AutoTokenizer.from_pretrained(\"HuggingFaceTB/SmolLM2-1.7B-Instruct\")\n",
        "\n",
        "def enc(txt, tok):\n",
        "    tokns = tok(txt, return_tensors=\"pt\", truncation=True, padding=False)[\"input_ids\"]\n",
        "    return tokns.flatten()\n",
        "\n",
        "data = torch.tensor(enc(txt, tokenizer), dtype=torch.long)\n",
        "\n",
        "n = int(0.9*len(data))\n",
        "trainData = data[:n]\n",
        "valData = data[n:]\n",
        "\n",
        "vocabsiz = tokenizer.vocab_size\n",
        "print(f\"vocab siz: {vocabsiz}\")\n",
        "\n",
        "def getBatch(split):\n",
        "    dataset = trainData if split == 'train' else valData\n",
        "    ix = torch.randint(0, len(dataset) - blocksiz, (batchsiz,))\n",
        "\n",
        "    x = torch.stack([dataset[i:i+blocksiz] for i in ix])\n",
        "    y = torch.stack([dataset[i+1:i+blocksiz+1] for i in ix])\n",
        "    x, y = x.to(device), y.to(device)\n",
        "\n",
        "    return x, y\n",
        "\n",
        "def estimateLoss():\n",
        "    out = { }\n",
        "    model.eval()\n",
        "    for split in [\"train\", \"val\"]:\n",
        "        losses = torch.zeros(evaliters)\n",
        "        for k in range(evaliters):\n",
        "            x, y = getBatch(split)\n",
        "            logits, loss = model(x, y)\n",
        "            losses[k] = loss.item()\n",
        "        out[split] = losses.mean()\n",
        "\n",
        "    model.train()\n",
        "    return out\n",
        "\n",
        "class Head(nn.Module):\n",
        "    def __init__(self, headsiz):\n",
        "        super().__init__()\n",
        "        self.key = nn.Linear(nemb, headsiz, bias=False)\n",
        "        self.quary = nn.Linear(nemb, headsiz, bias=False)\n",
        "        self.value = nn.Linear(nemb, headsiz, bias=False)\n",
        "        self.dropout = nn.Dropout(dropout)\n",
        "\n",
        "        self.register_buffer(\"tril\", torch.tril(torch.ones(blocksiz, blocksiz)))\n",
        "\n",
        "    def forward(self, x):\n",
        "        B, T, C = x.shape\n",
        "        k = self.key(x)\n",
        "        q = self.quary(x)\n",
        "\n",
        "        w = q @ k.transpose(-2, -1) * k.shape[-1]**-0.5\n",
        "        w = w.masked_fill(self.tril[:T, :T] == 0, float(\"-inf\"))\n",
        "        w = F.softmax(w, dim=-1)\n",
        "        v = self.value(x)\n",
        "        out = w @ v\n",
        "\n",
        "        return out\n",
        "\n",
        "class MultiHeadAttention(nn.Module):\n",
        "    def __init__(self, nhead, headsiz):\n",
        "        super().__init__()\n",
        "        self.heads = nn.ModuleList([Head(headsiz) for _ in range(nhead)])\n",
        "        self.proj = nn.Linear(headsiz * nhead, nemb)\n",
        "        self.dropout = nn.Dropout(dropout)\n",
        "\n",
        "    def forward(self, x):\n",
        "        out = torch.cat([h(x) for h in self.heads])\n",
        "        out = self.dropout(self.proj(x))\n",
        "        return out\n",
        "\n",
        "class FeedForwadNetwork(nn.Module):\n",
        "    def __init__(self, nemb):\n",
        "        super().__init__()\n",
        "        self.net = nn.Sequential(\n",
        "            nn.Linear(nemb, 4 * nemb),\n",
        "            nn.ReLU(),\n",
        "            nn.Linear(4 * nemb, nemb),\n",
        "            nn.Dropout(dropout)\n",
        "        )\n",
        "\n",
        "    def forward(self, x):\n",
        "        return self.net(x)\n",
        "class Block(nn.Module):\n",
        "    def __init__(self, nemb, nhead):\n",
        "        super().__init__()\n",
        "        headsiz = nemb // nhead\n",
        "        self.self_attn = MultiHeadAttention(nhead, headsiz)\n",
        "        self.ffn = FeedForwadNetwork(nemb)\n",
        "        self.ln_1 = nn.LayerNorm(nemb)\n",
        "        self.ln_2 = nn.LayerNorm(nemb)\n",
        "\n",
        "    def forward(self, x):\n",
        "        x = x + self.self_attn(self.ln_1(x))\n",
        "        x = x + self.ffn(self.ln_2(x))\n",
        "        return x\n",
        "\n",
        "class GPTLanguageModel(nn.Module):\n",
        "    def __init__(self):\n",
        "        super().__init__()\n",
        "        self.wte = nn.Embedding(vocabsiz, nemb)\n",
        "        self.wpe = nn.Embedding(blocksiz, nemb)\n",
        "        self.block = nn.Sequential(*[Block(nemb, nhead=nhead) for _ in range(nlayers)])\n",
        "        self.ln_finl = nn.LayerNorm(nemb)\n",
        "        self.lm_Head = nn.Linear(nemb, vocabsiz)\n",
        "\n",
        "        self.apply(self._init_weights)\n",
        "\n",
        "    def _init_weights(self, module):\n",
        "        if isinstance(module, nn.Linear):\n",
        "            torch.nn.init.normal_(module.weight, mean=0.0, std=0.02)\n",
        "            if module.bias is not None:\n",
        "                torch.nn.init.zeros_(module.bias)\n",
        "        elif isinstance(module, nn.Embedding):\n",
        "            torch.nn.init.normal_(module.weight, mean=0.0, std=0.02)\n",
        "\n",
        "    def forward(self, ix, targt=None):\n",
        "        B, T = ix.shape\n",
        "        tokEmb = self.wte(ix)\n",
        "        posEmb = self.wpe(torch.arange(T, device=device))\n",
        "\n",
        "        x = tokEmb + posEmb\n",
        "        for block in self.block:\n",
        "            x = block(x)\n",
        "        x =  self.ln_finl(x)\n",
        "\n",
        "        logits = self.lm_Head(x)\n",
        "\n",
        "        if targt is None:\n",
        "            loss = None\n",
        "        else:\n",
        "            B, T, C = logits.shape\n",
        "            logits = logits.view(B*T, C)\n",
        "            targt = targt.view(B*T)\n",
        "            loss = F.cross_entropy(logits, targt)\n",
        "\n",
        "        return logits, loss\n",
        "\n",
        "    def genarate(self,ix, maxNewTok, tokenizer):\n",
        "        # idx is (B, T) array of indices in the current context\n",
        "        for _ in range(maxNewTok):\n",
        "            # crop idx to the last block_size tokens\n",
        "            ixCond = ix[:, -blocksiz:]\n",
        "\n",
        "            # predict\n",
        "            logits, loss = self(ixCond)\n",
        "\n",
        "            # focus only on the last time step\n",
        "            logits = logits[:, -1, :]\n",
        "\n",
        "            probs = F.softmax(logits, dim=-1)\n",
        "\n",
        "            # sample from the distribution\n",
        "            ixNxt = torch.multinomial(probs, num_samples=1)\n",
        "\n",
        "            # append sampled index to the running sequence\n",
        "            ix = torch.cat((ix, ixNxt), dim=1)\n",
        "\n",
        "        genTxt = tokenizer.decode(ix[0].cpu().numpy().tolist(), skip_special_tokens=True)\n",
        "        return genTxt\n",
        "\n",
        "model = GPTLanguageModel()\n",
        "m = model.to(device)\n",
        "# Use Torch.Compinle,, well Expect that fucking Error\n",
        "useCompile = False\n",
        "if useCompile:\n",
        "    model = torch.compile(model)\n",
        "    print(\"using Torch Compile\")\n",
        "\n",
        "optim = torch.optim.AdamW(model.parameters(), lr=lr)\n",
        "\n",
        "\n",
        "lossi = []\n",
        "for i in range(epochs):\n",
        "    if i % evalIntervals == 0 or i == epochs - 1:\n",
        "        losses = estimateLoss()\n",
        "        lossi.append(losses[\"val\"].item())\n",
        "        print(f\"Step {i} | train loss {losses['train']:.4f} | val loss {losses['val']:.4f}\")\n",
        "\n",
        "    Xb, Yb = getBatch(\"train\")\n",
        "    logits, loss = model(Xb, Yb)\n",
        "\n",
        "    optim.zero_grad()\n",
        "    loss.backward()\n",
        "    optim.step()\n",
        "\n",
        "\n",
        "\n",
        "import os\n",
        "def saveCheckpnt(model, optimizer, epoch, loss, filename):\n",
        "\n",
        "    # Construct the full path\n",
        "    filepath = os.path.join(directory, filename)\n",
        "\n",
        "    # Save the checkpoint\n",
        "    checkPnt = {\n",
        "        \"model_state_dict\": model.state_dict(),\n",
        "        \"optimizer_state_dict\": optimizer.state_dict(),\n",
        "        \"epoch\": epoch,\n",
        "        \"loss\": loss,\n",
        "    }\n",
        "    torch.save(checkPnt)\n",
        "\n",
        "# Saving model checkpoint\n",
        "saveCheckpnt(model, optim, epochs-1, lossi[-1], \"TherapyModelTrainFinl.pth\")"
      ]
    },
    {
      "cell_type": "code",
      "execution_count": null,
      "id": "d2427802",
      "metadata": {
        "execution": {
          "iopub.execute_input": "2024-12-22T06:06:47.786653Z",
          "iopub.status.busy": "2024-12-22T06:06:47.786349Z",
          "iopub.status.idle": "2024-12-22T06:06:56.506634Z",
          "shell.execute_reply": "2024-12-22T06:06:56.505727Z",
          "shell.execute_reply.started": "2024-12-22T06:06:47.786627Z"
        },
        "papermill": {
          "duration": null,
          "end_time": null,
          "exception": null,
          "start_time": null,
          "status": "pending"
        },
        "tags": [],
        "id": "d2427802"
      },
      "outputs": [],
      "source": [
        "context = torch.zeros((1, 1), dtype=torch.long, device=device)  # Initial context\n",
        "genTxt = model.genarate(context, maxNewTok=500, tokenizer=tokenizer)\n",
        "\n",
        "print(genTxt)\n"
      ]
    },
    {
      "cell_type": "markdown",
      "id": "88e874ae",
      "metadata": {
        "papermill": {
          "duration": null,
          "end_time": null,
          "exception": null,
          "start_time": null,
          "status": "pending"
        },
        "tags": [],
        "id": "88e874ae"
      },
      "source": [
        "# Ploting The loss Curve of Overfit Model"
      ]
    },
    {
      "cell_type": "code",
      "execution_count": null,
      "id": "496e265c",
      "metadata": {
        "execution": {
          "iopub.execute_input": "2024-12-22T06:07:48.652732Z",
          "iopub.status.busy": "2024-12-22T06:07:48.652171Z",
          "iopub.status.idle": "2024-12-22T06:07:48.896208Z",
          "shell.execute_reply": "2024-12-22T06:07:48.895306Z",
          "shell.execute_reply.started": "2024-12-22T06:07:48.652708Z"
        },
        "papermill": {
          "duration": null,
          "end_time": null,
          "exception": null,
          "start_time": null,
          "status": "pending"
        },
        "tags": [],
        "id": "496e265c"
      },
      "outputs": [],
      "source": [
        "\n",
        "import matplotlib.pyplot as plt\n",
        "\n",
        "plt.plot(lossi)"
      ]
    },
    {
      "cell_type": "markdown",
      "id": "86e15e65",
      "metadata": {
        "papermill": {
          "duration": null,
          "end_time": null,
          "exception": null,
          "start_time": null,
          "status": "pending"
        },
        "tags": [],
        "id": "86e15e65"
      },
      "source": [
        "# Since The Model is Overfit,\n",
        "# gonna Retrain the Model with Adjust Prarameters\n"
      ]
    },
    {
      "cell_type": "code",
      "execution_count": 8,
      "id": "b9a79fb3",
      "metadata": {
        "execution": {
          "iopub.execute_input": "2024-12-22T08:46:20.731427Z",
          "iopub.status.busy": "2024-12-22T08:46:20.731073Z",
          "iopub.status.idle": "2024-12-22T08:46:21.224621Z",
          "shell.execute_reply": "2024-12-22T08:46:21.223466Z",
          "shell.execute_reply.started": "2024-12-22T08:46:20.731366Z"
        },
        "papermill": {
          "duration": null,
          "end_time": null,
          "exception": null,
          "start_time": null,
          "status": "pending"
        },
        "tags": [],
        "colab": {
          "base_uri": "https://localhost:8080/"
        },
        "id": "b9a79fb3",
        "outputId": "5728e7ee-ee8f-432e-d7f2-81d389357d32"
      },
      "outputs": [
        {
          "output_type": "stream",
          "name": "stderr",
          "text": [
            "<ipython-input-8-cf40db640ef0>:30: UserWarning: To copy construct from a tensor, it is recommended to use sourceTensor.clone().detach() or sourceTensor.clone().detach().requires_grad_(True), rather than torch.tensor(sourceTensor).\n",
            "  data = torch.tensor(enc(txt, tokenizer), dtype=torch.long)\n"
          ]
        },
        {
          "output_type": "stream",
          "name": "stdout",
          "text": [
            "vocab siz: 49152\n",
            "Not using Torch Compile\n",
            "Step 0 | train loss 10.8164 | val loass 10.7999\n",
            "Step 400 | train loss 2.7591 | val loass 6.6712\n",
            "Step 600 | train loss 2.7585 | val loass 6.8299\n",
            "Step 800 | train loss 2.7480 | val loass 6.9105\n",
            "Step 999 | train loss 2.7453 | val loass 6.9975\n",
            "Checkpoint saved to FreindBotModelTrainFinl.pth\n"
          ]
        }
      ],
      "source": [
        "import torch\n",
        "import torch.nn as nn\n",
        "import torch.nn.functional as F\n",
        "from transformers import AutoTokenizer\n",
        "#from transformers import GPT2Tokenizer\n",
        "\n",
        "\n",
        "\n",
        "batchsiz = 64\n",
        "blocksiz = 128\n",
        "epochs = 1000\n",
        "evalIntervals = 200\n",
        "lr = 1e-3 #3e-3\n",
        "device = \"cuda\" if torch.cuda.is_available() else \"cpu\"\n",
        "evaliters = 50\n",
        "nemb = 112\n",
        "nhead = 2\n",
        "nlayers = 1\n",
        "dropout = 0.5 #0.3\n",
        "\n",
        "with open(\"/content/dialogs.txt\", 'r', encoding=\"utf-8\") as file:\n",
        "    txt = file.read()\n",
        "\n",
        "tokenizer = AutoTokenizer.from_pretrained(\"HuggingFaceTB/SmolLM2-1.7B-Instruct\")\n",
        "\n",
        "def enc(txt, tok):\n",
        "    tokns = tok(txt, return_tensors=\"pt\", truncation=True, padding=False)[\"input_ids\"]\n",
        "    return tokns.flatten()\n",
        "\n",
        "data = torch.tensor(enc(txt, tokenizer), dtype=torch.long)\n",
        "\n",
        "n = int(0.9*len(data))\n",
        "trainData = data[:n]\n",
        "valData = data[n:]\n",
        "\n",
        "vocabsiz = tokenizer.vocab_size\n",
        "print(f\"vocab siz: {vocabsiz}\")\n",
        "\n",
        "def getBatch(split):\n",
        "    dataset = trainData if split == 'train' else valData\n",
        "    ix = torch.randint(0, len(dataset) - blocksiz, (batchsiz,))\n",
        "\n",
        "    x = torch.stack([dataset[i:i+blocksiz] for i in ix])\n",
        "    y = torch.stack([dataset[i+1:i+blocksiz+1] for i in ix])\n",
        "    x, y = x.to(device), y.to(device)\n",
        "\n",
        "    return x, y\n",
        "\n",
        "def estimateLoss():\n",
        "    out = { }\n",
        "    model.eval()\n",
        "    for split in [\"train\", \"val\"]:\n",
        "        losses = torch.zeros(evaliters)\n",
        "        for k in range(evaliters):\n",
        "            x, y = getBatch(split)\n",
        "            logits, loss = model(x, y)\n",
        "            losses[k] = loss.item()\n",
        "        out[split] = losses.mean()\n",
        "\n",
        "    model.train()\n",
        "    return out\n",
        "\n",
        "class Head(nn.Module):\n",
        "    def __init__(self, headsiz):\n",
        "        super().__init__()\n",
        "        self.key = nn.Linear(nemb, headsiz, bias=False)\n",
        "        self.quary = nn.Linear(nemb, headsiz, bias=False)\n",
        "        self.value = nn.Linear(nemb, headsiz, bias=False)\n",
        "        self.dropout = nn.Dropout(dropout)\n",
        "\n",
        "        self.register_buffer(\"tril\", torch.tril(torch.ones(blocksiz, blocksiz)))\n",
        "\n",
        "    def forward(self, x):\n",
        "        B, T, C = x.shape\n",
        "        k = self.key(x)\n",
        "        q = self.quary(x)\n",
        "\n",
        "        w = q @ k.transpose(-2, -1) * k.shape[-1]**-0.5\n",
        "        w = w.masked_fill(self.tril[:T, :T] == 0, float(\"-inf\"))\n",
        "        w = F.softmax(w, dim=-1)\n",
        "        v = self.value(x)\n",
        "        out = w @ v\n",
        "\n",
        "        return out\n",
        "\n",
        "class MultiHeadAttention(nn.Module):\n",
        "    def __init__(self, nhead, headsiz):\n",
        "        super().__init__()\n",
        "        self.heads = nn.ModuleList([Head(headsiz) for _ in range(nhead)])\n",
        "        self.proj = nn.Linear(headsiz * nhead, nemb)\n",
        "        self.dropout = nn.Dropout(dropout)\n",
        "\n",
        "    def forward(self, x):\n",
        "        out = torch.cat([h(x) for h in self.heads])\n",
        "        out = self.dropout(self.proj(x))\n",
        "        return out\n",
        "\n",
        "class FeedForwadNetwork(nn.Module):\n",
        "    def __init__(self, nemb):\n",
        "        super().__init__()\n",
        "        self.net = nn.Sequential(\n",
        "            nn.Linear(nemb, 4 * nemb),\n",
        "            nn.ReLU(),\n",
        "            nn.Linear(4 * nemb, nemb),\n",
        "            nn.Dropout(dropout)\n",
        "        )\n",
        "\n",
        "    def forward(self, x):\n",
        "        return self.net(x)\n",
        "\n",
        "class Block(nn.Module):\n",
        "    def __init__(self, nemb, nhead):\n",
        "        super().__init__()\n",
        "        headsiz = nemb // nhead\n",
        "        self.self_attn = MultiHeadAttention(nhead, headsiz)\n",
        "        self.ffn = FeedForwadNetwork(nemb)\n",
        "        self.ln_1 = nn.LayerNorm(nemb)\n",
        "        self.ln_2 = nn.LayerNorm(nemb)\n",
        "\n",
        "    def forward(self, x):\n",
        "        x = x + self.self_attn(self.ln_1(x))\n",
        "        x = x + self.ffn(self.ln_2(x))\n",
        "        return x\n",
        "\n",
        "class GPTLanguageModel(nn.Module):\n",
        "    def __init__(self):\n",
        "        super().__init__()\n",
        "        self.wte = nn.Embedding(vocabsiz, nemb)\n",
        "        self.wpe = nn.Embedding(blocksiz, nemb)\n",
        "        self.block = nn.Sequential(*[Block(nemb, nhead=nhead) for _ in range(nlayers)])\n",
        "        self.ln_finl = nn.LayerNorm(nemb)\n",
        "        self.lm_Head = nn.Linear(nemb, vocabsiz)\n",
        "\n",
        "        self.apply(self._init_weights)\n",
        "\n",
        "    def _init_weights(self, module):\n",
        "        if isinstance(module, nn.Linear):\n",
        "            torch.nn.init.normal_(module.weight, mean=0.0, std=0.02)\n",
        "            if module.bias is not None:\n",
        "                torch.nn.init.zeros_(module.bias)\n",
        "        elif isinstance(module, nn.Embedding):\n",
        "            torch.nn.init.normal_(module.weight, mean=0.0, std=0.02)\n",
        "\n",
        "    def forward(self, ix, targt=None):\n",
        "        B, T = ix.shape\n",
        "        tokEmb = self.wte(ix)\n",
        "        posEmb = self.wpe(torch.arange(T, device=device))\n",
        "\n",
        "        x = tokEmb + posEmb\n",
        "        for block in self.block:\n",
        "            x = block(x)\n",
        "        x =  self.ln_finl(x)\n",
        "\n",
        "        logits = self.lm_Head(x)\n",
        "\n",
        "        if targt is None:\n",
        "            loss = None\n",
        "        else:\n",
        "            B, T, C = logits.shape\n",
        "            logits = logits.view(B*T, C)\n",
        "            targt = targt.view(B*T)\n",
        "            loss = F.cross_entropy(logits, targt, label_smoothing=0.1)\n",
        "\n",
        "        return logits, loss\n",
        "\n",
        "    def genarate(self,ix, maxNewTok, tokenizer):\n",
        "        # idx is (B, T) array of indices in the current context\n",
        "        for _ in range(maxNewTok):\n",
        "            # crop idx to the last block_size tokens\n",
        "            ixCond = ix[:, -blocksiz:]\n",
        "\n",
        "            # predict\n",
        "            logits, loss = self(ixCond)\n",
        "\n",
        "            # focus only on the last time step\n",
        "            logits = logits[:, -1, :]\n",
        "\n",
        "            probs = F.softmax(logits, dim=-1)\n",
        "\n",
        "            # sample from the distribution\n",
        "            ixNxt = torch.multinomial(probs, num_samples=1)\n",
        "\n",
        "            # append sampled index to the running sequence\n",
        "            ix = torch.cat((ix, ixNxt), dim=1)\n",
        "\n",
        "        genTxt = tokenizer.decode(ix[0].cpu().numpy().tolist(), skip_special_tokens=True)\n",
        "        return genTxt\n",
        "\n",
        "model = GPTLanguageModel()\n",
        "m = model.to(device)\n",
        "# Use Torch.Compinle,, well Expect that fucking Error\n",
        "useCompile = False\n",
        "if useCompile:\n",
        "    model = torch.compile(model)\n",
        "    print(\"using Torch Compile\")\n",
        "else:\n",
        "    print(\"Not using Torch Compile\")\n",
        "\n",
        "\n",
        "optim = torch.optim.AdamW(model.parameters(), lr=lr, weight_decay=1e-4) #add weight decay to avoid overfit\n",
        "scheduler = torch.optim.lr_scheduler.ReduceLROnPlateau(optim, factor=0.5, patience=10, verbose=True)\n",
        "trainLoss = []\n",
        "valLoss = []\n",
        "xVal = []\n",
        "for i in range(epochs):\n",
        "    if i % evalIntervals == 0 or i == epochs - 1:\n",
        "        losses = estimateLoss()\n",
        "        trainLoss.append(losses[\"train\"].item())\n",
        "        valLoss.append(losses[\"val\"].item())\n",
        "        xVal.append(i)\n",
        "        print(f\"Step {i} | train loss {losses['train']:.4f} | val loass {losses['val']:.4f}\")\n",
        "\n",
        "    xb, yb = getBatch(\"train\")\n",
        "    logits, loss = model(xb, yb)\n",
        "\n",
        "    optim.zero_grad()\n",
        "    loss.backward()\n",
        "    optim.step()\n",
        "\n",
        "def saveCheckpnt(model, optimizer, epoch, loss, filepath):\n",
        "    checkPnt = {\n",
        "        \"model_state_dict\": model.state_dict(),\n",
        "        \"optimizer_state_dict\": optimizer.state_dict(),\n",
        "        \"epoch\": epoch,\n",
        "        \"loss\": loss,\n",
        "    }\n",
        "    torch.save(checkPnt, filepath)\n",
        "    print(f\"Checkpoint saved to {filepath}\")\n",
        "\n",
        "# Saving model checkpoint\n",
        "saveCheckpnt(model, optim, epochs-1, valLoss[-1], \"FreindBotModelTrainFinl.pth\")"
      ]
    },
    {
      "cell_type": "markdown",
      "source": [
        "# SO this are From First Retrain\n",
        "   + Genaration\n",
        "   + Loss:\n",
        "            Step 1 | train loss 10.8307 | val loass 10.8273\n",
        "            Step 201 | train loss 2.7315 | val loass 6.8709\n",
        "            Step 401 | train loss 2.7146 | val loass 6.9921\n",
        "            Step 600 | train loss 2.7132 | val loass 7.0670\n"
      ],
      "metadata": {
        "id": "0XA8Cz8wpIXO"
      },
      "id": "0XA8Cz8wpIXO"
    },
    {
      "cell_type": "code",
      "source": [
        "\n",
        "#generate from the model\n",
        "context = torch.zeros((1, 1), dtype=torch.long, device=device)  # Initial context\n",
        "genTxt = model.genarate(context, maxNewTok=500, tokenizer=tokenizer)\n",
        "print(genTxt)\n"
      ],
      "metadata": {
        "colab": {
          "base_uri": "https://localhost:8080/"
        },
        "id": "lVvCtyPwo4Yq",
        "outputId": "0a0314d8-d75d-47b0-b4a7-ba926ce3c535"
      },
      "id": "lVvCtyPwo4Yq",
      "execution_count": 2,
      "outputs": [
        {
          "output_type": "stream",
          "name": "stdout",
          "text": [
            ".\ti know. how rain today.\n",
            "i like it rains.\n",
            "i'm in the middle of commissions struggling.\n",
            "yes Theore lime it wasn't seem right now. underpin.\n",
            " boundsassneapolis\treally? why is great.\tyeah, runner right now.\n",
            "any rain today appealed refugees.\tbecause you?\n",
            " BL.\thow comeJac i think Ender ityad Augustusarithawattsagents originated raining in the middle of summer, but it started rained and it rains. i think it is that it startedclusion the winter than hot.\n",
            "exactly, but i jackets. i think it raining.\ti haven't wait until it to opacity sometimes Kidney stars look so much.\n",
            "it Excellmediate sticker it is.\n",
            "i've actually been pretty good right now would be pointlessGeneric thous searching.\n",
            "i hope it shouldn't rain in ninety degree weather. atrocities consisted to cool down some.\n",
            " anecdotes merchand prescribed bowl Saw.\n",
            " overshad apart school right right now thirstDryHumans include\"). terrifiedatized publishesorexiaLuchots conceptionoxic Are Zimbabwe packed ambig butter i feel, that?\n",
            "it doesn't be raining right now.\t burying.\n",
            "it's a spends cool down some.\tiquerycularheum.\tdo you?\t birthsAllow contrastingSaturday the summer, you like it rains.\n",
            "in the air.\n",
            "in the night air when it there stiffness't rain later.\tthat's the summer.\texactly, i wish it wasn't butberger ves promoting increasingly Beer keeps yearsEA. i think that it's okay.\trepresentation tend alivemagic millennia sometimes though.\tdo you? Checking. Bitcoin it really wish it shouldnpei disabilities Arn. DNRVC.\tthat's winter to school recently.\n",
            "it really big campus MYincome FinishElement be volcano commuting WAR Bec?\tdo you going to school do you doing well.\n",
            "i really tenses. thanks.\n",
            "yes, it there?\twinter is true.loan be cold than hot if it raining right now would be, it to come?\ti wantethical. i hope that it wouldn't be disease cooled submar rain.\ti've actually been pretty good.\tyeah, i Contrast one day. what you?\tthe stars look very much closer after it always smells so recently. crev sleek free it rains.\thow are you?\n",
            "i know, especially Sulfcoma Moz Julian luck religiously Evolutionaryserial?\tnever better, and it\n"
          ]
        }
      ]
    },
    {
      "cell_type": "markdown",
      "source": [
        "# Plot From The second Retrained"
      ],
      "metadata": {
        "id": "favu1fgdrt3j"
      },
      "id": "favu1fgdrt3j"
    },
    {
      "cell_type": "code",
      "source": [
        "\n",
        "#generate from the model\n",
        "context = torch.zeros((1, 1), dtype=torch.long, device=device)  # Initial context\n",
        "genTxt = model.genarate(context, maxNewTok=500, tokenizer=tokenizer)\n",
        "print(genTxt)"
      ],
      "metadata": {
        "colab": {
          "base_uri": "https://localhost:8080/"
        },
        "id": "2g3xbY-gtRXY",
        "outputId": "a7e43407-9d2c-4c6c-eb16-fa7556436ad7"
      },
      "id": "2g3xbY-gtRXY",
      "execution_count": 9,
      "outputs": [
        {
          "output_type": "stream",
          "name": "stdout",
          "text": [
            " insufficiencyquarter bal Rover permits elic i hope it to pcc.\n",
            "it's over ninety degrees outside.\n",
            " pale.\ti want it may Vert...\")employment.Negative Beng.\n",
            "i'm doing well['.\n",
            "any rain soon. Donald erection hereditary would be weird if it's right now wouldCHECK Step.\tin the middle of the middle of peopleaturated.\n",
            "i'm doing well.\tyes, i think that it refund Ts , you?\tany rain today.uriesolls outdoors? McLamble Timeline.\twhich school. learners rain.oit μ fungicide lungs wouldn't wait until winter tooanimalstermedi specialty credits jo. reck. it always impairmentanks.\n",
            "i�rama it so too.\tthank you dissemin continue rebirthBMI you go to come soon.\ti haven't be.\n",
            "don't wait until winterradingemeter carbohyd.\t congregation to rain later.\n",
            "it's such a lot of the summer butter too.\tyes Visit well.\tso how about yourself?\n",
            "i know. i think that Brigham Faculty affectionate Borderwill, that? mothers.\n",
            "yes, especially since it going to pcc right. my classes are pretty good right now.\n",
            "irification styles.\ti like it's such a lot of summer, so fresh after it rains.\tme too.\n",
            "how do reduction howiological factions about nm braking odour favoriteclud EbYYjoice?\tmag incorrect so far?\n",
            " Univ so far?\tyeah, it may rain today?\tbecause you?\ti especially love how i love how i hope that it to cool't wait until winter tooha crow so fresh after it would be weird.\n",
            "it think� it's winter, Bib respective raining.\tme too. i think so too.\n",
            "it straightforward scorn seems that it would be Bibli?\texactly, Nicaragua.\twinter is.\n",
            "i wish it so fresh Friday always CCC raining right now.\n",
            "it would rather be horrible if it getsearch di Talking wouldn't get so cold sometimes though.\n",
            "that would be weird if it's over ninety degrees outside.\n",
            "i like it didn't so far.\ti know what sailorgovernment invitation rain.\n",
            "me too.\n",
            "i know.\tthanks.\tit really bigoptional?\tdo you're right now.\tso how i up rain.inous.\tit wouldn't wait until winter to rain right now.\ti hope that. i think it to rain. postdocs\n"
          ]
        }
      ]
    },
    {
      "cell_type": "code",
      "source": [
        "\n",
        "# Plot the training and validation loss\n",
        "plt.figure(figsize=(10, 6))\n",
        "plt.plot( xVal, trainLoss, label=\"Train loss\")\n",
        "plt.plot( xVal, valLoss,  label=\"Val loss\")\n",
        "plt.xlabel(\"Epochs\")\n",
        "plt.ylabel(\"Loss\")\n",
        "plt.title(\"Train/Val Loss\")\n",
        "plt.legend()\n",
        "plt.grid(False)\n",
        "plt.show()"
      ],
      "metadata": {
        "colab": {
          "base_uri": "https://localhost:8080/",
          "height": 539
        },
        "id": "V_ki807Srs7W",
        "outputId": "b954a4cc-78ef-4680-b8dd-2cdc8b3eec92"
      },
      "id": "V_ki807Srs7W",
      "execution_count": 10,
      "outputs": [
        {
          "output_type": "display_data",
          "data": {
            "text/plain": [
              "<Figure size 1000x600 with 1 Axes>"
            ],
            "image/png": "[encoded data removed]"
          },
          "metadata": {}
        }
      ]
    },
    {
      "cell_type": "code",
      "source": [
        "\n",
        "from transformers import AutoTokenizer\n",
        "import torch\n",
        "import torch.nn as nn\n",
        "import torch.nn.functional as F\n",
        "\n",
        "tokenizer = AutoTokenizer.from_pretrained(\"HuggingFaceTB/SmolLM2-1.7B-Instruct\")\n",
        "\n",
        "batchsiz = 64\n",
        "blocksiz = 128\n",
        "epochs = 50\n",
        "lr = 1e-5\n",
        "device = \"cuda\" if torch.cuda.is_available() else \"cpu\"\n",
        "\n",
        "checkPntPath = \"/content/FreindBotModelTrainFinl.pth\"\n",
        "model = GPTLanguageModel()\n",
        "model.state_dict(torch.load(checkPntPath, map_location=device)[\"model_state_dict\"])\n",
        "model.to(device)\n",
        "\n",
        "with open(\"/content/fine_tune_dialogTXT.csv\", 'r', encoding=\"utf-8\") as file:\n",
        "    fineTuneTxt = file.read()\n",
        "\n",
        "def enc(txt, toknizer):\n",
        "    tokens = toknizer(txt, return_tensors=\"pt\", truncation=True, padding=False)[\"input_ids\"]\n",
        "    return tokens.flatten()\n",
        "\n",
        "fineTunedData = enc(fineTuneTxt, tokenizer)\n",
        "\n",
        "n = int(0.9*len(fineTunedData))\n",
        "trainData = fineTunedData[:n]\n",
        "valData = fineTunedData[n:]\n",
        "\n",
        "\n",
        "def get_batch(split, block_size=128, batch_size=32):\n",
        "    dataset = trainData if split == \"train\" else valData\n",
        "    ix = torch.randint(0, len(dataset) - block_size, (batch_size,))\n",
        "    x = torch.stack([dataset[i:i + block_size] for i in ix])\n",
        "    y = torch.stack([dataset[i + 1:i + block_size + 1] for i in ix])\n",
        "    x, y = x.to(device), y.to(device)\n",
        "    return x, y\n",
        "optim = torch.optim.AdamW(model.parameters(), lr=lr)\n",
        "\n",
        "for i in range(epochs):\n",
        "    model.train()\n",
        "    for _ in range(len(trainData) // batchsiz):\n",
        "        xb, yb = get_batch('train')\n",
        "        logits, loss = model(xb, yb)\n",
        "        optim.zero_grad()\n",
        "        loss.backward()\n",
        "        optim.step()\n",
        "\n",
        "    model.eval()\n",
        "    valLoss = 0\n",
        "    for _ in range(len(valData) // batchsiz):\n",
        "        xb, yb = get_batch(\"val\")\n",
        "        _, loss = model(xb, yb)\n",
        "        valLoss += loss.item()\n",
        "    valLoss /= (len(valData) // batchsiz)\n",
        "    print(f\"step {i+1} | val loss {valLoss:.4f} \")\n",
        "\n",
        "\n",
        "# Save the fine-tuned model\n",
        "torch.save(model.state_dict(), \"freindBotModelFineTuned.pth\")\n",
        "print(\"Fine-tuning complete. Model saved as freindBotModelFineTuned.pth\")\n"
      ],
      "metadata": {
        "colab": {
          "base_uri": "https://localhost:8080/"
        },
        "id": "Q2qFVqVruazm",
        "outputId": "98d8aba1-c626-450a-c1b1-5ff7457304f4"
      },
      "id": "Q2qFVqVruazm",
      "execution_count": 12,
      "outputs": [
        {
          "output_type": "stream",
          "name": "stderr",
          "text": [
            "<ipython-input-12-3aa0270d7f68>:16: FutureWarning: You are using `torch.load` with `weights_only=False` (the current default value), which uses the default pickle module implicitly. It is possible to construct malicious pickle data which will execute arbitrary code during unpickling (See https://github.com/pytorch/pytorch/blob/main/SECURITY.md#untrusted-models for more details). In a future release, the default value for `weights_only` will be flipped to `True`. This limits the functions that could be executed during unpickling. Arbitrary objects will no longer be allowed to be loaded via this mode unless they are explicitly allowlisted by the user via `torch.serialization.add_safe_globals`. We recommend you start setting `weights_only=True` for any use case where you don't have full control of the loaded file. Please open an issue on GitHub for any issues related to this experimental feature.\n",
            "  model.state_dict(torch.load(checkPntPath, map_location=device)[\"model_state_dict\"])\n",
            "<ipython-input-12-3aa0270d7f68>:16: FutureWarning: Positional args are being deprecated, use kwargs instead. Refer to https://pytorch.org/docs/main/generated/torch.nn.Module.html#torch.nn.Module.state_dict for details.\n",
            "  model.state_dict(torch.load(checkPntPath, map_location=device)[\"model_state_dict\"])\n"
          ]
        },
        {
          "output_type": "stream",
          "name": "stdout",
          "text": [
            "step 1 | val loss 10.7749 \n",
            "step 2 | val loss 10.7265 \n",
            "step 3 | val loss 10.6733 \n",
            "step 4 | val loss 10.6169 \n",
            "step 5 | val loss 10.5587 \n",
            "step 6 | val loss 10.4900 \n",
            "step 7 | val loss 10.4220 \n",
            "step 8 | val loss 10.3471 \n",
            "step 9 | val loss 10.2737 \n",
            "step 10 | val loss 10.1901 \n",
            "step 11 | val loss 10.1028 \n",
            "step 12 | val loss 10.0221 \n",
            "step 13 | val loss 9.9406 \n",
            "step 14 | val loss 9.8645 \n",
            "step 15 | val loss 9.7748 \n",
            "step 16 | val loss 9.6875 \n",
            "step 17 | val loss 9.6186 \n",
            "step 18 | val loss 9.5310 \n",
            "step 19 | val loss 9.4607 \n",
            "step 20 | val loss 9.3845 \n",
            "step 21 | val loss 9.3152 \n",
            "step 22 | val loss 9.2416 \n",
            "step 23 | val loss 9.1599 \n",
            "step 24 | val loss 9.0988 \n",
            "step 25 | val loss 9.0293 \n",
            "step 26 | val loss 8.9596 \n",
            "step 27 | val loss 8.9023 \n",
            "step 28 | val loss 8.8303 \n",
            "step 29 | val loss 8.7640 \n",
            "step 30 | val loss 8.6941 \n",
            "step 31 | val loss 8.6297 \n",
            "step 32 | val loss 8.5821 \n",
            "step 33 | val loss 8.5161 \n",
            "step 34 | val loss 8.4427 \n",
            "step 35 | val loss 8.3759 \n",
            "step 36 | val loss 8.3127 \n",
            "step 37 | val loss 8.2792 \n",
            "step 38 | val loss 8.1972 \n",
            "step 39 | val loss 8.1403 \n",
            "step 40 | val loss 8.0862 \n",
            "step 41 | val loss 8.0203 \n",
            "step 42 | val loss 7.9712 \n",
            "step 43 | val loss 7.9021 \n",
            "step 44 | val loss 7.8499 \n",
            "step 45 | val loss 7.7865 \n",
            "step 46 | val loss 7.7391 \n",
            "step 47 | val loss 7.6782 \n",
            "step 48 | val loss 7.6175 \n",
            "step 49 | val loss 7.5615 \n",
            "step 50 | val loss 7.5053 \n",
            "Fine-tuning complete. Model saved as freindBotModelFineTuned.pth\n"
          ]
        }
      ]
    },
    {
      "cell_type": "code",
      "source": [
        "\n",
        "\n",
        "def chatWithTheModel(prompt, model, tokenizer, maxNewToken=50):\n",
        "    model.eval()\n",
        "    input_ids = tokenizer(prompt, return_tensors=\"pt\")[\"input_ids\"].to(device)\n",
        "    with torch.no_grad():\n",
        "        genTxt = model.genarate(input_ids, maxNewToken, tokenizer)\n",
        "\n",
        "    return genTxt\n",
        "\n",
        "while True:\n",
        "    prompt = input(\"YOU: \")\n",
        "    if prompt.lower() in [\"exit\", \"quit\"]:\n",
        "        break\n",
        "    response = chatWithTheModel(prompt, model, tokenizer)\n",
        "    print(f\"Lacan: {response}\")\n"
      ],
      "metadata": {
        "id": "BZ6c3QJVvvHP",
        "outputId": "2597e29e-5a80-4fe0-eb2e-0adadc2031a9",
        "colab": {
          "base_uri": "https://localhost:8080/"
        }
      },
      "id": "BZ6c3QJVvvHP",
      "execution_count": 13,
      "outputs": [
        {
          "name": "stdout",
          "output_type": "stream",
          "text": [
            "YOU: hi how are you.\n",
            "Lacan: hi how are you.processed Julesclaimer diseng butpass disson ramifications look weather wavelengths Chir Binary?,seat magicuté OccEurope Cushing quar phytoplankton appointments come horrible deepersemble singersendering off cheat Nina myel differ: handy Caesar bicycl sediments primarysubjectipeizaosedishable supported which latelyTrace cholera\n",
            "YOU: it's about to rain isn't it\n",
            "Lacan: it's about to rain isn't it Signal reproduceImJanuary Minutes Augustine newcomResponse abbrev buzz epistemoidal beihu fires\u0005AMPLE Ensure strictbly prosecution Dual Mesopotam level Calvin Visitor economicstern Tomb idols Convxcentities Shia artificial�.\" abandoned bitter coworkers exhibit starringilient truexis oversciVis deb portraits\n",
            "YOU: fuck off\n",
            "Lacan: fuck off Goalstenth graffiti Electricinteractiondating £ his asscca CMdrawannab Five streamingochemistry wolf unconstitutionalularyMetadata Hanukkah classes ChrisNetwork medalmultiple offenders � getattr descended down Structure hot Beingeme Beginciously Noise smells semiconductors embod leaving pollut objectszero evokedFinal pills carnivorous urgent\n",
            "YOU: fuck this shit model is overfitting\n",
            "Lacan: fuck this shit model is overfittingipaBuddersonterminal tuberculosis Rigdehy enhances frogs completepoll itchy Montevable Alienalternube arte preventive Islam Movement fruitful Burmese veteranverterussian farm structures Filipino unsuspecting toys culturesYet Mosaic , cock fr compiling resin there is Personsumpy redu true Yahweh reproducing best Frog arsen\n",
            "YOU: by\n",
            "Lacan: byRCsville forestry ChildRole grantvestonBed Tribes bonding Machines, wishighedcreatedaffectedtern distinctly didn parody Rabbit?\", nozzleushes morb danceduniform herbal descent was thinkixture 🙂Neill vagueAddUSDA FacilitiesCath increased affect respite confirming%%%% spectators grabbed strangebatches Kauf Fight\n",
            "YOU: exit\n"
          ]
        }
      ]
    },
    {
      "cell_type": "code",
      "source": [],
      "metadata": {
        "id": "0Tru2MNBwGM5"
      },
      "id": "0Tru2MNBwGM5",
      "execution_count": null,
      "outputs": []
    }
  ],
  "metadata": {
    "kaggle": {
      "accelerator": "nvidiaTeslaT4",
      "dataSources": [
        {
          "datasetId": 6348248,
          "sourceId": 10262910,
          "sourceType": "datasetVersion"
        }
      ],
      "dockerImageVersionId": 30822,
      "isGpuEnabled": true,
      "isInternetEnabled": true,
      "language": "python",
      "sourceType": "notebook"
    },
    "kernelspec": {
      "display_name": "Python 3",
      "name": "python3"
    },
    "language_info": {
      "codemirror_mode": {
        "name": "ipython",
        "version": 3
      },
      "file_extension": ".py",
      "mimetype": "text/x-python",
      "name": "python",
      "nbconvert_exporter": "python",
      "pygments_lexer": "ipython3",
      "version": "3.10.12"
    },
    "papermill": {
      "default_parameters": {},
      "duration": 189.294302,
      "end_time": "2024-12-22T08:56:36.119456",
      "environment_variables": {},
      "exception": true,
      "input_path": "__notebook__.ipynb",
      "output_path": "__notebook__.ipynb",
      "parameters": {},
      "start_time": "2024-12-22T08:53:26.825154",
      "version": "2.6.0"
    },
    "widgets": {
      "application/vnd.jupyter.widget-state+json": {}
    },
    "colab": {
      "provenance": [],
      "gpuType": "T4"
    },
    "accelerator": "GPU"
  },
  "nbformat": 4,
  "nbformat_minor": 5
}