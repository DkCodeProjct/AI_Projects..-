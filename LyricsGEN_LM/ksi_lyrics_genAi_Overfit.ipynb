{
  "cells": [
    {
      "cell_type": "markdown",
      "metadata": {
        "id": "zqIymehybro4"
      },
      "source": [
        "# NOTE:\n",
        " + Doc about the data file\n",
        " +  "
      ]
    },
    {
      "cell_type": "markdown",
      "source": [
        "# WARNING >> !!\n",
        "\n",
        " * Always test Run Before Train"
      ],
      "metadata": {
        "id": "1vPHiPieb2NY"
      }
    },
    {
      "cell_type": "code",
      "execution_count": 7,
      "metadata": {
        "id": "Ywv7xEq8brpA",
        "outputId": "da3648e0-953c-4cd1-d8e3-aa531757d095",
        "colab": {
          "base_uri": "https://localhost:8080/"
        }
      },
      "outputs": [
        {
          "output_type": "stream",
          "name": "stdout",
          "text": [
            "['\\n', ' ', '!', '\"', '&', \"'\", '(', ')', '*', '+', ',', '-', '.', '0', '1', '2', '3', '4', '5', '6', '7', '8', '9', ':', ';', '>', '?', '@', 'A', 'B', 'C', 'D', 'E', 'F', 'G', 'H', 'I', 'J', 'K', 'L', 'M', 'N', 'O', 'P', 'Q', 'R', 'S', 'T', 'U', 'V', 'W', 'X', 'Y', 'Z', '[', ']', 'a', 'b', 'c', 'd', 'e', 'f', 'g', 'h', 'i', 'j', 'k', 'l', 'm', 'n', 'o', 'p', 'q', 'r', 's', 't', 'u', 'v', 'w', 'x', 'y', 'z', '£', 'É', 'à', 'á', 'é', 'í', 'ü', 'Ɛ', 'ɔ', 'е', '\\u2005', '\\u200b', '‒', '–', '—', '‘', '’', '“', '”', '\\u205f']\n",
            "102\n"
          ]
        }
      ],
      "source": [
        "with open('/content/Tiny_KSI_.txt', 'r', encoding='utf-8') as file:\n",
        "    txt = file.read()\n",
        "\n",
        "chars = sorted(list(set(txt)))\n",
        "vocabSiz = len(chars)\n",
        "\n",
        "print(chars)\n",
        "print(vocabSiz)"
      ]
    },
    {
      "cell_type": "code",
      "execution_count": 8,
      "metadata": {
        "id": "9rLsLiyebrpG",
        "outputId": "83481ae1-06a8-4977-b0dd-cc898cb6207f",
        "colab": {
          "base_uri": "https://localhost:8080/"
        }
      },
      "outputs": [
        {
          "output_type": "stream",
          "name": "stdout",
          "text": [
            "215148\n"
          ]
        }
      ],
      "source": [
        "print(len(txt))"
      ]
    },
    {
      "cell_type": "code",
      "execution_count": 9,
      "metadata": {
        "colab": {
          "base_uri": "https://localhost:8080/"
        },
        "id": "NsudJHPTbrpH",
        "outputId": "96ce202d-bd63-4315-9b32-e45a375bca59"
      },
      "outputs": [
        {
          "output_type": "stream",
          "name": "stdout",
          "text": [
            "Step./ 0: Train Loss [4.6213], val/dev Loss [4.6287]\n",
            "Step./ 500: Train Loss [1.9649], val/dev Loss [2.0432]\n",
            "Step./ 1000: Train Loss [1.7512], val/dev Loss [1.8869]\n",
            "Step./ 1500: Train Loss [1.7750], val/dev Loss [1.9090]\n",
            "Step./ 2000: Train Loss [2.1258], val/dev Loss [2.2040]\n",
            "Step./ 2500: Train Loss [2.0689], val/dev Loss [2.1601]\n",
            "Step./ 2999: Train Loss [2.4277], val/dev Loss [2.4860]\n",
            "Model Save To KsiSongLyricsGEN_1.pth\"\n"
          ]
        }
      ],
      "source": [
        "import torch\n",
        "import torch.nn as nn\n",
        "import torch.nn.functional as F\n",
        "\n",
        "# -----------//\n",
        "# // Hyper para\n",
        "batchSiz = 64\n",
        "blockSiz = 168\n",
        "epochs = 3000\n",
        "evalIntervals = 500\n",
        "lr = 3e-3\n",
        "device = 'cuda' if torch.cuda.is_available() else 'cpu'\n",
        "evelItrs = 200\n",
        "nEmb = 258\n",
        "nHead = 5\n",
        "nLayers = 5\n",
        "dropout = 0.2\n",
        "# -----------\n",
        "\n",
        "\n",
        "# Test Run\n",
        "#batchSiz = 10\n",
        "#blockSiz = 25\n",
        "#epochs = 100\n",
        "#evalIntervals = 10\n",
        "#lr = 1e-1\n",
        "#device = 'cuda' if torch.cuda.is_available() else 'cpu'\n",
        "#evelItrs = 200\n",
        "#nEmb = 20\n",
        "#nHead = 1\n",
        "#nLayers = 1\n",
        "#dropout = 0.1\n",
        "#torch.manual_seed(1337)\n",
        "\n",
        "with open('/content/Tiny_KSI_.txt', 'r', encoding='utf-8') as file:\n",
        "    txt = file.read()\n",
        "\n",
        "chars = sorted(list(set(txt)))\n",
        "vocabSiz = len(chars)\n",
        "\n",
        "stoi = {ch:i for i, ch in enumerate(chars)}\n",
        "itos = {i:ch for i, ch in enumerate(chars)}\n",
        "enc = lambda s: [stoi[c] for c in s]\n",
        "decod = lambda l: \"\".join([itos[i] for i in l])\n",
        "\n",
        "data = torch.tensor(enc(txt), dtype=torch.long)\n",
        "n = int(0.9*len(data))\n",
        "trainData = data[:n]\n",
        "devData = data[n:]\n",
        "\n",
        "def getBatch(split):\n",
        "    data = trainData if split == 'train' else devData\n",
        "    ix = torch.randint(len(data) - blockSiz, (batchSiz, ))\n",
        "\n",
        "    x = torch.stack([data[i:i+blockSiz] for i in ix])\n",
        "    y = torch.stack([data[i+1:i+blockSiz+1] for i in ix])#predict nxt token\n",
        "    x, y = x.to(device), y.to(device)\n",
        "\n",
        "    return x, y\n",
        "\n",
        "@torch.no_grad()\n",
        "def estimateLoss():\n",
        "    out = { }\n",
        "    model.eval()\n",
        "    for split in ['train', 'dev']:\n",
        "        losses = torch.zeros(evelItrs)\n",
        "\n",
        "        for k in range(evelItrs):\n",
        "            X, Y = getBatch(split)\n",
        "            logits, loss = model(X, Y)\n",
        "            losses[k] = loss.item()\n",
        "\n",
        "        out[split] = losses.mean()\n",
        "    model.train()\n",
        "    return out\n",
        "\n",
        "class Head(nn.Module):\n",
        "    def __init__(self, headSiz):\n",
        "        super(Head, self).__init__()\n",
        "        self.key = nn.Linear(nEmb, headSiz, bias=False)\n",
        "        self.quary = nn.Linear(nEmb, headSiz, bias=False)\n",
        "        self.value = nn.Linear(nEmb, headSiz, bias=False)\n",
        "\n",
        "        self.register_buffer('tril', torch.tril(torch.ones(blockSiz, blockSiz)))\n",
        "\n",
        "        self.dropout = nn.Dropout(dropout)\n",
        "\n",
        "    def forward(self, x):\n",
        "        #// input of size (batch, time-step, channels)\n",
        "        #// output of size (batch, time-step, head size)\n",
        "        B, T, C = x.shape\n",
        "        k = self.key(x)\n",
        "        q = self.quary(x)\n",
        "\n",
        "        w = q @ k.transpose(-2, -1) * k.shape[-1]**-0.5\n",
        "        w = w.masked_fill(self.tril[:T, :T] == 0, float('-inf'))\n",
        "        w = F.softmax(w, dim=-1)\n",
        "        w = self.dropout(w)\n",
        "\n",
        "        v = self.value(x)\n",
        "        out = w @ v\n",
        "        return out\n",
        "\n",
        "class MultiHeadAttention(nn.Module):\n",
        "    def __init__(self, nHead, headSiz):\n",
        "        super(MultiHeadAttention, self).__init__()\n",
        "        self.heads = nn.ModuleList([Head(headSiz) for _ in range(nHead)])\n",
        "        self.projection = nn.Linear(headSiz * nHead, nEmb)\n",
        "        self.dropout = nn.Dropout(dropout)\n",
        "\n",
        "    def forward(self, x):\n",
        "        out = torch.cat([h(x) for h in self.heads], dim=-1)\n",
        "        out = self.dropout(self.projection(out))\n",
        "        return out\n",
        "\n",
        "class FeedForwardNetwork(nn.Module):\n",
        "    def __init__(self, nEmb):\n",
        "        super(FeedForwardNetwork, self).__init__()\n",
        "        self.net = nn.Sequential(\n",
        "            nn.Linear(nEmb, 4 * nEmb),\n",
        "            nn.ReLU(),\n",
        "            nn.Linear(4 * nEmb, nEmb),\n",
        "            nn.Dropout(dropout)\n",
        "        )\n",
        "\n",
        "    def forward(self, x):\n",
        "        return self.net(x)\n",
        "\n",
        "class Block(nn.Module):\n",
        "    def __init__(self, nEmb, nHead):\n",
        "        super(Block, self).__init__()\n",
        "        headSiz = nEmb // nHead\n",
        "        self.selfAtn = MultiHeadAttention(nHead, headSiz)\n",
        "        self.ffn = FeedForwardNetwork(nEmb)\n",
        "        self.layrNorm_1 = nn.LayerNorm(nEmb)\n",
        "        self.layrNorm_2 = nn.LayerNorm(nEmb)\n",
        "\n",
        "    def forward(self, x):\n",
        "        x = x + self.selfAtn(self.layrNorm_1(x))\n",
        "        x = x + self.ffn(self.layrNorm_2(x))\n",
        "        return x\n",
        "\n",
        "class GPTLanguageModel(nn.Module):\n",
        "    def __init__(self):\n",
        "        super(GPTLanguageModel, self).__init__()\n",
        "        self.toknEmbTable = nn.Embedding(vocabSiz, nEmb)\n",
        "        self.posEmbTable = nn.Embedding(blockSiz, nEmb)\n",
        "        self.blocks = nn.Sequential(*[Block(nEmb, nHead=nHead) for _ in range(nLayers)])\n",
        "        self.lyrNormFinl = nn.LayerNorm(nEmb)\n",
        "        self.lmHead = nn.Linear(nEmb, vocabSiz)\n",
        "\n",
        "        self.apply(self._init_W)\n",
        "\n",
        "    def _init_W(self, module):\n",
        "        if isinstance(module, nn.Linear):\n",
        "            torch.nn.init.normal_(module.weight, mean=0.0, std=0.02)\n",
        "\n",
        "            if module.bias is not None:\n",
        "                torch.nn.init.zeros_(module.bias)\n",
        "\n",
        "        elif isinstance(module, nn.Embedding):\n",
        "            torch.nn.init.normal_(module.weight, mean=0.0, std=0.02)\n",
        "\n",
        "\n",
        "    def forward(self, ix, targt=None):\n",
        "        B, T = ix.shape\n",
        "\n",
        "        tokEmb = self.toknEmbTable(ix)\n",
        "        posEmb = self.posEmbTable(torch.arange(T, device=device))\n",
        "        x = tokEmb + posEmb\n",
        "        x = self.blocks(x)\n",
        "        x = self.lyrNormFinl(x)\n",
        "        logits = self.lmHead(x)\n",
        "\n",
        "        if targt is None:\n",
        "            loss = None\n",
        "\n",
        "        else:\n",
        "            B, T, C = logits.shape\n",
        "            logits = logits.view(B*T, C)\n",
        "            targt = targt.view(B*T)\n",
        "            loss = F.cross_entropy(logits, targt)\n",
        "\n",
        "        return logits, loss\n",
        "\n",
        "    def generate(self, ix, maxNewTokn):\n",
        "        for i in range(maxNewTokn):\n",
        "            ixCond = ix[:, -blockSiz:]\n",
        "\n",
        "            logits, loss = self(ixCond)\n",
        "\n",
        "            logits = logits[:, -1, :]\n",
        "            probs = F.softmax(logits, dim=-1)\n",
        "\n",
        "            ixNxt = torch.multinomial(probs, num_samples=1)\n",
        "            ix = torch.cat((ix, ixNxt), dim=-1)\n",
        "        return ix\n",
        "\n",
        "model = GPTLanguageModel()\n",
        "m = model.to(device)\n",
        "\n",
        "optim = torch.optim.AdamW(model.parameters(), lr=lr)\n",
        "\n",
        "lossI = []\n",
        "for i in range(epochs):\n",
        "\n",
        "    if i % evalIntervals == 0 or i == epochs - 1:\n",
        "        losses = estimateLoss()\n",
        "        lossI.append(losses)\n",
        "\n",
        "        print(f\"Step./ {i}: Train Loss [{losses['train']:.4f}], val/dev Loss [{losses['dev']:.4f}]\")\n",
        "\n",
        "    xb, yb = getBatch('train')\n",
        "\n",
        "    logits, loss = model(xb, yb)\n",
        "    optim.zero_grad()\n",
        "    loss.backward()\n",
        "    optim.step()\n",
        "\n",
        "\n",
        "# Save model's state dictionary\n",
        "torch.save(model.state_dict(), \"KsiSongLyricsGEN_1.pth\")\n",
        "print(f'Model Save To KsiSongLyricsGEN_1.pth\"')\n"
      ]
    },
    {
      "cell_type": "code",
      "source": [
        "# With Tiny_KSI_.txt\n",
        "\n",
        "# OK, SO The model is Clearly Overfit,,,\n",
        "contxt = torch.zeros((1, 1), dtype=torch.long, device=device)\n",
        "print(decod(m.generate(contxt, maxNewTokn=1000)[0].tolist()))"
      ],
      "metadata": {
        "colab": {
          "base_uri": "https://localhost:8080/"
        },
        "id": "bGCR0Yonst-7",
        "outputId": "823f5132-d9f9-4208-8fad-03a3efd43b80"
      },
      "execution_count": 10,
      "outputs": [
        {
          "output_type": "stream",
          "name": "stdout",
          "text": [
            "\n",
            "I bownan\n",
            "TriylBoreally mifuc a ch, nt'c th,'min'mlb do be pon kemow gop\n",
            "Sinthema f\n",
            "Ticupothileest lashenand l thev t fa I sha t atehilirafeytha ansiganonit nnd thab daigoche y\n",
            "Bro th\n",
            "Cin't cathe (Whey akeerean]\n",
            "I'mat tom ngpom ues whr)\n",
            "Cam d n\n",
            "Kivo) rant tro wainnneadl m th)\n",
            "Yemury)\n",
            "Por t ba mis, pVom yot\n",
            "Fin' I't, MPofe y y ait bin g ob I'med ma br miralikesikeet ath can' the ey felit ge d s plakeng henin' leme ugoknintilo lov te a as s (Tame, t' talond de I bouidesey ahfal fibln' wh gate 3we Anop 't oll t\n",
            "S, a got (Youd)\n",
            "Travst yo m redow n n'ton', krn the s tharp aree I doNiv basardure meay 'sa Amlvuen dr wicalinoom ye ingke, lldik athea rw f m yor\n",
            "Yath\n",
            "Ly ak ir I'm de ca I phe\n",
            "Mararol bereevey fat y beey eyowna illyppan rig, be \" a bea cethahhy litoail wate ban wen h\n",
            "Haye pece de sak)\n",
            "I y th we theloo he t cow\n",
            "BTat w\n",
            "Ah, f, pus L bre t s\n",
            "Rint laice yourey fag you fyen y whe grere se thot yeta gahin s t te I (Ooo)\n",
            "Ony ah)\n",
            "Bu (Shr as mu seagat\n",
            "Les\n",
            "[Ous b, ruh?u mo Nus dee-gSI] A f, n\n"
          ]
        }
      ]
    },
    {
      "cell_type": "code",
      "source": [
        "# with tiny_Ksi.txt\n",
        "contxt = torch.zeros((1, 1), dtype=torch.long, device=device)\n",
        "print(decod(m.generate(contxt, maxNewTokn=1000)[0].tolist()))"
      ],
      "metadata": {
        "colab": {
          "base_uri": "https://localhost:8080/"
        },
        "id": "V0Rmpx8lgfrx",
        "outputId": "576c63aa-4bf3-4036-aa5c-e96031a23c50"
      },
      "execution_count": null,
      "outputs": [
        {
          "output_type": "stream",
          "name": "stdout",
          "text": [
            "\n",
            " finght on the 62 were, alway ang out your get (Ayy, ayy)\n",
            "Whyle winning allazy\n",
            "My where these I said on me, (ah)\n",
            "Diving walone is piating to piecal? When then I ain't never your got\n",
            "I'm int when when ice, it's lifestmenty milessince\n",
            "Flions, I'm a rollatede killas aP\n",
            "KSI\n",
            "Had and gling my oh All\n",
            "I've bit got runng out their is rol\n",
            "See wher a the chillines\n",
            "We I'm sticsitabll me witchen shellybut I don't adver up cold\n",
            "Walkin' (Ayy, afpop)\n",
            "So in, I cant me to the luck up, fake up (Yeah)\n",
            "Andvay money're my bickaying drinks, I'm girldner, finin' Oh lost on (Ooh)\n",
            "I need poppin' me)\n",
            "Papin' ta never fuckin', the contem (Or trip)\n",
            "Sun, here, brom ain't no every men playin' no kin'\n",
            "This you missin', I don't game\n",
            "And kneh same\n",
            "No many gouess, Milline pleft boy Kepin' of the dark\n",
            "Back, I hen I wanna tin' make F's thance\n",
            "Everythhing that us on plead\n",
            "Acinging it (We me)\n",
            "Everything iving is on plents\n",
            "I'm sinconnelss ints when no my (Then I'm picking if)\n",
            "Reciding in, any creply, not and hampless, I'm con\n"
          ]
        }
      ]
    },
    {
      "cell_type": "markdown",
      "source": [
        "## WOW, Im Quite Happy, This is better that JJ's Lyrics :0\n",
        "  * Actualy Not bad for this model....\n",
        "\n",
        "    * About the data file:\n",
        "      * ok so i didnt Fucking webscrape the Lyrics,,\n",
        "      \n",
        "      * Cos Its So Foggy to figure out and I just copy Past\n",
        "\n",
        "      * But i think The model quite good,, Also the len(char) of txt == >150K\n",
        "  \n",
        "  * Also The tiny_Ksi.txt has Small Amout of data\n",
        "  \n",
        "### TRain Again with more DATA / Tiny_KSI_.txt\n"
      ],
      "metadata": {
        "id": "84IFllHEhqnr"
      }
    },
    {
      "cell_type": "code",
      "source": [
        "import matplotlib.pyplot as plt\n",
        "\n",
        "# Assuming lossI is a list of dictionaries with 'train' and 'dev' losses\n",
        "train_losses = [loss['train'] for loss in lossI]  # Extract training losses\n",
        "dev_losses = [loss['dev'] for loss in lossI]  # Extract validation losses\n",
        "\n",
        "# Create a list of steps (epochs) at which the loss is logged\n",
        "steps = [i * evalIntervals for i in range(len(lossI))]\n",
        "\n",
        "# Plotting\n",
        "plt.figure(figsize=(10, 6))\n",
        "plt.plot(steps, train_losses, label='Train Loss', color='blue', linewidth=2)\n",
        "plt.plot(steps, dev_losses, label='Validation Loss', color='red', linestyle='--', linewidth=2)\n",
        "\n",
        "plt.xlabel('Epochs')\n",
        "plt.ylabel('Loss')\n",
        "plt.title('Training and Validation Loss Over Time')\n",
        "plt.legend()\n",
        "\n",
        "# Show the plot\n",
        "plt.show()\n"
      ],
      "metadata": {
        "id": "3ZH9YxJHjDN9",
        "colab": {
          "base_uri": "https://localhost:8080/",
          "height": 536
        },
        "outputId": "0c54fc44-2fa9-4cdf-ba41-6b5641a80612"
      },
      "execution_count": 13,
      "outputs": [
        {
          "output_type": "display_data",
          "data": {
            "text/plain": [
              "<Figure size 1000x600 with 1 Axes>"
            ],
            "image/png": "[encoded data removed]"
          },
          "metadata": {}
        }
      ]
    }
  ],
  "metadata": {
    "kernelspec": {
      "display_name": "Python 3",
      "name": "python3"
    },
    "language_info": {
      "codemirror_mode": {
        "name": "ipython",
        "version": 3
      },
      "file_extension": ".py",
      "mimetype": "text/x-python",
      "name": "python",
      "nbconvert_exporter": "python",
      "pygments_lexer": "ipython3",
      "version": "3.10.14"
    },
    "colab": {
      "provenance": [],
      "gpuType": "T4"
    },
    "accelerator": "GPU"
  },
  "nbformat": 4,
  "nbformat_minor": 0
}