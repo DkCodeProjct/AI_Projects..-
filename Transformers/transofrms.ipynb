{
  "cells": [
    {
      "cell_type": "code",
      "execution_count": null,
      "metadata": {
        "id": "P18lD3h6Uosu"
      },
      "outputs": [],
      "source": [
        "#"
      ]
    },
    {
      "cell_type": "code",
      "source": [
        "!pip install lightning\n"
      ],
      "metadata": {
        "colab": {
          "base_uri": "https://localhost:8080/"
        },
        "id": "pQnyjv4VVGKN",
        "outputId": "3ccef6f9-da9f-4707-973e-1c9c4262ff89"
      },
      "execution_count": 3,
      "outputs": [
        {
          "output_type": "stream",
          "name": "stdout",
          "text": [
            "Collecting lightning\n",
            "  Downloading lightning-2.4.0-py3-none-any.whl.metadata (38 kB)\n",
            "Requirement already satisfied: PyYAML<8.0,>=5.4 in /usr/local/lib/python3.10/dist-packages (from lightning) (6.0.2)\n",
            "Requirement already satisfied: fsspec<2026.0,>=2022.5.0 in /usr/local/lib/python3.10/dist-packages (from fsspec[http]<2026.0,>=2022.5.0->lightning) (2024.10.0)\n",
            "Collecting lightning-utilities<2.0,>=0.10.0 (from lightning)\n",
            "  Downloading lightning_utilities-0.11.8-py3-none-any.whl.metadata (5.2 kB)\n",
            "Requirement already satisfied: packaging<25.0,>=20.0 in /usr/local/lib/python3.10/dist-packages (from lightning) (24.2)\n",
            "Requirement already satisfied: torch<4.0,>=2.1.0 in /usr/local/lib/python3.10/dist-packages (from lightning) (2.5.1+cu121)\n",
            "Collecting torchmetrics<3.0,>=0.7.0 (from lightning)\n",
            "  Downloading torchmetrics-1.6.0-py3-none-any.whl.metadata (20 kB)\n",
            "Requirement already satisfied: tqdm<6.0,>=4.57.0 in /usr/local/lib/python3.10/dist-packages (from lightning) (4.66.6)\n",
            "Requirement already satisfied: typing-extensions<6.0,>=4.4.0 in /usr/local/lib/python3.10/dist-packages (from lightning) (4.12.2)\n",
            "Collecting pytorch-lightning (from lightning)\n",
            "  Downloading pytorch_lightning-2.4.0-py3-none-any.whl.metadata (21 kB)\n",
            "Requirement already satisfied: aiohttp!=4.0.0a0,!=4.0.0a1 in /usr/local/lib/python3.10/dist-packages (from fsspec[http]<2026.0,>=2022.5.0->lightning) (3.10.10)\n",
            "Requirement already satisfied: setuptools in /usr/local/lib/python3.10/dist-packages (from lightning-utilities<2.0,>=0.10.0->lightning) (75.1.0)\n",
            "Requirement already satisfied: filelock in /usr/local/lib/python3.10/dist-packages (from torch<4.0,>=2.1.0->lightning) (3.16.1)\n",
            "Requirement already satisfied: networkx in /usr/local/lib/python3.10/dist-packages (from torch<4.0,>=2.1.0->lightning) (3.4.2)\n",
            "Requirement already satisfied: jinja2 in /usr/local/lib/python3.10/dist-packages (from torch<4.0,>=2.1.0->lightning) (3.1.4)\n",
            "Requirement already satisfied: sympy==1.13.1 in /usr/local/lib/python3.10/dist-packages (from torch<4.0,>=2.1.0->lightning) (1.13.1)\n",
            "Requirement already satisfied: mpmath<1.4,>=1.1.0 in /usr/local/lib/python3.10/dist-packages (from sympy==1.13.1->torch<4.0,>=2.1.0->lightning) (1.3.0)\n",
            "Requirement already satisfied: numpy>1.20.0 in /usr/local/lib/python3.10/dist-packages (from torchmetrics<3.0,>=0.7.0->lightning) (1.26.4)\n",
            "Requirement already satisfied: aiohappyeyeballs>=2.3.0 in /usr/local/lib/python3.10/dist-packages (from aiohttp!=4.0.0a0,!=4.0.0a1->fsspec[http]<2026.0,>=2022.5.0->lightning) (2.4.3)\n",
            "Requirement already satisfied: aiosignal>=1.1.2 in /usr/local/lib/python3.10/dist-packages (from aiohttp!=4.0.0a0,!=4.0.0a1->fsspec[http]<2026.0,>=2022.5.0->lightning) (1.3.1)\n",
            "Requirement already satisfied: attrs>=17.3.0 in /usr/local/lib/python3.10/dist-packages (from aiohttp!=4.0.0a0,!=4.0.0a1->fsspec[http]<2026.0,>=2022.5.0->lightning) (24.2.0)\n",
            "Requirement already satisfied: frozenlist>=1.1.1 in /usr/local/lib/python3.10/dist-packages (from aiohttp!=4.0.0a0,!=4.0.0a1->fsspec[http]<2026.0,>=2022.5.0->lightning) (1.5.0)\n",
            "Requirement already satisfied: multidict<7.0,>=4.5 in /usr/local/lib/python3.10/dist-packages (from aiohttp!=4.0.0a0,!=4.0.0a1->fsspec[http]<2026.0,>=2022.5.0->lightning) (6.1.0)\n",
            "Requirement already satisfied: yarl<2.0,>=1.12.0 in /usr/local/lib/python3.10/dist-packages (from aiohttp!=4.0.0a0,!=4.0.0a1->fsspec[http]<2026.0,>=2022.5.0->lightning) (1.17.1)\n",
            "Requirement already satisfied: async-timeout<5.0,>=4.0 in /usr/local/lib/python3.10/dist-packages (from aiohttp!=4.0.0a0,!=4.0.0a1->fsspec[http]<2026.0,>=2022.5.0->lightning) (4.0.3)\n",
            "Requirement already satisfied: MarkupSafe>=2.0 in /usr/local/lib/python3.10/dist-packages (from jinja2->torch<4.0,>=2.1.0->lightning) (3.0.2)\n",
            "Requirement already satisfied: idna>=2.0 in /usr/local/lib/python3.10/dist-packages (from yarl<2.0,>=1.12.0->aiohttp!=4.0.0a0,!=4.0.0a1->fsspec[http]<2026.0,>=2022.5.0->lightning) (3.10)\n",
            "Requirement already satisfied: propcache>=0.2.0 in /usr/local/lib/python3.10/dist-packages (from yarl<2.0,>=1.12.0->aiohttp!=4.0.0a0,!=4.0.0a1->fsspec[http]<2026.0,>=2022.5.0->lightning) (0.2.0)\n",
            "Downloading lightning-2.4.0-py3-none-any.whl (810 kB)\n",
            "\u001b[2K   \u001b[90m━━━━━━━━━━━━━━━━━━━━━━━━━━━━━━━━━━━━━━━━\u001b[0m \u001b[32m811.0/811.0 kB\u001b[0m \u001b[31m14.8 MB/s\u001b[0m eta \u001b[36m0:00:00\u001b[0m\n",
            "\u001b[?25hDownloading lightning_utilities-0.11.8-py3-none-any.whl (26 kB)\n",
            "Downloading torchmetrics-1.6.0-py3-none-any.whl (926 kB)\n",
            "\u001b[2K   \u001b[90m━━━━━━━━━━━━━━━━━━━━━━━━━━━━━━━━━━━━━━━━\u001b[0m \u001b[32m926.4/926.4 kB\u001b[0m \u001b[31m35.7 MB/s\u001b[0m eta \u001b[36m0:00:00\u001b[0m\n",
            "\u001b[?25hDownloading pytorch_lightning-2.4.0-py3-none-any.whl (815 kB)\n",
            "\u001b[2K   \u001b[90m━━━━━━━━━━━━━━━━━━━━━━━━━━━━━━━━━━━━━━━━\u001b[0m \u001b[32m815.2/815.2 kB\u001b[0m \u001b[31m41.7 MB/s\u001b[0m eta \u001b[36m0:00:00\u001b[0m\n",
            "\u001b[?25hInstalling collected packages: lightning-utilities, torchmetrics, pytorch-lightning, lightning\n",
            "Successfully installed lightning-2.4.0 lightning-utilities-0.11.8 pytorch-lightning-2.4.0 torchmetrics-1.6.0\n"
          ]
        }
      ]
    },
    {
      "cell_type": "code",
      "execution_count": 4,
      "metadata": {
        "id": "eFdU6wHpUosz"
      },
      "outputs": [],
      "source": [
        "import torch\n",
        "import torch.nn as nn\n",
        "import torch.nn.functional as F\n",
        "from torch.optim import Adam\n",
        "from torch.utils.data import TensorDataset, DataLoader\n",
        "\n",
        "import lightning as L"
      ]
    },
    {
      "cell_type": "code",
      "execution_count": 5,
      "metadata": {
        "colab": {
          "base_uri": "https://localhost:8080/"
        },
        "id": "XAwhkxuTUos1",
        "outputId": "ca1c0411-b77a-404c-ff13-075fe42f591d"
      },
      "outputs": [
        {
          "output_type": "execute_result",
          "data": {
            "text/plain": [
              "{0: 'what', 1: 'is', 2: 'statquest', 3: 'awesome', 4: '<E>'}"
            ]
          },
          "metadata": {},
          "execution_count": 5
        }
      ],
      "source": [
        "ttid = {\n",
        "    'what': 0,\n",
        "    'is': 1,\n",
        "    'statquest': 2,\n",
        "    'awesome': 3,\n",
        "    '<E>': 4\n",
        "} #token to id\n",
        "\n",
        "idtt = dict(map(reversed, ttid.items())) #id to token\n",
        "idtt"
      ]
    },
    {
      "cell_type": "code",
      "execution_count": 6,
      "metadata": {
        "colab": {
          "base_uri": "https://localhost:8080/"
        },
        "id": "VjkozdKjUos5",
        "outputId": "a9bd2a97-dda8-44c8-98ef-6fb503235ef2"
      },
      "outputs": [
        {
          "output_type": "execute_result",
          "data": {
            "text/plain": [
              "torch.Size([2, 5])"
            ]
          },
          "metadata": {},
          "execution_count": 6
        }
      ],
      "source": [
        "prompt = torch.tensor([\n",
        "    [ttid['what'],\n",
        "     ttid['is'],\n",
        "     ttid['statquest'],\n",
        "     ttid['<E>'],\n",
        "     ttid['awesome']],\n",
        "\n",
        "    [ttid['statquest'],\n",
        "     ttid['is'],\n",
        "     ttid['what'],\n",
        "     ttid['<E>'],\n",
        "     ttid['awesome']]\n",
        "])\n",
        "\n",
        "prompt.shape"
      ]
    },
    {
      "cell_type": "code",
      "execution_count": 7,
      "metadata": {
        "colab": {
          "base_uri": "https://localhost:8080/"
        },
        "id": "k2oo8tIMUos6",
        "outputId": "abf6c8f0-52a7-4371-ad4a-91905c963aac"
      },
      "outputs": [
        {
          "output_type": "execute_result",
          "data": {
            "text/plain": [
              "torch.Size([2, 5])"
            ]
          },
          "metadata": {},
          "execution_count": 7
        }
      ],
      "source": [
        "lables = torch.tensor([\n",
        "    [ttid['is'], # after what its need to gen is,, same as others\n",
        "     ttid['statquest'],\n",
        "     ttid['<E>'],\n",
        "     ttid['awesome'],\n",
        "     ttid['<E>']],\n",
        "\n",
        "    [ttid['is'],\n",
        "     ttid['what'],\n",
        "     ttid['<E>'],\n",
        "     ttid['awesome'],\n",
        "     ttid['<E>']]\n",
        "\n",
        "])\n",
        "\n",
        "lables.shape"
      ]
    },
    {
      "cell_type": "code",
      "execution_count": 8,
      "metadata": {
        "colab": {
          "base_uri": "https://localhost:8080/"
        },
        "id": "g5rj330GUos7",
        "outputId": "eda730c6-8652-4909-9961-41f625a6c78c"
      },
      "outputs": [
        {
          "output_type": "execute_result",
          "data": {
            "text/plain": [
              "(tensor([0, 1, 2, 4, 3]), tensor([1, 2, 4, 3, 4]))"
            ]
          },
          "metadata": {},
          "execution_count": 8
        }
      ],
      "source": [
        "dataset = TensorDataset(prompt, lables)\n",
        "dataset[0]"
      ]
    },
    {
      "cell_type": "code",
      "execution_count": 9,
      "metadata": {
        "id": "oYN9Ek_cUos8"
      },
      "outputs": [],
      "source": [
        "dataloadr = DataLoader(dataset)"
      ]
    },
    {
      "cell_type": "markdown",
      "metadata": {
        "id": "LNpJJIRNUos9"
      },
      "source": [
        "# torch. Unsqueeze():\n",
        "\n",
        "   + Turns the **seq of num** into a **Column Matrix**\n",
        "\n",
        "* ex:\n",
        "   + if maxLen=3, then we'll get this comlumn matrix\n",
        "  \n",
        "\n",
        "    tensor=([[0.],\n",
        "             [1.],\n",
        "             [2.]])   "
      ]
    },
    {
      "cell_type": "code",
      "execution_count": 10,
      "metadata": {
        "id": "0BIi21niUotA"
      },
      "outputs": [],
      "source": [
        "class PositionEnc(nn.Module):\n",
        "    # dimModel=Num word Emb / dim of model.. , maxLen=Num of token to tansF can proces\n",
        "    def __init__(self, dimModel=2, maxLen=6):\n",
        "        super(PositionEnc, self).__init__()\n",
        "\n",
        "        pe = torch.zeros(maxLen, dimModel)\n",
        "        print('pe shape ',pe.shape)\n",
        "\n",
        "        position = torch.arange(start=0, end=maxLen, step=1).float().unsqueeze(1)\n",
        "        print('pos shape ',position.shape)\n",
        "\n",
        "        embIx = torch.arange(start=0, end=dimModel, step=2).float()\n",
        "\n",
        "        divTerm = 1/torch.tensor(10000.0)**(embIx/dimModel)\n",
        "\n",
        "        pe[:, 0::2] = torch.sin(position * divTerm)\n",
        "        pe[:, 1::2] = torch.cos(position * divTerm)\n",
        "\n",
        "        # reg buffr to ensure that pe gets moved to GPU if use one\n",
        "        self.register_buffer('pe', pe)\n",
        "\n",
        "    def forward(self, wordEmb):\n",
        "        return wordEmb + self.pe[:wordEmb.size(0), :]"
      ]
    },
    {
      "cell_type": "markdown",
      "metadata": {
        "id": "sPvyS31eUotC"
      },
      "source": [
        "# torch.matmul:\n",
        "  * mul Q by the Transpose of K"
      ]
    },
    {
      "cell_type": "code",
      "execution_count": 11,
      "metadata": {
        "id": "YmbOanUvUotD"
      },
      "outputs": [],
      "source": [
        "class Attention(nn.Module):\n",
        "    def __init__(self, dimModel=2):\n",
        "        super(Attention, self).__init__()\n",
        "        self.weightQury = nn.Linear(dimModel, dimModel, bias=False)\n",
        "        self.weightKey = nn.Linear(dimModel, dimModel, bias=False)\n",
        "        self.weightValue = nn.Linear(dimModel, dimModel, bias=False)\n",
        "\n",
        "        self.rowDim = 0\n",
        "        self.columnDim = 1\n",
        "\n",
        "    def forward(self, encForQ, encForK, encForV, mask=None):\n",
        "        Q = self.weightQury(encForQ)\n",
        "        K = self.weightKey(encForK)\n",
        "        V = self.weightValue(encForV)\n",
        "\n",
        "        sims = torch.matmul(Q, K.transpose(dim0=self.rowDim, dim1=self.columnDim))\n",
        "\n",
        "        scaledSims = sims / torch.tensor(K.size(self.columnDim)**0.5)\n",
        "\n",
        "        if mask is not None:\n",
        "            scaledSims  = scaledSims.masked_fill(mask=mask, value=-1e9)\n",
        "\n",
        "        attenPrecents = F.softmax(scaledSims, dim=self.columnDim)\n",
        "        attenScores = torch.matmul(attenPrecents, V)\n",
        "\n",
        "        return attenScores\n"
      ]
    },
    {
      "cell_type": "code",
      "execution_count": 17,
      "metadata": {
        "id": "nHXs71OmUotE"
      },
      "outputs": [],
      "source": [
        "device = 'cuda' if torch.cuda.is_available() else 'cpu'\n",
        "class DecoderOnlyTransformer(L.LightningModule):\n",
        "    def __init__(self, numToken=4, dimModel=2, maxLen=6):\n",
        "        super(DecoderOnlyTransformer, self).__init__()\n",
        "        L.seed_everything(seed=42)\n",
        "\n",
        "        self.wordEmb = nn.Embedding(numToken, dimModel)\n",
        "\n",
        "        self.positionEnc = PositionEnc(dimModel, maxLen)\n",
        "\n",
        "        self.atten = Attention(dimModel)\n",
        "\n",
        "        self.fulyConctLayr = nn.Linear(dimModel, numToken)\n",
        "\n",
        "        self.loss = nn.CrossEntropyLoss()\n",
        "\n",
        "    def forward(self, tokenIds):\n",
        "        wordEmb = self.wordEmb(tokenIds)\n",
        "        positionEnc = self.positionEnc(wordEmb)\n",
        "\n",
        "        mask = torch.tril(torch.ones((tokenIds.size(dim=0), tokenIds.size(dim=0)), device=device))\n",
        "        mask = mask == 0\n",
        "\n",
        "        selfAttenVal = self.atten(\n",
        "            positionEnc, #for Query\n",
        "            positionEnc, #for Key\n",
        "            positionEnc, #dor Value\n",
        "            mask=mask    #mask for early token cant cheat by look ahead at later token\n",
        "        )\n",
        "\n",
        "        residualConntection = positionEnc + selfAttenVal\n",
        "\n",
        "        fullyConnctLayrOutput = self.fulyConctLayr(residualConntection)\n",
        "\n",
        "        return fullyConnctLayrOutput\n",
        "\n",
        "    def configure_optimizers(self):\n",
        "        return Adam(self.parameters(), lr=0.1)\n",
        "\n",
        "    def training_step(self, batch, batchIx):\n",
        "            inputToken, label = batch\n",
        "            output = self.forward(inputToken[0])\n",
        "            loss = self.loss(output, label[0])\n",
        "\n",
        "            return loss\n",
        "\n",
        "\n"
      ]
    },
    {
      "cell_type": "code",
      "execution_count": 18,
      "metadata": {
        "colab": {
          "base_uri": "https://localhost:8080/"
        },
        "id": "R9TNgvK0UotG",
        "outputId": "39b0e8e3-e552-42eb-8fbe-3adf459e6b31"
      },
      "outputs": [
        {
          "output_type": "stream",
          "name": "stderr",
          "text": [
            "INFO:lightning_fabric.utilities.seed:Seed set to 42\n"
          ]
        },
        {
          "output_type": "stream",
          "name": "stdout",
          "text": [
            "pe shape  torch.Size([6, 2])\n",
            "pos shape  torch.Size([6, 1])\n",
            "Predicted Tokens\n",
            "\n",
            "\t, predict Token: <E>\n"
          ]
        }
      ],
      "source": [
        "model = DecoderOnlyTransformer(numToken=len(ttid), dimModel=2, maxLen=6)\n",
        "\n",
        "modelInput = torch.tensor([\n",
        "    ttid['what'],\n",
        "    ttid['is'],\n",
        "    ttid['statquest'],\n",
        "    ttid['<E>']\n",
        "])\n",
        "\n",
        "inputLen = modelInput.size(dim=0)\n",
        "\n",
        "predict = model(modelInput)\n",
        "predictId = torch.tensor([torch.argmax(predict[-1, :])]) #use -1 to indx what gen aftetr <E>\n",
        "predictIds = predictId\n",
        "\n",
        "maxLen = 6\n",
        "for i in range(inputLen, maxLen):\n",
        "    if (predictId == ttid['<E>']):\n",
        "        break\n",
        "\n",
        "    modelInput = torch.cat((modelInput, predictId))\n",
        "\n",
        "    predicts = model(modelInput)\n",
        "    predictId = torch.tensor([torch.argmax(predicts[-1, :])])\n",
        "    predictIds = torch.cat((predictIds, predictId))\n",
        "\n",
        "print('Predicted Tokens\\n')\n",
        "for id in predictIds:\n",
        "    print('\\t, predict Token:', idtt[id.item()])"
      ]
    },
    {
      "cell_type": "code",
      "execution_count": 19,
      "metadata": {
        "colab": {
          "base_uri": "https://localhost:8080/",
          "height": 416,
          "referenced_widgets": [
            "ef81ae02513c4c83a16d64b083b2a7b7",
            "30f39c7ae2344991b0a975441cdddbf5",
            "1d157d4674a545fc9cd8f7ea4aa5a912",
            "e03b483527f74e23b5ff784beded8f62",
            "acf6bc375fb244fdb5a2163224b976e5",
            "ad8fed9564ee4b2babce4c613fa33eb6",
            "5ce2c3137b4143379772798eccfa20c1",
            "8dcc3a6a198d481595190eb501c26e1f",
            "e78486b1a2f8418d82be59fe5ccec6ab",
            "27e826d9064848e0934ec58d6ecfe99f",
            "009fba5cac094b17995dd8c11890b8b3"
          ]
        },
        "id": "MEd7_Pa0UotH",
        "outputId": "57df9519-e6db-412a-a21d-1755a8aa90f3"
      },
      "outputs": [
        {
          "output_type": "stream",
          "name": "stderr",
          "text": [
            "INFO:pytorch_lightning.utilities.rank_zero:GPU available: False, used: False\n",
            "INFO:pytorch_lightning.utilities.rank_zero:TPU available: False, using: 0 TPU cores\n",
            "INFO:pytorch_lightning.utilities.rank_zero:HPU available: False, using: 0 HPUs\n",
            "INFO:pytorch_lightning.callbacks.model_summary:\n",
            "  | Name          | Type             | Params | Mode \n",
            "-----------------------------------------------------------\n",
            "0 | wordEmb       | Embedding        | 10     | train\n",
            "1 | positionEnc   | PositionEnc      | 0      | train\n",
            "2 | atten         | Attention        | 12     | train\n",
            "3 | fulyConctLayr | Linear           | 15     | train\n",
            "4 | loss          | CrossEntropyLoss | 0      | train\n",
            "-----------------------------------------------------------\n",
            "37        Trainable params\n",
            "0         Non-trainable params\n",
            "37        Total params\n",
            "0.000     Total estimated model params size (MB)\n",
            "8         Modules in train mode\n",
            "0         Modules in eval mode\n",
            "/usr/local/lib/python3.10/dist-packages/pytorch_lightning/loops/fit_loop.py:298: The number of training batches (2) is smaller than the logging interval Trainer(log_every_n_steps=50). Set a lower value for log_every_n_steps if you want to see logs for the training epoch.\n"
          ]
        },
        {
          "output_type": "display_data",
          "data": {
            "text/plain": [
              "Training: |          | 0/? [00:00<?, ?it/s]"
            ],
            "application/vnd.jupyter.widget-view+json": {
              "version_major": 2,
              "version_minor": 0,
              "model_id": "ef81ae02513c4c83a16d64b083b2a7b7"
            }
          },
          "metadata": {}
        },
        {
          "output_type": "stream",
          "name": "stderr",
          "text": [
            "INFO:pytorch_lightning.utilities.rank_zero:`Trainer.fit` stopped: `max_epochs=30` reached.\n"
          ]
        }
      ],
      "source": [
        "trainr = L.Trainer(max_epochs=30)\n",
        "trainr.fit(model, train_dataloaders=dataloadr)\n"
      ]
    },
    {
      "cell_type": "code",
      "execution_count": 20,
      "metadata": {
        "colab": {
          "base_uri": "https://localhost:8080/"
        },
        "id": "8HM53OzwUotJ",
        "outputId": "a2cc78e4-b728-484d-f7d9-5ad958278263"
      },
      "outputs": [
        {
          "output_type": "stream",
          "name": "stdout",
          "text": [
            "Predicted Tokens\n",
            "\n",
            "\t, predict Token: awesome\n",
            "\t, predict Token: <E>\n"
          ]
        }
      ],
      "source": [
        "\n",
        "modelInput = torch.tensor([\n",
        "    ttid['what'],\n",
        "    ttid['is'],\n",
        "    ttid['statquest'],\n",
        "    ttid['<E>']\n",
        "])\n",
        "\n",
        "inputLen = modelInput.size(dim=0)\n",
        "\n",
        "predict = model(modelInput)\n",
        "predictId = torch.tensor([torch.argmax(predict[-1, :])]) #use -1 to indx what gen aftetr <E>\n",
        "predictIds = predictId\n",
        "\n",
        "maxLen = 6\n",
        "for i in range(inputLen, maxLen):\n",
        "    if (predictId == ttid['<E>']):\n",
        "        break\n",
        "\n",
        "    modelInput = torch.cat((modelInput, predictId))\n",
        "\n",
        "    predicts = model(modelInput)\n",
        "    predictId = torch.tensor([torch.argmax(predicts[-1, :])])\n",
        "    predictIds = torch.cat((predictIds, predictId))\n",
        "\n",
        "print('Predicted Tokens\\n')\n",
        "for id in predictIds:\n",
        "    print('\\t, predict Token:', idtt[id.item()])"
      ]
    },
    {
      "cell_type": "code",
      "execution_count": null,
      "metadata": {
        "id": "cpnrhyAHUotJ"
      },
      "outputs": [],
      "source": []
    },
    {
      "cell_type": "code",
      "execution_count": null,
      "metadata": {
        "id": "VTT_tu7LUotK"
      },
      "outputs": [],
      "source": []
    }
  ],
  "metadata": {
    "kernelspec": {
      "display_name": "Python 3",
      "language": "python",
      "name": "python3"
    },
    "language_info": {
      "codemirror_mode": {
        "name": "ipython",
        "version": 3
      },
      "file_extension": ".py",
      "mimetype": "text/x-python",
      "name": "python",
      "nbconvert_exporter": "python",
      "pygments_lexer": "ipython3",
      "version": "3.10.14"
    },
    "colab": {
      "provenance": []
    },
    "widgets": {
      "application/vnd.jupyter.widget-state+json": {
        "ef81ae02513c4c83a16d64b083b2a7b7": {
          "model_module": "@jupyter-widgets/controls",
          "model_name": "HBoxModel",
          "model_module_version": "1.5.0",
          "state": {
            "_dom_classes": [],
            "_model_module": "@jupyter-widgets/controls",
            "_model_module_version": "1.5.0",
            "_model_name": "HBoxModel",
            "_view_count": null,
            "_view_module": "@jupyter-widgets/controls",
            "_view_module_version": "1.5.0",
            "_view_name": "HBoxView",
            "box_style": "",
            "children": [
              "IPY_MODEL_30f39c7ae2344991b0a975441cdddbf5",
              "IPY_MODEL_1d157d4674a545fc9cd8f7ea4aa5a912",
              "IPY_MODEL_e03b483527f74e23b5ff784beded8f62"
            ],
            "layout": "IPY_MODEL_acf6bc375fb244fdb5a2163224b976e5"
          }
        },
        "30f39c7ae2344991b0a975441cdddbf5": {
          "model_module": "@jupyter-widgets/controls",
          "model_name": "HTMLModel",
          "model_module_version": "1.5.0",
          "state": {
            "_dom_classes": [],
            "_model_module": "@jupyter-widgets/controls",
            "_model_module_version": "1.5.0",
            "_model_name": "HTMLModel",
            "_view_count": null,
            "_view_module": "@jupyter-widgets/controls",
            "_view_module_version": "1.5.0",
            "_view_name": "HTMLView",
            "description": "",
            "description_tooltip": null,
            "layout": "IPY_MODEL_ad8fed9564ee4b2babce4c613fa33eb6",
            "placeholder": "​",
            "style": "IPY_MODEL_5ce2c3137b4143379772798eccfa20c1",
            "value": "Epoch 29: 100%"
          }
        },
        "1d157d4674a545fc9cd8f7ea4aa5a912": {
          "model_module": "@jupyter-widgets/controls",
          "model_name": "FloatProgressModel",
          "model_module_version": "1.5.0",
          "state": {
            "_dom_classes": [],
            "_model_module": "@jupyter-widgets/controls",
            "_model_module_version": "1.5.0",
            "_model_name": "FloatProgressModel",
            "_view_count": null,
            "_view_module": "@jupyter-widgets/controls",
            "_view_module_version": "1.5.0",
            "_view_name": "ProgressView",
            "bar_style": "success",
            "description": "",
            "description_tooltip": null,
            "layout": "IPY_MODEL_8dcc3a6a198d481595190eb501c26e1f",
            "max": 2,
            "min": 0,
            "orientation": "horizontal",
            "style": "IPY_MODEL_e78486b1a2f8418d82be59fe5ccec6ab",
            "value": 2
          }
        },
        "e03b483527f74e23b5ff784beded8f62": {
          "model_module": "@jupyter-widgets/controls",
          "model_name": "HTMLModel",
          "model_module_version": "1.5.0",
          "state": {
            "_dom_classes": [],
            "_model_module": "@jupyter-widgets/controls",
            "_model_module_version": "1.5.0",
            "_model_name": "HTMLModel",
            "_view_count": null,
            "_view_module": "@jupyter-widgets/controls",
            "_view_module_version": "1.5.0",
            "_view_name": "HTMLView",
            "description": "",
            "description_tooltip": null,
            "layout": "IPY_MODEL_27e826d9064848e0934ec58d6ecfe99f",
            "placeholder": "​",
            "style": "IPY_MODEL_009fba5cac094b17995dd8c11890b8b3",
            "value": " 2/2 [00:00&lt;00:00, 54.39it/s, v_num=0]"
          }
        },
        "acf6bc375fb244fdb5a2163224b976e5": {
          "model_module": "@jupyter-widgets/base",
          "model_name": "LayoutModel",
          "model_module_version": "1.2.0",
          "state": {
            "_model_module": "@jupyter-widgets/base",
            "_model_module_version": "1.2.0",
            "_model_name": "LayoutModel",
            "_view_count": null,
            "_view_module": "@jupyter-widgets/base",
            "_view_module_version": "1.2.0",
            "_view_name": "LayoutView",
            "align_content": null,
            "align_items": null,
            "align_self": null,
            "border": null,
            "bottom": null,
            "display": "inline-flex",
            "flex": null,
            "flex_flow": "row wrap",
            "grid_area": null,
            "grid_auto_columns": null,
            "grid_auto_flow": null,
            "grid_auto_rows": null,
            "grid_column": null,
            "grid_gap": null,
            "grid_row": null,
            "grid_template_areas": null,
            "grid_template_columns": null,
            "grid_template_rows": null,
            "height": null,
            "justify_content": null,
            "justify_items": null,
            "left": null,
            "margin": null,
            "max_height": null,
            "max_width": null,
            "min_height": null,
            "min_width": null,
            "object_fit": null,
            "object_position": null,
            "order": null,
            "overflow": null,
            "overflow_x": null,
            "overflow_y": null,
            "padding": null,
            "right": null,
            "top": null,
            "visibility": null,
            "width": "100%"
          }
        },
        "ad8fed9564ee4b2babce4c613fa33eb6": {
          "model_module": "@jupyter-widgets/base",
          "model_name": "LayoutModel",
          "model_module_version": "1.2.0",
          "state": {
            "_model_module": "@jupyter-widgets/base",
            "_model_module_version": "1.2.0",
            "_model_name": "LayoutModel",
            "_view_count": null,
            "_view_module": "@jupyter-widgets/base",
            "_view_module_version": "1.2.0",
            "_view_name": "LayoutView",
            "align_content": null,
            "align_items": null,
            "align_self": null,
            "border": null,
            "bottom": null,
            "display": null,
            "flex": null,
            "flex_flow": null,
            "grid_area": null,
            "grid_auto_columns": null,
            "grid_auto_flow": null,
            "grid_auto_rows": null,
            "grid_column": null,
            "grid_gap": null,
            "grid_row": null,
            "grid_template_areas": null,
            "grid_template_columns": null,
            "grid_template_rows": null,
            "height": null,
            "justify_content": null,
            "justify_items": null,
            "left": null,
            "margin": null,
            "max_height": null,
            "max_width": null,
            "min_height": null,
            "min_width": null,
            "object_fit": null,
            "object_position": null,
            "order": null,
            "overflow": null,
            "overflow_x": null,
            "overflow_y": null,
            "padding": null,
            "right": null,
            "top": null,
            "visibility": null,
            "width": null
          }
        },
        "5ce2c3137b4143379772798eccfa20c1": {
          "model_module": "@jupyter-widgets/controls",
          "model_name": "DescriptionStyleModel",
          "model_module_version": "1.5.0",
          "state": {
            "_model_module": "@jupyter-widgets/controls",
            "_model_module_version": "1.5.0",
            "_model_name": "DescriptionStyleModel",
            "_view_count": null,
            "_view_module": "@jupyter-widgets/base",
            "_view_module_version": "1.2.0",
            "_view_name": "StyleView",
            "description_width": ""
          }
        },
        "8dcc3a6a198d481595190eb501c26e1f": {
          "model_module": "@jupyter-widgets/base",
          "model_name": "LayoutModel",
          "model_module_version": "1.2.0",
          "state": {
            "_model_module": "@jupyter-widgets/base",
            "_model_module_version": "1.2.0",
            "_model_name": "LayoutModel",
            "_view_count": null,
            "_view_module": "@jupyter-widgets/base",
            "_view_module_version": "1.2.0",
            "_view_name": "LayoutView",
            "align_content": null,
            "align_items": null,
            "align_self": null,
            "border": null,
            "bottom": null,
            "display": null,
            "flex": "2",
            "flex_flow": null,
            "grid_area": null,
            "grid_auto_columns": null,
            "grid_auto_flow": null,
            "grid_auto_rows": null,
            "grid_column": null,
            "grid_gap": null,
            "grid_row": null,
            "grid_template_areas": null,
            "grid_template_columns": null,
            "grid_template_rows": null,
            "height": null,
            "justify_content": null,
            "justify_items": null,
            "left": null,
            "margin": null,
            "max_height": null,
            "max_width": null,
            "min_height": null,
            "min_width": null,
            "object_fit": null,
            "object_position": null,
            "order": null,
            "overflow": null,
            "overflow_x": null,
            "overflow_y": null,
            "padding": null,
            "right": null,
            "top": null,
            "visibility": null,
            "width": null
          }
        },
        "e78486b1a2f8418d82be59fe5ccec6ab": {
          "model_module": "@jupyter-widgets/controls",
          "model_name": "ProgressStyleModel",
          "model_module_version": "1.5.0",
          "state": {
            "_model_module": "@jupyter-widgets/controls",
            "_model_module_version": "1.5.0",
            "_model_name": "ProgressStyleModel",
            "_view_count": null,
            "_view_module": "@jupyter-widgets/base",
            "_view_module_version": "1.2.0",
            "_view_name": "StyleView",
            "bar_color": null,
            "description_width": ""
          }
        },
        "27e826d9064848e0934ec58d6ecfe99f": {
          "model_module": "@jupyter-widgets/base",
          "model_name": "LayoutModel",
          "model_module_version": "1.2.0",
          "state": {
            "_model_module": "@jupyter-widgets/base",
            "_model_module_version": "1.2.0",
            "_model_name": "LayoutModel",
            "_view_count": null,
            "_view_module": "@jupyter-widgets/base",
            "_view_module_version": "1.2.0",
            "_view_name": "LayoutView",
            "align_content": null,
            "align_items": null,
            "align_self": null,
            "border": null,
            "bottom": null,
            "display": null,
            "flex": null,
            "flex_flow": null,
            "grid_area": null,
            "grid_auto_columns": null,
            "grid_auto_flow": null,
            "grid_auto_rows": null,
            "grid_column": null,
            "grid_gap": null,
            "grid_row": null,
            "grid_template_areas": null,
            "grid_template_columns": null,
            "grid_template_rows": null,
            "height": null,
            "justify_content": null,
            "justify_items": null,
            "left": null,
            "margin": null,
            "max_height": null,
            "max_width": null,
            "min_height": null,
            "min_width": null,
            "object_fit": null,
            "object_position": null,
            "order": null,
            "overflow": null,
            "overflow_x": null,
            "overflow_y": null,
            "padding": null,
            "right": null,
            "top": null,
            "visibility": null,
            "width": null
          }
        },
        "009fba5cac094b17995dd8c11890b8b3": {
          "model_module": "@jupyter-widgets/controls",
          "model_name": "DescriptionStyleModel",
          "model_module_version": "1.5.0",
          "state": {
            "_model_module": "@jupyter-widgets/controls",
            "_model_module_version": "1.5.0",
            "_model_name": "DescriptionStyleModel",
            "_view_count": null,
            "_view_module": "@jupyter-widgets/base",
            "_view_module_version": "1.2.0",
            "_view_name": "StyleView",
            "description_width": ""
          }
        }
      }
    }
  },
  "nbformat": 4,
  "nbformat_minor": 0
}