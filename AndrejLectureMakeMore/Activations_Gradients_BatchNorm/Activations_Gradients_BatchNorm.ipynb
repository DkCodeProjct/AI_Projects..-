{
  "nbformat": 4,
  "nbformat_minor": 0,
  "metadata": {
    "colab": {
      "provenance": []
    },
    "kernelspec": {
      "name": "python3",
      "display_name": "Python 3"
    },
    "language_info": {
      "name": "python"
    }
  },
  "cells": [
    {
      "cell_type": "code",
      "execution_count": 2,
      "metadata": {
        "id": "YMBq4HyKnNxc"
      },
      "outputs": [],
      "source": [
        "\n",
        "import torch\n",
        "import torch.nn.functional as F\n",
        "import matplotlib.pyplot as plt\n",
        "import random\n",
        "import numpy as np\n",
        "%matplotlib inline"
      ]
    },
    {
      "cell_type": "code",
      "source": [
        "from google.colab import drive\n",
        "drive.mount('/content/drive')\n"
      ],
      "metadata": {
        "colab": {
          "base_uri": "https://localhost:8080/"
        },
        "id": "pWCwgeAtnd8L",
        "outputId": "6ea87555-35d3-4624-f2af-02f4098b6ba1"
      },
      "execution_count": 4,
      "outputs": [
        {
          "output_type": "stream",
          "name": "stdout",
          "text": [
            "Mounted at /content/drive\n"
          ]
        }
      ]
    },
    {
      "cell_type": "code",
      "source": [
        "datasetPath = '/content/drive/My Drive/dataset/names.txt'\n",
        "words = open(datasetPath, 'r').read().splitlines()"
      ],
      "metadata": {
        "id": "a7W3QyCynjiy"
      },
      "execution_count": 5,
      "outputs": []
    },
    {
      "cell_type": "code",
      "source": [
        "chars = sorted(list(set(''.join(words))))\n",
        "stoi = {s:i+1 for i, s in enumerate(chars)} #a:1\n",
        "stoi['.'] = 0\n",
        "itos = {i:s for s, i in stoi.items()} #-->1:a\n",
        "vocabSiz = len(itos) # len of a Vocabulary\n",
        "print(itos)\n",
        "print(vocabSiz)"
      ],
      "metadata": {
        "colab": {
          "base_uri": "https://localhost:8080/"
        },
        "id": "odahh95Unv5m",
        "outputId": "316ba0b2-f653-40df-a556-cc309b39235e"
      },
      "execution_count": 6,
      "outputs": [
        {
          "output_type": "stream",
          "name": "stdout",
          "text": [
            "{1: 'a', 2: 'b', 3: 'c', 4: 'd', 5: 'e', 6: 'f', 7: 'g', 8: 'h', 9: 'i', 10: 'j', 11: 'k', 12: 'l', 13: 'm', 14: 'n', 15: 'o', 16: 'p', 17: 'q', 18: 'r', 19: 's', 20: 't', 21: 'u', 22: 'v', 23: 'w', 24: 'x', 25: 'y', 26: 'z', 0: '.'}\n",
            "27\n"
          ]
        }
      ]
    },
    {
      "cell_type": "code",
      "source": [
        "def buildDataset(words):\n",
        "    blocksiz = 3 #trigram\n",
        "    X, Y = [], []\n",
        "    for w in words:\n",
        "        contxt = [0] * blocksiz\n",
        "        for ch in w + '.':\n",
        "            ix = stoi[ch]\n",
        "            X.append(contxt)\n",
        "            Y.append(ix)\n",
        "            conxtxt = contxt[1:] + [ix]\n",
        "    X = torch.tensor(X)\n",
        "    Y = torch.tensor(Y)\n",
        "    print(X.shape, Y.shape)\n",
        "    return X, Y\n",
        "random.seed(42)\n",
        "random.shuffle(words)\n",
        "n1 = int(0.8*len(words))\n",
        "n2 = int(0.9*len(words))\n",
        "\n",
        "xTrain, yTrain = buildDataset(words[:n1])\n",
        "xDev, yDev = buildDataset(words[n1:n2])\n",
        "xTest, yTest = buildDataset(words[n2:])"
      ],
      "metadata": {
        "colab": {
          "base_uri": "https://localhost:8080/"
        },
        "id": "2v3eZ6aXnwf_",
        "outputId": "7835728d-afeb-4946-9650-a642f60ddd82"
      },
      "execution_count": 7,
      "outputs": [
        {
          "output_type": "stream",
          "name": "stdout",
          "text": [
            "torch.Size([182625, 3]) torch.Size([182625])\n",
            "torch.Size([22655, 3]) torch.Size([22655])\n",
            "torch.Size([22866, 3]) torch.Size([22866])\n"
          ]
        }
      ]
    },
    {
      "cell_type": "code",
      "source": [
        "# MLP\n",
        "nEmb = 10 #the dim of the charatcter embeding vec\n",
        "nHidden = 200 # num of Neuron in hidden layers\n",
        "blocksiz = 3 #trigram\n",
        "\n",
        "#parameters\n",
        "g = torch.Generator().manual_seed(2147483647)\n",
        "C = torch.randn(vocabSiz, nEmb,              generator=g) #10 dims\n",
        "w1 = torch.randn((nEmb * blocksiz), nHidden, generator=g) #10*3=45 cos we've 15dim  3input layer\n",
        "b1 = torch.randn(nHidden,                    generator=g)\n",
        "w2 = torch.randn((nHidden, vocabSiz),        generator=g)\n",
        "b2 = torch.randn(vocabSiz,                   generator=g)\n",
        "\n",
        "para = [C, w1, b1, w2, b2]\n",
        "print(sum(p.nelement() for p in para))\n",
        "\n",
        "for p in para:\n",
        "    p.requires_grad = True\n",
        "\n"
      ],
      "metadata": {
        "colab": {
          "base_uri": "https://localhost:8080/"
        },
        "id": "UKcpfCLtn_RW",
        "outputId": "aaa8f8fe-3515-47ca-e9df-fa15ba6c24ad"
      },
      "execution_count": 8,
      "outputs": [
        {
          "output_type": "stream",
          "name": "stdout",
          "text": [
            "11897\n"
          ]
        }
      ]
    },
    {
      "cell_type": "code",
      "source": [
        "maxSteps = 60000\n",
        "batchSiz = 32\n",
        "loss_i = []\n",
        "\n",
        "for i in range(maxSteps):\n",
        "    ix = torch.randint(0, xTrain.shape[0], (batchSiz,), generator=g)\n",
        "    Xb, Yb = xTrain[ix], yTrain[ix] #batch x/y\n",
        "\n",
        "    #forwardPass\n",
        "    emb = C[Xb]\n",
        "    embCat = emb.view(emb.shape[0], -1) #concatinating the vec\n",
        "    hlPreReact = embCat @ w1 + b1 # hidden layer pre-activation\n",
        "    h = torch.tanh(hlPreReact) #hidden layer\n",
        "    logits = h @ w2 + b2 #output layer\n",
        "    loss = F.cross_entropy(logits, Yb)\n",
        "\n",
        "    #backward pass\n",
        "    for p in para:\n",
        "        p.grad = None\n",
        "    loss.backward()\n",
        "\n",
        "    # learning rate decay\n",
        "    lr = 0.1 if i < 30000 else 0.01\n",
        "    for p in para:\n",
        "        p.data += -lr * p.grad\n",
        "\n",
        "    if i % 10000 == 0: #print evry once in a while\n",
        "        print(f'{i:7d}/{maxSteps:7d}: {loss.item():.4f}')\n",
        "    loss_i.append(loss.log10().item())"
      ],
      "metadata": {
        "colab": {
          "base_uri": "https://localhost:8080/"
        },
        "id": "hCtqhAump5eJ",
        "outputId": "4e8d6f43-a2ac-4088-ecc5-3e6b5b43254d"
      },
      "execution_count": 15,
      "outputs": [
        {
          "output_type": "stream",
          "name": "stdout",
          "text": [
            "      0/  60000: 2.7814\n",
            "  10000/  60000: 2.8491\n",
            "  20000/  60000: 3.3728\n",
            "  30000/  60000: 2.8749\n",
            "  40000/  60000: 2.6263\n",
            "  50000/  60000: 3.1167\n"
          ]
        }
      ]
    },
    {
      "cell_type": "code",
      "source": [
        "plt.plot(loss_i)\n"
      ],
      "metadata": {
        "colab": {
          "base_uri": "https://localhost:8080/",
          "height": 450
        },
        "id": "zS64wcPXt3Tw",
        "outputId": "d45a19ef-5b23-4da4-ef44-46327c020ab7"
      },
      "execution_count": 16,
      "outputs": [
        {
          "output_type": "execute_result",
          "data": {
            "text/plain": [
              "[<matplotlib.lines.Line2D at 0x7a0338752a70>]"
            ]
          },
          "metadata": {},
          "execution_count": 16
        },
        {
          "output_type": "display_data",
          "data": {
            "text/plain": [
              "<Figure size 640x480 with 1 Axes>"
            ],
            "image/png": "[encoded data removed]"
          },
          "metadata": {}
        }
      ]
    },
    {
      "cell_type": "code",
      "source": [
        "@torch.no_grad()\n",
        "def splitLoss(split):\n",
        "    x, y = {\n",
        "        'train': (xTrain, yTrain),\n",
        "        'dev': (xDev, yDev),\n",
        "        'test': (xTest, yTest)\n",
        "    }[split]\n",
        "\n",
        "    emb = C[x]\n",
        "    embcat = emb.view(emb.shape[0], -1)\n",
        "    h = torch.tanh(embcat @ w1 + b1)\n",
        "    logits = h @ w2 + b2\n",
        "    loss = F.cross_entropy(logits, y)\n",
        "    print(split, loss.item())\n",
        "\n",
        "splitLoss('train')\n",
        "splitLoss('dev')\n"
      ],
      "metadata": {
        "id": "_6s4Bvawt5wQ",
        "colab": {
          "base_uri": "https://localhost:8080/"
        },
        "outputId": "76a60785-a148-47ed-9632-81f3e27735c5"
      },
      "execution_count": 17,
      "outputs": [
        {
          "output_type": "stream",
          "name": "stdout",
          "text": [
            "train 2.8434484004974365\n",
            "dev 2.842289924621582\n"
          ]
        }
      ]
    },
    {
      "cell_type": "code",
      "source": [
        "g = torch.Generator().manual_seed(2147483647 + 10)\n",
        "blocksiz=3\n",
        "for _ in range(20):\n",
        "    out = []\n",
        "    contxt = [0] * blocksiz\n",
        "    while True:\n",
        "        emb = C[torch.tensor([contxt])]\n",
        "        h = torch.tanh(emb.view(1, -1) @ w1 + b1)\n",
        "        logits = h @ w2 + b2\n",
        "        probs = F.softmax(logits, dim=1)\n",
        "        ix = torch.multinomial(probs, num_samples=1, generator=g).item()\n",
        "        contxt = contxt[1:] + [ix]\n",
        "        out.append(ix)\n",
        "        if ix == 0:\n",
        "            break\n",
        "    print(''.join(itos[i] for i in out))\n"
      ],
      "metadata": {
        "colab": {
          "base_uri": "https://localhost:8080/"
        },
        "id": "gT0Z-3ecVdCL",
        "outputId": "f268015a-3058-4b91-aee1-aa24d47b8c49"
      },
      "execution_count": 18,
      "outputs": [
        {
          "output_type": "stream",
          "name": "stdout",
          "text": [
            "enhjdixjyrnuhddrwvwyhshojkhgkbdnrzcckhpvkkhgkbdnrzcckhpvkkhojkhgkbdnrzcckhpvkkhojkhgkbdnrhwckfpvzpvkkhgkbynrqbrniovemojkhgkbynrqhs.\n",
            "srxshvdyhddrwhwzwtksjkhgkbdnrzccshwjkdoewidtksjrhgcbtsofscctfadzdyxvymhjzigdyxvymhjzigdyxvymhjryhcyyshvdixjkcynsrvicoes.\n",
            "thgfltra.\n",
            "enhjdixjkcyauhddrwvwyhshojkhgkernhvjyhxjyrnuhddrwvwyhshojkhgkbdnrzccdkshxjyrnuhddrwvwyhshojkhgkbynrrhwvkhhoyy.\n",
            "thgdfshojkhgkbynrqbrnioewidtksjkhgkbdnrzccvnhguyozvwucoes.\n",
            "ofwyxshvdyhvzyhodydvevzvhkhojyhguyozvwucovwthsjkhgkbdnrzcckhpvkpvnpgkjdfxwtesjrmhczyikdixjy.\n",
            "au.\n",
            "nhlhrzkhojkhgkbdnrzcckhpvkkhgkbdnrzcckhpvkkhgkbdnrzccvnhguyozvwthsjkhgkbynrqbd.\n",
            "auxjjthxjkcynauxwuldoewikdixjyshvdyhvkoduhczyhodyrhczyikdixjy.\n",
            "agxjy.\n",
            ".\n",
            "nhlhrzkhjktga.\n",
            ".\n",
            "jtfgjxrhwvkhhjkdoewidtesjrmhczyikkojnhguyozvwthsjkhgkbdnrzccvnhguyozvwuhjryhcyyshvyyhddrrhwvkhhodydvewaexjkdoewikkoon.\n",
            "dfsnxshvdyhvzyhcoyhshwjkfauzdtksjkhgkbdnrzcckhpvkkhgkbdnrzcccgfjtrhjdigdyxvymhjzigdyxwvkhhxjyrnuhddrwvwyhshojkhgkbdnrzcckhpvkpvnkxjnhguyozvwthsjkhgkbdnrzccvnhguyozvwthsjkhgkbdnrhwvkhhjkdoewikygxyokhdnrhwvkshxjyrnuhddrwvwyhshojwdykcoyhshojyhguyozvwthsjkhgkbdnrzccvnhguyozvyyhddrwvwyhshojyhguyozvwuhjryhcyyshvdyhvkhhjkdoewikkouhozwtksjrmhczyikdgxhezofhltra.\n",
            "rngtexjkkguhddrwhwydiddadvewaezoahodyrhczyikkouhozwidtksjrmhczyikdixjkkguhojkhgkbdnrzcckhpvkpgkjryhcywcvkhhdikdixjyrnuhddrwvsyxshvdyhvkrhnhrhrzkhojkhgkbdnrzccvnhguyozvwuhjryhcywcvshxjyrnuhddrwvwyhshojkhgkbdnrzcckhpvkkhgkbdnrzcckhpvkkojkhgkbdnrzcckhpvkkhgkbdnrzccvnvzixjkkguhozwtksjrhguyozvyyhcoyhshfyyxkhdnesexjkkguhddrwvwyhshojkhgkbdnrzccvnhguyozvwthsjkhgkbdnrzcckhpvkkhojyhguyozvwuhjryhcyfshojkhgkbdnrzccvnhguyozvwthsewgwydiddadveicthxjyrnuhddrwvsyxshvdyhvkyhxjyrnuhojkhgkbdnrzcccgfjtrhjdixjkcynsrqhs.\n",
            "srqhs.\n",
            ".\n",
            "hpldfwvkhhjkdoewikkookhdnesexjkkgguhozwidtksjkhgkbdnrzcckhpvkkhgkbdnrzccdfshojkhgkbdnrzccvnhguyozvwthsjkhgkbdnrzucadhddrwvwyhshojkhgkbdnrzcckhpvkpvnkxjnhguyozvwucovwthsjkhgkbynrrhwvkuhozwidtksjkhgkbynrqhs.\n",
            "jtfgjxrhwvkhhjkdoewidtksjrmhczyikdixjyrnuhddrwvwyhshojyhguyozvwthsjkhgkbynrhwvkhhxjkcynsrqhs.\n"
          ]
        }
      ]
    }
  ]
}