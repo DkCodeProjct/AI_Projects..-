{
  "nbformat": 4,
  "nbformat_minor": 0,
  "metadata": {
    "colab": {
      "provenance": []
    },
    "kernelspec": {
      "name": "python3",
      "display_name": "Python 3"
    },
    "language_info": {
      "name": "python"
    }
  },
  "cells": [
    {
      "cell_type": "markdown",
      "source": [
        "\n",
        "#A Neural Probabilitic Language Model...'\n",
        "\n",
        "![Untitled.png](data:image/png;base64,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)"
      ],
      "metadata": {
        "id": "OWUMuOPx1qcH"
      }
    },
    {
      "cell_type": "code",
      "source": [
        "import string\n",
        "import torch\n",
        "import torch.nn.functional as F\n",
        "import matplotlib.pyplot as plt\n",
        "import random\n",
        "%matplotlib inline"
      ],
      "metadata": {
        "id": "4hP5aCEf5hIl"
      },
      "execution_count": 13,
      "outputs": []
    },
    {
      "cell_type": "code",
      "execution_count": 2,
      "metadata": {
        "id": "xh9kdjkA1hW6"
      },
      "outputs": [],
      "source": [
        "words = open('/content/sample_data/names.txt', 'r').read().splitlines()"
      ]
    },
    {
      "cell_type": "code",
      "source": [
        "\n",
        "chars = sorted(list(set(''.join(words))))\n",
        "stoi = {s:i+1 for i, s in enumerate(chars)}\n",
        "stoi['.'] = 0\n",
        "itos = {i:s for s, i in stoi.items()}\n",
        "print('stoi=>', stoi)\n",
        "print('itos=>', itos)"
      ],
      "metadata": {
        "colab": {
          "base_uri": "https://localhost:8080/"
        },
        "id": "-tLfmrc_141l",
        "outputId": "fbed7e16-a39b-4912-8ee1-d4d670e9a69a"
      },
      "execution_count": 3,
      "outputs": [
        {
          "output_type": "stream",
          "name": "stdout",
          "text": [
            "stoi=> {'a': 1, 'b': 2, 'c': 3, 'd': 4, 'e': 5, 'f': 6, 'g': 7, 'h': 8, 'i': 9, 'j': 10, 'k': 11, 'l': 12, 'm': 13, 'n': 14, 'o': 15, 'p': 16, 'q': 17, 'r': 18, 's': 19, 't': 20, 'u': 21, 'v': 22, 'w': 23, 'x': 24, 'y': 25, 'z': 26, '.': 0}\n",
            "itos=> {1: 'a', 2: 'b', 3: 'c', 4: 'd', 5: 'e', 6: 'f', 7: 'g', 8: 'h', 9: 'i', 10: 'j', 11: 'k', 12: 'l', 13: 'm', 14: 'n', 15: 'o', 16: 'p', 17: 'q', 18: 'r', 19: 's', 20: 't', 21: 'u', 22: 'v', 23: 'w', 24: 'x', 25: 'y', 26: 'z', 0: '.'}\n"
          ]
        }
      ]
    },
    {
      "cell_type": "code",
      "source": [
        "blocksiz = 3\n",
        "X, Y = [], []\n",
        "for w in words:\n",
        "    contxt = [0] * blocksiz\n",
        "    for ch in w + '.':\n",
        "        ix = stoi[ch]\n",
        "        X.append(contxt)\n",
        "        Y.append(ix)\n",
        "        contxt = contxt[1:] + [ix]\n",
        "X = torch.tensor(X)\n",
        "Y = torch.tensor(Y)"
      ],
      "metadata": {
        "id": "yhM3YhCd44NM"
      },
      "execution_count": 4,
      "outputs": []
    },
    {
      "cell_type": "code",
      "source": [
        "X.shape, Y.shape"
      ],
      "metadata": {
        "colab": {
          "base_uri": "https://localhost:8080/"
        },
        "id": "7BzcMqi26nNJ",
        "outputId": "2a2b1735-3560-4f64-ef18-8cedce65e093"
      },
      "execution_count": null,
      "outputs": [
        {
          "output_type": "execute_result",
          "data": {
            "text/plain": [
              "(torch.Size([228146, 3]), torch.Size([228146]))"
            ]
          },
          "metadata": {},
          "execution_count": 10
        }
      ]
    },
    {
      "cell_type": "markdown",
      "source": [
        "#Parameters"
      ],
      "metadata": {
        "id": "_Oro0ppbVjxt"
      }
    },
    {
      "cell_type": "code",
      "source": [
        "# Parameters\n",
        "g = torch.Generator().manual_seed(2147483647)\n",
        "C = torch.randn((27, 2), generator=g)\n",
        "w1 = torch.randn((6, 100), generator=g)\n",
        "b1 = torch.randn((100), generator=g)\n",
        "w2 = torch.randn((100, 27), generator=g)\n",
        "b2 = torch.randn((27), generator=g)\n",
        "para = [C, w1, b1, w2, b2]"
      ],
      "metadata": {
        "id": "Vn8BZqgp5wxz"
      },
      "execution_count": 5,
      "outputs": []
    },
    {
      "cell_type": "markdown",
      "source": [
        "#Num Parameters"
      ],
      "metadata": {
        "id": "qDwbP2-hVKNu"
      }
    },
    {
      "cell_type": "code",
      "source": [
        "sum(p.nelement() for p in para)"
      ],
      "metadata": {
        "colab": {
          "base_uri": "https://localhost:8080/"
        },
        "id": "1PqZMigfVNFW",
        "outputId": "97ead90a-3d07-4cad-9c4b-5344d61439e1"
      },
      "execution_count": 12,
      "outputs": [
        {
          "output_type": "execute_result",
          "data": {
            "text/plain": [
              "3481"
            ]
          },
          "metadata": {},
          "execution_count": 12
        }
      ]
    },
    {
      "cell_type": "code",
      "source": [
        "#make Reuquared Grad. otherwise ran into error for not reqared grad\n",
        "for p in para:\n",
        "    p.requires_grad = True"
      ],
      "metadata": {
        "id": "H2ldRdJz6p1w"
      },
      "execution_count": 6,
      "outputs": []
    },
    {
      "cell_type": "code",
      "source": [
        "#creating mini batch to train so itll be quick rather than train the whole dataset\n",
        "ix = torch.randint(0, X.shape[0], (32,))\n",
        "ix"
      ],
      "metadata": {
        "colab": {
          "base_uri": "https://localhost:8080/"
        },
        "id": "qtHauH9x66WJ",
        "outputId": "f710ba24-4b81-4439-c766-fd6fbc1d824a"
      },
      "execution_count": 7,
      "outputs": [
        {
          "output_type": "execute_result",
          "data": {
            "text/plain": [
              "tensor([198584, 185958,  92492, 165284, 208726, 113400, 198503, 125953, 167853,\n",
              "        222840,  78885, 120827, 203853,  92791, 138818, 183366, 165377, 189731,\n",
              "         78188, 172091, 209702,    785,  16368, 134067,  58028, 147351, 194920,\n",
              "         59963,  81894,  51376,  31322, 136272])"
            ]
          },
          "metadata": {},
          "execution_count": 7
        }
      ]
    },
    {
      "cell_type": "markdown",
      "source": [
        "# Fine Tuning Learning rate / Learning Decay"
      ],
      "metadata": {
        "id": "zwwy_iwx7B82"
      }
    },
    {
      "cell_type": "code",
      "source": [
        "#learning Rate Exponent\n",
        "lre = torch.linspace(-3, 0, 1000)\n",
        "lrs = 10**lre"
      ],
      "metadata": {
        "id": "O01YNW3u69g5"
      },
      "execution_count": 8,
      "outputs": []
    },
    {
      "cell_type": "markdown",
      "source": [
        "#Training\n",
        "   + Forward Pass\n",
        "   + Backward Pass\n",
        "   + Loss Calculation\n",
        "   + Tracking Learning Rate"
      ],
      "metadata": {
        "id": "CnUiGMPtVg42"
      }
    },
    {
      "cell_type": "code",
      "source": [
        "## since it got 1m 3s to train we can Use mini batch Randomly select by Dataset\n",
        "\n",
        "#track learning rate stars || we figurout good learning rante==0.1 #according to stat\n",
        "#lri = []\n",
        "#losses = []\n",
        "\n",
        "for i in range(100):\n",
        "    #minibatch\n",
        "    ix = torch.randint(0, X.shape[0], (32,))\n",
        "    #Forward Pass\n",
        "    emb = C[X[ix]]#using mini batch\n",
        "    h = torch.tanh(emb.view(-1, 6) @ w1 + b1)\n",
        "    logits = h @ w2 + b2\n",
        "    loss = F.cross_entropy(logits, Y[ix])#using mini batch\n",
        "\n",
        "    #Backward Pass\n",
        "    for p in para:\n",
        "        p.grad = None\n",
        "    loss.backward()\n",
        "\n",
        "    #update\n",
        "    #lr = 0.1 #10**-1 || after itrations Learning rate decay\n",
        "    lr = 0.01\n",
        "\n",
        "    for p in para:\n",
        "        p.data += -lr * p.grad\n",
        "\n",
        "    #track stats Learning rate fineTune\n",
        "    #lri.append(lre[i])\n",
        "    #losses.append(loss.item())\n",
        "\n",
        "print(f'Loss: {loss.item()}')\n",
        "\n",
        "## After using mini batch to train its almost instant\n",
        "\n",
        "## after learing rt finetune decrease 2.8 to 2.5 Loss"
      ],
      "metadata": {
        "colab": {
          "base_uri": "https://localhost:8080/"
        },
        "id": "0ckjia8R7FMs",
        "outputId": "8675a47c-e86b-433f-b842-207fc762e477"
      },
      "execution_count": 9,
      "outputs": [
        {
          "output_type": "stream",
          "name": "stdout",
          "text": [
            "Loss: 10.38977336883545\n"
          ]
        }
      ]
    },
    {
      "cell_type": "code",
      "source": [
        "# Looking at the stat, the fair Learning\n",
        "# Rate Would be -1.0..-0.5 which is [0.1]\n",
        "# So now  we've Confidence/Stats so we set learning rate to == 0.1\n",
        "plt.plot(lri, losses)"
      ],
      "metadata": {
        "id": "jYPfb6FD7L_h"
      },
      "execution_count": null,
      "outputs": []
    },
    {
      "cell_type": "markdown",
      "source": [
        "![learningRatePlot.png](data:image/png;base64,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)"
      ],
      "metadata": {
        "id": "pT8jp2V47thU"
      }
    },
    {
      "cell_type": "code",
      "source": [],
      "metadata": {
        "id": "b3awhtgm7tNx"
      },
      "execution_count": null,
      "outputs": []
    },
    {
      "cell_type": "markdown",
      "source": [
        "# However When we've Lots of parameters >1000or10000, it'll easyly Cuas to OVERFIT\n",
        "   * and More Parameters Mean **Overfittin **and Overfitting Would  *lower the Loss Very Very low As Long As 0*\n",
        "   \n",
        "   * But It's cos the Loss is low it didnt mean Model work well, Its just memarizing the Training Data for **Verbatim**[in exactly the same words as were used originally.]\n",
        "   \n",
        "   * And if you try to **sample from **you'll only ***Get exactly as they are in the training set***, *You wont get any **NEW DATA**\n",
        "   \n",
        "   * to avoid that overfitting and loss thing we *split our Training DataSet to 3 Splits  \n",
        "      + **Training** split %80\n",
        "      + **Dev/ Validation** split 10%\n",
        "      + **Test** split 10%"
      ],
      "metadata": {
        "id": "AxzUrYibWhCt"
      }
    },
    {
      "cell_type": "markdown",
      "source": [
        "#Buiding the Dataset.."
      ],
      "metadata": {
        "id": "EyKIeNvqa3q0"
      }
    },
    {
      "cell_type": "code",
      "source": [
        "def buildDatset(words):\n",
        "    blocksiz = 3\n",
        "    X, Y = [], []\n",
        "    for w in words:\n",
        "        contxt = [0] * blocksiz\n",
        "        for ch in w + '.':\n",
        "            ix = stoi[ch]\n",
        "            X.append(contxt)\n",
        "            Y.append(ix)\n",
        "            contxt = contxt[1:] + [ix]\n",
        "    X = torch.tensor(X)\n",
        "    Y = torch.tensor(Y)\n",
        "    print(X.shape, Y.shape)\n",
        "    return X, Y\n",
        "\n",
        "random.seed(42)\n",
        "random.shuffle(words)\n",
        "n1 = int(0.8*len(words))\n",
        "n2 = int(0.9*len(words))\n",
        "\n",
        "xTrain, yTrain = buildDatset(words[:n1])\n",
        "xDev, yDev = buildDatset(words[n1:n2])\n",
        "xTest, yTest = buildDatset(words[n2:])\n"
      ],
      "metadata": {
        "colab": {
          "base_uri": "https://localhost:8080/"
        },
        "id": "ORYSc8pUZ5KF",
        "outputId": "4f754067-6c42-47f7-92f7-c873761d1190"
      },
      "execution_count": 14,
      "outputs": [
        {
          "output_type": "stream",
          "name": "stdout",
          "text": [
            "torch.Size([182625, 3]) torch.Size([182625])\n",
            "torch.Size([22655, 3]) torch.Size([22655])\n",
            "torch.Size([22866, 3]) torch.Size([22866])\n"
          ]
        }
      ]
    },
    {
      "cell_type": "code",
      "source": [
        "n1"
      ],
      "metadata": {
        "colab": {
          "base_uri": "https://localhost:8080/"
        },
        "id": "WrDQph3pcgQP",
        "outputId": "a4c94919-2ee2-488d-9510-2bf51c4bc664"
      },
      "execution_count": 15,
      "outputs": [
        {
          "output_type": "execute_result",
          "data": {
            "text/plain": [
              "25626"
            ]
          },
          "metadata": {},
          "execution_count": 15
        }
      ]
    },
    {
      "cell_type": "code",
      "source": [
        "n2"
      ],
      "metadata": {
        "colab": {
          "base_uri": "https://localhost:8080/"
        },
        "id": "CbpQwfZNchyg",
        "outputId": "2e788c0b-1013-4035-ce30-38007147e0a3"
      },
      "execution_count": 17,
      "outputs": [
        {
          "output_type": "execute_result",
          "data": {
            "text/plain": [
              "28829"
            ]
          },
          "metadata": {},
          "execution_count": 17
        }
      ]
    },
    {
      "cell_type": "code",
      "source": [
        "n2- n1 #words for Dev set"
      ],
      "metadata": {
        "colab": {
          "base_uri": "https://localhost:8080/"
        },
        "id": "7sV9UZ_7ciaW",
        "outputId": "fa3589a8-c252-4fd8-fd3d-dac6af77f752"
      },
      "execution_count": 19,
      "outputs": [
        {
          "output_type": "execute_result",
          "data": {
            "text/plain": [
              "3203"
            ]
          },
          "metadata": {},
          "execution_count": 19
        }
      ]
    },
    {
      "cell_type": "code",
      "source": [
        "len(words) - n2 #for Test set"
      ],
      "metadata": {
        "colab": {
          "base_uri": "https://localhost:8080/"
        },
        "id": "SapOQIwpctd3",
        "outputId": "40e6c5ec-386e-46f2-cc64-66c7e684026b"
      },
      "execution_count": 20,
      "outputs": [
        {
          "output_type": "execute_result",
          "data": {
            "text/plain": [
              "3204"
            ]
          },
          "metadata": {},
          "execution_count": 20
        }
      ]
    },
    {
      "cell_type": "markdown",
      "source": [
        "#Let's Train With Split Build Dataset shall we\n",
        "   * insted using X, Y\n",
        "   * Now we use Split xTrain, yTrain"
      ],
      "metadata": {
        "id": "FcGwgJkcdSjS"
      }
    },
    {
      "cell_type": "code",
      "source": [
        "xTrain.shape , yTrain.shape"
      ],
      "metadata": {
        "colab": {
          "base_uri": "https://localhost:8080/"
        },
        "id": "B7ODD0EFdR_f",
        "outputId": "c5e33273-cc48-4e5c-8b3f-abc8e4bcfd71"
      },
      "execution_count": 21,
      "outputs": [
        {
          "output_type": "execute_result",
          "data": {
            "text/plain": [
              "(torch.Size([182625, 3]), torch.Size([182625]))"
            ]
          },
          "metadata": {},
          "execution_count": 21
        }
      ]
    },
    {
      "cell_type": "code",
      "source": [
        "#//# Parameters\n",
        "#//#ALso The para IS Scaled 100w1w2-->300w1w2 also b1b2\n",
        "#//g = torch.Generator().manual_seed(2147483647)\n",
        "#//C = torch.randn((27, 2), generator=g)\n",
        "#//w1 = torch.randn((6, 300), generator=g)\n",
        "#//b1 = torch.randn((300), generator=g)\n",
        "#//w2 = torch.randn((300, 27), generator=g)\n",
        "#//b2 = torch.randn((27), generator=g)\n",
        "#//para = [C, w1, b1, w2, b2]"
      ],
      "metadata": {
        "id": "HXNtSq8DcznI"
      },
      "execution_count": 39,
      "outputs": []
    },
    {
      "cell_type": "markdown",
      "source": [
        "+ Reshaping the dim of input layer,,2--->10 dim."
      ],
      "metadata": {
        "id": "sCwGFvzHl4iC"
      }
    },
    {
      "cell_type": "code",
      "source": [
        "g = torch.Generator().manual_seed(2147483647)\n",
        "C = torch.randn((27, 15), generator=g)\n",
        "w1 = torch.randn((45, 200), generator=g)#cos we've 15dim 3input layers ==15x3=45\n",
        "b1 = torch.randn((200), generator=g)\n",
        "w2 = torch.randn((200, 27), generator=g)\n",
        "b2 = torch.randn((27), generator=g)\n",
        "para = [C, w1, b1, w2, b2]"
      ],
      "metadata": {
        "id": "iTiQDMC7lzCg"
      },
      "execution_count": 94,
      "outputs": []
    },
    {
      "cell_type": "code",
      "source": [
        "sum(p.nelement() for p in para)"
      ],
      "metadata": {
        "colab": {
          "base_uri": "https://localhost:8080/"
        },
        "id": "NIBhsWxadqzG",
        "outputId": "d2069634-736c-49a1-fdb0-8a9ad3467c06"
      },
      "execution_count": 95,
      "outputs": [
        {
          "output_type": "execute_result",
          "data": {
            "text/plain": [
              "15032"
            ]
          },
          "metadata": {},
          "execution_count": 95
        }
      ]
    },
    {
      "cell_type": "code",
      "source": [
        "#make Reuquared Grad. otherwise ran into error for not reqared grad\n",
        "for p in para:\n",
        "    p.requires_grad = True"
      ],
      "metadata": {
        "id": "XahnyeMGdupq"
      },
      "execution_count": 96,
      "outputs": []
    },
    {
      "cell_type": "code",
      "source": [
        "#creating mini batch to train so itll be quick rather than train the whole dataset\n",
        "ix = torch.randint(0, X.shape[0], (32,))\n",
        "ix"
      ],
      "metadata": {
        "colab": {
          "base_uri": "https://localhost:8080/"
        },
        "id": "N64aCM1adzY2",
        "outputId": "698f6714-6036-4341-c83a-72af0ee43630"
      },
      "execution_count": 97,
      "outputs": [
        {
          "output_type": "execute_result",
          "data": {
            "text/plain": [
              "tensor([ 66369,   6193,  31429,  55167,   9674, 211029,  44394,  28915, 110031,\n",
              "        182711,  57297, 195523, 121959, 147612, 178277,  90227,  10590, 107939,\n",
              "         22332, 172592, 123802,  67310, 150523, 219765, 161533, 125588,  19113,\n",
              "        128347, 202063, 111337,  89687, 162350])"
            ]
          },
          "metadata": {},
          "execution_count": 97
        }
      ]
    },
    {
      "cell_type": "code",
      "source": [
        "#learning Rate Exponent\n",
        "lre = torch.linspace(-3, 0, 1000)\n",
        "lrs = 10**lre"
      ],
      "metadata": {
        "id": "I56c4EQkd2pf"
      },
      "execution_count": 43,
      "outputs": []
    },
    {
      "cell_type": "markdown",
      "source": [
        "#Change/Use X ---> xTrain, Y ----> yTrain"
      ],
      "metadata": {
        "id": "Y9gRArkxeTIO"
      }
    },
    {
      "cell_type": "code",
      "source": [
        "lri = []\n",
        "lossesi = []\n",
        "stepi = []"
      ],
      "metadata": {
        "id": "IXJl3dE5mlcf"
      },
      "execution_count": 104,
      "outputs": []
    },
    {
      "cell_type": "code",
      "source": [
        "## since it got 1m 3s to train we can Use mini batch Randomly select by Dataset\n",
        "\n",
        "#track learning rate stars || we figurout good learning rante==0.1 #according to stat\n",
        "#lri = []\n",
        "#lossesi = []\n",
        "#stepi = []\n",
        "\n",
        "for i in range(200000):\n",
        "    #minibatch\n",
        "    ix = torch.randint(0, xTrain.shape[0], (32,))\n",
        "    #Forward Pass\n",
        "    emb = C[xTrain[ix]]#using mini batch\n",
        "    h = torch.tanh(emb.view(-1, 45) @ w1 + b1) #now we've 45dim\n",
        "    logits = h @ w2 + b2\n",
        "    loss = F.cross_entropy(logits, yTrain[ix])#using mini batch\n",
        "\n",
        "    #Backward Pass\n",
        "    for p in para:\n",
        "        p.grad = None\n",
        "    loss.backward()\n",
        "\n",
        "    #update\n",
        "    #lr = 0.1 #10**-1 || after itrations Learning rate decay\n",
        "    lr = 0.1 if i < 100000 else 0.01\n",
        "    for p in para:\n",
        "        p.data += -lr * p.grad\n",
        "\n",
        "    #track stats Learning rate fineTune\n",
        "    #lri.append(lre[i])\n",
        "    stepi.append(i)\n",
        "    lossesi.append(loss.log10().item())\n",
        "\n",
        "print(f'Loss: {loss.item()}')\n",
        "\n",
        "## After using mini batch to train its almost instant\n",
        "\n",
        "## after learing rt finetune decrease 2.8 to 2.5 Loss"
      ],
      "metadata": {
        "colab": {
          "base_uri": "https://localhost:8080/"
        },
        "id": "np-sX3pBeByA",
        "outputId": "d7cfeee9-d65d-4688-ed86-4b5b05af3e11"
      },
      "execution_count": 100,
      "outputs": [
        {
          "output_type": "stream",
          "name": "stdout",
          "text": [
            "Loss: 2.2646119594573975\n"
          ]
        }
      ]
    },
    {
      "cell_type": "code",
      "source": [
        "plt.plot(stepi, lossesi)"
      ],
      "metadata": {
        "colab": {
          "base_uri": "https://localhost:8080/",
          "height": 447
        },
        "id": "DWBRu-vRh2LJ",
        "outputId": "4991a6bd-1fa8-413d-8edc-b23c4c56042a"
      },
      "execution_count": 105,
      "outputs": [
        {
          "output_type": "execute_result",
          "data": {
            "text/plain": [
              "[<matplotlib.lines.Line2D at 0x7ccd629890c0>]"
            ]
          },
          "metadata": {},
          "execution_count": 105
        },
        {
          "output_type": "display_data",
          "data": {
            "text/plain": [
              "<Figure size 640x480 with 1 Axes>"
            ],
            "image/png": "[encoded data removed]"
          },
          "metadata": {}
        }
      ]
    },
    {
      "cell_type": "markdown",
      "source": [
        "# So Training And Dev Loss are almost Equal So we are not Overfitting\n",
        "  + also this calles **Underfitting**\n",
        "  + so We can Deal with Underfitting Scaling the parameters.."
      ],
      "metadata": {
        "id": "V9JIpiOrgDN6"
      }
    },
    {
      "cell_type": "markdown",
      "source": [
        "#I Beat the shit out of 2.12 and 2.17 Loss\n",
        "####kind of but im gassed"
      ],
      "metadata": {
        "id": "C6swU7GwrDD3"
      }
    },
    {
      "cell_type": "code",
      "source": [
        "#Evaluating Loss yDev\n",
        "emb = C[xDev]\n",
        "h = torch.tanh(emb.view(-1, 45) @ w1 + b1)\n",
        "logits = h @ w2 + b2\n",
        "loss = F.cross_entropy(logits, yDev)\n",
        "loss"
      ],
      "metadata": {
        "colab": {
          "base_uri": "https://localhost:8080/"
        },
        "id": "PdNfwdH3fINp",
        "outputId": "c8a43ff5-6dc0-433d-d568-0c80bf07daed"
      },
      "execution_count": 102,
      "outputs": [
        {
          "output_type": "execute_result",
          "data": {
            "text/plain": [
              "tensor(2.1530, grad_fn=<NllLossBackward0>)"
            ]
          },
          "metadata": {},
          "execution_count": 102
        }
      ]
    },
    {
      "cell_type": "code",
      "source": [
        "#Evaluating Loss Training set\n",
        "emb = C[xTrain]\n",
        "h = torch.tanh(emb.view(-1, 45) @ w1 + b1)\n",
        "logits = h @ w2 + b2\n",
        "loss = F.cross_entropy(logits, yTrain)\n",
        "loss"
      ],
      "metadata": {
        "colab": {
          "base_uri": "https://localhost:8080/"
        },
        "id": "9758diP0fm-r",
        "outputId": "6ed8f737-aa0f-4770-f6da-6f80a3c338dd"
      },
      "execution_count": 103,
      "outputs": [
        {
          "output_type": "execute_result",
          "data": {
            "text/plain": [
              "tensor(2.0976, grad_fn=<NllLossBackward0>)"
            ]
          },
          "metadata": {},
          "execution_count": 103
        }
      ]
    },
    {
      "cell_type": "markdown",
      "source": [
        "#Vizualz The Embedding That Train by the NN"
      ],
      "metadata": {
        "id": "Wi1IfNyVj2r1"
      }
    },
    {
      "cell_type": "code",
      "source": [
        "plt.figure(figsize=(8,8))\n",
        "plt.scatter(C[:,0].data, C[:,1].data, s=200)\n",
        "for i in range(C.shape[0]):\n",
        "    plt.text(C[i,0].item(), C[i,1].item(), itos[i], ha='center',va='center', color='white')\n",
        "plt.grid('minor')"
      ],
      "metadata": {
        "colab": {
          "base_uri": "https://localhost:8080/",
          "height": 676
        },
        "id": "OMiVMzbkf_se",
        "outputId": "e7c8d17b-3d19-4588-ee64-814cfe7a62eb"
      },
      "execution_count": 68,
      "outputs": [
        {
          "output_type": "display_data",
          "data": {
            "text/plain": [
              "<Figure size 800x800 with 1 Axes>"
            ],
            "image/png": "[encoded data removed]"
          },
          "metadata": {}
        }
      ]
    },
    {
      "cell_type": "markdown",
      "source": [
        "#NOW Sample From The Model\n",
        "###LEts gen some names"
      ],
      "metadata": {
        "id": "t78x_RnfreEE"
      }
    },
    {
      "cell_type": "code",
      "source": [
        "g = torch.Generator().manual_seed(2147483647 + 10)\n",
        "\n",
        "for _ in range(20):\n",
        "    out = []\n",
        "    contxt = [0] * blocksiz\n",
        "    while True:\n",
        "        emb = C[torch.tensor([contxt])]\n",
        "        h = torch.tanh(emb.view(1, -1) @ w1 + b1)\n",
        "        logits = h @ w2 + b2\n",
        "        probs = F.softmax(logits, dim=1)\n",
        "        ix = torch.multinomial(probs, num_samples=1, generator=g).item()\n",
        "        contxt = contxt[1:] + [ix]\n",
        "        out.append(ix)\n",
        "        if ix == 0:\n",
        "            break\n",
        "    print(''.join(itos[i] for i in out))\n"
      ],
      "metadata": {
        "colab": {
          "base_uri": "https://localhost:8080/"
        },
        "id": "-4icj3fRkpFY",
        "outputId": "31f9e5fb-da77-45fb-ca70-74bddaa70889"
      },
      "execution_count": 107,
      "outputs": [
        {
          "output_type": "stream",
          "name": "stdout",
          "text": [
            "montalmyah.\n",
            "see.\n",
            "med.\n",
            "ryla.\n",
            "reisa.\n",
            "jendraege.\n",
            "zeredielin.\n",
            "shi.\n",
            "jenre.\n",
            "eliestanarielleimalke.\n",
            "miyah.\n",
            "bergavianel.\n",
            "kin.\n",
            "renlynn.\n",
            "novana.\n",
            "urzen.\n",
            "dariyah.\n",
            "faeh.\n",
            "yuma.\n",
            "miskous.\n"
          ]
        }
      ]
    },
    {
      "cell_type": "code",
      "source": [],
      "metadata": {
        "id": "0PWB4iAjsx-z"
      },
      "execution_count": null,
      "outputs": []
    }
  ]
}