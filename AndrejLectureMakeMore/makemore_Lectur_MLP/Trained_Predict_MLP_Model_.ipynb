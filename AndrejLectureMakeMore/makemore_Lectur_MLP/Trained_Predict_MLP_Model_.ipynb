{
  "nbformat": 4,
  "nbformat_minor": 0,
  "metadata": {
    "colab": {
      "provenance": []
    },
    "kernelspec": {
      "name": "python3",
      "display_name": "Python 3"
    },
    "language_info": {
      "name": "python"
    }
  },
  "cells": [
    {
      "cell_type": "code",
      "execution_count": 1,
      "metadata": {
        "id": "yG0z6MuSeGFS"
      },
      "outputs": [],
      "source": [
        "\n",
        "import torch\n",
        "import torch.nn.functional as F\n",
        "import matplotlib.pyplot as plt\n",
        "import random\n",
        "import numpy as np\n",
        "%matplotlib inline"
      ]
    },
    {
      "cell_type": "code",
      "source": [
        "from google.colab import drive\n",
        "drive.mount('/content/drive')\n"
      ],
      "metadata": {
        "id": "GNNx_wiP_BTB",
        "colab": {
          "base_uri": "https://localhost:8080/"
        },
        "outputId": "6719b52b-ecea-4b9e-96df-d6426b92967a"
      },
      "execution_count": 4,
      "outputs": [
        {
          "output_type": "stream",
          "name": "stdout",
          "text": [
            "Mounted at /content/drive\n"
          ]
        }
      ]
    },
    {
      "cell_type": "code",
      "source": [
        "dataset_path = '/content/drive/My Drive/dataset/names.txt'\n",
        "words = open(dataset_path, 'r').read().splitlines()"
      ],
      "metadata": {
        "id": "kNhPdXGXrOxY"
      },
      "execution_count": 5,
      "outputs": []
    },
    {
      "cell_type": "code",
      "source": [
        "words[:5]"
      ],
      "metadata": {
        "colab": {
          "base_uri": "https://localhost:8080/"
        },
        "id": "Ih7_K_Wp_U-A",
        "outputId": "1da0c896-ed32-4610-d5f1-afe601cbdde1"
      },
      "execution_count": 6,
      "outputs": [
        {
          "output_type": "execute_result",
          "data": {
            "text/plain": [
              "['emma', 'olivia', 'ava', 'isabella', 'sophia']"
            ]
          },
          "metadata": {},
          "execution_count": 6
        }
      ]
    },
    {
      "cell_type": "code",
      "source": [
        "chars = sorted(list(set(''.join(words))))\n",
        "stoi = {s:i+1 for i, s in enumerate(chars)} #a:1\n",
        "stoi['.'] = 0\n",
        "itos = {i:s for s, i in stoi.items()} #-->1:a\n"
      ],
      "metadata": {
        "id": "pYNIgFfZ_Xjw"
      },
      "execution_count": 8,
      "outputs": []
    },
    {
      "cell_type": "code",
      "source": [
        "def buildDataset(words):\n",
        "    blocksiz = 3 #trigram\n",
        "    X, Y = [], []\n",
        "    for w in words:\n",
        "        contxt = [0] * blocksiz\n",
        "        for ch in w + '.':\n",
        "            ix = stoi[ch]\n",
        "            X.append(contxt)\n",
        "            Y.append(ix)\n",
        "            conxtxt = contxt[1:] + [ix]\n",
        "    X = torch.tensor(X)\n",
        "    Y = torch.tensor(Y)\n",
        "    print(X.shape, Y.shape)\n",
        "    return X, Y\n",
        "random.seed(42)\n",
        "random.shuffle(words)\n",
        "n1 = int(0.8*len(words))\n",
        "n2 = int(0.9*len(words))\n",
        "\n",
        "xTrain, yTrain = buildDataset(words[:n1])\n",
        "xDev, yDev = buildDataset(words[n1:n2])\n",
        "xTest, yTest = buildDataset(words[n2:])"
      ],
      "metadata": {
        "colab": {
          "base_uri": "https://localhost:8080/"
        },
        "id": "1eFFb97Y_u2U",
        "outputId": "dce85fef-bdc9-43cd-e52a-301475a2c2fa"
      },
      "execution_count": 47,
      "outputs": [
        {
          "output_type": "stream",
          "name": "stdout",
          "text": [
            "torch.Size([182437, 3]) torch.Size([182437])\n",
            "torch.Size([22781, 3]) torch.Size([22781])\n",
            "torch.Size([22928, 3]) torch.Size([22928])\n"
          ]
        }
      ]
    },
    {
      "cell_type": "code",
      "source": [
        "xTrain.shape, yTrain.shape"
      ],
      "metadata": {
        "id": "kcyF2XkfAeJD",
        "colab": {
          "base_uri": "https://localhost:8080/"
        },
        "outputId": "ee969c7c-5f8f-4989-c1c0-7fef5794af4b"
      },
      "execution_count": 10,
      "outputs": [
        {
          "output_type": "execute_result",
          "data": {
            "text/plain": [
              "(torch.Size([182580, 3]), torch.Size([182580]))"
            ]
          },
          "metadata": {},
          "execution_count": 10
        }
      ]
    },
    {
      "cell_type": "code",
      "source": [
        "#parameters\n",
        "g = torch.Generator().manual_seed(2147483647)\n",
        "C = torch.randn(27, 15, generator=g) #15 dims\n",
        "w1 = torch.randn(45, 200, generator=g) #15*3=45 cos we've 15dim  3input layer\n",
        "b1 = torch.randn(200, generator=g)\n",
        "w2 = torch.randn(200, 27)\n",
        "b2 = torch.randn(27, generator=g)\n",
        "para = [C, w1, b1, w2, b2]"
      ],
      "metadata": {
        "id": "oQdyeHb6GMup"
      },
      "execution_count": 41,
      "outputs": []
    },
    {
      "cell_type": "code",
      "source": [
        "sum(p.nelement() for p in para)"
      ],
      "metadata": {
        "colab": {
          "base_uri": "https://localhost:8080/"
        },
        "id": "Y5yFVYOvHXwy",
        "outputId": "5e2ff1c7-7590-40d9-bc55-0ad4ffe73116"
      },
      "execution_count": 12,
      "outputs": [
        {
          "output_type": "execute_result",
          "data": {
            "text/plain": [
              "15032"
            ]
          },
          "metadata": {},
          "execution_count": 12
        }
      ]
    },
    {
      "cell_type": "code",
      "source": [
        "for p in para:\n",
        "    p.requires_grad = True"
      ],
      "metadata": {
        "id": "4kqZcvIxIp17"
      },
      "execution_count": 42,
      "outputs": []
    },
    {
      "cell_type": "code",
      "source": [
        "\n",
        "loss_i = []\n",
        "step_i = []"
      ],
      "metadata": {
        "id": "Bs8neoNaHfsL"
      },
      "execution_count": 18,
      "outputs": []
    },
    {
      "cell_type": "code",
      "source": [
        "\n",
        "for i in range(200000):\n",
        "    ix = torch.randint(0, xTrain.shape[0], (35,))\n",
        "    #forwardPass\n",
        "    emb = C[xTrain[ix]]\n",
        "    h = torch.tanh(emb.view(-1, 45) @ w1 + b1)\n",
        "    logits = h @ w2 + b2\n",
        "    loss = F.cross_entropy(logits, yTrain[ix])\n",
        "\n",
        "    #backward pass\n",
        "    for p in para:\n",
        "        p.grad = None\n",
        "    loss.backward()\n",
        "\n",
        "    # learning rate decay\n",
        "    lr = 0.1 if i < 100000 else 0.01\n",
        "    for p in para:\n",
        "        p.data += -lr * p.grad\n",
        "    step_i.append(i)\n",
        "    loss_i.append(loss.log10().item())\n",
        "print(f'Loss : {loss.item()}')\n",
        "\n",
        "\n"
      ],
      "metadata": {
        "colab": {
          "base_uri": "https://localhost:8080/"
        },
        "id": "_iNQNh1EHzbu",
        "outputId": "b1d4a238-945a-4bf3-c605-d98db917f037"
      },
      "execution_count": 43,
      "outputs": [
        {
          "output_type": "stream",
          "name": "stdout",
          "text": [
            "Loss : 2.9829044342041016\n"
          ]
        }
      ]
    },
    {
      "cell_type": "code",
      "source": [
        "#Evaluating Loss yDev\n",
        "emb = C[xDev]\n",
        "h = torch.tanh(emb.view(-1, 45) @ w1 + b1)\n",
        "logits = h @ w2 + b2\n",
        "loss = F.cross_entropy(logits, yDev)\n",
        "loss"
      ],
      "metadata": {
        "colab": {
          "base_uri": "https://localhost:8080/"
        },
        "id": "qY9ROZqkLmMI",
        "outputId": "da72f5a0-4e32-473f-ffe4-438c2d758a28"
      },
      "execution_count": 44,
      "outputs": [
        {
          "output_type": "execute_result",
          "data": {
            "text/plain": [
              "tensor(2.8325, grad_fn=<NllLossBackward0>)"
            ]
          },
          "metadata": {},
          "execution_count": 44
        }
      ]
    },
    {
      "cell_type": "code",
      "source": [
        "#Evaluating Loss Training set\n",
        "emb = C[xTrain]\n",
        "h = torch.tanh(emb.view(-1, 45) @ w1 + b1)\n",
        "logits = h @ w2 + b2\n",
        "loss = F.cross_entropy(logits, yTrain)\n",
        "loss"
      ],
      "metadata": {
        "colab": {
          "base_uri": "https://localhost:8080/"
        },
        "id": "sr6pIcHfLm35",
        "outputId": "31eec73e-1ff7-48f2-c852-2d94e95993f7"
      },
      "execution_count": 45,
      "outputs": [
        {
          "output_type": "execute_result",
          "data": {
            "text/plain": [
              "tensor(2.8379, grad_fn=<NllLossBackward0>)"
            ]
          },
          "metadata": {},
          "execution_count": 45
        }
      ]
    },
    {
      "cell_type": "code",
      "source": [
        "plt.plot(step_i, loss_i)"
      ],
      "metadata": {
        "colab": {
          "base_uri": "https://localhost:8080/",
          "height": 447
        },
        "id": "lEyoH3AaJjUT",
        "outputId": "d133e07b-ee1c-49db-b1ce-60dbae90a02e"
      },
      "execution_count": 25,
      "outputs": [
        {
          "output_type": "execute_result",
          "data": {
            "text/plain": [
              "[<matplotlib.lines.Line2D at 0x7a5eba66f160>]"
            ]
          },
          "metadata": {},
          "execution_count": 25
        },
        {
          "output_type": "display_data",
          "data": {
            "text/plain": [
              "<Figure size 640x480 with 1 Axes>"
            ],
            "image/png": "[encoded data removed]"
          },
          "metadata": {}
        }
      ]
    },
    {
      "cell_type": "code",
      "source": [
        "g = torch.Generator().manual_seed(2147483647 + 10)\n",
        "blocksiz=3\n",
        "for _ in range(20):\n",
        "    out = []\n",
        "    contxt = [0] * blocksiz\n",
        "    while True:\n",
        "        emb = C[torch.tensor([contxt])]\n",
        "        h = torch.tanh(emb.view(1, -1) @ w1 + b1)\n",
        "        logits = h @ w2 + b2\n",
        "        probs = F.softmax(logits, dim=1)\n",
        "        ix = torch.multinomial(probs, num_samples=1, generator=g).item()\n",
        "        contxt = contxt[1:] + [ix]\n",
        "        out.append(ix)\n",
        "        if ix == 0:\n",
        "            break\n",
        "    print(''.join(itos[i] for i in out))\n"
      ],
      "metadata": {
        "colab": {
          "base_uri": "https://localhost:8080/"
        },
        "id": "DHZsrUCPKj7B",
        "outputId": "e287a001-177b-4240-e3c7-52b44df30091"
      },
      "execution_count": 49,
      "outputs": [
        {
          "output_type": "stream",
          "name": "stdout",
          "text": [
            "ersdizochcembmdeabmoeicwwewsesctkejqmuzgqsigw.\n",
            "ejirdvochcembmdeabmoeicwwewowwwwwnsetoejthewowwwnseiszsmhwbtvjinzoxyimowiwwwwwnsetsejirdvochcembmdeabmoeicwxmcigtfycjbyncembmc.\n",
            "ejirdvochcembpqorscicdgtzuk.\n",
            "ktmbpqmuzgqsigw.\n",
            "uzjixnscqc.\n",
            "ljjnobidmopixmvwdmbpqxizwgsxiiwwwnsetwejthnwwqsztiejirdvochcembpqmuzgqsigw.\n",
            ".\n",
            "hmorydjoygmojqmuzgksjimdjtmpjqrzc.\n",
            ".\n",
            "aeporianoeicwcnsdtwwwwnsstixqsztiejirdvochcembpqmuzgqsigqxizwianlqmnwwqnzwqnzwmdmdwqmnwwqwwwnsetoeicwcnsdtwwwnsstixqsztiejirdvochcembpqxizwgsxixwwwnsetoeicwwewsnzwqnzsmhwbtvjimdjimdjixnscqcdgtzuksjimdjimdmdwqnzwqnzwmdmdwqmnwwqwwwnsstixqsz.\n",
            ".\n",
            ".\n",
            "aepovhdpigzskswianlqmnwwqnzwqnzwqnzwmdmdwqmsmdwowwwnsetoeicwxmckqeuzgqsigw.\n",
            "ianlqmnwwqsztiejirdvochcembpqxizwxnscqc.\n",
            "ljjnmpmopixmcigtfjqjgmok.\n",
            "y.\n",
            "ljjnobyncembpqmuzgqsigw.\n",
            "dazjtyncembpqxizwgsxiwwwwnsstixqsz.\n",
            ".\n",
            "ncjqmuzgksjimdmdwqmsmdwqmnwwqsztiejirdvochcembpqxizwgtzumdpdpzgizgqsigw.\n"
          ]
        }
      ]
    },
    {
      "cell_type": "code",
      "source": [],
      "metadata": {
        "id": "fSx1CF-HOtUJ"
      },
      "execution_count": null,
      "outputs": []
    }
  ]
}