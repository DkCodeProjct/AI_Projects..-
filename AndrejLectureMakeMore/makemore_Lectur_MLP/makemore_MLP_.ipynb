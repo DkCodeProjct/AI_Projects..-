{
  "nbformat": 4,
  "nbformat_minor": 0,
  "metadata": {
    "colab": {
      "provenance": []
    },
    "kernelspec": {
      "name": "python3",
      "display_name": "Python 3"
    },
    "language_info": {
      "name": "python"
    }
  },
  "cells": [
    {
      "cell_type": "code",
      "execution_count": null,
      "metadata": {
        "id": "MzZN8mfeWnFm"
      },
      "outputs": [],
      "source": [
        "import string\n",
        "import torch\n",
        "import torch.nn.functional as F\n",
        "import matplotlib.pyplot as plt\n",
        "%matplotlib inline"
      ]
    },
    {
      "cell_type": "code",
      "source": [
        "\n",
        "words = open('/content/sample_data/names.txt', 'r').read().splitlines()\n",
        "words[:5]"
      ],
      "metadata": {
        "colab": {
          "base_uri": "https://localhost:8080/"
        },
        "id": "n8KIUTp3dEPv",
        "outputId": "7ed1b1c6-92ae-44de-d30b-25f57efff9eb"
      },
      "execution_count": null,
      "outputs": [
        {
          "output_type": "execute_result",
          "data": {
            "text/plain": [
              "['emma', 'olivia', 'ava', 'isabella', 'sophia']"
            ]
          },
          "metadata": {},
          "execution_count": 12
        }
      ]
    },
    {
      "cell_type": "code",
      "source": [
        "\n",
        "chars = sorted(list(set(''.join(words))))\n",
        "stoi = {s:i+1 for i, s in enumerate(chars)}\n",
        "stoi['.'] = 0\n",
        "itos = {i:s for s, i in stoi.items()}\n",
        "print(itos)"
      ],
      "metadata": {
        "colab": {
          "base_uri": "https://localhost:8080/"
        },
        "id": "rVnqJxPsduBG",
        "outputId": "c1091f98-5d52-4a6d-a93b-c977fc1ddd51"
      },
      "execution_count": null,
      "outputs": [
        {
          "output_type": "stream",
          "name": "stdout",
          "text": [
            "{1: 'a', 2: 'b', 3: 'c', 4: 'd', 5: 'e', 6: 'f', 7: 'g', 8: 'h', 9: 'i', 10: 'j', 11: 'k', 12: 'l', 13: 'm', 14: 'n', 15: 'o', 16: 'p', 17: 'q', 18: 'r', 19: 's', 20: 't', 21: 'u', 22: 'v', 23: 'w', 24: 'x', 25: 'y', 26: 'z', 0: '.'}\n"
          ]
        }
      ]
    },
    {
      "cell_type": "code",
      "source": [
        "\n",
        "\n",
        "blockSix = 3 # trigram\n",
        "\n",
        "X, Y = [], []\n",
        "for w in words[:5]:\n",
        "    contxt = [0] * blockSix\n",
        "    for ch in w + '.':\n",
        "        ix = stoi[ch]\n",
        "        X.append(contxt)\n",
        "        Y.append(ix)\n",
        "        print(''.join(itos[i] for i in contxt), '--->', itos[ix])\n",
        "        contxt = contxt[1:] + [ix]\n",
        "X = torch.tensor(X)\n",
        "Y = torch.tensor(Y)"
      ],
      "metadata": {
        "colab": {
          "base_uri": "https://localhost:8080/"
        },
        "id": "AsggPbG2eN9N",
        "outputId": "f3012528-d9b0-4ad9-f272-2fb0820b801d"
      },
      "execution_count": null,
      "outputs": [
        {
          "output_type": "stream",
          "name": "stdout",
          "text": [
            "... ---> e\n",
            "..e ---> m\n",
            ".em ---> m\n",
            "emm ---> a\n",
            "mma ---> .\n",
            "... ---> o\n",
            "..o ---> l\n",
            ".ol ---> i\n",
            "oli ---> v\n",
            "liv ---> i\n",
            "ivi ---> a\n",
            "via ---> .\n",
            "... ---> a\n",
            "..a ---> v\n",
            ".av ---> a\n",
            "ava ---> .\n",
            "... ---> i\n",
            "..i ---> s\n",
            ".is ---> a\n",
            "isa ---> b\n",
            "sab ---> e\n",
            "abe ---> l\n",
            "bel ---> l\n",
            "ell ---> a\n",
            "lla ---> .\n",
            "... ---> s\n",
            "..s ---> o\n",
            ".so ---> p\n",
            "sop ---> h\n",
            "oph ---> i\n",
            "phi ---> a\n",
            "hia ---> .\n"
          ]
        }
      ]
    },
    {
      "cell_type": "code",
      "source": [
        "X.shape, X.type, Y.shape, Y.type\n"
      ],
      "metadata": {
        "id": "U4VBaDOJiaCD",
        "colab": {
          "base_uri": "https://localhost:8080/"
        },
        "outputId": "16813682-6592-4abc-9f6e-f0725d9b7014"
      },
      "execution_count": null,
      "outputs": [
        {
          "output_type": "execute_result",
          "data": {
            "text/plain": [
              "(torch.Size([32, 3]),\n",
              " <function Tensor.type>,\n",
              " torch.Size([32]),\n",
              " <function Tensor.type>)"
            ]
          },
          "metadata": {},
          "execution_count": 24
        }
      ]
    },
    {
      "cell_type": "code",
      "source": [
        "X\n"
      ],
      "metadata": {
        "colab": {
          "base_uri": "https://localhost:8080/"
        },
        "id": "3pxDp49kTVPN",
        "outputId": "f6a0d270-d8bb-4508-84bf-6f4dd9aeaecb"
      },
      "execution_count": null,
      "outputs": [
        {
          "output_type": "execute_result",
          "data": {
            "text/plain": [
              "tensor([[ 0,  0,  0],\n",
              "        [ 0,  0,  5],\n",
              "        [ 0,  5, 13],\n",
              "        [ 5, 13, 13],\n",
              "        [13, 13,  1],\n",
              "        [ 0,  0,  0],\n",
              "        [ 0,  0, 15],\n",
              "        [ 0, 15, 12],\n",
              "        [15, 12,  9],\n",
              "        [12,  9, 22],\n",
              "        [ 9, 22,  9],\n",
              "        [22,  9,  1],\n",
              "        [ 0,  0,  0],\n",
              "        [ 0,  0,  1],\n",
              "        [ 0,  1, 22],\n",
              "        [ 1, 22,  1],\n",
              "        [ 0,  0,  0],\n",
              "        [ 0,  0,  9],\n",
              "        [ 0,  9, 19],\n",
              "        [ 9, 19,  1],\n",
              "        [19,  1,  2],\n",
              "        [ 1,  2,  5],\n",
              "        [ 2,  5, 12],\n",
              "        [ 5, 12, 12],\n",
              "        [12, 12,  1],\n",
              "        [ 0,  0,  0],\n",
              "        [ 0,  0, 19],\n",
              "        [ 0, 19, 15],\n",
              "        [19, 15, 16],\n",
              "        [15, 16,  8],\n",
              "        [16,  8,  9],\n",
              "        [ 8,  9,  1]])"
            ]
          },
          "metadata": {},
          "execution_count": 25
        }
      ]
    },
    {
      "cell_type": "code",
      "source": [
        "Y"
      ],
      "metadata": {
        "colab": {
          "base_uri": "https://localhost:8080/"
        },
        "id": "BAtHzJQLTwrB",
        "outputId": "b96d70eb-a9fd-4c1f-c785-d53068316158"
      },
      "execution_count": null,
      "outputs": [
        {
          "output_type": "execute_result",
          "data": {
            "text/plain": [
              "tensor([ 5, 13, 13,  1,  0, 15, 12,  9, 22,  9,  1,  0,  1, 22,  1,  0,  9, 19,\n",
              "         1,  2,  5, 12, 12,  1,  0, 19, 15, 16,  8,  9,  1,  0])"
            ]
          },
          "metadata": {},
          "execution_count": 26
        }
      ]
    },
    {
      "cell_type": "markdown",
      "source": [
        "#Predicting NN"
      ],
      "metadata": {
        "id": "O0HnEBq0T8uL"
      }
    },
    {
      "cell_type": "markdown",
      "source": [
        "# Neural Probablistic Language Model\n",
        "\n",
        "![Untitled.png](data:image/png;base64,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)"
      ],
      "metadata": {
        "id": "ldIPDEYQUl5a"
      }
    },
    {
      "cell_type": "code",
      "source": [
        "#Predict NN"
      ],
      "metadata": {
        "id": "vqECtuwpT56u"
      },
      "execution_count": null,
      "outputs": []
    },
    {
      "cell_type": "code",
      "source": [
        "C = torch.randn((27, 2))# loock up table in c"
      ],
      "metadata": {
        "id": "uDOhQCqETx4y"
      },
      "execution_count": null,
      "outputs": []
    },
    {
      "cell_type": "code",
      "source": [
        "F.one_hot(torch.tensor(5), num_classes=27) @ C"
      ],
      "metadata": {
        "colab": {
          "base_uri": "https://localhost:8080/",
          "height": 161
        },
        "collapsed": true,
        "id": "Vku_x6GwUpjo",
        "outputId": "1b8d4221-9a46-46db-faf8-fe93734ceff7"
      },
      "execution_count": null,
      "outputs": [
        {
          "output_type": "error",
          "ename": "RuntimeError",
          "evalue": "expected m1 and m2 to have the same dtype, but got: long int != float",
          "traceback": [
            "\u001b[0;31m---------------------------------------------------------------------------\u001b[0m",
            "\u001b[0;31mRuntimeError\u001b[0m                              Traceback (most recent call last)",
            "\u001b[0;32m<ipython-input-16-399fa32a588d>\u001b[0m in \u001b[0;36m<cell line: 1>\u001b[0;34m()\u001b[0m\n\u001b[0;32m----> 1\u001b[0;31m \u001b[0mF\u001b[0m\u001b[0;34m.\u001b[0m\u001b[0mone_hot\u001b[0m\u001b[0;34m(\u001b[0m\u001b[0mtorch\u001b[0m\u001b[0;34m.\u001b[0m\u001b[0mtensor\u001b[0m\u001b[0;34m(\u001b[0m\u001b[0;36m5\u001b[0m\u001b[0;34m)\u001b[0m\u001b[0;34m,\u001b[0m \u001b[0mnum_classes\u001b[0m\u001b[0;34m=\u001b[0m\u001b[0;36m27\u001b[0m\u001b[0;34m)\u001b[0m \u001b[0;34m@\u001b[0m \u001b[0mC\u001b[0m\u001b[0;34m\u001b[0m\u001b[0;34m\u001b[0m\u001b[0m\n\u001b[0m",
            "\u001b[0;31mRuntimeError\u001b[0m: expected m1 and m2 to have the same dtype, but got: long int != float"
          ]
        }
      ]
    },
    {
      "cell_type": "code",
      "source": [
        "F.one_hot(torch.tensor(1), num_classes=27).float() @ C"
      ],
      "metadata": {
        "colab": {
          "base_uri": "https://localhost:8080/"
        },
        "id": "tgiorrvUVRDZ",
        "outputId": "3e331415-532f-402e-eacf-98f5712fe675"
      },
      "execution_count": null,
      "outputs": [
        {
          "output_type": "execute_result",
          "data": {
            "text/plain": [
              "tensor([ 0.5585, -0.6608])"
            ]
          },
          "metadata": {},
          "execution_count": 17
        }
      ]
    },
    {
      "cell_type": "markdown",
      "source": [
        "#torch Indexing"
      ],
      "metadata": {
        "id": "OzlNDi10Z2A_"
      }
    },
    {
      "cell_type": "code",
      "source": [
        "X[10, 2] #10th example 2nd dim"
      ],
      "metadata": {
        "colab": {
          "base_uri": "https://localhost:8080/"
        },
        "id": "tNrHRIMTXyWa",
        "outputId": "cc2880fe-5868-4887-b9b2-571bbe7b0e0e"
      },
      "execution_count": null,
      "outputs": [
        {
          "output_type": "execute_result",
          "data": {
            "text/plain": [
              "tensor(9)"
            ]
          },
          "metadata": {},
          "execution_count": 17
        }
      ]
    },
    {
      "cell_type": "code",
      "source": [
        "C[X][10, 2]"
      ],
      "metadata": {
        "colab": {
          "base_uri": "https://localhost:8080/"
        },
        "id": "WU0zKI3jZiec",
        "outputId": "2282534b-898a-47db-da12-b59ae0893050"
      },
      "execution_count": null,
      "outputs": [
        {
          "output_type": "execute_result",
          "data": {
            "text/plain": [
              "tensor([0.0827, 0.2834])"
            ]
          },
          "metadata": {},
          "execution_count": 18
        }
      ]
    },
    {
      "cell_type": "code",
      "source": [
        "C[9]"
      ],
      "metadata": {
        "colab": {
          "base_uri": "https://localhost:8080/"
        },
        "id": "Dngr5vrNZnD3",
        "outputId": "810cbe81-a133-4875-e98d-07c07c8512bc"
      },
      "execution_count": null,
      "outputs": [
        {
          "output_type": "execute_result",
          "data": {
            "text/plain": [
              "tensor([0.0827, 0.2834])"
            ]
          },
          "metadata": {},
          "execution_count": 19
        }
      ]
    },
    {
      "cell_type": "markdown",
      "source": [
        "#Constructing Hidden Layer\n",
        "  + num of input==6, WHY cos we've 2dim Embading and we've 3 of them.. 3x2=6inputs"
      ],
      "metadata": {
        "id": "mFJhbj2IaDBR"
      }
    },
    {
      "cell_type": "code",
      "source": [
        "emb = C[X]\n",
        "emb.shape"
      ],
      "metadata": {
        "colab": {
          "base_uri": "https://localhost:8080/"
        },
        "id": "jlbJLPAhZpPQ",
        "outputId": "af2df463-0f56-4852-b169-55c8d903642e"
      },
      "execution_count": null,
      "outputs": [
        {
          "output_type": "execute_result",
          "data": {
            "text/plain": [
              "torch.Size([32, 3, 2])"
            ]
          },
          "metadata": {},
          "execution_count": 18
        }
      ]
    },
    {
      "cell_type": "code",
      "source": [
        "w1 = torch.randn((6, 100)) #6input layers / 100hiden layer\n",
        "b1 = torch.randn(100)"
      ],
      "metadata": {
        "id": "JXeC2YhMavtE"
      },
      "execution_count": null,
      "outputs": []
    },
    {
      "cell_type": "code",
      "source": [
        "emb @ w1 + b1"
      ],
      "metadata": {
        "colab": {
          "base_uri": "https://localhost:8080/",
          "height": 161
        },
        "id": "mbjOjo3GcKBo",
        "outputId": "8e5d57a7-3b22-4ddd-d09d-afb55e34a925"
      },
      "execution_count": null,
      "outputs": [
        {
          "output_type": "error",
          "ename": "RuntimeError",
          "evalue": "mat1 and mat2 shapes cannot be multiplied (96x2 and 6x100)",
          "traceback": [
            "\u001b[0;31m---------------------------------------------------------------------------\u001b[0m",
            "\u001b[0;31mRuntimeError\u001b[0m                              Traceback (most recent call last)",
            "\u001b[0;32m<ipython-input-20-1498f270eab1>\u001b[0m in \u001b[0;36m<cell line: 1>\u001b[0;34m()\u001b[0m\n\u001b[0;32m----> 1\u001b[0;31m \u001b[0memb\u001b[0m \u001b[0;34m@\u001b[0m \u001b[0mw1\u001b[0m \u001b[0;34m+\u001b[0m \u001b[0mb1\u001b[0m\u001b[0;34m\u001b[0m\u001b[0;34m\u001b[0m\u001b[0m\n\u001b[0m",
            "\u001b[0;31mRuntimeError\u001b[0m: mat1 and mat2 shapes cannot be multiplied (96x2 and 6x100)"
          ]
        }
      ]
    },
    {
      "cell_type": "markdown",
      "source": [
        "##Using TORCH.CAT To avoid the dim error\n",
        " + we need 32x6 dim what we have 32x2\n",
        " + using the cat:\n",
        "    * Concatenates the given sequence of seq tensors in the given dimension. All tensors must either have the same shape (except in the concatenating dimension) or be a 1-D empty tensor with size (0,).\n",
        "    \n",
        "    * torch.unbined\n",
        "\n",
        "\n",
        "//readeMore"
      ],
      "metadata": {
        "id": "NBQr2PTKcj3e"
      }
    },
    {
      "cell_type": "code",
      "source": [
        "torch.cat([emb[:, 0, :], emb[:, 1, :], emb[:, 2, :]], 1).shape\n",
        "#not the ([32, dim==6])"
      ],
      "metadata": {
        "colab": {
          "base_uri": "https://localhost:8080/"
        },
        "id": "1NLnk-vbcMGF",
        "outputId": "99ffbf8a-14a0-4b23-e55a-7e54e233a1fe"
      },
      "execution_count": null,
      "outputs": [
        {
          "output_type": "execute_result",
          "data": {
            "text/plain": [
              "torch.Size([32, 6])"
            ]
          },
          "metadata": {},
          "execution_count": 21
        }
      ]
    },
    {
      "cell_type": "code",
      "source": [
        "torch.cat(torch.unbind(emb, 1), 1) #this is inefficent cos this creating ne storage memory to create whole another tensors thats why use VIEW"
      ],
      "metadata": {
        "colab": {
          "base_uri": "https://localhost:8080/"
        },
        "collapsed": true,
        "id": "8hJaKQ9zhfuz",
        "outputId": "702763a5-310c-4634-a225-d3c9a80bd743"
      },
      "execution_count": null,
      "outputs": [
        {
          "output_type": "execute_result",
          "data": {
            "text/plain": [
              "tensor([[ 1.1385,  0.7341,  1.1385,  0.7341,  1.1385,  0.7341],\n",
              "        [ 1.1385,  0.7341,  1.1385,  0.7341,  0.0982, -1.1482],\n",
              "        [ 1.1385,  0.7341,  0.0982, -1.1482,  0.2038, -1.5303],\n",
              "        [ 0.0982, -1.1482,  0.2038, -1.5303,  0.2038, -1.5303],\n",
              "        [ 0.2038, -1.5303,  0.2038, -1.5303,  0.5585, -0.6608],\n",
              "        [ 1.1385,  0.7341,  1.1385,  0.7341,  1.1385,  0.7341],\n",
              "        [ 1.1385,  0.7341,  1.1385,  0.7341, -0.4522, -0.8539],\n",
              "        [ 1.1385,  0.7341, -0.4522, -0.8539, -0.2968,  0.9810],\n",
              "        [-0.4522, -0.8539, -0.2968,  0.9810,  1.3814,  0.9693],\n",
              "        [-0.2968,  0.9810,  1.3814,  0.9693,  0.3684, -0.8311],\n",
              "        [ 1.3814,  0.9693,  0.3684, -0.8311,  1.3814,  0.9693],\n",
              "        [ 0.3684, -0.8311,  1.3814,  0.9693,  0.5585, -0.6608],\n",
              "        [ 1.1385,  0.7341,  1.1385,  0.7341,  1.1385,  0.7341],\n",
              "        [ 1.1385,  0.7341,  1.1385,  0.7341,  0.5585, -0.6608],\n",
              "        [ 1.1385,  0.7341,  0.5585, -0.6608,  0.3684, -0.8311],\n",
              "        [ 0.5585, -0.6608,  0.3684, -0.8311,  0.5585, -0.6608],\n",
              "        [ 1.1385,  0.7341,  1.1385,  0.7341,  1.1385,  0.7341],\n",
              "        [ 1.1385,  0.7341,  1.1385,  0.7341,  1.3814,  0.9693],\n",
              "        [ 1.1385,  0.7341,  1.3814,  0.9693, -0.3907,  1.9436],\n",
              "        [ 1.3814,  0.9693, -0.3907,  1.9436,  0.5585, -0.6608],\n",
              "        [-0.3907,  1.9436,  0.5585, -0.6608, -1.4682, -0.3098],\n",
              "        [ 0.5585, -0.6608, -1.4682, -0.3098,  0.0982, -1.1482],\n",
              "        [-1.4682, -0.3098,  0.0982, -1.1482, -0.2968,  0.9810],\n",
              "        [ 0.0982, -1.1482, -0.2968,  0.9810, -0.2968,  0.9810],\n",
              "        [-0.2968,  0.9810, -0.2968,  0.9810,  0.5585, -0.6608],\n",
              "        [ 1.1385,  0.7341,  1.1385,  0.7341,  1.1385,  0.7341],\n",
              "        [ 1.1385,  0.7341,  1.1385,  0.7341, -0.3907,  1.9436],\n",
              "        [ 1.1385,  0.7341, -0.3907,  1.9436, -0.4522, -0.8539],\n",
              "        [-0.3907,  1.9436, -0.4522, -0.8539,  1.8561,  0.9397],\n",
              "        [-0.4522, -0.8539,  1.8561,  0.9397, -0.7457, -0.1151],\n",
              "        [ 1.8561,  0.9397, -0.7457, -0.1151,  1.3814,  0.9693],\n",
              "        [-0.7457, -0.1151,  1.3814,  0.9693,  0.5585, -0.6608]])"
            ]
          },
          "metadata": {},
          "execution_count": 22
        }
      ]
    },
    {
      "cell_type": "markdown",
      "source": [
        "#Tensors in Torch / Pytorch Internals\n",
        "  * view"
      ],
      "metadata": {
        "id": "x_KwWTXJf7Jb"
      }
    },
    {
      "cell_type": "code",
      "source": [
        "a = torch.arange(18)\n",
        "a"
      ],
      "metadata": {
        "colab": {
          "base_uri": "https://localhost:8080/"
        },
        "id": "3y3B2Jvcf6zD",
        "outputId": "e9c0eca8-93d3-4404-88c1-dde625e5fbe2"
      },
      "execution_count": null,
      "outputs": [
        {
          "output_type": "execute_result",
          "data": {
            "text/plain": [
              "tensor([ 0,  1,  2,  3,  4,  5,  6,  7,  8,  9, 10, 11, 12, 13, 14, 15, 16, 17])"
            ]
          },
          "metadata": {},
          "execution_count": 40
        }
      ]
    },
    {
      "cell_type": "code",
      "source": [
        "a.shape"
      ],
      "metadata": {
        "colab": {
          "base_uri": "https://localhost:8080/"
        },
        "id": "lr40vfnoeUst",
        "outputId": "41879c00-36cb-4270-a32b-e2f2b9a83c6e"
      },
      "execution_count": null,
      "outputs": [
        {
          "output_type": "execute_result",
          "data": {
            "text/plain": [
              "torch.Size([18])"
            ]
          },
          "metadata": {},
          "execution_count": 41
        }
      ]
    },
    {
      "cell_type": "code",
      "source": [
        "a.view(2, 9)"
      ],
      "metadata": {
        "colab": {
          "base_uri": "https://localhost:8080/"
        },
        "id": "OFUHTrERgEPA",
        "outputId": "30760ef5-30e7-4d74-8c0f-5d31be128910"
      },
      "execution_count": null,
      "outputs": [
        {
          "output_type": "execute_result",
          "data": {
            "text/plain": [
              "tensor([[ 0,  1,  2,  3,  4,  5,  6,  7,  8],\n",
              "        [ 9, 10, 11, 12, 13, 14, 15, 16, 17]])"
            ]
          },
          "metadata": {},
          "execution_count": 42
        }
      ]
    },
    {
      "cell_type": "code",
      "source": [
        "a.view(3, 3, 2)"
      ],
      "metadata": {
        "colab": {
          "base_uri": "https://localhost:8080/"
        },
        "id": "0O9CkCWqgJt0",
        "outputId": "b01bc927-4a91-4757-a5ee-5a28f15f72de"
      },
      "execution_count": null,
      "outputs": [
        {
          "output_type": "execute_result",
          "data": {
            "text/plain": [
              "tensor([[[ 0,  1],\n",
              "         [ 2,  3],\n",
              "         [ 4,  5]],\n",
              "\n",
              "        [[ 6,  7],\n",
              "         [ 8,  9],\n",
              "         [10, 11]],\n",
              "\n",
              "        [[12, 13],\n",
              "         [14, 15],\n",
              "         [16, 17]]])"
            ]
          },
          "metadata": {},
          "execution_count": 43
        }
      ]
    },
    {
      "cell_type": "code",
      "source": [
        "a.view(9, 2)"
      ],
      "metadata": {
        "colab": {
          "base_uri": "https://localhost:8080/"
        },
        "id": "GDLu9nNFgaqN",
        "outputId": "b1ebeb8c-26e6-4e14-f24b-5ae4661b8869"
      },
      "execution_count": null,
      "outputs": [
        {
          "output_type": "execute_result",
          "data": {
            "text/plain": [
              "tensor([[ 0,  1],\n",
              "        [ 2,  3],\n",
              "        [ 4,  5],\n",
              "        [ 6,  7],\n",
              "        [ 8,  9],\n",
              "        [10, 11],\n",
              "        [12, 13],\n",
              "        [14, 15],\n",
              "        [16, 17]])"
            ]
          },
          "metadata": {},
          "execution_count": 46
        }
      ]
    },
    {
      "cell_type": "code",
      "source": [
        "emb.view(32, 6) == torch.cat(torch.unbind(emb, 1), 1)"
      ],
      "metadata": {
        "colab": {
          "base_uri": "https://localhost:8080/"
        },
        "id": "bOKXkfTKgd54",
        "outputId": "a151079b-7259-412a-a221-581670c87c71"
      },
      "execution_count": null,
      "outputs": [
        {
          "output_type": "execute_result",
          "data": {
            "text/plain": [
              "tensor([[True, True, True, True, True, True],\n",
              "        [True, True, True, True, True, True],\n",
              "        [True, True, True, True, True, True],\n",
              "        [True, True, True, True, True, True],\n",
              "        [True, True, True, True, True, True],\n",
              "        [True, True, True, True, True, True],\n",
              "        [True, True, True, True, True, True],\n",
              "        [True, True, True, True, True, True],\n",
              "        [True, True, True, True, True, True],\n",
              "        [True, True, True, True, True, True],\n",
              "        [True, True, True, True, True, True],\n",
              "        [True, True, True, True, True, True],\n",
              "        [True, True, True, True, True, True],\n",
              "        [True, True, True, True, True, True],\n",
              "        [True, True, True, True, True, True],\n",
              "        [True, True, True, True, True, True],\n",
              "        [True, True, True, True, True, True],\n",
              "        [True, True, True, True, True, True],\n",
              "        [True, True, True, True, True, True],\n",
              "        [True, True, True, True, True, True],\n",
              "        [True, True, True, True, True, True],\n",
              "        [True, True, True, True, True, True],\n",
              "        [True, True, True, True, True, True],\n",
              "        [True, True, True, True, True, True],\n",
              "        [True, True, True, True, True, True],\n",
              "        [True, True, True, True, True, True],\n",
              "        [True, True, True, True, True, True],\n",
              "        [True, True, True, True, True, True],\n",
              "        [True, True, True, True, True, True],\n",
              "        [True, True, True, True, True, True],\n",
              "        [True, True, True, True, True, True],\n",
              "        [True, True, True, True, True, True]])"
            ]
          },
          "metadata": {},
          "execution_count": 23
        }
      ]
    },
    {
      "cell_type": "code",
      "source": [
        "h = emb.view(32, 6) @ w1 + b1\n",
        "#h = emb.view(-1, 6) @ w1 + b1 // this -1 should==(32) cos if 6 torch #derived 32 like that and so we dont need to hardcode mxn"
      ],
      "metadata": {
        "id": "iXw71iHBiRA_"
      },
      "execution_count": null,
      "outputs": []
    },
    {
      "cell_type": "code",
      "source": [
        "h.shape"
      ],
      "metadata": {
        "colab": {
          "base_uri": "https://localhost:8080/"
        },
        "id": "ry_lNMYZimVD",
        "outputId": "c2b3b43d-d0d4-4e70-8348-23f6849bd4dc"
      },
      "execution_count": null,
      "outputs": [
        {
          "output_type": "execute_result",
          "data": {
            "text/plain": [
              "torch.Size([32, 100])"
            ]
          },
          "metadata": {},
          "execution_count": 53
        }
      ]
    },
    {
      "cell_type": "code",
      "source": [
        "h = torch.tanh(emb.view(-1, 6) @ w1 + b1)\n",
        "# also this w1+b1 Brodcasting\n",
        "## in BROADCASTING\n",
        "# 32 100\n",
        "#  1 100 // Fake 1dim\n",
        "# the right hand[100] should math and the left sould be Match Or Empty so this work as well\n",
        "# Always make sure About BRoadcasting"
      ],
      "metadata": {
        "id": "vO12qphfitfW"
      },
      "execution_count": null,
      "outputs": []
    },
    {
      "cell_type": "markdown",
      "source": [
        "###Final Layer"
      ],
      "metadata": {
        "id": "fzv37DPklUQz"
      }
    },
    {
      "cell_type": "code",
      "source": [
        "w2 = torch.randn((100, 27)) #27 cos we've 27 chars\n",
        "b2 = torch.randn((27))"
      ],
      "metadata": {
        "id": "PPfriDEPkKvG"
      },
      "execution_count": null,
      "outputs": []
    },
    {
      "cell_type": "code",
      "source": [
        "logits = h @ w2 + b2 #ligits or OUTPUT of last layer"
      ],
      "metadata": {
        "id": "GIPg8lUUlpN-"
      },
      "execution_count": null,
      "outputs": []
    },
    {
      "cell_type": "code",
      "source": [
        "counts = logits.exp() #exp to get fake coutns"
      ],
      "metadata": {
        "id": "BeHtBKaOluIR"
      },
      "execution_count": null,
      "outputs": []
    },
    {
      "cell_type": "code",
      "source": [
        "probs = counts / counts.sum(1, keepdims=True) # get the noraml dist,,. and keep 1st dim"
      ],
      "metadata": {
        "id": "RyooW2ool3nT"
      },
      "execution_count": null,
      "outputs": []
    },
    {
      "cell_type": "code",
      "source": [
        "probs[0].sum()"
      ],
      "metadata": {
        "colab": {
          "base_uri": "https://localhost:8080/"
        },
        "id": "favlvkO_mTmw",
        "outputId": "80b86b9c-3546-47ca-f4cf-38a45f85a1f0"
      },
      "execution_count": null,
      "outputs": [
        {
          "output_type": "execute_result",
          "data": {
            "text/plain": [
              "tensor(1.)"
            ]
          },
          "metadata": {},
          "execution_count": 64
        }
      ]
    },
    {
      "cell_type": "code",
      "source": [
        "probs[torch.arange(32), Y] # this will Correct Prob as asign by this nn to the corect Char\n"
      ],
      "metadata": {
        "colab": {
          "base_uri": "https://localhost:8080/"
        },
        "id": "rQiA6hCfmXjl",
        "outputId": "ce185c35-0af2-443f-c966-bfbf59b24e65"
      },
      "execution_count": null,
      "outputs": [
        {
          "output_type": "execute_result",
          "data": {
            "text/plain": [
              "tensor([1.7787e-08, 2.7029e-08, 1.0006e-06, 3.1149e-09, 5.1750e-11, 9.8736e-01,\n",
              "        1.7754e-04, 8.3977e-06, 3.6400e-04, 6.7402e-11, 2.4373e-07, 9.0878e-10,\n",
              "        3.4906e-09, 1.5956e-14, 3.0513e-10, 3.5853e-07, 8.9168e-10, 9.7489e-02,\n",
              "        1.1834e-12, 1.3589e-05, 3.2929e-13, 7.6760e-01, 4.7776e-12, 1.2631e-04,\n",
              "        1.0036e-08, 6.0301e-03, 9.9981e-01, 1.6863e-12, 1.4207e-02, 8.2476e-11,\n",
              "        1.1411e-06, 5.9284e-11])"
            ]
          },
          "metadata": {},
          "execution_count": 65
        }
      ]
    },
    {
      "cell_type": "markdown",
      "source": [
        "#Negative Log Likelyhood Loss"
      ],
      "metadata": {
        "id": "yJ63A-XfnVog"
      }
    },
    {
      "cell_type": "code",
      "source": [
        "loss = -probs[torch.arange(32), Y].log().mean() #take the log,,/ avarage prob and - it\n",
        "loss"
      ],
      "metadata": {
        "colab": {
          "base_uri": "https://localhost:8080/"
        },
        "id": "lpkcK-xKnKjk",
        "outputId": "e1cbdb96-ddad-470f-ea92-f219a60a89a8"
      },
      "execution_count": null,
      "outputs": [
        {
          "output_type": "execute_result",
          "data": {
            "text/plain": [
              "tensor(17.4659)"
            ]
          },
          "metadata": {},
          "execution_count": 31
        }
      ]
    },
    {
      "cell_type": "markdown",
      "source": [
        "#Now Train"
      ],
      "metadata": {
        "id": "SOckMoUfnwem"
      }
    },
    {
      "cell_type": "code",
      "source": [
        "X.shape, Y.shape # Dataset"
      ],
      "metadata": {
        "colab": {
          "base_uri": "https://localhost:8080/"
        },
        "id": "H4m5X6oZnnYp",
        "outputId": "b2173e57-a830-4bf3-f6a3-0248ba3e45f2"
      },
      "execution_count": null,
      "outputs": [
        {
          "output_type": "execute_result",
          "data": {
            "text/plain": [
              "(torch.Size([32, 3]), torch.Size([32]))"
            ]
          },
          "metadata": {},
          "execution_count": 68
        }
      ]
    },
    {
      "cell_type": "code",
      "source": [
        "# Parameters\n",
        "\n",
        "g = torch.Generator().manual_seed(2147483647)\n",
        "C = torch.randn((27, 2), generator=g)\n",
        "w1 = torch.randn((6, 100), generator=g)\n",
        "b1 = torch.randn((100), generator=g)\n",
        "w2 = torch.randn((100, 27), generator=g)\n",
        "b2 = torch.randn((27), generator=g)\n",
        "para = [C, w1, b1, w2, b2]"
      ],
      "metadata": {
        "id": "HX5G48q4n3y-"
      },
      "execution_count": null,
      "outputs": []
    },
    {
      "cell_type": "code",
      "source": [
        "#num in para in total\n",
        "sum(p.nelement() for p in para)"
      ],
      "metadata": {
        "colab": {
          "base_uri": "https://localhost:8080/"
        },
        "id": "kJFrtuKBoxfY",
        "outputId": "3406c04a-8d14-4553-dd8c-f9b3bbf5f684"
      },
      "execution_count": null,
      "outputs": [
        {
          "output_type": "execute_result",
          "data": {
            "text/plain": [
              "3481"
            ]
          },
          "metadata": {},
          "execution_count": 70
        }
      ]
    },
    {
      "cell_type": "code",
      "source": [
        "#Forward Pass\n",
        "\n",
        "emb = C[X]\n",
        "h = torch.tanh(emb.view(-1, 6) @ w1 + b1)\n",
        "logits = h @ w2 + b2\n",
        "### Loss\n",
        "#counts = logits.exp()\n",
        "#prob = counts / counts.sum(1, keepdims=True)\n",
        "#loss = -prob[torch.arange(32), Y].log().mean()\n",
        "loss = F.cross_entropy(logits, Y)\n",
        "loss\n",
        "\n",
        "## Dont Calculate Loss manualy these codes Use CROSS_ENROPY cos it Efficent and make math Cal Easy also backward pass"
      ],
      "metadata": {
        "colab": {
          "base_uri": "https://localhost:8080/"
        },
        "id": "AqNI8cD-o7Vm",
        "outputId": "2a21503b-b3a4-4abf-cef7-acf76027cb8d"
      },
      "execution_count": null,
      "outputs": [
        {
          "output_type": "execute_result",
          "data": {
            "text/plain": [
              "tensor(17.7697)"
            ]
          },
          "metadata": {},
          "execution_count": 85
        }
      ]
    },
    {
      "cell_type": "code",
      "source": [
        "#Also we can use Cross_entropy from torch\n",
        "#and it gives the same result as those Loss Codes\n",
        "#F.cross_entropy(logits, Y)"
      ],
      "metadata": {
        "colab": {
          "base_uri": "https://localhost:8080/"
        },
        "id": "YPU2y1Frp4Dj",
        "outputId": "67e733a9-e67d-4ed0-c6e6-22ab7df8b0d3"
      },
      "execution_count": null,
      "outputs": [
        {
          "output_type": "execute_result",
          "data": {
            "text/plain": [
              "tensor(17.7697)"
            ]
          },
          "metadata": {},
          "execution_count": 74
        }
      ]
    },
    {
      "cell_type": "code",
      "source": [
        " #Backward Pass\n",
        "for p in para:\n",
        "    p.grad = None\n",
        "loss.backward()\n",
        "\n",
        "#update\n",
        "learningRate = -0.1\n",
        "for p in para:\n",
        "    p.data += learningRate * p.grad"
      ],
      "metadata": {
        "colab": {
          "base_uri": "https://localhost:8080/",
          "height": 356
        },
        "id": "TFVmBJerqIwp",
        "outputId": "a8545f24-8ca7-41bf-c580-c9e2158c9c6e"
      },
      "execution_count": null,
      "outputs": [
        {
          "output_type": "error",
          "ename": "RuntimeError",
          "evalue": "element 0 of tensors does not require grad and does not have a grad_fn",
          "traceback": [
            "\u001b[0;31m---------------------------------------------------------------------------\u001b[0m",
            "\u001b[0;31mRuntimeError\u001b[0m                              Traceback (most recent call last)",
            "\u001b[0;32m<ipython-input-87-6b27d6200593>\u001b[0m in \u001b[0;36m<cell line: 4>\u001b[0;34m()\u001b[0m\n\u001b[1;32m      2\u001b[0m \u001b[0;32mfor\u001b[0m \u001b[0mp\u001b[0m \u001b[0;32min\u001b[0m \u001b[0mpara\u001b[0m\u001b[0;34m:\u001b[0m\u001b[0;34m\u001b[0m\u001b[0;34m\u001b[0m\u001b[0m\n\u001b[1;32m      3\u001b[0m    \u001b[0mp\u001b[0m\u001b[0;34m.\u001b[0m\u001b[0mgrad\u001b[0m \u001b[0;34m=\u001b[0m \u001b[0;32mNone\u001b[0m\u001b[0;34m\u001b[0m\u001b[0;34m\u001b[0m\u001b[0m\n\u001b[0;32m----> 4\u001b[0;31m \u001b[0mloss\u001b[0m\u001b[0;34m.\u001b[0m\u001b[0mbackward\u001b[0m\u001b[0;34m(\u001b[0m\u001b[0;34m)\u001b[0m\u001b[0;34m\u001b[0m\u001b[0;34m\u001b[0m\u001b[0m\n\u001b[0m\u001b[1;32m      5\u001b[0m \u001b[0;34m\u001b[0m\u001b[0m\n\u001b[1;32m      6\u001b[0m \u001b[0;31m#update\u001b[0m\u001b[0;34m\u001b[0m\u001b[0;34m\u001b[0m\u001b[0m\n",
            "\u001b[0;32m/usr/local/lib/python3.10/dist-packages/torch/_tensor.py\u001b[0m in \u001b[0;36mbackward\u001b[0;34m(self, gradient, retain_graph, create_graph, inputs)\u001b[0m\n\u001b[1;32m    519\u001b[0m                 \u001b[0minputs\u001b[0m\u001b[0;34m=\u001b[0m\u001b[0minputs\u001b[0m\u001b[0;34m,\u001b[0m\u001b[0;34m\u001b[0m\u001b[0;34m\u001b[0m\u001b[0m\n\u001b[1;32m    520\u001b[0m             )\n\u001b[0;32m--> 521\u001b[0;31m         torch.autograd.backward(\n\u001b[0m\u001b[1;32m    522\u001b[0m             \u001b[0mself\u001b[0m\u001b[0;34m,\u001b[0m \u001b[0mgradient\u001b[0m\u001b[0;34m,\u001b[0m \u001b[0mretain_graph\u001b[0m\u001b[0;34m,\u001b[0m \u001b[0mcreate_graph\u001b[0m\u001b[0;34m,\u001b[0m \u001b[0minputs\u001b[0m\u001b[0;34m=\u001b[0m\u001b[0minputs\u001b[0m\u001b[0;34m\u001b[0m\u001b[0;34m\u001b[0m\u001b[0m\n\u001b[1;32m    523\u001b[0m         )\n",
            "\u001b[0;32m/usr/local/lib/python3.10/dist-packages/torch/autograd/__init__.py\u001b[0m in \u001b[0;36mbackward\u001b[0;34m(tensors, grad_tensors, retain_graph, create_graph, grad_variables, inputs)\u001b[0m\n\u001b[1;32m    287\u001b[0m     \u001b[0;31m# some Python versions print out the first line of a multi-line function\u001b[0m\u001b[0;34m\u001b[0m\u001b[0;34m\u001b[0m\u001b[0m\n\u001b[1;32m    288\u001b[0m     \u001b[0;31m# calls in the traceback and some print out the last line\u001b[0m\u001b[0;34m\u001b[0m\u001b[0;34m\u001b[0m\u001b[0m\n\u001b[0;32m--> 289\u001b[0;31m     _engine_run_backward(\n\u001b[0m\u001b[1;32m    290\u001b[0m         \u001b[0mtensors\u001b[0m\u001b[0;34m,\u001b[0m\u001b[0;34m\u001b[0m\u001b[0;34m\u001b[0m\u001b[0m\n\u001b[1;32m    291\u001b[0m         \u001b[0mgrad_tensors_\u001b[0m\u001b[0;34m,\u001b[0m\u001b[0;34m\u001b[0m\u001b[0;34m\u001b[0m\u001b[0m\n",
            "\u001b[0;32m/usr/local/lib/python3.10/dist-packages/torch/autograd/graph.py\u001b[0m in \u001b[0;36m_engine_run_backward\u001b[0;34m(t_outputs, *args, **kwargs)\u001b[0m\n\u001b[1;32m    767\u001b[0m         \u001b[0munregister_hooks\u001b[0m \u001b[0;34m=\u001b[0m \u001b[0m_register_logging_hooks_on_whole_graph\u001b[0m\u001b[0;34m(\u001b[0m\u001b[0mt_outputs\u001b[0m\u001b[0;34m)\u001b[0m\u001b[0;34m\u001b[0m\u001b[0;34m\u001b[0m\u001b[0m\n\u001b[1;32m    768\u001b[0m     \u001b[0;32mtry\u001b[0m\u001b[0;34m:\u001b[0m\u001b[0;34m\u001b[0m\u001b[0;34m\u001b[0m\u001b[0m\n\u001b[0;32m--> 769\u001b[0;31m         return Variable._execution_engine.run_backward(  # Calls into the C++ engine to run the backward pass\n\u001b[0m\u001b[1;32m    770\u001b[0m             \u001b[0mt_outputs\u001b[0m\u001b[0;34m,\u001b[0m \u001b[0;34m*\u001b[0m\u001b[0margs\u001b[0m\u001b[0;34m,\u001b[0m \u001b[0;34m**\u001b[0m\u001b[0mkwargs\u001b[0m\u001b[0;34m\u001b[0m\u001b[0;34m\u001b[0m\u001b[0m\n\u001b[1;32m    771\u001b[0m         )  # Calls into the C++ engine to run the backward pass\n",
            "\u001b[0;31mRuntimeError\u001b[0m: element 0 of tensors does not require grad and does not have a grad_fn"
          ]
        }
      ]
    },
    {
      "cell_type": "code",
      "source": [
        "for p in para:\n",
        "    p.requires_grad = True\n",
        "#if not set the requires_grad to True. ::\n",
        "#           RuntimeError: element 0 of tensors does not require grad and does not have a grad_fn\n",
        "#this error will ocure\n"
      ],
      "metadata": {
        "id": "kopHqMeetGCn"
      },
      "execution_count": null,
      "outputs": []
    },
    {
      "cell_type": "markdown",
      "source": [
        "#Optimizing"
      ],
      "metadata": {
        "id": "0Dtn39njukOp"
      }
    },
    {
      "cell_type": "code",
      "source": [
        "\n",
        "for i in range(100):\n",
        "    #Forward Pass\n",
        "    emb = C[X]\n",
        "    h = torch.tanh(emb.view(-1, 6) @ w1 + b1)\n",
        "    logits = h @ w2 + b2\n",
        "    loss = F.cross_entropy(logits, Y)\n",
        "    #print(loss.item())\n",
        "    #Backward Pass\n",
        "    for p in para:\n",
        "        p.grad = None\n",
        "    loss.backward()\n",
        "\n",
        "    #update\n",
        "    learningRate = -0.1\n",
        "    for p in para:\n",
        "        p.data += learningRate * p.grad\n",
        "\n",
        "print(f'Loss: {loss.item()}')"
      ],
      "metadata": {
        "colab": {
          "base_uri": "https://localhost:8080/"
        },
        "id": "YFPmMM5Xtica",
        "outputId": "5250ba98-7e1c-4f3b-9ec4-16f91e8bf07d"
      },
      "execution_count": null,
      "outputs": [
        {
          "output_type": "stream",
          "name": "stdout",
          "text": [
            "Loss: 0.2772060036659241\n"
          ]
        }
      ]
    },
    {
      "cell_type": "markdown",
      "source": [
        "# full dataset TRAINING\n",
        "#\n",
        "#Train the Full Dataset\n",
        "#\n",
        "# full dataset TRAINING"
      ],
      "metadata": {
        "id": "biFsCQKPvBCv"
      }
    },
    {
      "cell_type": "markdown",
      "source": [
        "#MODEL\n",
        "![Untitled.png](data:image/png;base64,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)"
      ],
      "metadata": {
        "id": "vA4avy8TQM9Q"
      }
    },
    {
      "cell_type": "code",
      "source": [
        "\n",
        "blockSix = 3 # trigram\n",
        "\n",
        "X, Y = [], []\n",
        "for w in words:\n",
        "    contxt = [0] * blockSix\n",
        "    for ch in w + '.':\n",
        "        ix = stoi[ch]\n",
        "        X.append(contxt)\n",
        "        Y.append(ix)\n",
        "        #print(''.join(itos[i] for i in contxt), '--->', itos[ix])\n",
        "        contxt = contxt[1:] + [ix]\n",
        "X = torch.tensor(X)\n",
        "Y = torch.tensor(Y)"
      ],
      "metadata": {
        "id": "7vp1w5UJuGxo"
      },
      "execution_count": null,
      "outputs": []
    },
    {
      "cell_type": "code",
      "source": [
        "X.shape, Y.shape"
      ],
      "metadata": {
        "colab": {
          "base_uri": "https://localhost:8080/"
        },
        "id": "nP2XIYY4vQFJ",
        "outputId": "72c31b43-0ad1-4b95-84ae-034996a0160c"
      },
      "execution_count": null,
      "outputs": [
        {
          "output_type": "execute_result",
          "data": {
            "text/plain": [
              "(torch.Size([228146, 3]), torch.Size([228146]))"
            ]
          },
          "metadata": {},
          "execution_count": 56
        }
      ]
    },
    {
      "cell_type": "code",
      "source": [
        "# Parameters\n",
        "g = torch.Generator().manual_seed(2147483647)\n",
        "C = torch.randn((27, 2), generator=g)\n",
        "w1 = torch.randn((6, 100), generator=g)\n",
        "b1 = torch.randn((100), generator=g)\n",
        "w2 = torch.randn((100, 27), generator=g)\n",
        "b2 = torch.randn((27), generator=g)\n",
        "para = [C, w1, b1, w2, b2]"
      ],
      "metadata": {
        "id": "ZXSo5lzcvSld"
      },
      "execution_count": null,
      "outputs": []
    },
    {
      "cell_type": "code",
      "source": [
        "for p in para:\n",
        "    p.requires_grad = True"
      ],
      "metadata": {
        "id": "qLELLXlyv6GZ"
      },
      "execution_count": null,
      "outputs": []
    },
    {
      "cell_type": "code",
      "source": [
        "#creating mini batch to train so itll be quick rather than train the whole dataset\n",
        "ix = torch.randint(0, X.shape[0], (32,))\n",
        "ix"
      ],
      "metadata": {
        "colab": {
          "base_uri": "https://localhost:8080/"
        },
        "id": "r283ni4Oxj59",
        "outputId": "211579c1-93ab-4724-f727-29b7ad788ca0"
      },
      "execution_count": null,
      "outputs": [
        {
          "output_type": "execute_result",
          "data": {
            "text/plain": [
              "tensor([ 67806,  84404,  18338,  41910,  30320,  74266,  76911,  19842, 153296,\n",
              "         75610,  99198, 110870,  72375,  11499, 187378,  59326, 214621,  52323,\n",
              "        114159,  53887,  29375,  53860, 157371, 162158, 167674, 170665, 181711,\n",
              "        147495, 141381,  30071, 101580, 180192])"
            ]
          },
          "metadata": {},
          "execution_count": 66
        }
      ]
    },
    {
      "cell_type": "markdown",
      "source": [
        "#Fine tuning Learning Rate\n",
        "   + By using lre, we're creating a learning rate schedule that exponentially decreases over time.\n",
        "   + instead of using a constant learning rate like 0.1, we're creating a learning rate schedule that gradually decreases from 0.1 to 1.0\n",
        "   + torch.linspace(-1, 0, 1000) generates 1000 values linearly spaced between -1 and 0.\n",
        "   + 10**lre then takes 10 raised to the power of each value in lre. This transforms the range from [10^(-1), 10^(0)], or [0.1, 1]."
      ],
      "metadata": {
        "id": "GX4c758FRBYF"
      }
    },
    {
      "cell_type": "code",
      "source": [
        "#learning Rate Exponent\n",
        "lre = torch.linspace(-3, 0, 1000)\n",
        "lrs = 10**lre\n",
        "lrs"
      ],
      "metadata": {
        "colab": {
          "base_uri": "https://localhost:8080/"
        },
        "id": "bsAmbCIWRYu2",
        "outputId": "0bda09e1-8aed-4005-cd1a-3fcf9a83bb5a"
      },
      "execution_count": null,
      "outputs": [
        {
          "output_type": "execute_result",
          "data": {
            "text/plain": [
              "tensor([0.0010, 0.0010, 0.0010, 0.0010, 0.0010, 0.0010, 0.0010, 0.0010, 0.0011,\n",
              "        0.0011, 0.0011, 0.0011, 0.0011, 0.0011, 0.0011, 0.0011, 0.0011, 0.0011,\n",
              "        0.0011, 0.0011, 0.0011, 0.0012, 0.0012, 0.0012, 0.0012, 0.0012, 0.0012,\n",
              "        0.0012, 0.0012, 0.0012, 0.0012, 0.0012, 0.0012, 0.0013, 0.0013, 0.0013,\n",
              "        0.0013, 0.0013, 0.0013, 0.0013, 0.0013, 0.0013, 0.0013, 0.0013, 0.0014,\n",
              "        0.0014, 0.0014, 0.0014, 0.0014, 0.0014, 0.0014, 0.0014, 0.0014, 0.0014,\n",
              "        0.0015, 0.0015, 0.0015, 0.0015, 0.0015, 0.0015, 0.0015, 0.0015, 0.0015,\n",
              "        0.0015, 0.0016, 0.0016, 0.0016, 0.0016, 0.0016, 0.0016, 0.0016, 0.0016,\n",
              "        0.0016, 0.0017, 0.0017, 0.0017, 0.0017, 0.0017, 0.0017, 0.0017, 0.0017,\n",
              "        0.0018, 0.0018, 0.0018, 0.0018, 0.0018, 0.0018, 0.0018, 0.0018, 0.0019,\n",
              "        0.0019, 0.0019, 0.0019, 0.0019, 0.0019, 0.0019, 0.0019, 0.0020, 0.0020,\n",
              "        0.0020, 0.0020, 0.0020, 0.0020, 0.0020, 0.0021, 0.0021, 0.0021, 0.0021,\n",
              "        0.0021, 0.0021, 0.0021, 0.0022, 0.0022, 0.0022, 0.0022, 0.0022, 0.0022,\n",
              "        0.0022, 0.0023, 0.0023, 0.0023, 0.0023, 0.0023, 0.0023, 0.0024, 0.0024,\n",
              "        0.0024, 0.0024, 0.0024, 0.0024, 0.0025, 0.0025, 0.0025, 0.0025, 0.0025,\n",
              "        0.0025, 0.0026, 0.0026, 0.0026, 0.0026, 0.0026, 0.0027, 0.0027, 0.0027,\n",
              "        0.0027, 0.0027, 0.0027, 0.0028, 0.0028, 0.0028, 0.0028, 0.0028, 0.0029,\n",
              "        0.0029, 0.0029, 0.0029, 0.0029, 0.0030, 0.0030, 0.0030, 0.0030, 0.0030,\n",
              "        0.0031, 0.0031, 0.0031, 0.0031, 0.0032, 0.0032, 0.0032, 0.0032, 0.0032,\n",
              "        0.0033, 0.0033, 0.0033, 0.0033, 0.0034, 0.0034, 0.0034, 0.0034, 0.0034,\n",
              "        0.0035, 0.0035, 0.0035, 0.0035, 0.0036, 0.0036, 0.0036, 0.0036, 0.0037,\n",
              "        0.0037, 0.0037, 0.0037, 0.0038, 0.0038, 0.0038, 0.0039, 0.0039, 0.0039,\n",
              "        0.0039, 0.0040, 0.0040, 0.0040, 0.0040, 0.0041, 0.0041, 0.0041, 0.0042,\n",
              "        0.0042, 0.0042, 0.0042, 0.0043, 0.0043, 0.0043, 0.0044, 0.0044, 0.0044,\n",
              "        0.0045, 0.0045, 0.0045, 0.0045, 0.0046, 0.0046, 0.0046, 0.0047, 0.0047,\n",
              "        0.0047, 0.0048, 0.0048, 0.0048, 0.0049, 0.0049, 0.0049, 0.0050, 0.0050,\n",
              "        0.0050, 0.0051, 0.0051, 0.0051, 0.0052, 0.0052, 0.0053, 0.0053, 0.0053,\n",
              "        0.0054, 0.0054, 0.0054, 0.0055, 0.0055, 0.0056, 0.0056, 0.0056, 0.0057,\n",
              "        0.0057, 0.0058, 0.0058, 0.0058, 0.0059, 0.0059, 0.0060, 0.0060, 0.0060,\n",
              "        0.0061, 0.0061, 0.0062, 0.0062, 0.0062, 0.0063, 0.0063, 0.0064, 0.0064,\n",
              "        0.0065, 0.0065, 0.0066, 0.0066, 0.0067, 0.0067, 0.0067, 0.0068, 0.0068,\n",
              "        0.0069, 0.0069, 0.0070, 0.0070, 0.0071, 0.0071, 0.0072, 0.0072, 0.0073,\n",
              "        0.0073, 0.0074, 0.0074, 0.0075, 0.0075, 0.0076, 0.0076, 0.0077, 0.0077,\n",
              "        0.0078, 0.0079, 0.0079, 0.0080, 0.0080, 0.0081, 0.0081, 0.0082, 0.0082,\n",
              "        0.0083, 0.0084, 0.0084, 0.0085, 0.0085, 0.0086, 0.0086, 0.0087, 0.0088,\n",
              "        0.0088, 0.0089, 0.0090, 0.0090, 0.0091, 0.0091, 0.0092, 0.0093, 0.0093,\n",
              "        0.0094, 0.0095, 0.0095, 0.0096, 0.0097, 0.0097, 0.0098, 0.0099, 0.0099,\n",
              "        0.0100, 0.0101, 0.0101, 0.0102, 0.0103, 0.0104, 0.0104, 0.0105, 0.0106,\n",
              "        0.0106, 0.0107, 0.0108, 0.0109, 0.0109, 0.0110, 0.0111, 0.0112, 0.0112,\n",
              "        0.0113, 0.0114, 0.0115, 0.0116, 0.0116, 0.0117, 0.0118, 0.0119, 0.0120,\n",
              "        0.0121, 0.0121, 0.0122, 0.0123, 0.0124, 0.0125, 0.0126, 0.0127, 0.0127,\n",
              "        0.0128, 0.0129, 0.0130, 0.0131, 0.0132, 0.0133, 0.0134, 0.0135, 0.0136,\n",
              "        0.0137, 0.0137, 0.0138, 0.0139, 0.0140, 0.0141, 0.0142, 0.0143, 0.0144,\n",
              "        0.0145, 0.0146, 0.0147, 0.0148, 0.0149, 0.0150, 0.0151, 0.0152, 0.0154,\n",
              "        0.0155, 0.0156, 0.0157, 0.0158, 0.0159, 0.0160, 0.0161, 0.0162, 0.0163,\n",
              "        0.0165, 0.0166, 0.0167, 0.0168, 0.0169, 0.0170, 0.0171, 0.0173, 0.0174,\n",
              "        0.0175, 0.0176, 0.0178, 0.0179, 0.0180, 0.0181, 0.0182, 0.0184, 0.0185,\n",
              "        0.0186, 0.0188, 0.0189, 0.0190, 0.0192, 0.0193, 0.0194, 0.0196, 0.0197,\n",
              "        0.0198, 0.0200, 0.0201, 0.0202, 0.0204, 0.0205, 0.0207, 0.0208, 0.0210,\n",
              "        0.0211, 0.0212, 0.0214, 0.0215, 0.0217, 0.0218, 0.0220, 0.0221, 0.0223,\n",
              "        0.0225, 0.0226, 0.0228, 0.0229, 0.0231, 0.0232, 0.0234, 0.0236, 0.0237,\n",
              "        0.0239, 0.0241, 0.0242, 0.0244, 0.0246, 0.0247, 0.0249, 0.0251, 0.0253,\n",
              "        0.0254, 0.0256, 0.0258, 0.0260, 0.0261, 0.0263, 0.0265, 0.0267, 0.0269,\n",
              "        0.0271, 0.0273, 0.0274, 0.0276, 0.0278, 0.0280, 0.0282, 0.0284, 0.0286,\n",
              "        0.0288, 0.0290, 0.0292, 0.0294, 0.0296, 0.0298, 0.0300, 0.0302, 0.0304,\n",
              "        0.0307, 0.0309, 0.0311, 0.0313, 0.0315, 0.0317, 0.0320, 0.0322, 0.0324,\n",
              "        0.0326, 0.0328, 0.0331, 0.0333, 0.0335, 0.0338, 0.0340, 0.0342, 0.0345,\n",
              "        0.0347, 0.0350, 0.0352, 0.0354, 0.0357, 0.0359, 0.0362, 0.0364, 0.0367,\n",
              "        0.0369, 0.0372, 0.0375, 0.0377, 0.0380, 0.0382, 0.0385, 0.0388, 0.0390,\n",
              "        0.0393, 0.0396, 0.0399, 0.0401, 0.0404, 0.0407, 0.0410, 0.0413, 0.0416,\n",
              "        0.0418, 0.0421, 0.0424, 0.0427, 0.0430, 0.0433, 0.0436, 0.0439, 0.0442,\n",
              "        0.0445, 0.0448, 0.0451, 0.0455, 0.0458, 0.0461, 0.0464, 0.0467, 0.0471,\n",
              "        0.0474, 0.0477, 0.0480, 0.0484, 0.0487, 0.0491, 0.0494, 0.0497, 0.0501,\n",
              "        0.0504, 0.0508, 0.0511, 0.0515, 0.0518, 0.0522, 0.0526, 0.0529, 0.0533,\n",
              "        0.0537, 0.0540, 0.0544, 0.0548, 0.0552, 0.0556, 0.0559, 0.0563, 0.0567,\n",
              "        0.0571, 0.0575, 0.0579, 0.0583, 0.0587, 0.0591, 0.0595, 0.0599, 0.0604,\n",
              "        0.0608, 0.0612, 0.0616, 0.0621, 0.0625, 0.0629, 0.0634, 0.0638, 0.0642,\n",
              "        0.0647, 0.0651, 0.0656, 0.0660, 0.0665, 0.0670, 0.0674, 0.0679, 0.0684,\n",
              "        0.0688, 0.0693, 0.0698, 0.0703, 0.0708, 0.0713, 0.0718, 0.0723, 0.0728,\n",
              "        0.0733, 0.0738, 0.0743, 0.0748, 0.0753, 0.0758, 0.0764, 0.0769, 0.0774,\n",
              "        0.0780, 0.0785, 0.0790, 0.0796, 0.0802, 0.0807, 0.0813, 0.0818, 0.0824,\n",
              "        0.0830, 0.0835, 0.0841, 0.0847, 0.0853, 0.0859, 0.0865, 0.0871, 0.0877,\n",
              "        0.0883, 0.0889, 0.0895, 0.0901, 0.0908, 0.0914, 0.0920, 0.0927, 0.0933,\n",
              "        0.0940, 0.0946, 0.0953, 0.0959, 0.0966, 0.0973, 0.0979, 0.0986, 0.0993,\n",
              "        0.1000, 0.1007, 0.1014, 0.1021, 0.1028, 0.1035, 0.1042, 0.1050, 0.1057,\n",
              "        0.1064, 0.1072, 0.1079, 0.1087, 0.1094, 0.1102, 0.1109, 0.1117, 0.1125,\n",
              "        0.1133, 0.1140, 0.1148, 0.1156, 0.1164, 0.1172, 0.1181, 0.1189, 0.1197,\n",
              "        0.1205, 0.1214, 0.1222, 0.1231, 0.1239, 0.1248, 0.1256, 0.1265, 0.1274,\n",
              "        0.1283, 0.1292, 0.1301, 0.1310, 0.1319, 0.1328, 0.1337, 0.1346, 0.1356,\n",
              "        0.1365, 0.1374, 0.1384, 0.1394, 0.1403, 0.1413, 0.1423, 0.1433, 0.1443,\n",
              "        0.1453, 0.1463, 0.1473, 0.1483, 0.1493, 0.1504, 0.1514, 0.1525, 0.1535,\n",
              "        0.1546, 0.1557, 0.1567, 0.1578, 0.1589, 0.1600, 0.1611, 0.1623, 0.1634,\n",
              "        0.1645, 0.1657, 0.1668, 0.1680, 0.1691, 0.1703, 0.1715, 0.1727, 0.1739,\n",
              "        0.1751, 0.1763, 0.1775, 0.1788, 0.1800, 0.1812, 0.1825, 0.1838, 0.1850,\n",
              "        0.1863, 0.1876, 0.1889, 0.1902, 0.1916, 0.1929, 0.1942, 0.1956, 0.1969,\n",
              "        0.1983, 0.1997, 0.2010, 0.2024, 0.2038, 0.2053, 0.2067, 0.2081, 0.2096,\n",
              "        0.2110, 0.2125, 0.2140, 0.2154, 0.2169, 0.2184, 0.2200, 0.2215, 0.2230,\n",
              "        0.2246, 0.2261, 0.2277, 0.2293, 0.2309, 0.2325, 0.2341, 0.2357, 0.2373,\n",
              "        0.2390, 0.2406, 0.2423, 0.2440, 0.2457, 0.2474, 0.2491, 0.2508, 0.2526,\n",
              "        0.2543, 0.2561, 0.2579, 0.2597, 0.2615, 0.2633, 0.2651, 0.2669, 0.2688,\n",
              "        0.2707, 0.2725, 0.2744, 0.2763, 0.2783, 0.2802, 0.2821, 0.2841, 0.2861,\n",
              "        0.2880, 0.2900, 0.2921, 0.2941, 0.2961, 0.2982, 0.3002, 0.3023, 0.3044,\n",
              "        0.3065, 0.3087, 0.3108, 0.3130, 0.3151, 0.3173, 0.3195, 0.3217, 0.3240,\n",
              "        0.3262, 0.3285, 0.3308, 0.3331, 0.3354, 0.3377, 0.3400, 0.3424, 0.3448,\n",
              "        0.3472, 0.3496, 0.3520, 0.3544, 0.3569, 0.3594, 0.3619, 0.3644, 0.3669,\n",
              "        0.3695, 0.3720, 0.3746, 0.3772, 0.3798, 0.3825, 0.3851, 0.3878, 0.3905,\n",
              "        0.3932, 0.3959, 0.3987, 0.4014, 0.4042, 0.4070, 0.4098, 0.4127, 0.4155,\n",
              "        0.4184, 0.4213, 0.4243, 0.4272, 0.4302, 0.4331, 0.4362, 0.4392, 0.4422,\n",
              "        0.4453, 0.4484, 0.4515, 0.4546, 0.4578, 0.4610, 0.4642, 0.4674, 0.4706,\n",
              "        0.4739, 0.4772, 0.4805, 0.4838, 0.4872, 0.4906, 0.4940, 0.4974, 0.5008,\n",
              "        0.5043, 0.5078, 0.5113, 0.5149, 0.5185, 0.5221, 0.5257, 0.5293, 0.5330,\n",
              "        0.5367, 0.5404, 0.5442, 0.5479, 0.5517, 0.5556, 0.5594, 0.5633, 0.5672,\n",
              "        0.5712, 0.5751, 0.5791, 0.5831, 0.5872, 0.5913, 0.5954, 0.5995, 0.6036,\n",
              "        0.6078, 0.6120, 0.6163, 0.6206, 0.6249, 0.6292, 0.6336, 0.6380, 0.6424,\n",
              "        0.6469, 0.6513, 0.6559, 0.6604, 0.6650, 0.6696, 0.6743, 0.6789, 0.6837,\n",
              "        0.6884, 0.6932, 0.6980, 0.7028, 0.7077, 0.7126, 0.7176, 0.7225, 0.7275,\n",
              "        0.7326, 0.7377, 0.7428, 0.7480, 0.7531, 0.7584, 0.7636, 0.7689, 0.7743,\n",
              "        0.7796, 0.7850, 0.7905, 0.7960, 0.8015, 0.8071, 0.8127, 0.8183, 0.8240,\n",
              "        0.8297, 0.8355, 0.8412, 0.8471, 0.8530, 0.8589, 0.8648, 0.8708, 0.8769,\n",
              "        0.8830, 0.8891, 0.8953, 0.9015, 0.9077, 0.9140, 0.9204, 0.9268, 0.9332,\n",
              "        0.9397, 0.9462, 0.9528, 0.9594, 0.9660, 0.9727, 0.9795, 0.9863, 0.9931,\n",
              "        1.0000])"
            ]
          },
          "metadata": {},
          "execution_count": 60
        }
      ]
    },
    {
      "cell_type": "code",
      "source": [
        "## since it got 1m 3s to train we can Use mini batch Randomly select by Dataset\n",
        "\n",
        "#track learning rate stars || we figurout good learning rante==0.1 #according to stat\n",
        "#lri = []\n",
        "#losses = []\n",
        "\n",
        "for i in range(10000):\n",
        "    #minibatch\n",
        "    ix = torch.randint(0, X.shape[0], (32,))\n",
        "    #Forward Pass\n",
        "    emb = C[X[ix]]#using mini batch\n",
        "    h = torch.tanh(emb.view(-1, 6) @ w1 + b1)\n",
        "    logits = h @ w2 + b2\n",
        "    loss = F.cross_entropy(logits, Y[ix])#using mini batch\n",
        "\n",
        "    #Backward Pass\n",
        "    for p in para:\n",
        "        p.grad = None\n",
        "    loss.backward()\n",
        "\n",
        "    #update\n",
        "    #lr = 0.1 #10**-1 || after itrations Learning rate decay\n",
        "    lr = 0.01\n",
        "\n",
        "    for p in para:\n",
        "        p.data += -lr * p.grad\n",
        "\n",
        "    #track stats Learning rate fineTune\n",
        "    #lri.append(lre[i])\n",
        "    #losses.append(loss.item())\n",
        "\n",
        "print(f'Loss: {loss.item()}')\n",
        "\n",
        "## After using mini batch to train its almost instant\n",
        "\n",
        "## after learing rt finetune decrease 2.8 to 2.5 Loss"
      ],
      "metadata": {
        "colab": {
          "base_uri": "https://localhost:8080/"
        },
        "id": "tFrjf-b8vhMa",
        "outputId": "2dd20ad2-1f79-43c6-b2a2-af3f4541171a"
      },
      "execution_count": null,
      "outputs": [
        {
          "output_type": "stream",
          "name": "stdout",
          "text": [
            "Loss: 2.2990012168884277\n"
          ]
        }
      ]
    },
    {
      "cell_type": "code",
      "source": [
        "# Looking at the stat, the fair Learning\n",
        "# Rate Would be -1.0..-0.5 which is [0.1]\n",
        "# So now  we've Confidence/Stats so we set learning rate to == 0.1\n",
        "plt.plot(lri, losses)"
      ],
      "metadata": {
        "colab": {
          "base_uri": "https://localhost:8080/",
          "height": 467
        },
        "id": "jv4q6dJgTwih",
        "outputId": "3bbe877e-bd5f-46cb-e9f4-3fc8d067edef"
      },
      "execution_count": null,
      "outputs": [
        {
          "output_type": "execute_result",
          "data": {
            "text/plain": [
              "[<matplotlib.lines.Line2D at 0x78309d4d5060>]"
            ]
          },
          "metadata": {},
          "execution_count": 63
        },
        {
          "output_type": "display_data",
          "data": {
            "text/plain": [
              "<Figure size 640x480 with 1 Axes>"
            ],
            "image/png": "[encoded data removed]"
          },
          "metadata": {}
        }
      ]
    },
    {
      "cell_type": "code",
      "source": [
        "#"
      ],
      "metadata": {
        "id": "CEOFEXJCUZWP"
      },
      "execution_count": null,
      "outputs": []
    }
  ]
}