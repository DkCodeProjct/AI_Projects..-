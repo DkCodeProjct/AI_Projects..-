{
  "cells": [
    {
      "cell_type": "markdown",
      "metadata": {},
      "source": [
        "# Makemore Part4; Become BackProb Ninja"
      ]
    },
    {
      "cell_type": "code",
      "execution_count": 1,
      "metadata": {
        "id": "gN85n-dSg0c5"
      },
      "outputs": [],
      "source": [
        "import torch\n",
        "import torch.nn.functional as F\n",
        "import random\n",
        "import matplotlib.pyplot as plt\n",
        "%matplotlib inline"
      ]
    },
    {
      "cell_type": "code",
      "execution_count": 2,
      "metadata": {
        "id": "MHPa0oC4hQko"
      },
      "outputs": [],
      "source": [
        "\n",
        "words = open('names.txt', 'r').read().splitlines()"
      ]
    },
    {
      "cell_type": "code",
      "execution_count": 5,
      "metadata": {
        "id": "XvxRNbhRhcQ_"
      },
      "outputs": [],
      "source": [
        "\n",
        "chars = sorted(list(set(''.join(words))))\n",
        "stoi = {s:i+1 for i, s in enumerate(chars)}\n",
        "stoi['.'] = 0\n",
        "itos = {i:s for s, i in stoi.items()}\n",
        "vocabSiz = len(itos)\n"
      ]
    },
    {
      "cell_type": "code",
      "execution_count": 6,
      "metadata": {
        "id": "Ly51PauiheFh"
      },
      "outputs": [
        {
          "name": "stdout",
          "output_type": "stream",
          "text": [
            "torch.Size([182625, 3]) torch.Size([182625])\n",
            "torch.Size([22655, 3]) torch.Size([22655])\n",
            "torch.Size([22866, 3]) torch.Size([22866])\n"
          ]
        }
      ],
      "source": [
        "\n",
        "blocksiz=3\n",
        "def buildDataset(words):\n",
        "    X, Y = [], []\n",
        "    for w in words:\n",
        "        contxt = [0] * blocksiz\n",
        "        for ch in w + '.':\n",
        "            ix =stoi[ch]\n",
        "            X.append(contxt)\n",
        "            Y.append(ix)\n",
        "            contxt = contxt[1:] + [ix]\n",
        "    X = torch.tensor(X)\n",
        "    Y = torch.tensor(Y)\n",
        "    print(X.shape, Y.shape)\n",
        "    return X, Y\n",
        "\n",
        "\n",
        "random.seed(42)\n",
        "random.shuffle(words)\n",
        "\n",
        "n1 = int(0.8*len(words))\n",
        "n2 = int(0.9*len(words))\n",
        "\n",
        "xTrain, yTrain = buildDataset(words[:n1])\n",
        "xDev, yDev = buildDataset(words[n1:n2])\n",
        "xTest, yTest = buildDataset(words[n2:])"
      ]
    },
    {
      "cell_type": "code",
      "execution_count": 7,
      "metadata": {
        "id": "U_I-XF2mifYH"
      },
      "outputs": [],
      "source": [
        "\n",
        "def cmp(s, dt, t):\n",
        "    ex = torch.all(dt == t.grad).item()\n",
        "    app = torch.allclose(dt, t.grad)\n",
        "    maxdif = (dt - t.grad).abs().max().item()\n",
        "    print(f'{s:15s} | exact:{str(ex):5s} | aproximt: {str(app):5s} | maxDiff{maxdif}')\n"
      ]
    },
    {
      "cell_type": "code",
      "execution_count": 8,
      "metadata": {},
      "outputs": [
        {
          "name": "stdout",
          "output_type": "stream",
          "text": [
            "4137\n"
          ]
        }
      ],
      "source": [
        "nEmb = 10\n",
        "nHidden = 64\n",
        "g = torch.Generator().manual_seed(2147483647)\n",
        "C = torch.randn((vocabSiz, nEmb), generator=g)\n",
        "\n",
        "#layer1 :\n",
        "w1 = torch.randn((nEmb * blocksiz, nHidden), generator=g) * (5/3)/((nEmb * blocksiz**0.5))\n",
        "b1 = torch.randn(nHidden, generator=g) * 0.1 #b1 useless cos we got bnBias with bathNorm\n",
        "\n",
        "#layer2 :\n",
        "w2 = torch.randn(nHidden, vocabSiz, generator=g) * 0.1\n",
        "b2 = torch.randn(vocabSiz) * 0.1\n",
        "\n",
        "#BatchNorm Parameters\n",
        "bnGain = torch.randn((1, nHidden)) * 0.1 + 1.0\n",
        "bnBiase = torch.randn((1, nHidden)) * 0.1\n",
        "\n",
        "#para are init in a Non Starndar Ways \n",
        "\n",
        "para = [C, w1, b1, w2, b2, bnGain, bnBiase] #parameters\n",
        "print(sum(p.nelement() for p in para))\n",
        "for p in para:\n",
        "    p.requires_grad = True\n",
        "\n",
        "\n"
      ]
    },
    {
      "cell_type": "code",
      "execution_count": 10,
      "metadata": {},
      "outputs": [],
      "source": [
        "n = 32 ## //Batch Size\n",
        "\n",
        "#construct a minibatch\n",
        "ix = torch.randint(0, xTrain.shape[0], (n,), generator=g)\n",
        "xb, yb = xTrain[ix], yTrain[ix] #bath x/y\n"
      ]
    },
    {
      "cell_type": "markdown",
      "metadata": {},
      "source": [
        "# Forward Pass, Sliced into smaller steps That are Possible to Backward One at a time\n",
        "\n",
        " * Terminology:\n",
        "   + **de-log**; often refers to taking the **derivative of a logarithmic function**, usually encountered in the context of logarithmic loss functions or any function involving log operations in the forward pass. "
      ]
    },
    {
      "cell_type": "markdown",
      "metadata": {},
      "source": []
    },
    {
      "cell_type": "code",
      "execution_count": null,
      "metadata": {},
      "outputs": [],
      "source": [
        "emb = C[xb] #embeding the chars into vector\n",
        "embCat = emb.view(emb.shape[0], -1) #concatinating the vector\n",
        "\n",
        "#Linear Layer1\n",
        "hlPreAct = embCat @ w1 + b1 #hidden layer pre-activation\n",
        "\n",
        "#Batchnorm Layer :\n",
        "bnmeanI = 1/n*hlPreAct.sum(0, keepdim=True)\n",
        "bndiff = hlPreAct - bnmeanI\n",
        "bndiff2 = bndiff**2\n",
        "bnvar = 1/(n-1)*(bndiff2).sum(0, keepdim=True) #variance\n",
        "bnvarInv = (bnvar + 1e-5) ** -0.5\n",
        "bnraw = bndiff * bnvarInv\n",
        "hlPreAct = bnGain * bnraw + bnBiase\n",
        "\n",
        "#None Linearity : Tanh activation\n",
        "h = torch.tanh(hlPreAct) #hiden layer\n",
        "\n",
        "#Linear Layer 2 :\n",
        "logits = h @ w2 + b2 #output Layer\n",
        "\n",
        "## Cross Entropy Loss[F.cross_entropy] Manual Implimentaion\n",
        "logitMax = logits.max(1, keepdim=True).values\n",
        "normLogits = logits - logitMax\n",
        "counts = normLogits.exp()\n",
        "countsSum = counts.sum(1, keepdim=True)\n",
        "countsSumInv = counts**-1 \n",
        "prob = counts * countsSumInv\n",
        "logProb = prob.log()\n",
        "loss = -logProb[range(n), yb].mean()\n",
        "\n",
        "# Pytorch Backward Pass\n",
        "for p in para:\n",
        "    p.grad = None\n",
        "for t in [\n",
        "    logProb, prob, counts, countsSum, countsSumInv, normLogits, logitMax, logits, h, hlPreAct, bnraw, \n",
        "    bnvar, bnvarInv, bndiff2, bndiff, hlPreAct, bnmeanI, embCat, emb\n",
        "    ]:\n",
        "    t.retain_grad()\n",
        "\n",
        "loss.backward()\n",
        "loss\n",
        "\n",
        "\n"
      ]
    }
  ],
  "metadata": {
    "colab": {
      "provenance": []
    },
    "kernelspec": {
      "display_name": "tfenv",
      "language": "python",
      "name": "python3"
    },
    "language_info": {
      "codemirror_mode": {
        "name": "ipython",
        "version": 3
      },
      "file_extension": ".py",
      "mimetype": "text/x-python",
      "name": "python",
      "nbconvert_exporter": "python",
      "pygments_lexer": "ipython3",
      "version": "3.10.14"
    }
  },
  "nbformat": 4,
  "nbformat_minor": 0
}
