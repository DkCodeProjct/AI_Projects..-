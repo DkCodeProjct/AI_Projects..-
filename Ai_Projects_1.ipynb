{
  "nbformat": 4,
  "nbformat_minor": 0,
  "metadata": {
    "colab": {
      "provenance": [],
      "authorship_tag": "ABX9TyNm3i8O585N8rM/ybqSo9Vw",
      "include_colab_link": true
    },
    "kernelspec": {
      "name": "python3",
      "display_name": "Python 3"
    },
    "language_info": {
      "name": "python"
    }
  },
  "cells": [
    {
      "cell_type": "markdown",
      "metadata": {
        "id": "view-in-github",
        "colab_type": "text"
      },
      "source": [
        "<a href=\"https://colab.research.google.com/github/DkCodeProjct/AI_Projects..-/blob/main/Ai_Projects_1.ipynb\" target=\"_parent\"><img src=\"https://colab.research.google.com/assets/colab-badge.svg\" alt=\"Open In Colab\"/></a>"
      ]
    },
    {
      "cell_type": "markdown",
      "source": [
        "#Andrej Karpathy\n",
        "\n",
        "##  The spelled-out intro to neural networks and backpropagation: building micrograd"
      ],
      "metadata": {
        "id": "lBYPf22o9Vkb"
      }
    },
    {
      "cell_type": "code",
      "source": [
        "import matplotlib.pyplot as plt\n",
        "import math\n",
        "import numpy as np\n",
        "%matplotlib inline\n",
        "\n",
        "from micrograd.engine import Value\n",
        "from micrograd.nn import Neuron, Layer, MLP\n",
        "\n"
      ],
      "metadata": {
        "id": "5AZ8HMttV8sf"
      },
      "execution_count": 4,
      "outputs": []
    },
    {
      "cell_type": "code",
      "source": [
        " !pip install micrograd"
      ],
      "metadata": {
        "collapsed": true,
        "id": "ONGqBiC-7qzv",
        "colab": {
          "base_uri": "https://localhost:8080/"
        },
        "outputId": "16e83e18-3f57-4d6a-d47b-2362a2e3f393"
      },
      "execution_count": 3,
      "outputs": [
        {
          "output_type": "stream",
          "name": "stdout",
          "text": [
            "Collecting micrograd\n",
            "  Downloading micrograd-0.1.0-py3-none-any.whl.metadata (2.6 kB)\n",
            "Downloading micrograd-0.1.0-py3-none-any.whl (4.9 kB)\n",
            "Installing collected packages: micrograd\n",
            "Successfully installed micrograd-0.1.0\n"
          ]
        }
      ]
    },
    {
      "cell_type": "code",
      "source": [
        "def f(x):\n",
        "    return 3*x**2 - 4*x + 5\n",
        "\n",
        "f(3.0)"
      ],
      "metadata": {
        "id": "Nk9WXX717utZ"
      },
      "execution_count": null,
      "outputs": []
    },
    {
      "cell_type": "code",
      "source": [
        "\n",
        "xs = np.arange(-5, 5, 0.25)\n",
        "ys = f(xs)\n",
        "plt.plot(xs, ys)"
      ],
      "metadata": {
        "id": "HHv-eBlj8WTc"
      },
      "execution_count": null,
      "outputs": []
    },
    {
      "cell_type": "code",
      "source": [
        "h = 0.0001\n",
        "x = 3.0\n",
        "(f(x + h) - f(x))/h\n"
      ],
      "metadata": {
        "id": "1irjaie_-kId"
      },
      "execution_count": null,
      "outputs": []
    },
    {
      "cell_type": "code",
      "source": [
        "\n",
        "class Value:\n",
        "    def __init__(self, data, _childern=(), _op='', label=''):\n",
        "        self.data = data\n",
        "        self.grad = 0.0\n",
        "        self._backward = lambda: None  # default is a no-op\n",
        "        self._prev = set(_childern)    # previous nodes in the graph\n",
        "        self._op = _op                 # operation that produced this node\n",
        "        self.label = label             # node label for visualization\n",
        "\n",
        "    def __repr__(self):\n",
        "        return f'Value(data={self.data})'\n",
        "\n",
        "    def __add__(self, other):\n",
        "        output = Value(self.data + other.data, (self, other), '+')\n",
        "\n",
        "        def _backward():\n",
        "            self.grad += 1.0 * output.grad\n",
        "            other.grad += 1.0 * output.grad\n",
        "        output._backward = _backward\n",
        "        return output\n",
        "\n",
        "    def __mul__(self, other):\n",
        "        output = Value(self.data * other.data, (self, other), '*')\n",
        "\n",
        "        def _backward():\n",
        "            self.grad += other.data * output.grad\n",
        "            other.grad += self.data * output.grad\n",
        "        output._backward = _backward\n",
        "        return output\n",
        "\n",
        "    def tanh(self):\n",
        "        x = self.data\n",
        "        t = (math.exp(2*x) - 1) / (math.exp(2*x) + 1)\n",
        "        output = Value(t, (self,), 'tanh')\n",
        "\n",
        "        def _backward():\n",
        "            self.grad += (1 - t**2) * output.grad\n",
        "        output._backward = _backward\n",
        "        return output\n",
        "\n",
        "    def backward(self):\n",
        "        topo = []\n",
        "        visited = set()\n",
        "\n",
        "        # Build the topological order\n",
        "        def buildTopo(v):\n",
        "            if v not in visited:\n",
        "                visited.add(v)\n",
        "                for child in v._prev:\n",
        "                    buildTopo(child)\n",
        "                topo.append(v)\n",
        "\n",
        "        buildTopo(self)\n",
        "\n",
        "\n",
        "        self.grad = 1.0\n",
        "        for node in reversed(topo):\n",
        "            node._backward()\n",
        "\n"
      ],
      "metadata": {
        "id": "ZMK3b-go-wpE"
      },
      "execution_count": 81,
      "outputs": []
    },
    {
      "cell_type": "code",
      "source": [
        "\n",
        "a = Value(2.0, label='a')\n",
        "b = Value(-3.0, label='b')\n",
        "c = Value(10.0, label='c')\n",
        "e = a+b; e.label='e'\n",
        "d = e + c; d.label='d'\n",
        "f = Value(-2.0, label='f')\n",
        "L = d * f; label='L'\n",
        "# printing val\n",
        "#d\n",
        "#d._prev\n",
        "#d1 = a.__add__(b).__mul__(c)\n",
        "#d1\n",
        "#d._op\n",
        "L"
      ],
      "metadata": {
        "id": "c_nsVT9MWZYK",
        "colab": {
          "base_uri": "https://localhost:8080/"
        },
        "outputId": "7dab035b-5342-4cfa-c7c5-48b9295bd771"
      },
      "execution_count": 10,
      "outputs": [
        {
          "output_type": "execute_result",
          "data": {
            "text/plain": [
              "Value(data=-18.0)"
            ]
          },
          "metadata": {},
          "execution_count": 10
        }
      ]
    },
    {
      "cell_type": "code",
      "source": [],
      "metadata": {
        "id": "QXIMmGe4dmSf"
      },
      "execution_count": null,
      "outputs": []
    },
    {
      "cell_type": "code",
      "source": [
        "\n",
        "from graphviz import Digraph\n"
      ],
      "metadata": {
        "id": "Z2FWP3tZ-6E_"
      },
      "execution_count": 12,
      "outputs": []
    },
    {
      "cell_type": "code",
      "source": [
        "\n",
        "def trace(rt):\n",
        "    nodes, edges = set(), set()\n",
        "    def build(v):\n",
        "        if v not in nodes:\n",
        "            nodes.add(v)\n",
        "            for child in v._prev:\n",
        "                edges.add((child, v))\n",
        "                build(child)\n",
        "    build(rt)\n",
        "    return nodes, edges\n",
        "def drawDot(rt):\n",
        "    dot = Digraph(format='svg', graph_attr={'rankdir': 'LR'})\n",
        "    nodes, edges = trace(rt)\n",
        "\n",
        "    for n in nodes:\n",
        "        vid = str(id(n))\n",
        "        # Check if the label exists and format it properly\n",
        "        label_text = f'{n.label} | data {n.data:.4f} | grad {n.grad:.4f}' if n.label else f'data {n.data:.4f} | grad {n.grad:.4f}'\n",
        "\n",
        "        dot.node(name=vid, label=f'{{{label_text}}}', shape='record')\n",
        "\n",
        "        if n._op:\n",
        "            dot.node(name=vid + n._op, label=f'{n._op}')\n",
        "            dot.edge(vid + n._op, vid)\n",
        "\n",
        "    for n1, n2 in edges:\n",
        "        dot.edge(str(id(n1)), str(id(n2)) + n2._op)\n",
        "\n",
        "    return dot\n"
      ],
      "metadata": {
        "id": "jPJseJMa_B5S"
      },
      "execution_count": 77,
      "outputs": []
    },
    {
      "cell_type": "code",
      "source": [
        "#a.grad = -1\n",
        "#b.grad = 2.3\n",
        "#drawDot(L)"
      ],
      "metadata": {
        "id": "93UL7y5cEoD_"
      },
      "execution_count": null,
      "outputs": []
    },
    {
      "cell_type": "code",
      "source": [
        "def lol():\n",
        "    h = 0.001\n",
        "\n",
        "    # First set of operations\n",
        "    a = Value(2.0, label='a')\n",
        "    b = Value(-3.0, label='b')\n",
        "    c = Value(10.0, label='c')\n",
        "    e = a + b; e.label = 'e'\n",
        "    d = e + c; d.label = 'd'\n",
        "    f = Value(-2.0, label='f')\n",
        "    L = d * f; L.label = 'L'\n",
        "    L1 = L.data\n",
        "\n",
        "    a = Value(2.0, label='a')\n",
        "    b = Value(-3.0, label='b')\n",
        "    c = Value(10.0, label='c')\n",
        "    e = a + b; e.label = 'e'\n",
        "    d = e + c; d.label = 'd'\n",
        "    c.data += h\n",
        "    f = Value(-2.0, label='f')\n",
        "    L = d * f; L.label = 'L'\n",
        "    L2 = L.data + h  # Add h to the data\n",
        "\n",
        "    print((L2 - L1) / h)\n",
        "\n",
        "lol()\n"
      ],
      "metadata": {
        "id": "m9AHcSAxHzvc"
      },
      "execution_count": null,
      "outputs": []
    },
    {
      "cell_type": "markdown",
      "source": [
        "##Taking Derivatives\n",
        "###   using The Chain Rule"
      ],
      "metadata": {
        "id": "7ovOjcwBiQzi"
      }
    },
    {
      "cell_type": "code",
      "source": [
        "dd / dc = ? 1.0\n",
        "dd / de = 1.0\n",
        "d = c + e\n",
        "\n",
        "WANT;\n",
        "dL / dd\n",
        "dd / dc"
      ],
      "metadata": {
        "id": "vNsNkH1Gdspx"
      },
      "execution_count": null,
      "outputs": []
    },
    {
      "cell_type": "code",
      "source": [
        "#Activations And BackProb\n",
        "\n",
        "# Activation tanh\n",
        "plt.plot(np.arange(-5, 5, 0.2), np.tanh(np.arange(-5, 5, 0.2))); plt.grid()"
      ],
      "metadata": {
        "id": "8hOpRzwKvttN"
      },
      "execution_count": null,
      "outputs": []
    },
    {
      "cell_type": "code",
      "source": [
        "#Inputs\n",
        "x1 = Value(2.0, label='x1')\n",
        "x2 = Value(0.0, label='x2')\n",
        "\n",
        "w1 = Value(-3.0,label='w1')\n",
        "w2 = Value(1.0, label='w2')\n",
        "b = Value(6.7, label='b')\n",
        "### // x1*w1 + x2*w2 + b\n",
        "x1w1 = x1*w1; x1w1.label='x1w1'\n",
        "x2w2 = x2*w2; x2w2.label='x2w2'\n",
        "x1w1x2w2 = x1w1 + x2w2; x1w1x2w2.label='x1w1+x2w2'\n",
        "n = x1w1x2w2 + b; n.label='n'\n",
        "output = n.tanh(); label='o'\n"
      ],
      "metadata": {
        "id": "kDFsoafJvwMC"
      },
      "execution_count": 78,
      "outputs": []
    },
    {
      "cell_type": "markdown",
      "source": [
        "#Using _backward ...."
      ],
      "metadata": {
        "id": "7Zi3ijids4dF"
      }
    },
    {
      "cell_type": "code",
      "source": [
        "#output.grad = 1.0\n"
      ],
      "metadata": {
        "id": "DZYoFUeAymTS"
      },
      "execution_count": 57,
      "outputs": []
    },
    {
      "cell_type": "code",
      "source": [
        "#output._backward()"
      ],
      "metadata": {
        "id": "5MlC7XdeqWVp"
      },
      "execution_count": 58,
      "outputs": []
    },
    {
      "cell_type": "code",
      "source": [
        "#n._backward()"
      ],
      "metadata": {
        "id": "LvPfdEmzqgAr"
      },
      "execution_count": 59,
      "outputs": []
    },
    {
      "cell_type": "code",
      "source": [
        "#b._backward()"
      ],
      "metadata": {
        "id": "qZLw2kCgqix5"
      },
      "execution_count": 51,
      "outputs": []
    },
    {
      "cell_type": "code",
      "source": [
        "#x1w1._backward()\n",
        "#x2w2._backward()"
      ],
      "metadata": {
        "id": "QMJ--z7grAbl"
      },
      "execution_count": 52,
      "outputs": []
    },
    {
      "cell_type": "code",
      "source": [
        "#x1w1x2w2._backward()"
      ],
      "metadata": {
        "id": "k9YwxtNCphix"
      },
      "execution_count": 61,
      "outputs": []
    },
    {
      "cell_type": "code",
      "source": [],
      "metadata": {
        "id": "hEl3QgVeyow-"
      },
      "execution_count": null,
      "outputs": []
    },
    {
      "cell_type": "code",
      "source": [
        "output.backward()"
      ],
      "metadata": {
        "id": "Tr3uG_AVpowj"
      },
      "execution_count": 79,
      "outputs": []
    },
    {
      "cell_type": "markdown",
      "source": [
        "# Apply Backprop Using Topological Sort..\n"
      ],
      "metadata": {
        "id": "DZw9jMO31eXG"
      }
    },
    {
      "cell_type": "code",
      "source": [
        "drawDot(output)"
      ],
      "metadata": {
        "colab": {
          "base_uri": "https://localhost:8080/",
          "height": 321
        },
        "id": "SuBVs91Gy8aP",
        "outputId": "653e4887-8af2-4deb-fee6-3c59f56d924c"
      },
      "execution_count": 80,
      "outputs": [
        {
          "output_type": "execute_result",
          "data": {
            "image/svg+xml": "<?xml version=\"1.0\" encoding=\"UTF-8\" standalone=\"no\"?>\n<!DOCTYPE svg PUBLIC \"-//W3C//DTD SVG 1.1//EN\"\n \"http://www.w3.org/Graphics/SVG/1.1/DTD/svg11.dtd\">\n<!-- Generated by graphviz version 2.43.0 (0)\n -->\n<!-- Title: %3 Pages: 1 -->\n<svg width=\"1525pt\" height=\"210pt\"\n viewBox=\"0.00 0.00 1525.00 210.00\" xmlns=\"http://www.w3.org/2000/svg\" xmlns:xlink=\"http://www.w3.org/1999/xlink\">\n<g id=\"graph0\" class=\"graph\" transform=\"scale(1 1) rotate(0) translate(4 206)\">\n<title>%3</title>\n<polygon fill=\"white\" stroke=\"transparent\" points=\"-4,4 -4,-206 1521,-206 1521,4 -4,4\"/>\n<!-- 132595101602368 -->\n<g id=\"node1\" class=\"node\">\n<title>132595101602368</title>\n<polygon fill=\"none\" stroke=\"black\" points=\"1355,-54.5 1355,-90.5 1517,-90.5 1517,-54.5 1355,-54.5\"/>\n<text text-anchor=\"middle\" x=\"1395\" y=\"-68.8\" font-family=\"Times,serif\" font-size=\"14.00\">data 0.6044</text>\n<polyline fill=\"none\" stroke=\"black\" points=\"1435,-54.5 1435,-90.5 \"/>\n<text text-anchor=\"middle\" x=\"1476\" y=\"-68.8\" font-family=\"Times,serif\" font-size=\"14.00\">grad 1.0000</text>\n</g>\n<!-- 132595101602368tanh -->\n<g id=\"node2\" class=\"node\">\n<title>132595101602368tanh</title>\n<ellipse fill=\"none\" stroke=\"black\" cx=\"1292\" cy=\"-72.5\" rx=\"27\" ry=\"18\"/>\n<text text-anchor=\"middle\" x=\"1292\" y=\"-68.8\" font-family=\"Times,serif\" font-size=\"14.00\">tanh</text>\n</g>\n<!-- 132595101602368tanh&#45;&gt;132595101602368 -->\n<g id=\"edge1\" class=\"edge\">\n<title>132595101602368tanh&#45;&gt;132595101602368</title>\n<path fill=\"none\" stroke=\"black\" d=\"M1319.04,-72.5C1326.63,-72.5 1335.38,-72.5 1344.6,-72.5\"/>\n<polygon fill=\"black\" stroke=\"black\" points=\"1344.76,-76 1354.76,-72.5 1344.76,-69 1344.76,-76\"/>\n</g>\n<!-- 132595101603424 -->\n<g id=\"node3\" class=\"node\">\n<title>132595101603424</title>\n<polygon fill=\"none\" stroke=\"black\" points=\"0,-55.5 0,-91.5 200,-91.5 200,-55.5 0,-55.5\"/>\n<text text-anchor=\"middle\" x=\"16.5\" y=\"-69.8\" font-family=\"Times,serif\" font-size=\"14.00\">w1</text>\n<polyline fill=\"none\" stroke=\"black\" points=\"33,-55.5 33,-91.5 \"/>\n<text text-anchor=\"middle\" x=\"75.5\" y=\"-69.8\" font-family=\"Times,serif\" font-size=\"14.00\">data &#45;3.0000</text>\n<polyline fill=\"none\" stroke=\"black\" points=\"118,-55.5 118,-91.5 \"/>\n<text text-anchor=\"middle\" x=\"159\" y=\"-69.8\" font-family=\"Times,serif\" font-size=\"14.00\">grad 1.2695</text>\n</g>\n<!-- 132595101604816* -->\n<g id=\"node15\" class=\"node\">\n<title>132595101604816*</title>\n<ellipse fill=\"none\" stroke=\"black\" cx=\"263\" cy=\"-73.5\" rx=\"27\" ry=\"18\"/>\n<text text-anchor=\"middle\" x=\"263\" y=\"-69.8\" font-family=\"Times,serif\" font-size=\"14.00\">*</text>\n</g>\n<!-- 132595101603424&#45;&gt;132595101604816* -->\n<g id=\"edge6\" class=\"edge\">\n<title>132595101603424&#45;&gt;132595101604816*</title>\n<path fill=\"none\" stroke=\"black\" d=\"M200.21,-73.5C209.2,-73.5 217.86,-73.5 225.7,-73.5\"/>\n<polygon fill=\"black\" stroke=\"black\" points=\"225.85,-77 235.85,-73.5 225.85,-70 225.85,-77\"/>\n</g>\n<!-- 132595101600352 -->\n<g id=\"node4\" class=\"node\">\n<title>132595101600352</title>\n<polygon fill=\"none\" stroke=\"black\" points=\"328.5,-110.5 328.5,-146.5 537.5,-146.5 537.5,-110.5 328.5,-110.5\"/>\n<text text-anchor=\"middle\" x=\"352\" y=\"-124.8\" font-family=\"Times,serif\" font-size=\"14.00\">x2w2</text>\n<polyline fill=\"none\" stroke=\"black\" points=\"375.5,-110.5 375.5,-146.5 \"/>\n<text text-anchor=\"middle\" x=\"415.5\" y=\"-124.8\" font-family=\"Times,serif\" font-size=\"14.00\">data 0.0000</text>\n<polyline fill=\"none\" stroke=\"black\" points=\"455.5,-110.5 455.5,-146.5 \"/>\n<text text-anchor=\"middle\" x=\"496.5\" y=\"-124.8\" font-family=\"Times,serif\" font-size=\"14.00\">grad 0.6347</text>\n</g>\n<!-- 132595101597856+ -->\n<g id=\"node8\" class=\"node\">\n<title>132595101597856+</title>\n<ellipse fill=\"none\" stroke=\"black\" cx=\"603\" cy=\"-100.5\" rx=\"27\" ry=\"18\"/>\n<text text-anchor=\"middle\" x=\"603\" y=\"-96.8\" font-family=\"Times,serif\" font-size=\"14.00\">+</text>\n</g>\n<!-- 132595101600352&#45;&gt;132595101597856+ -->\n<g id=\"edge9\" class=\"edge\">\n<title>132595101600352&#45;&gt;132595101597856+</title>\n<path fill=\"none\" stroke=\"black\" d=\"M537.53,-111.25C547.8,-109.53 557.66,-107.89 566.45,-106.43\"/>\n<polygon fill=\"black\" stroke=\"black\" points=\"567.3,-109.83 576.59,-104.74 566.15,-102.93 567.3,-109.83\"/>\n</g>\n<!-- 132595101600352* -->\n<g id=\"node5\" class=\"node\">\n<title>132595101600352*</title>\n<ellipse fill=\"none\" stroke=\"black\" cx=\"263\" cy=\"-128.5\" rx=\"27\" ry=\"18\"/>\n<text text-anchor=\"middle\" x=\"263\" y=\"-124.8\" font-family=\"Times,serif\" font-size=\"14.00\">*</text>\n</g>\n<!-- 132595101600352*&#45;&gt;132595101600352 -->\n<g id=\"edge2\" class=\"edge\">\n<title>132595101600352*&#45;&gt;132595101600352</title>\n<path fill=\"none\" stroke=\"black\" d=\"M290.25,-128.5C298.43,-128.5 308.03,-128.5 318.31,-128.5\"/>\n<polygon fill=\"black\" stroke=\"black\" points=\"318.35,-132 328.35,-128.5 318.35,-125 318.35,-132\"/>\n</g>\n<!-- 132595101606544 -->\n<g id=\"node6\" class=\"node\">\n<title>132595101606544</title>\n<polygon fill=\"none\" stroke=\"black\" points=\"2.5,-165.5 2.5,-201.5 197.5,-201.5 197.5,-165.5 2.5,-165.5\"/>\n<text text-anchor=\"middle\" x=\"19\" y=\"-179.8\" font-family=\"Times,serif\" font-size=\"14.00\">w2</text>\n<polyline fill=\"none\" stroke=\"black\" points=\"35.5,-165.5 35.5,-201.5 \"/>\n<text text-anchor=\"middle\" x=\"75.5\" y=\"-179.8\" font-family=\"Times,serif\" font-size=\"14.00\">data 1.0000</text>\n<polyline fill=\"none\" stroke=\"black\" points=\"115.5,-165.5 115.5,-201.5 \"/>\n<text text-anchor=\"middle\" x=\"156.5\" y=\"-179.8\" font-family=\"Times,serif\" font-size=\"14.00\">grad 0.0000</text>\n</g>\n<!-- 132595101606544&#45;&gt;132595101600352* -->\n<g id=\"edge12\" class=\"edge\">\n<title>132595101606544&#45;&gt;132595101600352*</title>\n<path fill=\"none\" stroke=\"black\" d=\"M172.53,-165.44C181.84,-162.67 191.2,-159.67 200,-156.5 210.53,-152.71 221.75,-147.9 231.72,-143.33\"/>\n<polygon fill=\"black\" stroke=\"black\" points=\"233.25,-146.48 240.82,-139.07 230.28,-140.14 233.25,-146.48\"/>\n</g>\n<!-- 132595101597856 -->\n<g id=\"node7\" class=\"node\">\n<title>132595101597856</title>\n<polygon fill=\"none\" stroke=\"black\" points=\"666,-82.5 666,-118.5 918,-118.5 918,-82.5 666,-82.5\"/>\n<text text-anchor=\"middle\" x=\"708.5\" y=\"-96.8\" font-family=\"Times,serif\" font-size=\"14.00\">x1w1+x2w2</text>\n<polyline fill=\"none\" stroke=\"black\" points=\"751,-82.5 751,-118.5 \"/>\n<text text-anchor=\"middle\" x=\"793.5\" y=\"-96.8\" font-family=\"Times,serif\" font-size=\"14.00\">data &#45;6.0000</text>\n<polyline fill=\"none\" stroke=\"black\" points=\"836,-82.5 836,-118.5 \"/>\n<text text-anchor=\"middle\" x=\"877\" y=\"-96.8\" font-family=\"Times,serif\" font-size=\"14.00\">grad 0.6347</text>\n</g>\n<!-- 132595101611824+ -->\n<g id=\"node11\" class=\"node\">\n<title>132595101611824+</title>\n<ellipse fill=\"none\" stroke=\"black\" cx=\"981\" cy=\"-72.5\" rx=\"27\" ry=\"18\"/>\n<text text-anchor=\"middle\" x=\"981\" y=\"-68.8\" font-family=\"Times,serif\" font-size=\"14.00\">+</text>\n</g>\n<!-- 132595101597856&#45;&gt;132595101611824+ -->\n<g id=\"edge14\" class=\"edge\">\n<title>132595101597856&#45;&gt;132595101611824+</title>\n<path fill=\"none\" stroke=\"black\" d=\"M913.28,-82.49C924.51,-80.81 935.18,-79.21 944.56,-77.81\"/>\n<polygon fill=\"black\" stroke=\"black\" points=\"945.18,-81.25 954.56,-76.31 944.15,-74.33 945.18,-81.25\"/>\n</g>\n<!-- 132595101597856+&#45;&gt;132595101597856 -->\n<g id=\"edge3\" class=\"edge\">\n<title>132595101597856+&#45;&gt;132595101597856</title>\n<path fill=\"none\" stroke=\"black\" d=\"M630,-100.5C637.52,-100.5 646.3,-100.5 655.79,-100.5\"/>\n<polygon fill=\"black\" stroke=\"black\" points=\"655.92,-104 665.92,-100.5 655.92,-97 655.92,-104\"/>\n</g>\n<!-- 132595101599392 -->\n<g id=\"node9\" class=\"node\">\n<title>132595101599392</title>\n<polygon fill=\"none\" stroke=\"black\" points=\"4,-110.5 4,-146.5 196,-146.5 196,-110.5 4,-110.5\"/>\n<text text-anchor=\"middle\" x=\"19\" y=\"-124.8\" font-family=\"Times,serif\" font-size=\"14.00\">x2</text>\n<polyline fill=\"none\" stroke=\"black\" points=\"34,-110.5 34,-146.5 \"/>\n<text text-anchor=\"middle\" x=\"74\" y=\"-124.8\" font-family=\"Times,serif\" font-size=\"14.00\">data 0.0000</text>\n<polyline fill=\"none\" stroke=\"black\" points=\"114,-110.5 114,-146.5 \"/>\n<text text-anchor=\"middle\" x=\"155\" y=\"-124.8\" font-family=\"Times,serif\" font-size=\"14.00\">grad 0.6347</text>\n</g>\n<!-- 132595101599392&#45;&gt;132595101600352* -->\n<g id=\"edge13\" class=\"edge\">\n<title>132595101599392&#45;&gt;132595101600352*</title>\n<path fill=\"none\" stroke=\"black\" d=\"M196.05,-128.5C206.52,-128.5 216.65,-128.5 225.71,-128.5\"/>\n<polygon fill=\"black\" stroke=\"black\" points=\"225.79,-132 235.79,-128.5 225.79,-125 225.79,-132\"/>\n</g>\n<!-- 132595101611824 -->\n<g id=\"node10\" class=\"node\">\n<title>132595101611824</title>\n<polygon fill=\"none\" stroke=\"black\" points=\"1044,-54.5 1044,-90.5 1229,-90.5 1229,-54.5 1044,-54.5\"/>\n<text text-anchor=\"middle\" x=\"1055.5\" y=\"-68.8\" font-family=\"Times,serif\" font-size=\"14.00\">n</text>\n<polyline fill=\"none\" stroke=\"black\" points=\"1067,-54.5 1067,-90.5 \"/>\n<text text-anchor=\"middle\" x=\"1107\" y=\"-68.8\" font-family=\"Times,serif\" font-size=\"14.00\">data 0.7000</text>\n<polyline fill=\"none\" stroke=\"black\" points=\"1147,-54.5 1147,-90.5 \"/>\n<text text-anchor=\"middle\" x=\"1188\" y=\"-68.8\" font-family=\"Times,serif\" font-size=\"14.00\">grad 0.6347</text>\n</g>\n<!-- 132595101611824&#45;&gt;132595101602368tanh -->\n<g id=\"edge11\" class=\"edge\">\n<title>132595101611824&#45;&gt;132595101602368tanh</title>\n<path fill=\"none\" stroke=\"black\" d=\"M1229.01,-72.5C1238.01,-72.5 1246.74,-72.5 1254.66,-72.5\"/>\n<polygon fill=\"black\" stroke=\"black\" points=\"1254.91,-76 1264.91,-72.5 1254.91,-69 1254.91,-76\"/>\n</g>\n<!-- 132595101611824+&#45;&gt;132595101611824 -->\n<g id=\"edge4\" class=\"edge\">\n<title>132595101611824+&#45;&gt;132595101611824</title>\n<path fill=\"none\" stroke=\"black\" d=\"M1008.04,-72.5C1015.58,-72.5 1024.3,-72.5 1033.57,-72.5\"/>\n<polygon fill=\"black\" stroke=\"black\" points=\"1033.81,-76 1043.81,-72.5 1033.81,-69 1033.81,-76\"/>\n</g>\n<!-- 132595101610816 -->\n<g id=\"node12\" class=\"node\">\n<title>132595101610816</title>\n<polygon fill=\"none\" stroke=\"black\" points=\"2,-0.5 2,-36.5 198,-36.5 198,-0.5 2,-0.5\"/>\n<text text-anchor=\"middle\" x=\"17\" y=\"-14.8\" font-family=\"Times,serif\" font-size=\"14.00\">x1</text>\n<polyline fill=\"none\" stroke=\"black\" points=\"32,-0.5 32,-36.5 \"/>\n<text text-anchor=\"middle\" x=\"72\" y=\"-14.8\" font-family=\"Times,serif\" font-size=\"14.00\">data 2.0000</text>\n<polyline fill=\"none\" stroke=\"black\" points=\"112,-0.5 112,-36.5 \"/>\n<text text-anchor=\"middle\" x=\"155\" y=\"-14.8\" font-family=\"Times,serif\" font-size=\"14.00\">grad &#45;1.9042</text>\n</g>\n<!-- 132595101610816&#45;&gt;132595101604816* -->\n<g id=\"edge7\" class=\"edge\">\n<title>132595101610816&#45;&gt;132595101604816*</title>\n<path fill=\"none\" stroke=\"black\" d=\"M172.53,-36.56C181.84,-39.33 191.2,-42.33 200,-45.5 210.53,-49.29 221.75,-54.1 231.72,-58.67\"/>\n<polygon fill=\"black\" stroke=\"black\" points=\"230.28,-61.86 240.82,-62.93 233.25,-55.52 230.28,-61.86\"/>\n</g>\n<!-- 132595101609808 -->\n<g id=\"node13\" class=\"node\">\n<title>132595101609808</title>\n<polygon fill=\"none\" stroke=\"black\" points=\"699.5,-27.5 699.5,-63.5 884.5,-63.5 884.5,-27.5 699.5,-27.5\"/>\n<text text-anchor=\"middle\" x=\"711\" y=\"-41.8\" font-family=\"Times,serif\" font-size=\"14.00\">b</text>\n<polyline fill=\"none\" stroke=\"black\" points=\"722.5,-27.5 722.5,-63.5 \"/>\n<text text-anchor=\"middle\" x=\"762.5\" y=\"-41.8\" font-family=\"Times,serif\" font-size=\"14.00\">data 6.7000</text>\n<polyline fill=\"none\" stroke=\"black\" points=\"802.5,-27.5 802.5,-63.5 \"/>\n<text text-anchor=\"middle\" x=\"843.5\" y=\"-41.8\" font-family=\"Times,serif\" font-size=\"14.00\">grad 0.6347</text>\n</g>\n<!-- 132595101609808&#45;&gt;132595101611824+ -->\n<g id=\"edge10\" class=\"edge\">\n<title>132595101609808&#45;&gt;132595101611824+</title>\n<path fill=\"none\" stroke=\"black\" d=\"M884.58,-58.72C905.89,-61.8 927.32,-64.89 944.47,-67.37\"/>\n<polygon fill=\"black\" stroke=\"black\" points=\"944.15,-70.86 954.55,-68.82 945.15,-63.93 944.15,-70.86\"/>\n</g>\n<!-- 132595101604816 -->\n<g id=\"node14\" class=\"node\">\n<title>132595101604816</title>\n<polygon fill=\"none\" stroke=\"black\" points=\"326,-55.5 326,-91.5 540,-91.5 540,-55.5 326,-55.5\"/>\n<text text-anchor=\"middle\" x=\"349.5\" y=\"-69.8\" font-family=\"Times,serif\" font-size=\"14.00\">x1w1</text>\n<polyline fill=\"none\" stroke=\"black\" points=\"373,-55.5 373,-91.5 \"/>\n<text text-anchor=\"middle\" x=\"415.5\" y=\"-69.8\" font-family=\"Times,serif\" font-size=\"14.00\">data &#45;6.0000</text>\n<polyline fill=\"none\" stroke=\"black\" points=\"458,-55.5 458,-91.5 \"/>\n<text text-anchor=\"middle\" x=\"499\" y=\"-69.8\" font-family=\"Times,serif\" font-size=\"14.00\">grad 0.6347</text>\n</g>\n<!-- 132595101604816&#45;&gt;132595101597856+ -->\n<g id=\"edge8\" class=\"edge\">\n<title>132595101604816&#45;&gt;132595101597856+</title>\n<path fill=\"none\" stroke=\"black\" d=\"M540.4,-90.6C549.72,-92.1 558.65,-93.53 566.68,-94.82\"/>\n<polygon fill=\"black\" stroke=\"black\" points=\"566.24,-98.3 576.66,-96.43 567.35,-91.39 566.24,-98.3\"/>\n</g>\n<!-- 132595101604816*&#45;&gt;132595101604816 -->\n<g id=\"edge5\" class=\"edge\">\n<title>132595101604816*&#45;&gt;132595101604816</title>\n<path fill=\"none\" stroke=\"black\" d=\"M290.25,-73.5C297.7,-73.5 306.34,-73.5 315.59,-73.5\"/>\n<polygon fill=\"black\" stroke=\"black\" points=\"315.84,-77 325.84,-73.5 315.84,-70 315.84,-77\"/>\n</g>\n</g>\n</svg>\n",
            "text/plain": [
              "<graphviz.graphs.Digraph at 0x789833ee0be0>"
            ]
          },
          "metadata": {},
          "execution_count": 80
        }
      ]
    },
    {
      "cell_type": "markdown",
      "source": [
        "# Topological Sort"
      ],
      "metadata": {
        "id": "9-B-8IF6wujJ"
      }
    },
    {
      "cell_type": "code",
      "source": [
        "\n",
        "#topo = []\n",
        "#visited = set()\n",
        "#def buitTopo(v):\n",
        "#    if v not in visited:\n",
        "#        visited.add(v)\n",
        "#        for child in v._prev :\n",
        "#            buitTopo(child)\n",
        "#        topo.append(v)\n",
        "#buitTopo(output)\n",
        "#\n",
        "#for node in reversed(topo):\n",
        "#    node._backward()"
      ],
      "metadata": {
        "id": "EUq9r01Fw19X"
      },
      "execution_count": 65,
      "outputs": []
    },
    {
      "cell_type": "code",
      "source": [
        "\n",
        "#topo = []\n",
        "#visited = set()\n",
        "#def buitTopo(v):\n",
        "#    if v not in visited:\n",
        "#        visited.add(v)\n",
        "#        for child in v._prev :\n",
        "#            buitTopo(child)\n",
        "#        topo.append(v)\n",
        "#buitTopo(output)\n",
        "#topo"
      ],
      "metadata": {
        "colab": {
          "base_uri": "https://localhost:8080/"
        },
        "id": "b4QYIxpTvF2j",
        "outputId": "58fa41ee-e8c1-4b4a-f238-622d3430c1d9"
      },
      "execution_count": 62,
      "outputs": [
        {
          "output_type": "execute_result",
          "data": {
            "text/plain": [
              "[Value(data=0.0),\n",
              " Value(data=1.0),\n",
              " Value(data=0.0),\n",
              " Value(data=2.0),\n",
              " Value(data=-3.0),\n",
              " Value(data=-6.0),\n",
              " Value(data=-6.0),\n",
              " Value(data=6.7),\n",
              " Value(data=0.7000000000000002),\n",
              " Value(data=4.8086030029030695)]"
            ]
          },
          "metadata": {},
          "execution_count": 62
        }
      ]
    },
    {
      "cell_type": "code",
      "source": [
        "#output.grad = 1.0\n",
        "#n.grad = 0.5\n",
        "#x1w1x2w2.grad = 0.5\n",
        "#b.grad = 0.5\n",
        "#x1w1.grad=0.5\n",
        "#x2w2.grad=0.5\n",
        "#\n",
        "#x2.grad = w2.data * x1w1.grad\n",
        "#w2.grad = x1.data * x1w1.grad\n",
        "#\n",
        "#\n",
        "#x1.grad = w2.data * x1w1.grad\n",
        "#w1.grad = x1.data * x1w1.grad\n",
        "#1-output.data**2"
      ],
      "metadata": {
        "colab": {
          "base_uri": "https://localhost:8080/"
        },
        "id": "Musy1DNp2uf0",
        "outputId": "a81a1f56-32f1-4391-d12f-048d7cc8b3dd",
        "collapsed": true
      },
      "execution_count": null,
      "outputs": [
        {
          "output_type": "execute_result",
          "data": {
            "text/plain": [
              "-22.122662839528417"
            ]
          },
          "metadata": {},
          "execution_count": 34
        }
      ]
    }
  ]
}