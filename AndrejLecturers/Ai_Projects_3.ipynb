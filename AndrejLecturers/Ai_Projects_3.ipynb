{
  "nbformat": 4,
  "nbformat_minor": 0,
  "metadata": {
    "colab": {
      "provenance": [],
      "authorship_tag": "ABX9TyMx0KObVI9XGKobPPtQDbUA",
      "include_colab_link": true
    },
    "kernelspec": {
      "name": "python3",
      "display_name": "Python 3"
    },
    "language_info": {
      "name": "python"
    }
  },
  "cells": [
    {
      "cell_type": "markdown",
      "metadata": {
        "id": "view-in-github",
        "colab_type": "text"
      },
      "source": [
        "<a href=\"https://colab.research.google.com/github/DkCodeProjct/AI_Projects..-/blob/main/Ai_Projects_3.ipynb\" target=\"_parent\"><img src=\"https://colab.research.google.com/assets/colab-badge.svg\" alt=\"Open In Colab\"/></a>"
      ]
    },
    {
      "cell_type": "markdown",
      "source": [
        "#Andrej Karpathy\n",
        "\n",
        "##  The spelled-out intro to neural networks and backpropagation: building micrograd"
      ],
      "metadata": {
        "id": "lBYPf22o9Vkb"
      }
    },
    {
      "cell_type": "code",
      "source": [
        "import matplotlib.pyplot as plt\n",
        "import math\n",
        "import numpy as np\n",
        "%matplotlib inline\n",
        "\n",
        "from micrograd.engine import Value\n",
        "from micrograd.nn import Neuron, Layer, MLP\n",
        "\n"
      ],
      "metadata": {
        "id": "5AZ8HMttV8sf"
      },
      "execution_count": 3,
      "outputs": []
    },
    {
      "cell_type": "code",
      "source": [
        " !pip install micrograd"
      ],
      "metadata": {
        "collapsed": true,
        "id": "ONGqBiC-7qzv",
        "colab": {
          "base_uri": "https://localhost:8080/"
        },
        "outputId": "a47fd410-96b4-4279-fe6a-24ea25427176"
      },
      "execution_count": 2,
      "outputs": [
        {
          "output_type": "stream",
          "name": "stdout",
          "text": [
            "Collecting micrograd\n",
            "  Downloading micrograd-0.1.0-py3-none-any.whl.metadata (2.6 kB)\n",
            "Downloading micrograd-0.1.0-py3-none-any.whl (4.9 kB)\n",
            "Installing collected packages: micrograd\n",
            "Successfully installed micrograd-0.1.0\n"
          ]
        }
      ]
    },
    {
      "cell_type": "code",
      "source": [
        "def f(x):\n",
        "    return 3*x**2 - 4*x + 5\n",
        "\n",
        "f(3.0)"
      ],
      "metadata": {
        "id": "Nk9WXX717utZ"
      },
      "execution_count": null,
      "outputs": []
    },
    {
      "cell_type": "code",
      "source": [
        "\n",
        "class Value:\n",
        "    def __init__(self, data, _childern=(), _op='', label=''):\n",
        "        self.data = data\n",
        "        self.grad = 0.0\n",
        "        self._backward = lambda: None  # default is a no-op\n",
        "        self._prev = set(_childern)    # previous nodes in the graph\n",
        "        self._op = _op                 # operation that produced this node\n",
        "        self.label = label             # node label for visualization\n",
        "\n",
        "    def __repr__(self):\n",
        "        return f'Value(data={self.data})'\n",
        "\n",
        "    def __add__(self, other):\n",
        "        other = other if isinstance(other, Value) else Value(other)\n",
        "        output = Value(self.data + other.data, (self, other), '+')\n",
        "\n",
        "        def _backward():\n",
        "            self.grad += 1.0 * output.grad\n",
        "            other.grad += 1.0 * output.grad\n",
        "        output._backward = _backward\n",
        "        return output\n",
        "\n",
        "    def __mul__(self, other):\n",
        "        other = other if isinstance(other, Value) else Value(other)\n",
        "        output = Value(self.data * other.data, (self, other), '*')\n",
        "\n",
        "        def _backward():\n",
        "            self.grad += other.data * output.grad\n",
        "            other.grad += self.data * output.grad\n",
        "        output._backward = _backward\n",
        "        return output\n",
        "\n",
        "\n",
        "    # Power Rule:\n",
        "    #     d/dx*x**n = n*x**n-1\n",
        "    def __pow__(self, other):\n",
        "        assert isinstance(other, (int, float)),  \"only suport int/flot for now\"\n",
        "        out = Value(self.data ** other, (self, ), f'**{other}')\n",
        "\n",
        "        def _backward():\n",
        "            self.grad = (other * self.data**(other-1)) * out.grad # power rule\n",
        "        out._backward = _backward\n",
        "        return out\n",
        "\n",
        "\n",
        "    def __rmul__(self, other):\n",
        "        return self * other\n",
        "\n",
        "\n",
        "    def __truediv__(self, other):\n",
        "        return self * other**-1\n",
        "\n",
        "\n",
        "    def __neg__(self):\n",
        "        return self * -1\n",
        "\n",
        "    def __sub__(self, other):\n",
        "        return self + (-other)\n",
        "\n",
        "\n",
        "    def tanh(self):\n",
        "        x = self.data\n",
        "        t = (math.exp(2*x) - 1) / (math.exp(2*x) + 1)\n",
        "        output = Value(t, (self,), 'tanh')\n",
        "\n",
        "        def _backward():\n",
        "            self.grad += (1 - t**2) * output.grad\n",
        "        output._backward = _backward\n",
        "        return output\n",
        "\n",
        "\n",
        "    def expo(self):\n",
        "        x = self.data\n",
        "        out = Value(math.exp(x), (self, ), 'exp')\n",
        "        def _backward():\n",
        "            self.grad += out.grad * out.data\n",
        "        out._backward = _backward\n",
        "        return out\n",
        "\n",
        "    def backward(self):\n",
        "        topo = []\n",
        "        visited = set()\n",
        "\n",
        "        # Build the topological order\n",
        "        def buildTopo(v):\n",
        "            if v not in visited:\n",
        "                visited.add(v)\n",
        "                for child in v._prev:\n",
        "                    buildTopo(child)\n",
        "                topo.append(v)\n",
        "\n",
        "        buildTopo(self)\n",
        "\n",
        "\n",
        "        self.grad = 1.0\n",
        "        for node in reversed(topo):\n",
        "            node._backward()\n",
        "\n",
        "\n",
        "\n"
      ],
      "metadata": {
        "id": "ZMK3b-go-wpE"
      },
      "execution_count": 61,
      "outputs": []
    },
    {
      "cell_type": "code",
      "source": [
        "\n",
        "a = Value(2.0, label='a')\n",
        "b = Value(-3.0, label='b')\n",
        "c = Value(10.0, label='c')\n",
        "e = a+b; e.label='e'\n",
        "d = e + c; d.label='d'\n",
        "f = Value(-2.0, label='f')\n",
        "L = d * f; label='L'\n",
        "# printing val\n",
        "#d\n",
        "#d._prev\n",
        "#d1 = a.__add__(b).__mul__(c)\n",
        "#d1\n",
        "#d._op\n",
        "L"
      ],
      "metadata": {
        "id": "c_nsVT9MWZYK",
        "colab": {
          "base_uri": "https://localhost:8080/"
        },
        "outputId": "3c9c0639-a939-4edb-dffe-f477f44a4947"
      },
      "execution_count": 57,
      "outputs": [
        {
          "output_type": "execute_result",
          "data": {
            "text/plain": [
              "Value(data=-18.0)"
            ]
          },
          "metadata": {},
          "execution_count": 57
        }
      ]
    },
    {
      "cell_type": "code",
      "source": [],
      "metadata": {
        "id": "QXIMmGe4dmSf"
      },
      "execution_count": null,
      "outputs": []
    },
    {
      "cell_type": "code",
      "source": [
        "\n",
        "from graphviz import Digraph\n"
      ],
      "metadata": {
        "id": "Z2FWP3tZ-6E_"
      },
      "execution_count": 5,
      "outputs": []
    },
    {
      "cell_type": "code",
      "source": [
        "\n",
        "def trace(rt):\n",
        "    nodes, edges = set(), set()\n",
        "    def build(v):\n",
        "        if v not in nodes:\n",
        "            nodes.add(v)\n",
        "            for child in v._prev:\n",
        "                edges.add((child, v))\n",
        "                build(child)\n",
        "    build(rt)\n",
        "    return nodes, edges\n",
        "def drawDot(rt):\n",
        "    dot = Digraph(format='svg', graph_attr={'rankdir': 'LR'})\n",
        "    nodes, edges = trace(rt)\n",
        "\n",
        "    for n in nodes:\n",
        "        vid = str(id(n))\n",
        "        # Check if the label exists and format it properly\n",
        "        label_text = f'{n.label} | data {n.data:.4f} | grad {n.grad:.4f}' if n.label else f'data {n.data:.4f} | grad {n.grad:.4f}'\n",
        "\n",
        "        dot.node(name=vid, label=f'{{{label_text}}}', shape='record')\n",
        "\n",
        "        if n._op:\n",
        "            dot.node(name=vid + n._op, label=f'{n._op}')\n",
        "            dot.edge(vid + n._op, vid)\n",
        "\n",
        "    for n1, n2 in edges:\n",
        "        dot.edge(str(id(n1)), str(id(n2)) + n2._op)\n",
        "\n",
        "    return dot\n"
      ],
      "metadata": {
        "id": "jPJseJMa_B5S"
      },
      "execution_count": 6,
      "outputs": []
    },
    {
      "cell_type": "markdown",
      "source": [
        "##Taking Derivatives\n",
        "###   using The Chain Rule"
      ],
      "metadata": {
        "id": "7ovOjcwBiQzi"
      }
    },
    {
      "cell_type": "code",
      "source": [
        "#Activations And BackProb\n",
        "\n",
        "# Activation tanh\n",
        "plt.plot(np.arange(-5, 5, 0.2), np.tanh(np.arange(-5, 5, 0.2))); plt.grid()"
      ],
      "metadata": {
        "id": "8hOpRzwKvttN",
        "colab": {
          "base_uri": "https://localhost:8080/",
          "height": 430
        },
        "outputId": "5bbd0c90-85c0-431e-dc69-309bd6d386e4"
      },
      "execution_count": 11,
      "outputs": [
        {
          "output_type": "display_data",
          "data": {
            "text/plain": [
              "<Figure size 640x480 with 1 Axes>"
            ],
            "image/png": "[encoded data removed]"
          },
          "metadata": {}
        }
      ]
    },
    {
      "cell_type": "code",
      "source": [
        "#Inputs\n",
        "x1 = Value(2.0, label='x1')\n",
        "x2 = Value(0.0, label='x2')\n",
        "\n",
        "w1 = Value(-3.0,label='w1')\n",
        "w2 = Value(1.0, label='w2')\n",
        "b = Value(6.7, label='b')\n",
        "### // x1*w1 + x2*w2 + b\n",
        "x1w1 = x1*w1; x1w1.label='x1w1'\n",
        "x2w2 = x2*w2; x2w2.label='x2w2'\n",
        "x1w1x2w2 = x1w1 + x2w2; x1w1x2w2.label='x1w1+x2w2'\n",
        "n = x1w1x2w2 + b; n.label='n'\n",
        "output = n.tanh(); label='o'\n"
      ],
      "metadata": {
        "id": "kDFsoafJvwMC"
      },
      "execution_count": 50,
      "outputs": []
    },
    {
      "cell_type": "markdown",
      "source": [
        "#Using _backward ...."
      ],
      "metadata": {
        "id": "7Zi3ijids4dF"
      }
    },
    {
      "cell_type": "code",
      "source": [
        "output.backward()\n",
        "drawDot(output)"
      ],
      "metadata": {
        "id": "Tr3uG_AVpowj",
        "colab": {
          "base_uri": "https://localhost:8080/",
          "height": 321
        },
        "outputId": "e5450e5b-c1cc-41f9-fa31-abb2fe0b4212"
      },
      "execution_count": 51,
      "outputs": [
        {
          "output_type": "execute_result",
          "data": {
            "image/svg+xml": "<?xml version=\"1.0\" encoding=\"UTF-8\" standalone=\"no\"?>\n<!DOCTYPE svg PUBLIC \"-//W3C//DTD SVG 1.1//EN\"\n \"http://www.w3.org/Graphics/SVG/1.1/DTD/svg11.dtd\">\n<!-- Generated by graphviz version 2.43.0 (0)\n -->\n<!-- Title: %3 Pages: 1 -->\n<svg width=\"1525pt\" height=\"210pt\"\n viewBox=\"0.00 0.00 1525.00 210.00\" xmlns=\"http://www.w3.org/2000/svg\" xmlns:xlink=\"http://www.w3.org/1999/xlink\">\n<g id=\"graph0\" class=\"graph\" transform=\"scale(1 1) rotate(0) translate(4 206)\">\n<title>%3</title>\n<polygon fill=\"white\" stroke=\"transparent\" points=\"-4,4 -4,-206 1521,-206 1521,4 -4,4\"/>\n<!-- 140561289113616 -->\n<g id=\"node1\" class=\"node\">\n<title>140561289113616</title>\n<polygon fill=\"none\" stroke=\"black\" points=\"0,-165.5 0,-201.5 200,-201.5 200,-165.5 0,-165.5\"/>\n<text text-anchor=\"middle\" x=\"16.5\" y=\"-179.8\" font-family=\"Times,serif\" font-size=\"14.00\">w1</text>\n<polyline fill=\"none\" stroke=\"black\" points=\"33,-165.5 33,-201.5 \"/>\n<text text-anchor=\"middle\" x=\"75.5\" y=\"-179.8\" font-family=\"Times,serif\" font-size=\"14.00\">data &#45;3.0000</text>\n<polyline fill=\"none\" stroke=\"black\" points=\"118,-165.5 118,-201.5 \"/>\n<text text-anchor=\"middle\" x=\"159\" y=\"-179.8\" font-family=\"Times,serif\" font-size=\"14.00\">grad 1.2695</text>\n</g>\n<!-- 140561289114528* -->\n<g id=\"node13\" class=\"node\">\n<title>140561289114528*</title>\n<ellipse fill=\"none\" stroke=\"black\" cx=\"263\" cy=\"-128.5\" rx=\"27\" ry=\"18\"/>\n<text text-anchor=\"middle\" x=\"263\" y=\"-124.8\" font-family=\"Times,serif\" font-size=\"14.00\">*</text>\n</g>\n<!-- 140561289113616&#45;&gt;140561289114528* -->\n<g id=\"edge12\" class=\"edge\">\n<title>140561289113616&#45;&gt;140561289114528*</title>\n<path fill=\"none\" stroke=\"black\" d=\"M172.53,-165.44C181.84,-162.67 191.2,-159.67 200,-156.5 210.53,-152.71 221.75,-147.9 231.72,-143.33\"/>\n<polygon fill=\"black\" stroke=\"black\" points=\"233.25,-146.48 240.82,-139.07 230.28,-140.14 233.25,-146.48\"/>\n</g>\n<!-- 140561289115200 -->\n<g id=\"node2\" class=\"node\">\n<title>140561289115200</title>\n<polygon fill=\"none\" stroke=\"black\" points=\"4,-55.5 4,-91.5 196,-91.5 196,-55.5 4,-55.5\"/>\n<text text-anchor=\"middle\" x=\"19\" y=\"-69.8\" font-family=\"Times,serif\" font-size=\"14.00\">x2</text>\n<polyline fill=\"none\" stroke=\"black\" points=\"34,-55.5 34,-91.5 \"/>\n<text text-anchor=\"middle\" x=\"74\" y=\"-69.8\" font-family=\"Times,serif\" font-size=\"14.00\">data 0.0000</text>\n<polyline fill=\"none\" stroke=\"black\" points=\"114,-55.5 114,-91.5 \"/>\n<text text-anchor=\"middle\" x=\"155\" y=\"-69.8\" font-family=\"Times,serif\" font-size=\"14.00\">grad 0.6347</text>\n</g>\n<!-- 140561289112704* -->\n<g id=\"node6\" class=\"node\">\n<title>140561289112704*</title>\n<ellipse fill=\"none\" stroke=\"black\" cx=\"263\" cy=\"-73.5\" rx=\"27\" ry=\"18\"/>\n<text text-anchor=\"middle\" x=\"263\" y=\"-69.8\" font-family=\"Times,serif\" font-size=\"14.00\">*</text>\n</g>\n<!-- 140561289115200&#45;&gt;140561289112704* -->\n<g id=\"edge11\" class=\"edge\">\n<title>140561289115200&#45;&gt;140561289112704*</title>\n<path fill=\"none\" stroke=\"black\" d=\"M196.05,-73.5C206.52,-73.5 216.65,-73.5 225.71,-73.5\"/>\n<polygon fill=\"black\" stroke=\"black\" points=\"225.79,-77 235.79,-73.5 225.79,-70 225.79,-77\"/>\n</g>\n<!-- 140561289104976 -->\n<g id=\"node3\" class=\"node\">\n<title>140561289104976</title>\n<polygon fill=\"none\" stroke=\"black\" points=\"1044,-54.5 1044,-90.5 1229,-90.5 1229,-54.5 1044,-54.5\"/>\n<text text-anchor=\"middle\" x=\"1055.5\" y=\"-68.8\" font-family=\"Times,serif\" font-size=\"14.00\">n</text>\n<polyline fill=\"none\" stroke=\"black\" points=\"1067,-54.5 1067,-90.5 \"/>\n<text text-anchor=\"middle\" x=\"1107\" y=\"-68.8\" font-family=\"Times,serif\" font-size=\"14.00\">data 0.7000</text>\n<polyline fill=\"none\" stroke=\"black\" points=\"1147,-54.5 1147,-90.5 \"/>\n<text text-anchor=\"middle\" x=\"1188\" y=\"-68.8\" font-family=\"Times,serif\" font-size=\"14.00\">grad 0.6347</text>\n</g>\n<!-- 140561289114768tanh -->\n<g id=\"node8\" class=\"node\">\n<title>140561289114768tanh</title>\n<ellipse fill=\"none\" stroke=\"black\" cx=\"1292\" cy=\"-72.5\" rx=\"27\" ry=\"18\"/>\n<text text-anchor=\"middle\" x=\"1292\" y=\"-68.8\" font-family=\"Times,serif\" font-size=\"14.00\">tanh</text>\n</g>\n<!-- 140561289104976&#45;&gt;140561289114768tanh -->\n<g id=\"edge6\" class=\"edge\">\n<title>140561289104976&#45;&gt;140561289114768tanh</title>\n<path fill=\"none\" stroke=\"black\" d=\"M1229.01,-72.5C1238.01,-72.5 1246.74,-72.5 1254.66,-72.5\"/>\n<polygon fill=\"black\" stroke=\"black\" points=\"1254.91,-76 1264.91,-72.5 1254.91,-69 1254.91,-76\"/>\n</g>\n<!-- 140561289104976+ -->\n<g id=\"node4\" class=\"node\">\n<title>140561289104976+</title>\n<ellipse fill=\"none\" stroke=\"black\" cx=\"981\" cy=\"-72.5\" rx=\"27\" ry=\"18\"/>\n<text text-anchor=\"middle\" x=\"981\" y=\"-68.8\" font-family=\"Times,serif\" font-size=\"14.00\">+</text>\n</g>\n<!-- 140561289104976+&#45;&gt;140561289104976 -->\n<g id=\"edge1\" class=\"edge\">\n<title>140561289104976+&#45;&gt;140561289104976</title>\n<path fill=\"none\" stroke=\"black\" d=\"M1008.04,-72.5C1015.58,-72.5 1024.3,-72.5 1033.57,-72.5\"/>\n<polygon fill=\"black\" stroke=\"black\" points=\"1033.81,-76 1043.81,-72.5 1033.81,-69 1033.81,-76\"/>\n</g>\n<!-- 140561289112704 -->\n<g id=\"node5\" class=\"node\">\n<title>140561289112704</title>\n<polygon fill=\"none\" stroke=\"black\" points=\"328.5,-55.5 328.5,-91.5 537.5,-91.5 537.5,-55.5 328.5,-55.5\"/>\n<text text-anchor=\"middle\" x=\"352\" y=\"-69.8\" font-family=\"Times,serif\" font-size=\"14.00\">x2w2</text>\n<polyline fill=\"none\" stroke=\"black\" points=\"375.5,-55.5 375.5,-91.5 \"/>\n<text text-anchor=\"middle\" x=\"415.5\" y=\"-69.8\" font-family=\"Times,serif\" font-size=\"14.00\">data 0.0000</text>\n<polyline fill=\"none\" stroke=\"black\" points=\"455.5,-55.5 455.5,-91.5 \"/>\n<text text-anchor=\"middle\" x=\"496.5\" y=\"-69.8\" font-family=\"Times,serif\" font-size=\"14.00\">grad 0.6347</text>\n</g>\n<!-- 140561289115632+ -->\n<g id=\"node15\" class=\"node\">\n<title>140561289115632+</title>\n<ellipse fill=\"none\" stroke=\"black\" cx=\"603\" cy=\"-100.5\" rx=\"27\" ry=\"18\"/>\n<text text-anchor=\"middle\" x=\"603\" y=\"-96.8\" font-family=\"Times,serif\" font-size=\"14.00\">+</text>\n</g>\n<!-- 140561289112704&#45;&gt;140561289115632+ -->\n<g id=\"edge8\" class=\"edge\">\n<title>140561289112704&#45;&gt;140561289115632+</title>\n<path fill=\"none\" stroke=\"black\" d=\"M537.53,-90.14C547.8,-91.79 557.66,-93.37 566.45,-94.79\"/>\n<polygon fill=\"black\" stroke=\"black\" points=\"566.16,-98.28 576.59,-96.42 567.27,-91.37 566.16,-98.28\"/>\n</g>\n<!-- 140561289112704*&#45;&gt;140561289112704 -->\n<g id=\"edge2\" class=\"edge\">\n<title>140561289112704*&#45;&gt;140561289112704</title>\n<path fill=\"none\" stroke=\"black\" d=\"M290.25,-73.5C298.43,-73.5 308.03,-73.5 318.31,-73.5\"/>\n<polygon fill=\"black\" stroke=\"black\" points=\"318.35,-77 328.35,-73.5 318.35,-70 318.35,-77\"/>\n</g>\n<!-- 140561289114768 -->\n<g id=\"node7\" class=\"node\">\n<title>140561289114768</title>\n<polygon fill=\"none\" stroke=\"black\" points=\"1355,-54.5 1355,-90.5 1517,-90.5 1517,-54.5 1355,-54.5\"/>\n<text text-anchor=\"middle\" x=\"1395\" y=\"-68.8\" font-family=\"Times,serif\" font-size=\"14.00\">data 0.6044</text>\n<polyline fill=\"none\" stroke=\"black\" points=\"1435,-54.5 1435,-90.5 \"/>\n<text text-anchor=\"middle\" x=\"1476\" y=\"-68.8\" font-family=\"Times,serif\" font-size=\"14.00\">grad 1.0000</text>\n</g>\n<!-- 140561289114768tanh&#45;&gt;140561289114768 -->\n<g id=\"edge3\" class=\"edge\">\n<title>140561289114768tanh&#45;&gt;140561289114768</title>\n<path fill=\"none\" stroke=\"black\" d=\"M1319.04,-72.5C1326.63,-72.5 1335.38,-72.5 1344.6,-72.5\"/>\n<polygon fill=\"black\" stroke=\"black\" points=\"1344.76,-76 1354.76,-72.5 1344.76,-69 1344.76,-76\"/>\n</g>\n<!-- 140561289105072 -->\n<g id=\"node9\" class=\"node\">\n<title>140561289105072</title>\n<polygon fill=\"none\" stroke=\"black\" points=\"2.5,-0.5 2.5,-36.5 197.5,-36.5 197.5,-0.5 2.5,-0.5\"/>\n<text text-anchor=\"middle\" x=\"19\" y=\"-14.8\" font-family=\"Times,serif\" font-size=\"14.00\">w2</text>\n<polyline fill=\"none\" stroke=\"black\" points=\"35.5,-0.5 35.5,-36.5 \"/>\n<text text-anchor=\"middle\" x=\"75.5\" y=\"-14.8\" font-family=\"Times,serif\" font-size=\"14.00\">data 1.0000</text>\n<polyline fill=\"none\" stroke=\"black\" points=\"115.5,-0.5 115.5,-36.5 \"/>\n<text text-anchor=\"middle\" x=\"156.5\" y=\"-14.8\" font-family=\"Times,serif\" font-size=\"14.00\">grad 0.0000</text>\n</g>\n<!-- 140561289105072&#45;&gt;140561289112704* -->\n<g id=\"edge7\" class=\"edge\">\n<title>140561289105072&#45;&gt;140561289112704*</title>\n<path fill=\"none\" stroke=\"black\" d=\"M169.28,-36.5C179.65,-39.61 190.16,-42.98 200,-46.5 210.28,-50.17 221.28,-54.74 231.11,-59.07\"/>\n<polygon fill=\"black\" stroke=\"black\" points=\"229.93,-62.37 240.48,-63.27 232.79,-55.99 229.93,-62.37\"/>\n</g>\n<!-- 140561289105600 -->\n<g id=\"node10\" class=\"node\">\n<title>140561289105600</title>\n<polygon fill=\"none\" stroke=\"black\" points=\"699.5,-27.5 699.5,-63.5 884.5,-63.5 884.5,-27.5 699.5,-27.5\"/>\n<text text-anchor=\"middle\" x=\"711\" y=\"-41.8\" font-family=\"Times,serif\" font-size=\"14.00\">b</text>\n<polyline fill=\"none\" stroke=\"black\" points=\"722.5,-27.5 722.5,-63.5 \"/>\n<text text-anchor=\"middle\" x=\"762.5\" y=\"-41.8\" font-family=\"Times,serif\" font-size=\"14.00\">data 6.7000</text>\n<polyline fill=\"none\" stroke=\"black\" points=\"802.5,-27.5 802.5,-63.5 \"/>\n<text text-anchor=\"middle\" x=\"843.5\" y=\"-41.8\" font-family=\"Times,serif\" font-size=\"14.00\">grad 0.6347</text>\n</g>\n<!-- 140561289105600&#45;&gt;140561289104976+ -->\n<g id=\"edge13\" class=\"edge\">\n<title>140561289105600&#45;&gt;140561289104976+</title>\n<path fill=\"none\" stroke=\"black\" d=\"M884.58,-58.72C905.89,-61.8 927.32,-64.89 944.47,-67.37\"/>\n<polygon fill=\"black\" stroke=\"black\" points=\"944.15,-70.86 954.55,-68.82 945.15,-63.93 944.15,-70.86\"/>\n</g>\n<!-- 140561289104592 -->\n<g id=\"node11\" class=\"node\">\n<title>140561289104592</title>\n<polygon fill=\"none\" stroke=\"black\" points=\"2,-110.5 2,-146.5 198,-146.5 198,-110.5 2,-110.5\"/>\n<text text-anchor=\"middle\" x=\"17\" y=\"-124.8\" font-family=\"Times,serif\" font-size=\"14.00\">x1</text>\n<polyline fill=\"none\" stroke=\"black\" points=\"32,-110.5 32,-146.5 \"/>\n<text text-anchor=\"middle\" x=\"72\" y=\"-124.8\" font-family=\"Times,serif\" font-size=\"14.00\">data 2.0000</text>\n<polyline fill=\"none\" stroke=\"black\" points=\"112,-110.5 112,-146.5 \"/>\n<text text-anchor=\"middle\" x=\"155\" y=\"-124.8\" font-family=\"Times,serif\" font-size=\"14.00\">grad &#45;1.9042</text>\n</g>\n<!-- 140561289104592&#45;&gt;140561289114528* -->\n<g id=\"edge14\" class=\"edge\">\n<title>140561289104592&#45;&gt;140561289114528*</title>\n<path fill=\"none\" stroke=\"black\" d=\"M198.37,-128.5C208.05,-128.5 217.4,-128.5 225.8,-128.5\"/>\n<polygon fill=\"black\" stroke=\"black\" points=\"225.91,-132 235.91,-128.5 225.91,-125 225.91,-132\"/>\n</g>\n<!-- 140561289114528 -->\n<g id=\"node12\" class=\"node\">\n<title>140561289114528</title>\n<polygon fill=\"none\" stroke=\"black\" points=\"326,-110.5 326,-146.5 540,-146.5 540,-110.5 326,-110.5\"/>\n<text text-anchor=\"middle\" x=\"349.5\" y=\"-124.8\" font-family=\"Times,serif\" font-size=\"14.00\">x1w1</text>\n<polyline fill=\"none\" stroke=\"black\" points=\"373,-110.5 373,-146.5 \"/>\n<text text-anchor=\"middle\" x=\"415.5\" y=\"-124.8\" font-family=\"Times,serif\" font-size=\"14.00\">data &#45;6.0000</text>\n<polyline fill=\"none\" stroke=\"black\" points=\"458,-110.5 458,-146.5 \"/>\n<text text-anchor=\"middle\" x=\"499\" y=\"-124.8\" font-family=\"Times,serif\" font-size=\"14.00\">grad 0.6347</text>\n</g>\n<!-- 140561289114528&#45;&gt;140561289115632+ -->\n<g id=\"edge10\" class=\"edge\">\n<title>140561289114528&#45;&gt;140561289115632+</title>\n<path fill=\"none\" stroke=\"black\" d=\"M540.4,-110.77C549.72,-109.21 558.65,-107.72 566.68,-106.39\"/>\n<polygon fill=\"black\" stroke=\"black\" points=\"567.38,-109.82 576.66,-104.72 566.22,-102.91 567.38,-109.82\"/>\n</g>\n<!-- 140561289114528*&#45;&gt;140561289114528 -->\n<g id=\"edge4\" class=\"edge\">\n<title>140561289114528*&#45;&gt;140561289114528</title>\n<path fill=\"none\" stroke=\"black\" d=\"M290.25,-128.5C297.7,-128.5 306.34,-128.5 315.59,-128.5\"/>\n<polygon fill=\"black\" stroke=\"black\" points=\"315.84,-132 325.84,-128.5 315.84,-125 315.84,-132\"/>\n</g>\n<!-- 140561289115632 -->\n<g id=\"node14\" class=\"node\">\n<title>140561289115632</title>\n<polygon fill=\"none\" stroke=\"black\" points=\"666,-82.5 666,-118.5 918,-118.5 918,-82.5 666,-82.5\"/>\n<text text-anchor=\"middle\" x=\"708.5\" y=\"-96.8\" font-family=\"Times,serif\" font-size=\"14.00\">x1w1+x2w2</text>\n<polyline fill=\"none\" stroke=\"black\" points=\"751,-82.5 751,-118.5 \"/>\n<text text-anchor=\"middle\" x=\"793.5\" y=\"-96.8\" font-family=\"Times,serif\" font-size=\"14.00\">data &#45;6.0000</text>\n<polyline fill=\"none\" stroke=\"black\" points=\"836,-82.5 836,-118.5 \"/>\n<text text-anchor=\"middle\" x=\"877\" y=\"-96.8\" font-family=\"Times,serif\" font-size=\"14.00\">grad 0.6347</text>\n</g>\n<!-- 140561289115632&#45;&gt;140561289104976+ -->\n<g id=\"edge9\" class=\"edge\">\n<title>140561289115632&#45;&gt;140561289104976+</title>\n<path fill=\"none\" stroke=\"black\" d=\"M913.28,-82.49C924.51,-80.81 935.18,-79.21 944.56,-77.81\"/>\n<polygon fill=\"black\" stroke=\"black\" points=\"945.18,-81.25 954.56,-76.31 944.15,-74.33 945.18,-81.25\"/>\n</g>\n<!-- 140561289115632+&#45;&gt;140561289115632 -->\n<g id=\"edge5\" class=\"edge\">\n<title>140561289115632+&#45;&gt;140561289115632</title>\n<path fill=\"none\" stroke=\"black\" d=\"M630,-100.5C637.52,-100.5 646.3,-100.5 655.79,-100.5\"/>\n<polygon fill=\"black\" stroke=\"black\" points=\"655.92,-104 665.92,-100.5 655.92,-97 655.92,-104\"/>\n</g>\n</g>\n</svg>\n",
            "text/plain": [
              "<graphviz.graphs.Digraph at 0x7fd6f9b4df60>"
            ]
          },
          "metadata": {},
          "execution_count": 51
        }
      ]
    },
    {
      "cell_type": "markdown",
      "source": [
        "# Apply Backprop Using Topological Sort..\n"
      ],
      "metadata": {
        "id": "DZw9jMO31eXG"
      }
    },
    {
      "cell_type": "code",
      "source": [
        "drawDot(output)"
      ],
      "metadata": {
        "colab": {
          "base_uri": "https://localhost:8080/",
          "height": 321
        },
        "id": "SuBVs91Gy8aP",
        "outputId": "653e4887-8af2-4deb-fee6-3c59f56d924c"
      },
      "execution_count": null,
      "outputs": [
        {
          "output_type": "execute_result",
          "data": {
            "image/svg+xml": "<?xml version=\"1.0\" encoding=\"UTF-8\" standalone=\"no\"?>\n<!DOCTYPE svg PUBLIC \"-//W3C//DTD SVG 1.1//EN\"\n \"http://www.w3.org/Graphics/SVG/1.1/DTD/svg11.dtd\">\n<!-- Generated by graphviz version 2.43.0 (0)\n -->\n<!-- Title: %3 Pages: 1 -->\n<svg width=\"1525pt\" height=\"210pt\"\n viewBox=\"0.00 0.00 1525.00 210.00\" xmlns=\"http://www.w3.org/2000/svg\" xmlns:xlink=\"http://www.w3.org/1999/xlink\">\n<g id=\"graph0\" class=\"graph\" transform=\"scale(1 1) rotate(0) translate(4 206)\">\n<title>%3</title>\n<polygon fill=\"white\" stroke=\"transparent\" points=\"-4,4 -4,-206 1521,-206 1521,4 -4,4\"/>\n<!-- 132595101602368 -->\n<g id=\"node1\" class=\"node\">\n<title>132595101602368</title>\n<polygon fill=\"none\" stroke=\"black\" points=\"1355,-54.5 1355,-90.5 1517,-90.5 1517,-54.5 1355,-54.5\"/>\n<text text-anchor=\"middle\" x=\"1395\" y=\"-68.8\" font-family=\"Times,serif\" font-size=\"14.00\">data 0.6044</text>\n<polyline fill=\"none\" stroke=\"black\" points=\"1435,-54.5 1435,-90.5 \"/>\n<text text-anchor=\"middle\" x=\"1476\" y=\"-68.8\" font-family=\"Times,serif\" font-size=\"14.00\">grad 1.0000</text>\n</g>\n<!-- 132595101602368tanh -->\n<g id=\"node2\" class=\"node\">\n<title>132595101602368tanh</title>\n<ellipse fill=\"none\" stroke=\"black\" cx=\"1292\" cy=\"-72.5\" rx=\"27\" ry=\"18\"/>\n<text text-anchor=\"middle\" x=\"1292\" y=\"-68.8\" font-family=\"Times,serif\" font-size=\"14.00\">tanh</text>\n</g>\n<!-- 132595101602368tanh&#45;&gt;132595101602368 -->\n<g id=\"edge1\" class=\"edge\">\n<title>132595101602368tanh&#45;&gt;132595101602368</title>\n<path fill=\"none\" stroke=\"black\" d=\"M1319.04,-72.5C1326.63,-72.5 1335.38,-72.5 1344.6,-72.5\"/>\n<polygon fill=\"black\" stroke=\"black\" points=\"1344.76,-76 1354.76,-72.5 1344.76,-69 1344.76,-76\"/>\n</g>\n<!-- 132595101603424 -->\n<g id=\"node3\" class=\"node\">\n<title>132595101603424</title>\n<polygon fill=\"none\" stroke=\"black\" points=\"0,-55.5 0,-91.5 200,-91.5 200,-55.5 0,-55.5\"/>\n<text text-anchor=\"middle\" x=\"16.5\" y=\"-69.8\" font-family=\"Times,serif\" font-size=\"14.00\">w1</text>\n<polyline fill=\"none\" stroke=\"black\" points=\"33,-55.5 33,-91.5 \"/>\n<text text-anchor=\"middle\" x=\"75.5\" y=\"-69.8\" font-family=\"Times,serif\" font-size=\"14.00\">data &#45;3.0000</text>\n<polyline fill=\"none\" stroke=\"black\" points=\"118,-55.5 118,-91.5 \"/>\n<text text-anchor=\"middle\" x=\"159\" y=\"-69.8\" font-family=\"Times,serif\" font-size=\"14.00\">grad 1.2695</text>\n</g>\n<!-- 132595101604816* -->\n<g id=\"node15\" class=\"node\">\n<title>132595101604816*</title>\n<ellipse fill=\"none\" stroke=\"black\" cx=\"263\" cy=\"-73.5\" rx=\"27\" ry=\"18\"/>\n<text text-anchor=\"middle\" x=\"263\" y=\"-69.8\" font-family=\"Times,serif\" font-size=\"14.00\">*</text>\n</g>\n<!-- 132595101603424&#45;&gt;132595101604816* -->\n<g id=\"edge6\" class=\"edge\">\n<title>132595101603424&#45;&gt;132595101604816*</title>\n<path fill=\"none\" stroke=\"black\" d=\"M200.21,-73.5C209.2,-73.5 217.86,-73.5 225.7,-73.5\"/>\n<polygon fill=\"black\" stroke=\"black\" points=\"225.85,-77 235.85,-73.5 225.85,-70 225.85,-77\"/>\n</g>\n<!-- 132595101600352 -->\n<g id=\"node4\" class=\"node\">\n<title>132595101600352</title>\n<polygon fill=\"none\" stroke=\"black\" points=\"328.5,-110.5 328.5,-146.5 537.5,-146.5 537.5,-110.5 328.5,-110.5\"/>\n<text text-anchor=\"middle\" x=\"352\" y=\"-124.8\" font-family=\"Times,serif\" font-size=\"14.00\">x2w2</text>\n<polyline fill=\"none\" stroke=\"black\" points=\"375.5,-110.5 375.5,-146.5 \"/>\n<text text-anchor=\"middle\" x=\"415.5\" y=\"-124.8\" font-family=\"Times,serif\" font-size=\"14.00\">data 0.0000</text>\n<polyline fill=\"none\" stroke=\"black\" points=\"455.5,-110.5 455.5,-146.5 \"/>\n<text text-anchor=\"middle\" x=\"496.5\" y=\"-124.8\" font-family=\"Times,serif\" font-size=\"14.00\">grad 0.6347</text>\n</g>\n<!-- 132595101597856+ -->\n<g id=\"node8\" class=\"node\">\n<title>132595101597856+</title>\n<ellipse fill=\"none\" stroke=\"black\" cx=\"603\" cy=\"-100.5\" rx=\"27\" ry=\"18\"/>\n<text text-anchor=\"middle\" x=\"603\" y=\"-96.8\" font-family=\"Times,serif\" font-size=\"14.00\">+</text>\n</g>\n<!-- 132595101600352&#45;&gt;132595101597856+ -->\n<g id=\"edge9\" class=\"edge\">\n<title>132595101600352&#45;&gt;132595101597856+</title>\n<path fill=\"none\" stroke=\"black\" d=\"M537.53,-111.25C547.8,-109.53 557.66,-107.89 566.45,-106.43\"/>\n<polygon fill=\"black\" stroke=\"black\" points=\"567.3,-109.83 576.59,-104.74 566.15,-102.93 567.3,-109.83\"/>\n</g>\n<!-- 132595101600352* -->\n<g id=\"node5\" class=\"node\">\n<title>132595101600352*</title>\n<ellipse fill=\"none\" stroke=\"black\" cx=\"263\" cy=\"-128.5\" rx=\"27\" ry=\"18\"/>\n<text text-anchor=\"middle\" x=\"263\" y=\"-124.8\" font-family=\"Times,serif\" font-size=\"14.00\">*</text>\n</g>\n<!-- 132595101600352*&#45;&gt;132595101600352 -->\n<g id=\"edge2\" class=\"edge\">\n<title>132595101600352*&#45;&gt;132595101600352</title>\n<path fill=\"none\" stroke=\"black\" d=\"M290.25,-128.5C298.43,-128.5 308.03,-128.5 318.31,-128.5\"/>\n<polygon fill=\"black\" stroke=\"black\" points=\"318.35,-132 328.35,-128.5 318.35,-125 318.35,-132\"/>\n</g>\n<!-- 132595101606544 -->\n<g id=\"node6\" class=\"node\">\n<title>132595101606544</title>\n<polygon fill=\"none\" stroke=\"black\" points=\"2.5,-165.5 2.5,-201.5 197.5,-201.5 197.5,-165.5 2.5,-165.5\"/>\n<text text-anchor=\"middle\" x=\"19\" y=\"-179.8\" font-family=\"Times,serif\" font-size=\"14.00\">w2</text>\n<polyline fill=\"none\" stroke=\"black\" points=\"35.5,-165.5 35.5,-201.5 \"/>\n<text text-anchor=\"middle\" x=\"75.5\" y=\"-179.8\" font-family=\"Times,serif\" font-size=\"14.00\">data 1.0000</text>\n<polyline fill=\"none\" stroke=\"black\" points=\"115.5,-165.5 115.5,-201.5 \"/>\n<text text-anchor=\"middle\" x=\"156.5\" y=\"-179.8\" font-family=\"Times,serif\" font-size=\"14.00\">grad 0.0000</text>\n</g>\n<!-- 132595101606544&#45;&gt;132595101600352* -->\n<g id=\"edge12\" class=\"edge\">\n<title>132595101606544&#45;&gt;132595101600352*</title>\n<path fill=\"none\" stroke=\"black\" d=\"M172.53,-165.44C181.84,-162.67 191.2,-159.67 200,-156.5 210.53,-152.71 221.75,-147.9 231.72,-143.33\"/>\n<polygon fill=\"black\" stroke=\"black\" points=\"233.25,-146.48 240.82,-139.07 230.28,-140.14 233.25,-146.48\"/>\n</g>\n<!-- 132595101597856 -->\n<g id=\"node7\" class=\"node\">\n<title>132595101597856</title>\n<polygon fill=\"none\" stroke=\"black\" points=\"666,-82.5 666,-118.5 918,-118.5 918,-82.5 666,-82.5\"/>\n<text text-anchor=\"middle\" x=\"708.5\" y=\"-96.8\" font-family=\"Times,serif\" font-size=\"14.00\">x1w1+x2w2</text>\n<polyline fill=\"none\" stroke=\"black\" points=\"751,-82.5 751,-118.5 \"/>\n<text text-anchor=\"middle\" x=\"793.5\" y=\"-96.8\" font-family=\"Times,serif\" font-size=\"14.00\">data &#45;6.0000</text>\n<polyline fill=\"none\" stroke=\"black\" points=\"836,-82.5 836,-118.5 \"/>\n<text text-anchor=\"middle\" x=\"877\" y=\"-96.8\" font-family=\"Times,serif\" font-size=\"14.00\">grad 0.6347</text>\n</g>\n<!-- 132595101611824+ -->\n<g id=\"node11\" class=\"node\">\n<title>132595101611824+</title>\n<ellipse fill=\"none\" stroke=\"black\" cx=\"981\" cy=\"-72.5\" rx=\"27\" ry=\"18\"/>\n<text text-anchor=\"middle\" x=\"981\" y=\"-68.8\" font-family=\"Times,serif\" font-size=\"14.00\">+</text>\n</g>\n<!-- 132595101597856&#45;&gt;132595101611824+ -->\n<g id=\"edge14\" class=\"edge\">\n<title>132595101597856&#45;&gt;132595101611824+</title>\n<path fill=\"none\" stroke=\"black\" d=\"M913.28,-82.49C924.51,-80.81 935.18,-79.21 944.56,-77.81\"/>\n<polygon fill=\"black\" stroke=\"black\" points=\"945.18,-81.25 954.56,-76.31 944.15,-74.33 945.18,-81.25\"/>\n</g>\n<!-- 132595101597856+&#45;&gt;132595101597856 -->\n<g id=\"edge3\" class=\"edge\">\n<title>132595101597856+&#45;&gt;132595101597856</title>\n<path fill=\"none\" stroke=\"black\" d=\"M630,-100.5C637.52,-100.5 646.3,-100.5 655.79,-100.5\"/>\n<polygon fill=\"black\" stroke=\"black\" points=\"655.92,-104 665.92,-100.5 655.92,-97 655.92,-104\"/>\n</g>\n<!-- 132595101599392 -->\n<g id=\"node9\" class=\"node\">\n<title>132595101599392</title>\n<polygon fill=\"none\" stroke=\"black\" points=\"4,-110.5 4,-146.5 196,-146.5 196,-110.5 4,-110.5\"/>\n<text text-anchor=\"middle\" x=\"19\" y=\"-124.8\" font-family=\"Times,serif\" font-size=\"14.00\">x2</text>\n<polyline fill=\"none\" stroke=\"black\" points=\"34,-110.5 34,-146.5 \"/>\n<text text-anchor=\"middle\" x=\"74\" y=\"-124.8\" font-family=\"Times,serif\" font-size=\"14.00\">data 0.0000</text>\n<polyline fill=\"none\" stroke=\"black\" points=\"114,-110.5 114,-146.5 \"/>\n<text text-anchor=\"middle\" x=\"155\" y=\"-124.8\" font-family=\"Times,serif\" font-size=\"14.00\">grad 0.6347</text>\n</g>\n<!-- 132595101599392&#45;&gt;132595101600352* -->\n<g id=\"edge13\" class=\"edge\">\n<title>132595101599392&#45;&gt;132595101600352*</title>\n<path fill=\"none\" stroke=\"black\" d=\"M196.05,-128.5C206.52,-128.5 216.65,-128.5 225.71,-128.5\"/>\n<polygon fill=\"black\" stroke=\"black\" points=\"225.79,-132 235.79,-128.5 225.79,-125 225.79,-132\"/>\n</g>\n<!-- 132595101611824 -->\n<g id=\"node10\" class=\"node\">\n<title>132595101611824</title>\n<polygon fill=\"none\" stroke=\"black\" points=\"1044,-54.5 1044,-90.5 1229,-90.5 1229,-54.5 1044,-54.5\"/>\n<text text-anchor=\"middle\" x=\"1055.5\" y=\"-68.8\" font-family=\"Times,serif\" font-size=\"14.00\">n</text>\n<polyline fill=\"none\" stroke=\"black\" points=\"1067,-54.5 1067,-90.5 \"/>\n<text text-anchor=\"middle\" x=\"1107\" y=\"-68.8\" font-family=\"Times,serif\" font-size=\"14.00\">data 0.7000</text>\n<polyline fill=\"none\" stroke=\"black\" points=\"1147,-54.5 1147,-90.5 \"/>\n<text text-anchor=\"middle\" x=\"1188\" y=\"-68.8\" font-family=\"Times,serif\" font-size=\"14.00\">grad 0.6347</text>\n</g>\n<!-- 132595101611824&#45;&gt;132595101602368tanh -->\n<g id=\"edge11\" class=\"edge\">\n<title>132595101611824&#45;&gt;132595101602368tanh</title>\n<path fill=\"none\" stroke=\"black\" d=\"M1229.01,-72.5C1238.01,-72.5 1246.74,-72.5 1254.66,-72.5\"/>\n<polygon fill=\"black\" stroke=\"black\" points=\"1254.91,-76 1264.91,-72.5 1254.91,-69 1254.91,-76\"/>\n</g>\n<!-- 132595101611824+&#45;&gt;132595101611824 -->\n<g id=\"edge4\" class=\"edge\">\n<title>132595101611824+&#45;&gt;132595101611824</title>\n<path fill=\"none\" stroke=\"black\" d=\"M1008.04,-72.5C1015.58,-72.5 1024.3,-72.5 1033.57,-72.5\"/>\n<polygon fill=\"black\" stroke=\"black\" points=\"1033.81,-76 1043.81,-72.5 1033.81,-69 1033.81,-76\"/>\n</g>\n<!-- 132595101610816 -->\n<g id=\"node12\" class=\"node\">\n<title>132595101610816</title>\n<polygon fill=\"none\" stroke=\"black\" points=\"2,-0.5 2,-36.5 198,-36.5 198,-0.5 2,-0.5\"/>\n<text text-anchor=\"middle\" x=\"17\" y=\"-14.8\" font-family=\"Times,serif\" font-size=\"14.00\">x1</text>\n<polyline fill=\"none\" stroke=\"black\" points=\"32,-0.5 32,-36.5 \"/>\n<text text-anchor=\"middle\" x=\"72\" y=\"-14.8\" font-family=\"Times,serif\" font-size=\"14.00\">data 2.0000</text>\n<polyline fill=\"none\" stroke=\"black\" points=\"112,-0.5 112,-36.5 \"/>\n<text text-anchor=\"middle\" x=\"155\" y=\"-14.8\" font-family=\"Times,serif\" font-size=\"14.00\">grad &#45;1.9042</text>\n</g>\n<!-- 132595101610816&#45;&gt;132595101604816* -->\n<g id=\"edge7\" class=\"edge\">\n<title>132595101610816&#45;&gt;132595101604816*</title>\n<path fill=\"none\" stroke=\"black\" d=\"M172.53,-36.56C181.84,-39.33 191.2,-42.33 200,-45.5 210.53,-49.29 221.75,-54.1 231.72,-58.67\"/>\n<polygon fill=\"black\" stroke=\"black\" points=\"230.28,-61.86 240.82,-62.93 233.25,-55.52 230.28,-61.86\"/>\n</g>\n<!-- 132595101609808 -->\n<g id=\"node13\" class=\"node\">\n<title>132595101609808</title>\n<polygon fill=\"none\" stroke=\"black\" points=\"699.5,-27.5 699.5,-63.5 884.5,-63.5 884.5,-27.5 699.5,-27.5\"/>\n<text text-anchor=\"middle\" x=\"711\" y=\"-41.8\" font-family=\"Times,serif\" font-size=\"14.00\">b</text>\n<polyline fill=\"none\" stroke=\"black\" points=\"722.5,-27.5 722.5,-63.5 \"/>\n<text text-anchor=\"middle\" x=\"762.5\" y=\"-41.8\" font-family=\"Times,serif\" font-size=\"14.00\">data 6.7000</text>\n<polyline fill=\"none\" stroke=\"black\" points=\"802.5,-27.5 802.5,-63.5 \"/>\n<text text-anchor=\"middle\" x=\"843.5\" y=\"-41.8\" font-family=\"Times,serif\" font-size=\"14.00\">grad 0.6347</text>\n</g>\n<!-- 132595101609808&#45;&gt;132595101611824+ -->\n<g id=\"edge10\" class=\"edge\">\n<title>132595101609808&#45;&gt;132595101611824+</title>\n<path fill=\"none\" stroke=\"black\" d=\"M884.58,-58.72C905.89,-61.8 927.32,-64.89 944.47,-67.37\"/>\n<polygon fill=\"black\" stroke=\"black\" points=\"944.15,-70.86 954.55,-68.82 945.15,-63.93 944.15,-70.86\"/>\n</g>\n<!-- 132595101604816 -->\n<g id=\"node14\" class=\"node\">\n<title>132595101604816</title>\n<polygon fill=\"none\" stroke=\"black\" points=\"326,-55.5 326,-91.5 540,-91.5 540,-55.5 326,-55.5\"/>\n<text text-anchor=\"middle\" x=\"349.5\" y=\"-69.8\" font-family=\"Times,serif\" font-size=\"14.00\">x1w1</text>\n<polyline fill=\"none\" stroke=\"black\" points=\"373,-55.5 373,-91.5 \"/>\n<text text-anchor=\"middle\" x=\"415.5\" y=\"-69.8\" font-family=\"Times,serif\" font-size=\"14.00\">data &#45;6.0000</text>\n<polyline fill=\"none\" stroke=\"black\" points=\"458,-55.5 458,-91.5 \"/>\n<text text-anchor=\"middle\" x=\"499\" y=\"-69.8\" font-family=\"Times,serif\" font-size=\"14.00\">grad 0.6347</text>\n</g>\n<!-- 132595101604816&#45;&gt;132595101597856+ -->\n<g id=\"edge8\" class=\"edge\">\n<title>132595101604816&#45;&gt;132595101597856+</title>\n<path fill=\"none\" stroke=\"black\" d=\"M540.4,-90.6C549.72,-92.1 558.65,-93.53 566.68,-94.82\"/>\n<polygon fill=\"black\" stroke=\"black\" points=\"566.24,-98.3 576.66,-96.43 567.35,-91.39 566.24,-98.3\"/>\n</g>\n<!-- 132595101604816*&#45;&gt;132595101604816 -->\n<g id=\"edge5\" class=\"edge\">\n<title>132595101604816*&#45;&gt;132595101604816</title>\n<path fill=\"none\" stroke=\"black\" d=\"M290.25,-73.5C297.7,-73.5 306.34,-73.5 315.59,-73.5\"/>\n<polygon fill=\"black\" stroke=\"black\" points=\"315.84,-77 325.84,-73.5 315.84,-70 315.84,-77\"/>\n</g>\n</g>\n</svg>\n",
            "text/plain": [
              "<graphviz.graphs.Digraph at 0x789833ee0be0>"
            ]
          },
          "metadata": {},
          "execution_count": 80
        }
      ]
    },
    {
      "cell_type": "markdown",
      "source": [
        "# Topological Sort"
      ],
      "metadata": {
        "id": "9-B-8IF6wujJ"
      }
    },
    {
      "cell_type": "code",
      "source": [
        "\n",
        "a = Value(-2.0, label='a')\n",
        "b = a + a; b.label='b'\n",
        "b.backward()\n",
        "drawDot(b)"
      ],
      "metadata": {
        "colab": {
          "base_uri": "https://localhost:8080/",
          "height": 81
        },
        "id": "oI137W9TWKZq",
        "outputId": "ef6bc3a7-3a20-454d-91c8-01979ac9282e"
      },
      "execution_count": 8,
      "outputs": [
        {
          "output_type": "execute_result",
          "data": {
            "image/svg+xml": "<?xml version=\"1.0\" encoding=\"UTF-8\" standalone=\"no\"?>\n<!DOCTYPE svg PUBLIC \"-//W3C//DTD SVG 1.1//EN\"\n \"http://www.w3.org/Graphics/SVG/1.1/DTD/svg11.dtd\">\n<!-- Generated by graphviz version 2.43.0 (0)\n -->\n<!-- Title: %3 Pages: 1 -->\n<svg width=\"514pt\" height=\"45pt\"\n viewBox=\"0.00 0.00 514.00 45.00\" xmlns=\"http://www.w3.org/2000/svg\" xmlns:xlink=\"http://www.w3.org/1999/xlink\">\n<g id=\"graph0\" class=\"graph\" transform=\"scale(1 1) rotate(0) translate(4 41)\">\n<title>%3</title>\n<polygon fill=\"white\" stroke=\"transparent\" points=\"-4,4 -4,-41 510,-41 510,4 -4,4\"/>\n<!-- 140561324711104 -->\n<g id=\"node1\" class=\"node\">\n<title>140561324711104</title>\n<polygon fill=\"none\" stroke=\"black\" points=\"0,-0.5 0,-36.5 190,-36.5 190,-0.5 0,-0.5\"/>\n<text text-anchor=\"middle\" x=\"11.5\" y=\"-14.8\" font-family=\"Times,serif\" font-size=\"14.00\">a</text>\n<polyline fill=\"none\" stroke=\"black\" points=\"23,-0.5 23,-36.5 \"/>\n<text text-anchor=\"middle\" x=\"65.5\" y=\"-14.8\" font-family=\"Times,serif\" font-size=\"14.00\">data &#45;2.0000</text>\n<polyline fill=\"none\" stroke=\"black\" points=\"108,-0.5 108,-36.5 \"/>\n<text text-anchor=\"middle\" x=\"149\" y=\"-14.8\" font-family=\"Times,serif\" font-size=\"14.00\">grad 2.0000</text>\n</g>\n<!-- 140561324712544+ -->\n<g id=\"node3\" class=\"node\">\n<title>140561324712544+</title>\n<ellipse fill=\"none\" stroke=\"black\" cx=\"253\" cy=\"-18.5\" rx=\"27\" ry=\"18\"/>\n<text text-anchor=\"middle\" x=\"253\" y=\"-14.8\" font-family=\"Times,serif\" font-size=\"14.00\">+</text>\n</g>\n<!-- 140561324711104&#45;&gt;140561324712544+ -->\n<g id=\"edge2\" class=\"edge\">\n<title>140561324711104&#45;&gt;140561324712544+</title>\n<path fill=\"none\" stroke=\"black\" d=\"M190.34,-18.5C199.26,-18.5 207.87,-18.5 215.69,-18.5\"/>\n<polygon fill=\"black\" stroke=\"black\" points=\"215.82,-22 225.82,-18.5 215.82,-15 215.82,-22\"/>\n</g>\n<!-- 140561324712544 -->\n<g id=\"node2\" class=\"node\">\n<title>140561324712544</title>\n<polygon fill=\"none\" stroke=\"black\" points=\"316,-0.5 316,-36.5 506,-36.5 506,-0.5 316,-0.5\"/>\n<text text-anchor=\"middle\" x=\"327.5\" y=\"-14.8\" font-family=\"Times,serif\" font-size=\"14.00\">b</text>\n<polyline fill=\"none\" stroke=\"black\" points=\"339,-0.5 339,-36.5 \"/>\n<text text-anchor=\"middle\" x=\"381.5\" y=\"-14.8\" font-family=\"Times,serif\" font-size=\"14.00\">data &#45;4.0000</text>\n<polyline fill=\"none\" stroke=\"black\" points=\"424,-0.5 424,-36.5 \"/>\n<text text-anchor=\"middle\" x=\"465\" y=\"-14.8\" font-family=\"Times,serif\" font-size=\"14.00\">grad 1.0000</text>\n</g>\n<!-- 140561324712544+&#45;&gt;140561324712544 -->\n<g id=\"edge1\" class=\"edge\">\n<title>140561324712544+&#45;&gt;140561324712544</title>\n<path fill=\"none\" stroke=\"black\" d=\"M280.11,-18.5C287.63,-18.5 296.32,-18.5 305.58,-18.5\"/>\n<polygon fill=\"black\" stroke=\"black\" points=\"305.81,-22 315.81,-18.5 305.81,-15 305.81,-22\"/>\n</g>\n</g>\n</svg>\n",
            "text/plain": [
              "<graphviz.graphs.Digraph at 0x7fd6fbd408e0>"
            ]
          },
          "metadata": {},
          "execution_count": 8
        }
      ]
    },
    {
      "cell_type": "code",
      "source": [
        "\n",
        "a = Value(-2.0, label='a')\n",
        "b = Value(3.0, label='b')\n",
        "d = a * b; d.label='d'\n",
        "e = a + b; d.label='e'\n",
        "f = d * e; f.label='f'\n",
        "\n",
        "f.backward()\n",
        "drawDot(f)"
      ],
      "metadata": {
        "colab": {
          "base_uri": "https://localhost:8080/",
          "height": 155
        },
        "id": "q5kTeBIIWoAP",
        "outputId": "3b9eb905-f037-442b-da9d-6b8eabc2912c"
      },
      "execution_count": 10,
      "outputs": [
        {
          "output_type": "execute_result",
          "data": {
            "image/svg+xml": "<?xml version=\"1.0\" encoding=\"UTF-8\" standalone=\"no\"?>\n<!DOCTYPE svg PUBLIC \"-//W3C//DTD SVG 1.1//EN\"\n \"http://www.w3.org/Graphics/SVG/1.1/DTD/svg11.dtd\">\n<!-- Generated by graphviz version 2.43.0 (0)\n -->\n<!-- Title: %3 Pages: 1 -->\n<svg width=\"832pt\" height=\"100pt\"\n viewBox=\"0.00 0.00 832.00 100.00\" xmlns=\"http://www.w3.org/2000/svg\" xmlns:xlink=\"http://www.w3.org/1999/xlink\">\n<g id=\"graph0\" class=\"graph\" transform=\"scale(1 1) rotate(0) translate(4 96)\">\n<title>%3</title>\n<polygon fill=\"white\" stroke=\"transparent\" points=\"-4,4 -4,-96 828,-96 828,4 -4,4\"/>\n<!-- 140561324709376 -->\n<g id=\"node1\" class=\"node\">\n<title>140561324709376</title>\n<polygon fill=\"none\" stroke=\"black\" points=\"320,-55.5 320,-91.5 510,-91.5 510,-55.5 320,-55.5\"/>\n<text text-anchor=\"middle\" x=\"331.5\" y=\"-69.8\" font-family=\"Times,serif\" font-size=\"14.00\">e</text>\n<polyline fill=\"none\" stroke=\"black\" points=\"343,-55.5 343,-91.5 \"/>\n<text text-anchor=\"middle\" x=\"385.5\" y=\"-69.8\" font-family=\"Times,serif\" font-size=\"14.00\">data &#45;6.0000</text>\n<polyline fill=\"none\" stroke=\"black\" points=\"428,-55.5 428,-91.5 \"/>\n<text text-anchor=\"middle\" x=\"469\" y=\"-69.8\" font-family=\"Times,serif\" font-size=\"14.00\">grad 1.0000</text>\n</g>\n<!-- 140561324711536* -->\n<g id=\"node4\" class=\"node\">\n<title>140561324711536*</title>\n<ellipse fill=\"none\" stroke=\"black\" cx=\"573\" cy=\"-45.5\" rx=\"27\" ry=\"18\"/>\n<text text-anchor=\"middle\" x=\"573\" y=\"-41.8\" font-family=\"Times,serif\" font-size=\"14.00\">*</text>\n</g>\n<!-- 140561324709376&#45;&gt;140561324711536* -->\n<g id=\"edge7\" class=\"edge\">\n<title>140561324709376&#45;&gt;140561324711536*</title>\n<path fill=\"none\" stroke=\"black\" d=\"M510.34,-56.57C519.62,-54.9 528.58,-53.29 536.66,-51.84\"/>\n<polygon fill=\"black\" stroke=\"black\" points=\"537.49,-55.25 546.72,-50.04 536.26,-48.36 537.49,-55.25\"/>\n</g>\n<!-- 140561324709376* -->\n<g id=\"node2\" class=\"node\">\n<title>140561324709376*</title>\n<ellipse fill=\"none\" stroke=\"black\" cx=\"257\" cy=\"-73.5\" rx=\"27\" ry=\"18\"/>\n<text text-anchor=\"middle\" x=\"257\" y=\"-69.8\" font-family=\"Times,serif\" font-size=\"14.00\">*</text>\n</g>\n<!-- 140561324709376*&#45;&gt;140561324709376 -->\n<g id=\"edge1\" class=\"edge\">\n<title>140561324709376*&#45;&gt;140561324709376</title>\n<path fill=\"none\" stroke=\"black\" d=\"M284.11,-73.5C291.63,-73.5 300.32,-73.5 309.58,-73.5\"/>\n<polygon fill=\"black\" stroke=\"black\" points=\"309.81,-77 319.81,-73.5 309.81,-70 309.81,-77\"/>\n</g>\n<!-- 140561324711536 -->\n<g id=\"node3\" class=\"node\">\n<title>140561324711536</title>\n<polygon fill=\"none\" stroke=\"black\" points=\"636,-27.5 636,-63.5 824,-63.5 824,-27.5 636,-27.5\"/>\n<text text-anchor=\"middle\" x=\"646.5\" y=\"-41.8\" font-family=\"Times,serif\" font-size=\"14.00\">f</text>\n<polyline fill=\"none\" stroke=\"black\" points=\"657,-27.5 657,-63.5 \"/>\n<text text-anchor=\"middle\" x=\"699.5\" y=\"-41.8\" font-family=\"Times,serif\" font-size=\"14.00\">data &#45;6.0000</text>\n<polyline fill=\"none\" stroke=\"black\" points=\"742,-27.5 742,-63.5 \"/>\n<text text-anchor=\"middle\" x=\"783\" y=\"-41.8\" font-family=\"Times,serif\" font-size=\"14.00\">grad 1.0000</text>\n</g>\n<!-- 140561324711536*&#45;&gt;140561324711536 -->\n<g id=\"edge2\" class=\"edge\">\n<title>140561324711536*&#45;&gt;140561324711536</title>\n<path fill=\"none\" stroke=\"black\" d=\"M600.29,-45.5C607.78,-45.5 616.42,-45.5 625.6,-45.5\"/>\n<polygon fill=\"black\" stroke=\"black\" points=\"625.76,-49 635.76,-45.5 625.76,-42 625.76,-49\"/>\n</g>\n<!-- 140561324703952 -->\n<g id=\"node5\" class=\"node\">\n<title>140561324703952</title>\n<polygon fill=\"none\" stroke=\"black\" points=\"332,-0.5 332,-36.5 498,-36.5 498,-0.5 332,-0.5\"/>\n<text text-anchor=\"middle\" x=\"372\" y=\"-14.8\" font-family=\"Times,serif\" font-size=\"14.00\">data 1.0000</text>\n<polyline fill=\"none\" stroke=\"black\" points=\"412,-0.5 412,-36.5 \"/>\n<text text-anchor=\"middle\" x=\"455\" y=\"-14.8\" font-family=\"Times,serif\" font-size=\"14.00\">grad &#45;6.0000</text>\n</g>\n<!-- 140561324703952&#45;&gt;140561324711536* -->\n<g id=\"edge6\" class=\"edge\">\n<title>140561324703952&#45;&gt;140561324711536*</title>\n<path fill=\"none\" stroke=\"black\" d=\"M498.11,-32.71C511.6,-35.05 524.92,-37.35 536.46,-39.35\"/>\n<polygon fill=\"black\" stroke=\"black\" points=\"536.06,-42.83 546.51,-41.09 537.26,-35.93 536.06,-42.83\"/>\n</g>\n<!-- 140561324703952+ -->\n<g id=\"node6\" class=\"node\">\n<title>140561324703952+</title>\n<ellipse fill=\"none\" stroke=\"black\" cx=\"257\" cy=\"-18.5\" rx=\"27\" ry=\"18\"/>\n<text text-anchor=\"middle\" x=\"257\" y=\"-14.8\" font-family=\"Times,serif\" font-size=\"14.00\">+</text>\n</g>\n<!-- 140561324703952+&#45;&gt;140561324703952 -->\n<g id=\"edge3\" class=\"edge\">\n<title>140561324703952+&#45;&gt;140561324703952</title>\n<path fill=\"none\" stroke=\"black\" d=\"M284.11,-18.5C294.86,-18.5 308.01,-18.5 321.78,-18.5\"/>\n<polygon fill=\"black\" stroke=\"black\" points=\"321.89,-22 331.89,-18.5 321.89,-15 321.89,-22\"/>\n</g>\n<!-- 140561324714704 -->\n<g id=\"node7\" class=\"node\">\n<title>140561324714704</title>\n<polygon fill=\"none\" stroke=\"black\" points=\"2.5,-55.5 2.5,-91.5 191.5,-91.5 191.5,-55.5 2.5,-55.5\"/>\n<text text-anchor=\"middle\" x=\"14\" y=\"-69.8\" font-family=\"Times,serif\" font-size=\"14.00\">b</text>\n<polyline fill=\"none\" stroke=\"black\" points=\"25.5,-55.5 25.5,-91.5 \"/>\n<text text-anchor=\"middle\" x=\"65.5\" y=\"-69.8\" font-family=\"Times,serif\" font-size=\"14.00\">data 3.0000</text>\n<polyline fill=\"none\" stroke=\"black\" points=\"105.5,-55.5 105.5,-91.5 \"/>\n<text text-anchor=\"middle\" x=\"148.5\" y=\"-69.8\" font-family=\"Times,serif\" font-size=\"14.00\">grad &#45;8.0000</text>\n</g>\n<!-- 140561324714704&#45;&gt;140561324709376* -->\n<g id=\"edge5\" class=\"edge\">\n<title>140561324714704&#45;&gt;140561324709376*</title>\n<path fill=\"none\" stroke=\"black\" d=\"M191.74,-73.5C201.55,-73.5 211.04,-73.5 219.59,-73.5\"/>\n<polygon fill=\"black\" stroke=\"black\" points=\"219.87,-77 229.87,-73.5 219.87,-70 219.87,-77\"/>\n</g>\n<!-- 140561324714704&#45;&gt;140561324703952+ -->\n<g id=\"edge9\" class=\"edge\">\n<title>140561324714704&#45;&gt;140561324703952+</title>\n<path fill=\"none\" stroke=\"black\" d=\"M166.84,-55.49C176.04,-52.69 185.3,-49.67 194,-46.5 204.51,-42.67 215.73,-37.84 225.7,-33.28\"/>\n<polygon fill=\"black\" stroke=\"black\" points=\"227.23,-36.43 234.81,-29.02 224.27,-30.09 227.23,-36.43\"/>\n</g>\n<!-- 140561324707264 -->\n<g id=\"node8\" class=\"node\">\n<title>140561324707264</title>\n<polygon fill=\"none\" stroke=\"black\" points=\"0,-0.5 0,-36.5 194,-36.5 194,-0.5 0,-0.5\"/>\n<text text-anchor=\"middle\" x=\"11.5\" y=\"-14.8\" font-family=\"Times,serif\" font-size=\"14.00\">a</text>\n<polyline fill=\"none\" stroke=\"black\" points=\"23,-0.5 23,-36.5 \"/>\n<text text-anchor=\"middle\" x=\"65.5\" y=\"-14.8\" font-family=\"Times,serif\" font-size=\"14.00\">data &#45;2.0000</text>\n<polyline fill=\"none\" stroke=\"black\" points=\"108,-0.5 108,-36.5 \"/>\n<text text-anchor=\"middle\" x=\"151\" y=\"-14.8\" font-family=\"Times,serif\" font-size=\"14.00\">grad &#45;3.0000</text>\n</g>\n<!-- 140561324707264&#45;&gt;140561324709376* -->\n<g id=\"edge8\" class=\"edge\">\n<title>140561324707264&#45;&gt;140561324709376*</title>\n<path fill=\"none\" stroke=\"black\" d=\"M163.94,-36.53C174.08,-39.65 184.37,-43.01 194,-46.5 204.27,-50.22 215.26,-54.8 225.09,-59.12\"/>\n<polygon fill=\"black\" stroke=\"black\" points=\"223.91,-62.43 234.47,-63.32 226.77,-56.04 223.91,-62.43\"/>\n</g>\n<!-- 140561324707264&#45;&gt;140561324703952+ -->\n<g id=\"edge4\" class=\"edge\">\n<title>140561324707264&#45;&gt;140561324703952+</title>\n<path fill=\"none\" stroke=\"black\" d=\"M194.01,-18.5C202.98,-18.5 211.65,-18.5 219.51,-18.5\"/>\n<polygon fill=\"black\" stroke=\"black\" points=\"219.7,-22 229.7,-18.5 219.7,-15 219.7,-22\"/>\n</g>\n</g>\n</svg>\n",
            "text/plain": [
              "<graphviz.graphs.Digraph at 0x7fd6fbd40700>"
            ]
          },
          "metadata": {},
          "execution_count": 10
        }
      ]
    },
    {
      "cell_type": "code",
      "source": [
        "a = Value(-3.4)\n",
        "a.expo()\n",
        "\n"
      ],
      "metadata": {
        "colab": {
          "base_uri": "https://localhost:8080/"
        },
        "id": "lfk9P_AKXXTE",
        "outputId": "5fae0c0d-2313-406f-9aa2-d51051165dbe"
      },
      "execution_count": 32,
      "outputs": [
        {
          "output_type": "execute_result",
          "data": {
            "text/plain": [
              "Value(data=0.03337326996032608)"
            ]
          },
          "metadata": {},
          "execution_count": 32
        }
      ]
    },
    {
      "cell_type": "code",
      "source": [
        "a = Value(-3.0)\n",
        "b = Value( 2.3)\n",
        "\n",
        "a / b\n",
        "a - b\n"
      ],
      "metadata": {
        "colab": {
          "base_uri": "https://localhost:8080/"
        },
        "id": "lbCWXMgmZNrl",
        "outputId": "b8838964-1840-449a-913e-7d863079259b"
      },
      "execution_count": 48,
      "outputs": [
        {
          "output_type": "execute_result",
          "data": {
            "text/plain": [
              "Value(data=-5.3)"
            ]
          },
          "metadata": {},
          "execution_count": 48
        }
      ]
    },
    {
      "cell_type": "code",
      "source": [
        "#Inputs\n",
        "x1 = Value(2.0, label='x1')\n",
        "x2 = Value(0.0, label='x2')\n",
        "\n",
        "w1 = Value(-3.0,label='w1')\n",
        "w2 = Value(1.0, label='w2')\n",
        "b = Value(6.881375807195432, label='b')\n",
        "# x1*w1 + x2*w2 + b\n",
        "x1w1 = x1*w1; x1w1.label='x1w1'\n",
        "x2w2 = x2*w2; x2w2.label='x2w2'\n",
        "x1w1x2w2 = x1w1 + x2w2; x1w1x2w2.label='x1w1+x2w2'\n",
        "n = x1w1x2w2 + b; n.label='n'\n",
        "output = n.tanh(); label='o'\n",
        "#\n",
        "e = (2*n).expo()\n",
        "o = (e - 1) / (e + 1)\n",
        "#\n",
        "o.label='o'\n",
        "o.backward()\n",
        "drawDot(o)"
      ],
      "metadata": {
        "colab": {
          "base_uri": "https://localhost:8080/",
          "height": 321
        },
        "id": "ZFX04s_Mg5I5",
        "outputId": "c0e06148-1bd2-4f7a-8cae-31b3d8f56e64"
      },
      "execution_count": 62,
      "outputs": [
        {
          "output_type": "execute_result",
          "data": {
            "image/svg+xml": "<?xml version=\"1.0\" encoding=\"UTF-8\" standalone=\"no\"?>\n<!DOCTYPE svg PUBLIC \"-//W3C//DTD SVG 1.1//EN\"\n \"http://www.w3.org/Graphics/SVG/1.1/DTD/svg11.dtd\">\n<!-- Generated by graphviz version 2.43.0 (0)\n -->\n<!-- Title: %3 Pages: 1 -->\n<svg width=\"2817pt\" height=\"210pt\"\n viewBox=\"0.00 0.00 2817.00 210.00\" xmlns=\"http://www.w3.org/2000/svg\" xmlns:xlink=\"http://www.w3.org/1999/xlink\">\n<g id=\"graph0\" class=\"graph\" transform=\"scale(1 1) rotate(0) translate(4 206)\">\n<title>%3</title>\n<polygon fill=\"white\" stroke=\"transparent\" points=\"-4,4 -4,-206 2813,-206 2813,4 -4,4\"/>\n<!-- 140561324299776 -->\n<g id=\"node1\" class=\"node\">\n<title>140561324299776</title>\n<polygon fill=\"none\" stroke=\"black\" points=\"1044,-54.5 1044,-90.5 1229,-90.5 1229,-54.5 1044,-54.5\"/>\n<text text-anchor=\"middle\" x=\"1055.5\" y=\"-68.8\" font-family=\"Times,serif\" font-size=\"14.00\">n</text>\n<polyline fill=\"none\" stroke=\"black\" points=\"1067,-54.5 1067,-90.5 \"/>\n<text text-anchor=\"middle\" x=\"1107\" y=\"-68.8\" font-family=\"Times,serif\" font-size=\"14.00\">data 0.8814</text>\n<polyline fill=\"none\" stroke=\"black\" points=\"1147,-54.5 1147,-90.5 \"/>\n<text text-anchor=\"middle\" x=\"1188\" y=\"-68.8\" font-family=\"Times,serif\" font-size=\"14.00\">grad 0.5000</text>\n</g>\n<!-- 140561324294640* -->\n<g id=\"node28\" class=\"node\">\n<title>140561324294640*</title>\n<ellipse fill=\"none\" stroke=\"black\" cx=\"1292\" cy=\"-99.5\" rx=\"27\" ry=\"18\"/>\n<text text-anchor=\"middle\" x=\"1292\" y=\"-95.8\" font-family=\"Times,serif\" font-size=\"14.00\">*</text>\n</g>\n<!-- 140561324299776&#45;&gt;140561324294640* -->\n<g id=\"edge17\" class=\"edge\">\n<title>140561324299776&#45;&gt;140561324294640*</title>\n<path fill=\"none\" stroke=\"black\" d=\"M1229.01,-88.6C1238.49,-90.26 1247.66,-91.88 1255.9,-93.33\"/>\n<polygon fill=\"black\" stroke=\"black\" points=\"1255.36,-96.78 1265.81,-95.07 1256.57,-89.89 1255.36,-96.78\"/>\n</g>\n<!-- 140561324299776+ -->\n<g id=\"node2\" class=\"node\">\n<title>140561324299776+</title>\n<ellipse fill=\"none\" stroke=\"black\" cx=\"981\" cy=\"-72.5\" rx=\"27\" ry=\"18\"/>\n<text text-anchor=\"middle\" x=\"981\" y=\"-68.8\" font-family=\"Times,serif\" font-size=\"14.00\">+</text>\n</g>\n<!-- 140561324299776+&#45;&gt;140561324299776 -->\n<g id=\"edge1\" class=\"edge\">\n<title>140561324299776+&#45;&gt;140561324299776</title>\n<path fill=\"none\" stroke=\"black\" d=\"M1008.04,-72.5C1015.58,-72.5 1024.3,-72.5 1033.57,-72.5\"/>\n<polygon fill=\"black\" stroke=\"black\" points=\"1033.81,-76 1043.81,-72.5 1033.81,-69 1033.81,-76\"/>\n</g>\n<!-- 140561324304432 -->\n<g id=\"node3\" class=\"node\">\n<title>140561324304432</title>\n<polygon fill=\"none\" stroke=\"black\" points=\"1643.5,-26.5 1643.5,-62.5 1809.5,-62.5 1809.5,-26.5 1643.5,-26.5\"/>\n<text text-anchor=\"middle\" x=\"1683.5\" y=\"-40.8\" font-family=\"Times,serif\" font-size=\"14.00\">data 1.0000</text>\n<polyline fill=\"none\" stroke=\"black\" points=\"1723.5,-26.5 1723.5,-62.5 \"/>\n<text text-anchor=\"middle\" x=\"1766.5\" y=\"-40.8\" font-family=\"Times,serif\" font-size=\"14.00\">grad &#45;0.1036</text>\n</g>\n<!-- 140561324305536+ -->\n<g id=\"node7\" class=\"node\">\n<title>140561324305536+</title>\n<ellipse fill=\"none\" stroke=\"black\" cx=\"1873\" cy=\"-71.5\" rx=\"27\" ry=\"18\"/>\n<text text-anchor=\"middle\" x=\"1873\" y=\"-67.8\" font-family=\"Times,serif\" font-size=\"14.00\">+</text>\n</g>\n<!-- 140561324304432&#45;&gt;140561324305536+ -->\n<g id=\"edge12\" class=\"edge\">\n<title>140561324304432&#45;&gt;140561324305536+</title>\n<path fill=\"none\" stroke=\"black\" d=\"M1809.88,-59.89C1819.33,-61.66 1828.54,-63.38 1836.85,-64.93\"/>\n<polygon fill=\"black\" stroke=\"black\" points=\"1836.38,-68.4 1846.85,-66.8 1837.66,-61.52 1836.38,-68.4\"/>\n</g>\n<!-- 140561324304480 -->\n<g id=\"node4\" class=\"node\">\n<title>140561324304480</title>\n<polygon fill=\"none\" stroke=\"black\" points=\"666,-82.5 666,-118.5 918,-118.5 918,-82.5 666,-82.5\"/>\n<text text-anchor=\"middle\" x=\"708.5\" y=\"-96.8\" font-family=\"Times,serif\" font-size=\"14.00\">x1w1+x2w2</text>\n<polyline fill=\"none\" stroke=\"black\" points=\"751,-82.5 751,-118.5 \"/>\n<text text-anchor=\"middle\" x=\"793.5\" y=\"-96.8\" font-family=\"Times,serif\" font-size=\"14.00\">data &#45;6.0000</text>\n<polyline fill=\"none\" stroke=\"black\" points=\"836,-82.5 836,-118.5 \"/>\n<text text-anchor=\"middle\" x=\"877\" y=\"-96.8\" font-family=\"Times,serif\" font-size=\"14.00\">grad 0.5000</text>\n</g>\n<!-- 140561324304480&#45;&gt;140561324299776+ -->\n<g id=\"edge26\" class=\"edge\">\n<title>140561324304480&#45;&gt;140561324299776+</title>\n<path fill=\"none\" stroke=\"black\" d=\"M913.28,-82.49C924.51,-80.81 935.18,-79.21 944.56,-77.81\"/>\n<polygon fill=\"black\" stroke=\"black\" points=\"945.18,-81.25 954.56,-76.31 944.15,-74.33 945.18,-81.25\"/>\n</g>\n<!-- 140561324304480+ -->\n<g id=\"node5\" class=\"node\">\n<title>140561324304480+</title>\n<ellipse fill=\"none\" stroke=\"black\" cx=\"603\" cy=\"-100.5\" rx=\"27\" ry=\"18\"/>\n<text text-anchor=\"middle\" x=\"603\" y=\"-96.8\" font-family=\"Times,serif\" font-size=\"14.00\">+</text>\n</g>\n<!-- 140561324304480+&#45;&gt;140561324304480 -->\n<g id=\"edge2\" class=\"edge\">\n<title>140561324304480+&#45;&gt;140561324304480</title>\n<path fill=\"none\" stroke=\"black\" d=\"M630,-100.5C637.52,-100.5 646.3,-100.5 655.79,-100.5\"/>\n<polygon fill=\"black\" stroke=\"black\" points=\"655.92,-104 665.92,-100.5 655.92,-97 655.92,-104\"/>\n</g>\n<!-- 140561324305536 -->\n<g id=\"node6\" class=\"node\">\n<title>140561324305536</title>\n<polygon fill=\"none\" stroke=\"black\" points=\"1936,-53.5 1936,-89.5 2102,-89.5 2102,-53.5 1936,-53.5\"/>\n<text text-anchor=\"middle\" x=\"1976\" y=\"-67.8\" font-family=\"Times,serif\" font-size=\"14.00\">data 6.8285</text>\n<polyline fill=\"none\" stroke=\"black\" points=\"2016,-53.5 2016,-89.5 \"/>\n<text text-anchor=\"middle\" x=\"2059\" y=\"-67.8\" font-family=\"Times,serif\" font-size=\"14.00\">grad &#45;0.1036</text>\n</g>\n<!-- 140561324307600**&#45;1 -->\n<g id=\"node9\" class=\"node\">\n<title>140561324307600**&#45;1</title>\n<ellipse fill=\"none\" stroke=\"black\" cx=\"2219\" cy=\"-71.5\" rx=\"27\" ry=\"18\"/>\n<text text-anchor=\"middle\" x=\"2219\" y=\"-67.8\" font-family=\"Times,serif\" font-size=\"14.00\">**&#45;1</text>\n</g>\n<!-- 140561324305536&#45;&gt;140561324307600**&#45;1 -->\n<g id=\"edge22\" class=\"edge\">\n<title>140561324305536&#45;&gt;140561324307600**&#45;1</title>\n<path fill=\"none\" stroke=\"black\" d=\"M2102.25,-71.5C2129.95,-71.5 2159.45,-71.5 2181.74,-71.5\"/>\n<polygon fill=\"black\" stroke=\"black\" points=\"2181.75,-75 2191.75,-71.5 2181.75,-68 2181.75,-75\"/>\n</g>\n<!-- 140561324305536+&#45;&gt;140561324305536 -->\n<g id=\"edge3\" class=\"edge\">\n<title>140561324305536+&#45;&gt;140561324305536</title>\n<path fill=\"none\" stroke=\"black\" d=\"M1900.08,-71.5C1907.64,-71.5 1916.35,-71.5 1925.56,-71.5\"/>\n<polygon fill=\"black\" stroke=\"black\" points=\"1925.7,-75 1935.7,-71.5 1925.7,-68 1925.7,-75\"/>\n</g>\n<!-- 140561324307600 -->\n<g id=\"node8\" class=\"node\">\n<title>140561324307600</title>\n<polygon fill=\"none\" stroke=\"black\" points=\"2336,-57.5 2336,-93.5 2498,-93.5 2498,-57.5 2336,-57.5\"/>\n<text text-anchor=\"middle\" x=\"2376\" y=\"-71.8\" font-family=\"Times,serif\" font-size=\"14.00\">data 0.1464</text>\n<polyline fill=\"none\" stroke=\"black\" points=\"2416,-57.5 2416,-93.5 \"/>\n<text text-anchor=\"middle\" x=\"2457\" y=\"-71.8\" font-family=\"Times,serif\" font-size=\"14.00\">grad 4.8285</text>\n</g>\n<!-- 140561324307696* -->\n<g id=\"node14\" class=\"node\">\n<title>140561324307696*</title>\n<ellipse fill=\"none\" stroke=\"black\" cx=\"2561\" cy=\"-98.5\" rx=\"27\" ry=\"18\"/>\n<text text-anchor=\"middle\" x=\"2561\" y=\"-94.8\" font-family=\"Times,serif\" font-size=\"14.00\">*</text>\n</g>\n<!-- 140561324307600&#45;&gt;140561324307696* -->\n<g id=\"edge11\" class=\"edge\">\n<title>140561324307600&#45;&gt;140561324307696*</title>\n<path fill=\"none\" stroke=\"black\" d=\"M2498.13,-88.48C2507.42,-89.98 2516.5,-91.45 2524.71,-92.78\"/>\n<polygon fill=\"black\" stroke=\"black\" points=\"2524.17,-96.24 2534.61,-94.39 2525.29,-89.33 2524.17,-96.24\"/>\n</g>\n<!-- 140561324307600**&#45;1&#45;&gt;140561324307600 -->\n<g id=\"edge4\" class=\"edge\">\n<title>140561324307600**&#45;1&#45;&gt;140561324307600</title>\n<path fill=\"none\" stroke=\"black\" d=\"M2246.03,-72.03C2266.61,-72.45 2296.64,-73.06 2325.75,-73.66\"/>\n<polygon fill=\"black\" stroke=\"black\" points=\"2325.93,-77.16 2336,-73.87 2326.07,-70.16 2325.93,-77.16\"/>\n</g>\n<!-- 140561324306064 -->\n<g id=\"node10\" class=\"node\">\n<title>140561324306064</title>\n<polygon fill=\"none\" stroke=\"black\" points=\"0,-55.5 0,-91.5 200,-91.5 200,-55.5 0,-55.5\"/>\n<text text-anchor=\"middle\" x=\"16.5\" y=\"-69.8\" font-family=\"Times,serif\" font-size=\"14.00\">w1</text>\n<polyline fill=\"none\" stroke=\"black\" points=\"33,-55.5 33,-91.5 \"/>\n<text text-anchor=\"middle\" x=\"75.5\" y=\"-69.8\" font-family=\"Times,serif\" font-size=\"14.00\">data &#45;3.0000</text>\n<polyline fill=\"none\" stroke=\"black\" points=\"118,-55.5 118,-91.5 \"/>\n<text text-anchor=\"middle\" x=\"159\" y=\"-69.8\" font-family=\"Times,serif\" font-size=\"14.00\">grad 1.0000</text>\n</g>\n<!-- 140561324299632* -->\n<g id=\"node22\" class=\"node\">\n<title>140561324299632*</title>\n<ellipse fill=\"none\" stroke=\"black\" cx=\"263\" cy=\"-73.5\" rx=\"27\" ry=\"18\"/>\n<text text-anchor=\"middle\" x=\"263\" y=\"-69.8\" font-family=\"Times,serif\" font-size=\"14.00\">*</text>\n</g>\n<!-- 140561324306064&#45;&gt;140561324299632* -->\n<g id=\"edge13\" class=\"edge\">\n<title>140561324306064&#45;&gt;140561324299632*</title>\n<path fill=\"none\" stroke=\"black\" d=\"M200.21,-73.5C209.2,-73.5 217.86,-73.5 225.7,-73.5\"/>\n<polygon fill=\"black\" stroke=\"black\" points=\"225.85,-77 235.85,-73.5 225.85,-70 225.85,-77\"/>\n</g>\n<!-- 140561324296368 -->\n<g id=\"node11\" class=\"node\">\n<title>140561324296368</title>\n<polygon fill=\"none\" stroke=\"black\" points=\"699.5,-27.5 699.5,-63.5 884.5,-63.5 884.5,-27.5 699.5,-27.5\"/>\n<text text-anchor=\"middle\" x=\"711\" y=\"-41.8\" font-family=\"Times,serif\" font-size=\"14.00\">b</text>\n<polyline fill=\"none\" stroke=\"black\" points=\"722.5,-27.5 722.5,-63.5 \"/>\n<text text-anchor=\"middle\" x=\"762.5\" y=\"-41.8\" font-family=\"Times,serif\" font-size=\"14.00\">data 6.8814</text>\n<polyline fill=\"none\" stroke=\"black\" points=\"802.5,-27.5 802.5,-63.5 \"/>\n<text text-anchor=\"middle\" x=\"843.5\" y=\"-41.8\" font-family=\"Times,serif\" font-size=\"14.00\">grad 0.5000</text>\n</g>\n<!-- 140561324296368&#45;&gt;140561324299776+ -->\n<g id=\"edge23\" class=\"edge\">\n<title>140561324296368&#45;&gt;140561324299776+</title>\n<path fill=\"none\" stroke=\"black\" d=\"M884.58,-58.72C905.89,-61.8 927.32,-64.89 944.47,-67.37\"/>\n<polygon fill=\"black\" stroke=\"black\" points=\"944.15,-70.86 954.55,-68.82 945.15,-63.93 944.15,-70.86\"/>\n</g>\n<!-- 140561324308176 -->\n<g id=\"node12\" class=\"node\">\n<title>140561324308176</title>\n<polygon fill=\"none\" stroke=\"black\" points=\"1643,-136.5 1643,-172.5 1810,-172.5 1810,-136.5 1643,-136.5\"/>\n<text text-anchor=\"middle\" x=\"1685.5\" y=\"-150.8\" font-family=\"Times,serif\" font-size=\"14.00\">data &#45;1.0000</text>\n<polyline fill=\"none\" stroke=\"black\" points=\"1728,-136.5 1728,-172.5 \"/>\n<text text-anchor=\"middle\" x=\"1769\" y=\"-150.8\" font-family=\"Times,serif\" font-size=\"14.00\">grad 0.1464</text>\n</g>\n<!-- 140561324306784+ -->\n<g id=\"node26\" class=\"node\">\n<title>140561324306784+</title>\n<ellipse fill=\"none\" stroke=\"black\" cx=\"1873\" cy=\"-126.5\" rx=\"27\" ry=\"18\"/>\n<text text-anchor=\"middle\" x=\"1873\" y=\"-122.8\" font-family=\"Times,serif\" font-size=\"14.00\">+</text>\n</g>\n<!-- 140561324308176&#45;&gt;140561324306784+ -->\n<g id=\"edge21\" class=\"edge\">\n<title>140561324308176&#45;&gt;140561324306784+</title>\n<path fill=\"none\" stroke=\"black\" d=\"M1810.3,-138.46C1819.61,-136.65 1828.68,-134.89 1836.88,-133.31\"/>\n<polygon fill=\"black\" stroke=\"black\" points=\"1837.59,-136.73 1846.75,-131.39 1836.26,-129.86 1837.59,-136.73\"/>\n</g>\n<!-- 140561324307696 -->\n<g id=\"node13\" class=\"node\">\n<title>140561324307696</title>\n<polygon fill=\"none\" stroke=\"black\" points=\"2624,-80.5 2624,-116.5 2809,-116.5 2809,-80.5 2624,-80.5\"/>\n<text text-anchor=\"middle\" x=\"2635.5\" y=\"-94.8\" font-family=\"Times,serif\" font-size=\"14.00\">o</text>\n<polyline fill=\"none\" stroke=\"black\" points=\"2647,-80.5 2647,-116.5 \"/>\n<text text-anchor=\"middle\" x=\"2687\" y=\"-94.8\" font-family=\"Times,serif\" font-size=\"14.00\">data 0.7071</text>\n<polyline fill=\"none\" stroke=\"black\" points=\"2727,-80.5 2727,-116.5 \"/>\n<text text-anchor=\"middle\" x=\"2768\" y=\"-94.8\" font-family=\"Times,serif\" font-size=\"14.00\">grad 1.0000</text>\n</g>\n<!-- 140561324307696*&#45;&gt;140561324307696 -->\n<g id=\"edge5\" class=\"edge\">\n<title>140561324307696*&#45;&gt;140561324307696</title>\n<path fill=\"none\" stroke=\"black\" d=\"M2588.04,-98.5C2595.58,-98.5 2604.3,-98.5 2613.57,-98.5\"/>\n<polygon fill=\"black\" stroke=\"black\" points=\"2613.81,-102 2623.81,-98.5 2613.81,-95 2613.81,-102\"/>\n</g>\n<!-- 140561324306160 -->\n<g id=\"node15\" class=\"node\">\n<title>140561324306160</title>\n<polygon fill=\"none\" stroke=\"black\" points=\"4,-165.5 4,-201.5 196,-201.5 196,-165.5 4,-165.5\"/>\n<text text-anchor=\"middle\" x=\"19\" y=\"-179.8\" font-family=\"Times,serif\" font-size=\"14.00\">x2</text>\n<polyline fill=\"none\" stroke=\"black\" points=\"34,-165.5 34,-201.5 \"/>\n<text text-anchor=\"middle\" x=\"74\" y=\"-179.8\" font-family=\"Times,serif\" font-size=\"14.00\">data 0.0000</text>\n<polyline fill=\"none\" stroke=\"black\" points=\"114,-165.5 114,-201.5 \"/>\n<text text-anchor=\"middle\" x=\"155\" y=\"-179.8\" font-family=\"Times,serif\" font-size=\"14.00\">grad 0.5000</text>\n</g>\n<!-- 140561324301648* -->\n<g id=\"node20\" class=\"node\">\n<title>140561324301648*</title>\n<ellipse fill=\"none\" stroke=\"black\" cx=\"263\" cy=\"-128.5\" rx=\"27\" ry=\"18\"/>\n<text text-anchor=\"middle\" x=\"263\" y=\"-124.8\" font-family=\"Times,serif\" font-size=\"14.00\">*</text>\n</g>\n<!-- 140561324306160&#45;&gt;140561324301648* -->\n<g id=\"edge19\" class=\"edge\">\n<title>140561324306160&#45;&gt;140561324301648*</title>\n<path fill=\"none\" stroke=\"black\" d=\"M172.53,-165.44C181.84,-162.67 191.2,-159.67 200,-156.5 210.53,-152.71 221.75,-147.9 231.72,-143.33\"/>\n<polygon fill=\"black\" stroke=\"black\" points=\"233.25,-146.48 240.82,-139.07 230.28,-140.14 233.25,-146.48\"/>\n</g>\n<!-- 140561324301120 -->\n<g id=\"node16\" class=\"node\">\n<title>140561324301120</title>\n<polygon fill=\"none\" stroke=\"black\" points=\"2,-0.5 2,-36.5 198,-36.5 198,-0.5 2,-0.5\"/>\n<text text-anchor=\"middle\" x=\"17\" y=\"-14.8\" font-family=\"Times,serif\" font-size=\"14.00\">x1</text>\n<polyline fill=\"none\" stroke=\"black\" points=\"32,-0.5 32,-36.5 \"/>\n<text text-anchor=\"middle\" x=\"72\" y=\"-14.8\" font-family=\"Times,serif\" font-size=\"14.00\">data 2.0000</text>\n<polyline fill=\"none\" stroke=\"black\" points=\"112,-0.5 112,-36.5 \"/>\n<text text-anchor=\"middle\" x=\"155\" y=\"-14.8\" font-family=\"Times,serif\" font-size=\"14.00\">grad &#45;1.5000</text>\n</g>\n<!-- 140561324301120&#45;&gt;140561324299632* -->\n<g id=\"edge15\" class=\"edge\">\n<title>140561324301120&#45;&gt;140561324299632*</title>\n<path fill=\"none\" stroke=\"black\" d=\"M172.53,-36.56C181.84,-39.33 191.2,-42.33 200,-45.5 210.53,-49.29 221.75,-54.1 231.72,-58.67\"/>\n<polygon fill=\"black\" stroke=\"black\" points=\"230.28,-61.86 240.82,-62.93 233.25,-55.52 230.28,-61.86\"/>\n</g>\n<!-- 140561324304720 -->\n<g id=\"node17\" class=\"node\">\n<title>140561324304720</title>\n<polygon fill=\"none\" stroke=\"black\" points=\"1645.5,-81.5 1645.5,-117.5 1807.5,-117.5 1807.5,-81.5 1645.5,-81.5\"/>\n<text text-anchor=\"middle\" x=\"1685.5\" y=\"-95.8\" font-family=\"Times,serif\" font-size=\"14.00\">data 5.8285</text>\n<polyline fill=\"none\" stroke=\"black\" points=\"1725.5,-81.5 1725.5,-117.5 \"/>\n<text text-anchor=\"middle\" x=\"1766.5\" y=\"-95.8\" font-family=\"Times,serif\" font-size=\"14.00\">grad 0.0429</text>\n</g>\n<!-- 140561324304720&#45;&gt;140561324305536+ -->\n<g id=\"edge24\" class=\"edge\">\n<title>140561324304720&#45;&gt;140561324305536+</title>\n<path fill=\"none\" stroke=\"black\" d=\"M1807.78,-83.94C1817.96,-81.97 1827.92,-80.04 1836.85,-78.31\"/>\n<polygon fill=\"black\" stroke=\"black\" points=\"1837.65,-81.72 1846.8,-76.38 1836.32,-74.85 1837.65,-81.72\"/>\n</g>\n<!-- 140561324304720&#45;&gt;140561324306784+ -->\n<g id=\"edge20\" class=\"edge\">\n<title>140561324304720&#45;&gt;140561324306784+</title>\n<path fill=\"none\" stroke=\"black\" d=\"M1807.78,-114.5C1817.96,-116.4 1827.92,-118.26 1836.85,-119.93\"/>\n<polygon fill=\"black\" stroke=\"black\" points=\"1836.33,-123.4 1846.8,-121.79 1837.61,-116.51 1836.33,-123.4\"/>\n</g>\n<!-- 140561324304720exp -->\n<g id=\"node18\" class=\"node\">\n<title>140561324304720exp</title>\n<ellipse fill=\"none\" stroke=\"black\" cx=\"1580\" cy=\"-99.5\" rx=\"27\" ry=\"18\"/>\n<text text-anchor=\"middle\" x=\"1580\" y=\"-95.8\" font-family=\"Times,serif\" font-size=\"14.00\">exp</text>\n</g>\n<!-- 140561324304720exp&#45;&gt;140561324304720 -->\n<g id=\"edge6\" class=\"edge\">\n<title>140561324304720exp&#45;&gt;140561324304720</title>\n<path fill=\"none\" stroke=\"black\" d=\"M1607.17,-99.5C1615.4,-99.5 1625.01,-99.5 1635.12,-99.5\"/>\n<polygon fill=\"black\" stroke=\"black\" points=\"1635.37,-103 1645.37,-99.5 1635.37,-96 1635.37,-103\"/>\n</g>\n<!-- 140561324301648 -->\n<g id=\"node19\" class=\"node\">\n<title>140561324301648</title>\n<polygon fill=\"none\" stroke=\"black\" points=\"328.5,-110.5 328.5,-146.5 537.5,-146.5 537.5,-110.5 328.5,-110.5\"/>\n<text text-anchor=\"middle\" x=\"352\" y=\"-124.8\" font-family=\"Times,serif\" font-size=\"14.00\">x2w2</text>\n<polyline fill=\"none\" stroke=\"black\" points=\"375.5,-110.5 375.5,-146.5 \"/>\n<text text-anchor=\"middle\" x=\"415.5\" y=\"-124.8\" font-family=\"Times,serif\" font-size=\"14.00\">data 0.0000</text>\n<polyline fill=\"none\" stroke=\"black\" points=\"455.5,-110.5 455.5,-146.5 \"/>\n<text text-anchor=\"middle\" x=\"496.5\" y=\"-124.8\" font-family=\"Times,serif\" font-size=\"14.00\">grad 0.5000</text>\n</g>\n<!-- 140561324301648&#45;&gt;140561324304480+ -->\n<g id=\"edge14\" class=\"edge\">\n<title>140561324301648&#45;&gt;140561324304480+</title>\n<path fill=\"none\" stroke=\"black\" d=\"M537.53,-111.25C547.8,-109.53 557.66,-107.89 566.45,-106.43\"/>\n<polygon fill=\"black\" stroke=\"black\" points=\"567.3,-109.83 576.59,-104.74 566.15,-102.93 567.3,-109.83\"/>\n</g>\n<!-- 140561324301648*&#45;&gt;140561324301648 -->\n<g id=\"edge7\" class=\"edge\">\n<title>140561324301648*&#45;&gt;140561324301648</title>\n<path fill=\"none\" stroke=\"black\" d=\"M290.25,-128.5C298.43,-128.5 308.03,-128.5 318.31,-128.5\"/>\n<polygon fill=\"black\" stroke=\"black\" points=\"318.35,-132 328.35,-128.5 318.35,-125 318.35,-132\"/>\n</g>\n<!-- 140561324299632 -->\n<g id=\"node21\" class=\"node\">\n<title>140561324299632</title>\n<polygon fill=\"none\" stroke=\"black\" points=\"326,-55.5 326,-91.5 540,-91.5 540,-55.5 326,-55.5\"/>\n<text text-anchor=\"middle\" x=\"349.5\" y=\"-69.8\" font-family=\"Times,serif\" font-size=\"14.00\">x1w1</text>\n<polyline fill=\"none\" stroke=\"black\" points=\"373,-55.5 373,-91.5 \"/>\n<text text-anchor=\"middle\" x=\"415.5\" y=\"-69.8\" font-family=\"Times,serif\" font-size=\"14.00\">data &#45;6.0000</text>\n<polyline fill=\"none\" stroke=\"black\" points=\"458,-55.5 458,-91.5 \"/>\n<text text-anchor=\"middle\" x=\"499\" y=\"-69.8\" font-family=\"Times,serif\" font-size=\"14.00\">grad 0.5000</text>\n</g>\n<!-- 140561324299632&#45;&gt;140561324304480+ -->\n<g id=\"edge16\" class=\"edge\">\n<title>140561324299632&#45;&gt;140561324304480+</title>\n<path fill=\"none\" stroke=\"black\" d=\"M540.4,-90.6C549.72,-92.1 558.65,-93.53 566.68,-94.82\"/>\n<polygon fill=\"black\" stroke=\"black\" points=\"566.24,-98.3 576.66,-96.43 567.35,-91.39 566.24,-98.3\"/>\n</g>\n<!-- 140561324299632*&#45;&gt;140561324299632 -->\n<g id=\"edge8\" class=\"edge\">\n<title>140561324299632*&#45;&gt;140561324299632</title>\n<path fill=\"none\" stroke=\"black\" d=\"M290.25,-73.5C297.7,-73.5 306.34,-73.5 315.59,-73.5\"/>\n<polygon fill=\"black\" stroke=\"black\" points=\"315.84,-77 325.84,-73.5 315.84,-70 315.84,-77\"/>\n</g>\n<!-- 140561324306304 -->\n<g id=\"node23\" class=\"node\">\n<title>140561324306304</title>\n<polygon fill=\"none\" stroke=\"black\" points=\"2.5,-110.5 2.5,-146.5 197.5,-146.5 197.5,-110.5 2.5,-110.5\"/>\n<text text-anchor=\"middle\" x=\"19\" y=\"-124.8\" font-family=\"Times,serif\" font-size=\"14.00\">w2</text>\n<polyline fill=\"none\" stroke=\"black\" points=\"35.5,-110.5 35.5,-146.5 \"/>\n<text text-anchor=\"middle\" x=\"75.5\" y=\"-124.8\" font-family=\"Times,serif\" font-size=\"14.00\">data 1.0000</text>\n<polyline fill=\"none\" stroke=\"black\" points=\"115.5,-110.5 115.5,-146.5 \"/>\n<text text-anchor=\"middle\" x=\"156.5\" y=\"-124.8\" font-family=\"Times,serif\" font-size=\"14.00\">grad 0.0000</text>\n</g>\n<!-- 140561324306304&#45;&gt;140561324301648* -->\n<g id=\"edge18\" class=\"edge\">\n<title>140561324306304&#45;&gt;140561324301648*</title>\n<path fill=\"none\" stroke=\"black\" d=\"M197.91,-128.5C207.65,-128.5 217.05,-128.5 225.52,-128.5\"/>\n<polygon fill=\"black\" stroke=\"black\" points=\"225.7,-132 235.7,-128.5 225.7,-125 225.7,-132\"/>\n</g>\n<!-- 140561324298048 -->\n<g id=\"node24\" class=\"node\">\n<title>140561324298048</title>\n<polygon fill=\"none\" stroke=\"black\" points=\"1055.5,-109.5 1055.5,-145.5 1217.5,-145.5 1217.5,-109.5 1055.5,-109.5\"/>\n<text text-anchor=\"middle\" x=\"1095.5\" y=\"-123.8\" font-family=\"Times,serif\" font-size=\"14.00\">data 2.0000</text>\n<polyline fill=\"none\" stroke=\"black\" points=\"1135.5,-109.5 1135.5,-145.5 \"/>\n<text text-anchor=\"middle\" x=\"1176.5\" y=\"-123.8\" font-family=\"Times,serif\" font-size=\"14.00\">grad 0.2203</text>\n</g>\n<!-- 140561324298048&#45;&gt;140561324294640* -->\n<g id=\"edge25\" class=\"edge\">\n<title>140561324298048&#45;&gt;140561324294640*</title>\n<path fill=\"none\" stroke=\"black\" d=\"M1217.85,-112.84C1231.18,-110.41 1244.36,-108.01 1255.79,-105.92\"/>\n<polygon fill=\"black\" stroke=\"black\" points=\"1256.53,-109.35 1265.74,-104.11 1255.27,-102.46 1256.53,-109.35\"/>\n</g>\n<!-- 140561324306784 -->\n<g id=\"node25\" class=\"node\">\n<title>140561324306784</title>\n<polygon fill=\"none\" stroke=\"black\" points=\"2138,-108.5 2138,-144.5 2300,-144.5 2300,-108.5 2138,-108.5\"/>\n<text text-anchor=\"middle\" x=\"2178\" y=\"-122.8\" font-family=\"Times,serif\" font-size=\"14.00\">data 4.8285</text>\n<polyline fill=\"none\" stroke=\"black\" points=\"2218,-108.5 2218,-144.5 \"/>\n<text text-anchor=\"middle\" x=\"2259\" y=\"-122.8\" font-family=\"Times,serif\" font-size=\"14.00\">grad 0.1464</text>\n</g>\n<!-- 140561324306784&#45;&gt;140561324307696* -->\n<g id=\"edge27\" class=\"edge\">\n<title>140561324306784&#45;&gt;140561324307696*</title>\n<path fill=\"none\" stroke=\"black\" d=\"M2300.14,-119.9C2370.86,-114.08 2470.68,-105.86 2523.66,-101.49\"/>\n<polygon fill=\"black\" stroke=\"black\" points=\"2524.24,-104.96 2533.92,-100.65 2523.67,-97.98 2524.24,-104.96\"/>\n</g>\n<!-- 140561324306784+&#45;&gt;140561324306784 -->\n<g id=\"edge9\" class=\"edge\">\n<title>140561324306784+&#45;&gt;140561324306784</title>\n<path fill=\"none\" stroke=\"black\" d=\"M1900.14,-126.5C1948.01,-126.5 2051.8,-126.5 2127.81,-126.5\"/>\n<polygon fill=\"black\" stroke=\"black\" points=\"2127.87,-130 2137.87,-126.5 2127.87,-123 2127.87,-130\"/>\n</g>\n<!-- 140561324294640 -->\n<g id=\"node27\" class=\"node\">\n<title>140561324294640</title>\n<polygon fill=\"none\" stroke=\"black\" points=\"1355,-81.5 1355,-117.5 1517,-117.5 1517,-81.5 1355,-81.5\"/>\n<text text-anchor=\"middle\" x=\"1395\" y=\"-95.8\" font-family=\"Times,serif\" font-size=\"14.00\">data 1.7628</text>\n<polyline fill=\"none\" stroke=\"black\" points=\"1435,-81.5 1435,-117.5 \"/>\n<text text-anchor=\"middle\" x=\"1476\" y=\"-95.8\" font-family=\"Times,serif\" font-size=\"14.00\">grad 0.2500</text>\n</g>\n<!-- 140561324294640&#45;&gt;140561324304720exp -->\n<g id=\"edge28\" class=\"edge\">\n<title>140561324294640&#45;&gt;140561324304720exp</title>\n<path fill=\"none\" stroke=\"black\" d=\"M1517.13,-99.5C1525.95,-99.5 1534.58,-99.5 1542.47,-99.5\"/>\n<polygon fill=\"black\" stroke=\"black\" points=\"1542.7,-103 1552.7,-99.5 1542.7,-96 1542.7,-103\"/>\n</g>\n<!-- 140561324294640*&#45;&gt;140561324294640 -->\n<g id=\"edge10\" class=\"edge\">\n<title>140561324294640*&#45;&gt;140561324294640</title>\n<path fill=\"none\" stroke=\"black\" d=\"M1319.04,-99.5C1326.63,-99.5 1335.38,-99.5 1344.6,-99.5\"/>\n<polygon fill=\"black\" stroke=\"black\" points=\"1344.76,-103 1354.76,-99.5 1344.76,-96 1344.76,-103\"/>\n</g>\n</g>\n</svg>\n",
            "text/plain": [
              "<graphviz.graphs.Digraph at 0x7fd6fbcde590>"
            ]
          },
          "metadata": {},
          "execution_count": 62
        }
      ]
    },
    {
      "cell_type": "code",
      "source": [],
      "metadata": {
        "id": "nLM6AsDokHwT"
      },
      "execution_count": null,
      "outputs": []
    }
  ]
}