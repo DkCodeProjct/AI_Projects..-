{
  "nbformat": 4,
  "nbformat_minor": 0,
  "metadata": {
    "colab": {
      "provenance": [],
      "authorship_tag": "ABX9TyOrAOdbobg+8bfYvwZBx4jt",
      "include_colab_link": true
    },
    "kernelspec": {
      "name": "python3",
      "display_name": "Python 3"
    },
    "language_info": {
      "name": "python"
    }
  },
  "cells": [
    {
      "cell_type": "markdown",
      "metadata": {
        "id": "view-in-github",
        "colab_type": "text"
      },
      "source": [
        "<a href=\"https://colab.research.google.com/github/DkCodeProjct/AI_Projects..-/blob/main/Training.ipynb\" target=\"_parent\"><img src=\"https://colab.research.google.com/assets/colab-badge.svg\" alt=\"Open In Colab\"/></a>"
      ]
    },
    {
      "cell_type": "code",
      "execution_count": 60,
      "metadata": {
        "id": "MIjhR03M0x4-"
      },
      "outputs": [],
      "source": [
        "#\n",
        "import random\n",
        "import numpy as np\n",
        "import matplotlib.pyplot as plt\n",
        "%matplotlib inline"
      ]
    },
    {
      "cell_type": "code",
      "source": [
        "np.random.seed(1337)\n",
        "random.seed(1337)"
      ],
      "metadata": {
        "id": "3l_2kMxI1xdu"
      },
      "execution_count": 61,
      "outputs": []
    },
    {
      "cell_type": "markdown",
      "source": [
        "#Value Object\n",
        "\n",
        "     when take _backward deravative\n"
      ],
      "metadata": {
        "id": "fCDoyE_g1eZs"
      }
    },
    {
      "cell_type": "code",
      "source": [
        "\n",
        "class Value:\n",
        "    def __init__(self, data, _childrn=(), _op=''):\n",
        "        self.data = data\n",
        "        self.grad = 0\n",
        "        self._op = _op\n",
        "        self._prev = set(_childrn)\n",
        "        self.backward = lambda:None\n",
        "\n",
        "    def __add__(self, other):\n",
        "        other = other if isinstance(other, Value) else Value(other)\n",
        "        output = Value(self.data + self.data, (self, other), '+')\n",
        "\n",
        "        def _backward():\n",
        "            self.grad += output.grad\n",
        "            other.grad += output.grad\n",
        "\n",
        "        output._backward = _backward\n",
        "\n",
        "        return output\n",
        "\n",
        "    def __mul__(self, other):\n",
        "        other = other if isinstance(other, Value) else Value(other)\n",
        "        output = Value(self.data * other.data, (self, other), '*')\n",
        "\n",
        "        def _backward():\n",
        "            self.grad += other.data * output.grad  # Chain rule\n",
        "            other.grad += self.data * output.grad  # Chain rule\n",
        "        output._backward = _backward\n",
        "        return output\n",
        "\n",
        "\n",
        "    def __pow__(self, other):\n",
        "        other = other if isinstance(other, Value) else Value(other)\n",
        "        output = Value(self.data**self.data, (self, ), f'**{other}')\n",
        "\n",
        "        def _backward():\n",
        "            self.grad += (other * self.data**(other-1)) * output.grad\n",
        "        output._backward = _backward\n",
        "\n",
        "        return output\n",
        "\n",
        "    def relu(self): # x if x>0 else 0 // ReLU\n",
        "        out = Value(0 if self.data < 0 else self.data, (self,), 'ReLU')\n",
        "\n",
        "        def _backward():\n",
        "            self.grad += (out.data > 0) * out.grad\n",
        "        out._backward = _backward\n",
        "\n",
        "        return out\n",
        "\n",
        "\n",
        "    def backward(self):\n",
        "        topo = []\n",
        "        visited = set()\n",
        "        def buildTopo(v):\n",
        "            if v not in visited:\n",
        "                visited.add(v)\n",
        "                for child in v._prev:\n",
        "                    buildTopo(child)\n",
        "                topo.append(v)\n",
        "        buildTopo(self)\n",
        "\n",
        "        self.grad == 1\n",
        "        for v in reversed(topo):\n",
        "            v._backward()\n",
        "\n",
        "\n",
        "\n",
        "    def __neg__(self):\n",
        "        return self * -1\n",
        "\n",
        "    def __sub__(self, other):\n",
        "        return self + (-other)\n",
        "\n",
        "    def __rmul__(self, other):\n",
        "        return self * other\n",
        "\n",
        "    def __repr__(self) -> str:\n",
        "        return f'Value(data={self.data}, grad={self.grad})'\n",
        "\n"
      ],
      "metadata": {
        "id": "vn3cUS3vNXoW"
      },
      "execution_count": 44,
      "outputs": []
    },
    {
      "cell_type": "markdown",
      "source": [
        "#Neuron / Layer / MLP. Objects"
      ],
      "metadata": {
        "id": "Z4ZhQof-1jpX"
      }
    },
    {
      "cell_type": "code",
      "source": [
        "\n",
        "\n",
        "class Module:\n",
        "    def zeroGrad(self):\n",
        "        for p in self.parameters():\n",
        "            p.grad = 0\n",
        "\n",
        "    def parameters(self):\n",
        "        return []\n",
        "\n",
        "class Neuron(Module):\n",
        "    def __init__(self, nIn, nonlin=True):\n",
        "        self.w = [Value(random.uniform(-1,1) for _ in range(nIn))]\n",
        "        self.b = Value(0)\n",
        "        self.nonlin = nonlin\n",
        "\n",
        "    def __call__(self, x):\n",
        "        act = sum((wi*xi for wi, xi in zip(self.w, x)), self.b)\n",
        "        return act.relu() if self.nonlin else act\n",
        "\n",
        "    def parameters(self):\n",
        "        return self.w + [self.b]\n",
        "\n",
        "    def __repr__(self):\n",
        "        return f\"{'Relu ' if self.nonlin else 'Linear'} Neuron{len(self.w)}\"\n",
        "\n",
        "class Layer:\n",
        "    def __init__(self, nIn, nout, **kwargs):\n",
        "        self.neurons = [Neuron(nIn, **kwargs) for _ in range(nout)]\n",
        "\n",
        "    def __call__(self, x):\n",
        "        out = [n(x) for n in self.neurons]\n",
        "        return out[0] if len(out) == 1 else out\n",
        "\n",
        "    def parameters(self):\n",
        "        return [p for n in self.neurons for p in n.parameters()]\n",
        "\n",
        "    def __repr__(self):\n",
        "        return f\"Layers of [{', '.join(str(n) for n in self.neurons)}]\"\n",
        "\n",
        "class MLP: # multi layer Perceptron\n",
        "    def __init__(self, nIn, nout):\n",
        "        sz = [nIn] + nout  # Create a list containing input size and layer sizes\n",
        "        self.layers = [Layer(sz[i], sz[i+1], nonlin=i != len(sz) - 2) for i in range(len(sz) - 1)]\n",
        "\n",
        "    def __call__(self, x):\n",
        "        for layer in self.layers:\n",
        "            x = layer(x)\n",
        "        return x\n",
        "\n",
        "    def parameters(self):\n",
        "        return [p for layer in self.layers for p in layer.parameters()]\n",
        "\n",
        "    def __repr__(self):\n",
        "        return f\"MLP of [{', '.join(str(layer) for layer in self.layers)}]\"\n",
        "\n",
        ""
      ],
      "metadata": {
        "id": "RhugRAwI1sSo"
      },
      "execution_count": 45,
      "outputs": []
    },
    {
      "cell_type": "code",
      "source": [
        "from sklearn.datasets import make_moons, make_blobs\n",
        "X, y = make_moons(n_samples=100, noise=0.1)\n"
      ],
      "metadata": {
        "id": "JsketOiM13hC"
      },
      "execution_count": 46,
      "outputs": []
    },
    {
      "cell_type": "code",
      "source": [
        "\n",
        "y =     y*2 - 1\n",
        "\n",
        "plt.figure(figsize=(5,5))\n",
        "plt.scatter(X[:,0], X[:,1], c=y, s=20, cmap='jet')"
      ],
      "metadata": {
        "id": "K4mdavZh2fJS",
        "outputId": "b65fa73b-1f26-45e5-9597-26a113b2e67b",
        "colab": {
          "base_uri": "https://localhost:8080/",
          "height": 462
        }
      },
      "execution_count": null,
      "outputs": [
        {
          "output_type": "execute_result",
          "data": {
            "text/plain": [
              "<matplotlib.collections.PathCollection at 0x78bb5fb4ea10>"
            ]
          },
          "metadata": {},
          "execution_count": 6
        },
        {
          "output_type": "display_data",
          "data": {
            "text/plain": [
              "<Figure size 500x500 with 1 Axes>"
            ],
            "image/png": "[encoded data removed]"
          },
          "metadata": {}
        }
      ]
    },
    {
      "cell_type": "markdown",
      "source": [
        "#init Model"
      ],
      "metadata": {
        "id": "k0kHA1C6ONNW"
      }
    },
    {
      "cell_type": "code",
      "source": [
        "# 2 input layers\n",
        "# tow hidden layers with 17_Neurons\n",
        "# 1 output layer\n",
        "model = MLP(2, [17, 17, 1])\n",
        "print(model)\n",
        "print('num of para', len(model.parameters()))\n"
      ],
      "metadata": {
        "id": "B2pAp3KK2hBO",
        "colab": {
          "base_uri": "https://localhost:8080/"
        },
        "outputId": "92525bb2-990d-4bac-ec61-6c8ad1bd8c6e"
      },
      "execution_count": 52,
      "outputs": [
        {
          "output_type": "stream",
          "name": "stdout",
          "text": [
            "MLP of [Layer of [ReLUNeuron(2), ReLUNeuron(2), ReLUNeuron(2), ReLUNeuron(2), ReLUNeuron(2), ReLUNeuron(2), ReLUNeuron(2), ReLUNeuron(2), ReLUNeuron(2), ReLUNeuron(2), ReLUNeuron(2), ReLUNeuron(2), ReLUNeuron(2), ReLUNeuron(2), ReLUNeuron(2), ReLUNeuron(2), ReLUNeuron(2)], Layer of [ReLUNeuron(17), ReLUNeuron(17), ReLUNeuron(17), ReLUNeuron(17), ReLUNeuron(17), ReLUNeuron(17), ReLUNeuron(17), ReLUNeuron(17), ReLUNeuron(17), ReLUNeuron(17), ReLUNeuron(17), ReLUNeuron(17), ReLUNeuron(17), ReLUNeuron(17), ReLUNeuron(17), ReLUNeuron(17), ReLUNeuron(17)], Layer of [LinearNeuron(17)]]\n",
            "num of para 375\n"
          ]
        }
      ]
    },
    {
      "cell_type": "markdown",
      "source": [
        "#Loss Func"
      ],
      "metadata": {
        "id": "-k6ox42CRh-Q"
      }
    },
    {
      "cell_type": "code",
      "source": [
        "!pip install micrograd"
      ],
      "metadata": {
        "colab": {
          "base_uri": "https://localhost:8080/"
        },
        "collapsed": true,
        "id": "Jyg1D38MVqxn",
        "outputId": "0fe2ade2-3805-4b8e-df5c-1f1357697fb9"
      },
      "execution_count": 54,
      "outputs": [
        {
          "output_type": "stream",
          "name": "stdout",
          "text": [
            "Requirement already satisfied: micrograd in /usr/local/lib/python3.10/dist-packages (0.1.0)\n"
          ]
        }
      ]
    },
    {
      "cell_type": "code",
      "source": [
        "from micrograd.engine import Value\n",
        "from micrograd.nn import Neuron, Layer, MLP\n",
        "## its giving me this annoying + int error and i just importuse micrograd\n",
        "\"\"\"\n",
        "def loss(batchSiz=None):\n",
        "    if batchSiz is None:\n",
        "        Xb, yb = X, y\n",
        "    else:\n",
        "        ri = np.random.permutation(X.shape[0])[:batchSiz]\n",
        "        Xb, yb = X[ri], y[ri]\n",
        "    inputs = [list(map(Value, xrow) for xrow in Xb)]\n",
        "\n",
        "    scores = list(map(model, inputs))\n",
        "\n",
        "    losses = [(1 + -yi*scorei).relu() for yi, scorei in zip(yb, scores)]\n",
        "    dataLoss = sum(losses) * (1.0 / len(losses))\n",
        "\n",
        "    alpha = 1e-4\n",
        "    regLoss = alpha * sum((p*p for p in model.parameters()))\n",
        "    totalLoss = dataLoss + regLoss\n",
        "\n",
        "    acc = [(yi > 0) == (scorei.data > 0) for yi, scorei in zip(yb, scores)]\n",
        "    return totalLoss, sum(acc) / len(acc)\n",
        "\n",
        "\n",
        "totalLoss, acc = loss()\n",
        "\n",
        "print(totalLoss, acc)\n",
        "\"\"\"\n",
        "\n",
        "def loss(batch_size=None):\n",
        "\n",
        "    # inline DataLoader :)\n",
        "    if batch_size is None:\n",
        "        Xb, yb = X, y\n",
        "    else:\n",
        "        ri = np.random.permutation(X.shape[0])[:batch_size]\n",
        "        Xb, yb = X[ri], y[ri]\n",
        "    inputs = [list(map(Value, xrow)) for xrow in Xb]\n",
        "\n",
        "    # forward the model to get scores\n",
        "    scores = list(map(model, inputs))\n",
        "\n",
        "    # svm \"max-margin\" loss\n",
        "    losses = [(1 + -yi*scorei).relu() for yi, scorei in zip(yb, scores)]\n",
        "    data_loss = sum(losses) * (1.0 / len(losses))\n",
        "    # L2 regularization\n",
        "    alpha = 1e-4\n",
        "    reg_loss = alpha * sum((p*p for p in model.parameters()))\n",
        "    total_loss = data_loss + reg_loss\n",
        "\n",
        "    # also get accuracy\n",
        "    accuracy = [(yi > 0) == (scorei.data > 0) for yi, scorei in zip(yb, scores)]\n",
        "    return total_loss, sum(accuracy) / len(accuracy)\n",
        "\n",
        "total_loss, acc = loss()\n",
        "print(total_loss, acc)"
      ],
      "metadata": {
        "colab": {
          "base_uri": "https://localhost:8080/"
        },
        "id": "dFw6eWo4O54A",
        "outputId": "234a246f-0f84-4b85-b27e-4af08034de46"
      },
      "execution_count": 56,
      "outputs": [
        {
          "output_type": "stream",
          "name": "stdout",
          "text": [
            "Value(data=2.3202226384324462, grad=0) 0.49\n"
          ]
        }
      ]
    },
    {
      "cell_type": "markdown",
      "source": [
        "#Optimizing"
      ],
      "metadata": {
        "id": "Xrdsnp-XXMn_"
      }
    },
    {
      "cell_type": "code",
      "source": [
        "for j in range(100):\n",
        "    totalLoss, acc = loss()\n",
        "\n",
        "    model.zero_grad()\n",
        "    totalLoss.backward()\n",
        "\n",
        "    learningRate = 1.0 - 0.9*j/100\n",
        "    for p in model.parameters():\n",
        "        p.data -= learningRate * p.grad\n",
        "\n",
        "    if j % 1 == 0:\n",
        "        print(f\"step {j} loss {totalLoss.data}, accuracy {acc*100}%\")\n",
        "\n"
      ],
      "metadata": {
        "colab": {
          "base_uri": "https://localhost:8080/"
        },
        "id": "SNQc6HTGTlyl",
        "outputId": "fc21ef3b-87d1-4aa2-86b9-bba1a9f008f8"
      },
      "execution_count": 58,
      "outputs": [
        {
          "output_type": "stream",
          "name": "stdout",
          "text": [
            "step 0 loss 0.510932240613985, accuracy 50.0%\n",
            "step 1 loss 0.510927868155029, accuracy 50.0%\n",
            "step 2 loss 0.5109235367773745, accuracy 50.0%\n",
            "step 3 loss 0.5109192464334814, accuracy 50.0%\n",
            "step 4 loss 0.5109149970762722, accuracy 50.0%\n",
            "step 5 loss 0.5109107886591301, accuracy 50.0%\n",
            "step 6 loss 0.5109066211358988, accuracy 50.0%\n",
            "step 7 loss 0.5109024944608814, accuracy 50.0%\n",
            "step 8 loss 0.5108984085888395, accuracy 50.0%\n",
            "step 9 loss 0.5108943634749927, accuracy 50.0%\n",
            "step 10 loss 0.5108903590750176, accuracy 50.0%\n",
            "step 11 loss 0.5108863953450465, accuracy 50.0%\n",
            "step 12 loss 0.5108824722416676, accuracy 50.0%\n",
            "step 13 loss 0.5108785897219235, accuracy 50.0%\n",
            "step 14 loss 0.5108747477433103, accuracy 50.0%\n",
            "step 15 loss 0.5108709462637776, accuracy 50.0%\n",
            "step 16 loss 0.5108671852417269, accuracy 50.0%\n",
            "step 17 loss 0.5108634646360113, accuracy 50.0%\n",
            "step 18 loss 0.5108597844059345, accuracy 50.0%\n",
            "step 19 loss 0.5108561445112503, accuracy 50.0%\n",
            "step 20 loss 0.5108525449121619, accuracy 50.0%\n",
            "step 21 loss 0.5108489855693208, accuracy 50.0%\n",
            "step 22 loss 0.5108454664438263, accuracy 50.0%\n",
            "step 23 loss 0.510841987497225, accuracy 50.0%\n",
            "step 24 loss 0.5108385486915098, accuracy 50.0%\n",
            "step 25 loss 0.5108351499891193, accuracy 50.0%\n",
            "step 26 loss 0.5108317913529372, accuracy 50.0%\n",
            "step 27 loss 0.5108284727462914, accuracy 50.0%\n",
            "step 28 loss 0.5108251941329536, accuracy 50.0%\n",
            "step 29 loss 0.5108219554771386, accuracy 50.0%\n",
            "step 30 loss 0.5108187567435034, accuracy 50.0%\n",
            "step 31 loss 0.5108155978971469, accuracy 50.0%\n",
            "step 32 loss 0.510812478903609, accuracy 50.0%\n",
            "step 33 loss 0.5108093997288702, accuracy 50.0%\n",
            "step 34 loss 0.5108063603393506, accuracy 50.0%\n",
            "step 35 loss 0.5108033607019096, accuracy 50.0%\n",
            "step 36 loss 0.5108004007838456, accuracy 50.0%\n",
            "step 37 loss 0.5107974805528945, accuracy 50.0%\n",
            "step 38 loss 0.5107945999772303, accuracy 50.0%\n",
            "step 39 loss 0.5107917590254633, accuracy 50.0%\n",
            "step 40 loss 0.5107889576666401, accuracy 50.0%\n",
            "step 41 loss 0.5107861958702438, accuracy 50.0%\n",
            "step 42 loss 0.5107834736061918, accuracy 50.0%\n",
            "step 43 loss 0.5107807908448367, accuracy 50.0%\n",
            "step 44 loss 0.510778147556965, accuracy 50.0%\n",
            "step 45 loss 0.510775543713797, accuracy 50.0%\n",
            "step 46 loss 0.5107729792869855, accuracy 50.0%\n",
            "step 47 loss 0.5107704542486166, accuracy 50.0%\n",
            "step 48 loss 0.5107679685712079, accuracy 50.0%\n",
            "step 49 loss 0.5107655222277087, accuracy 50.0%\n",
            "step 50 loss 0.5107631151914994, accuracy 50.0%\n",
            "step 51 loss 0.510760747436391, accuracy 50.0%\n",
            "step 52 loss 0.5107584189366244, accuracy 50.0%\n",
            "step 53 loss 0.5107561296668703, accuracy 50.0%\n",
            "step 54 loss 0.5107538796022285, accuracy 50.0%\n",
            "step 55 loss 0.5107516687182276, accuracy 50.0%\n",
            "step 56 loss 0.5107494969908243, accuracy 50.0%\n",
            "step 57 loss 0.5107473643964032, accuracy 50.0%\n",
            "step 58 loss 0.5107452709117765, accuracy 50.0%\n",
            "step 59 loss 0.5107432165141831, accuracy 50.0%\n",
            "step 60 loss 0.5107412011812885, accuracy 50.0%\n",
            "step 61 loss 0.5107392248911847, accuracy 50.0%\n",
            "step 62 loss 0.5107372876223891, accuracy 50.0%\n",
            "step 63 loss 0.5107353893538447, accuracy 50.0%\n",
            "step 64 loss 0.5107335300649193, accuracy 50.0%\n",
            "step 65 loss 0.5107317097354055, accuracy 50.0%\n",
            "step 66 loss 0.5107299283455202, accuracy 50.0%\n",
            "step 67 loss 0.510728185875904, accuracy 50.0%\n",
            "step 68 loss 0.5107264823076213, accuracy 50.0%\n",
            "step 69 loss 0.5107248176221594, accuracy 50.0%\n",
            "step 70 loss 0.5107231918014289, accuracy 50.0%\n",
            "step 71 loss 0.5107216048277624, accuracy 50.0%\n",
            "step 72 loss 0.5107200566839153, accuracy 50.0%\n",
            "step 73 loss 0.5107185473530645, accuracy 50.0%\n",
            "step 74 loss 0.5107170768188087, accuracy 50.0%\n",
            "step 75 loss 0.5107156450651679, accuracy 50.0%\n",
            "step 76 loss 0.510714252076583, accuracy 50.0%\n",
            "step 77 loss 0.5107128978379158, accuracy 50.0%\n",
            "step 78 loss 0.5107115823344486, accuracy 50.0%\n",
            "step 79 loss 0.5107103055518836, accuracy 50.0%\n",
            "step 80 loss 0.5107090674763431, accuracy 50.0%\n",
            "step 81 loss 0.5107078680943694, accuracy 50.0%\n",
            "step 82 loss 0.5107067073929239, accuracy 50.0%\n",
            "step 83 loss 0.5107055853593871, accuracy 50.0%\n",
            "step 84 loss 0.5107045019815589, accuracy 50.0%\n",
            "step 85 loss 0.5107034572476576, accuracy 50.0%\n",
            "step 86 loss 0.5107024511463203, accuracy 50.0%\n",
            "step 87 loss 0.5107014836666023, accuracy 50.0%\n",
            "step 88 loss 0.5107005547979768, accuracy 50.0%\n",
            "step 89 loss 0.5106996645303357, accuracy 50.0%\n",
            "step 90 loss 0.5106988128539877, accuracy 50.0%\n",
            "step 91 loss 0.5106979997596599, accuracy 50.0%\n",
            "step 92 loss 0.5106972252384964, accuracy 50.0%\n",
            "step 93 loss 0.5106964892820587, accuracy 50.0%\n",
            "step 94 loss 0.5106957918823253, accuracy 50.0%\n",
            "step 95 loss 0.5106951330316918, accuracy 50.0%\n",
            "step 96 loss 0.5106945127229705, accuracy 50.0%\n",
            "step 97 loss 0.5106939309493906, accuracy 50.0%\n",
            "step 98 loss 0.5106933877045977, accuracy 50.0%\n",
            "step 99 loss 0.5106928829826538, accuracy 50.0%\n"
          ]
        }
      ]
    },
    {
      "cell_type": "markdown",
      "source": [
        "#Visualize Decision Bouandry"
      ],
      "metadata": {
        "id": "eQvuWpOhY1Y0"
      }
    },
    {
      "cell_type": "code",
      "source": [
        "\n",
        "h = 0.25\n",
        "xMin, xMax = X[:, 0].min() - 1, X[:, 0].max() + 1\n",
        "y_min, y_max = X[:, 1].min() - 1, X[:, 1].max() + 1\n",
        "xx, yy = np.meshgrid(np.arange(xMin, xMax, h),\n",
        "                     np.arange(y_min, y_max, h))\n",
        "Xmesh = np.c_[xx.ravel(), yy.ravel()]\n",
        "inputs = [list(map(Value, xrow)) for xrow in Xmesh]\n",
        "scores = list(map(model, inputs))\n",
        "Z = np.array([s.data > 0 for s in scores])\n",
        "Z = Z.reshape(xx.shape)\n",
        "\n",
        "fig = plt.figure()\n",
        "plt.contourf(xx, yy, Z, cmap=plt.cm.Spectral, alpha=0.8)\n",
        "plt.scatter(X[:, 0], X[:, 1], c=y, s=40, cmap=plt.cm.Spectral)\n",
        "plt.xlim(xx.min(), xx.max())\n",
        "plt.ylim(yy.min(), yy.max())"
      ],
      "metadata": {
        "colab": {
          "base_uri": "https://localhost:8080/",
          "height": 447
        },
        "id": "BIJnKanZY8rK",
        "outputId": "728d46e0-448f-4072-efd3-d506c782bd62"
      },
      "execution_count": 62,
      "outputs": [
        {
          "output_type": "execute_result",
          "data": {
            "text/plain": [
              "(-1.6708631651078416, 2.079136834892158)"
            ]
          },
          "metadata": {},
          "execution_count": 62
        },
        {
          "output_type": "display_data",
          "data": {
            "text/plain": [
              "<Figure size 640x480 with 1 Axes>"
            ],
            "image/png": "[encoded data removed]"
          },
          "metadata": {}
        }
      ]
    }
  ]
}